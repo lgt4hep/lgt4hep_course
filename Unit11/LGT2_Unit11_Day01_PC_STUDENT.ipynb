{
  "cells": [
    {
      "cell_type": "markdown",
      "id": "ac77ac3a-6f3a-4288-b4b4-7f9ee85f04db",
      "metadata": {
        "id": "ac77ac3a-6f3a-4288-b4b4-7f9ee85f04db"
      },
      "source": [
        "# LGT2 Unit 11 Day 01 - Pre-Class Assignment\n",
        "# Nucleon Charges in Lattice QCD\n",
        "### <p style=\"text-align: right;\"> &#9989; Put your name here.</p>"
      ]
    },
    {
      "cell_type": "code",
      "execution_count": null,
      "id": "a2fb988b-ac89-4924-9f1b-9a2d905ac929",
      "metadata": {
        "id": "a2fb988b-ac89-4924-9f1b-9a2d905ac929"
      },
      "outputs": [],
      "source": [
        "#--Run this cell to import your libraries\n",
        "import math\n",
        "import numpy as np\n",
        "import pandas as pd\n",
        "import matplotlib.pyplot as plt\n",
        "from scipy.optimize import curve_fit\n",
        "from tqdm import tqdm"
      ]
    },
    {
      "cell_type": "markdown",
      "id": "248ee028-7dfd-46bf-9818-454abd82928f",
      "metadata": {
        "id": "248ee028-7dfd-46bf-9818-454abd82928f"
      },
      "source": [
        "## Goals of this assignment\n",
        "The goals of this assignment are:\n",
        "\n",
        "* Gain practice and familiarity with analyzing two- and three-point correlator data in Lattice QCD.\n",
        "* Learn about nucleon charges and how they are extracted from lattice data.\n",
        "* Explore fitting techniques for two- and three-point correlators.\n",
        "\n",
        "## Assignment instructions\n",
        "For this assignment, please:\n",
        "1. Watch the embeded lecture videos before starting the assignment.\n",
        "2. Work through the coding tasks, properly commenting your work and labeling the axes on your graphs.\n",
        "3. Complete this assignment before noon of the class day."
      ]
    },
    {
      "cell_type": "markdown",
      "id": "5d313080-512d-4756-a865-8f4bf1591088",
      "metadata": {
        "id": "5d313080-512d-4756-a865-8f4bf1591088"
      },
      "source": [
        "----\n",
        "# Part 1: Introduction to Nucleon Charges in Lattice QCD\n",
        "\n",
        "Nucleon charges provide insight into the internal structure of nucleons, making them essential for understanding key aspects of nuclear and particle physics. These charges contain information about the quark content of nucleons and their interactions with fundamental forces, playing a large role in Standard Model tests and Beyond the Standard Model searches. In this section, we'll introduce several nucleon charges which commonly appear in lattice calculations: the isovector axial ($g_A^{u-d}$), isovector scalar ($g_S^{u-d}$), and isovector tensor charges ($g_T^{u-d}$).\n",
        "\n",
        "The isovector axial charge, plays a critical role in neutron beta decay and is a key input for determining the strength of weak interactions in nuclear environments. Precise lattice QCD calculations of the axial charge serve as benchmarks for experimental measurements and help refine our understanding of fundamental symmetries, such as chiral symmetry breaking. Similarly, the scalar charge is of interest in searches for beyond-the-Standard-Model physics, particularly in the context of nucleon interactions with hypothetical scalar particles, while the tensor charge is a crucial ingredient in studies of transverse spin structure and potential electric dipole moments of the nucleon. In the following lecture video, we will discuss these charges a litle more in-depth and we'll cover methods used to extract them from lattice data.\n",
        "\n",
        "Watch the lecture video below:"
      ]
    },
    {
      "cell_type": "code",
      "execution_count": null,
      "id": "49c47e56-6c73-453f-914e-ec5ac33845ce",
      "metadata": {
        "colab": {
          "base_uri": "https://localhost:8080/",
          "height": 362
        },
        "id": "49c47e56-6c73-453f-914e-ec5ac33845ce",
        "outputId": "deade7bb-0a93-4dac-d8ed-e90bfe1935df"
      },
      "outputs": [
        {
          "data": {
            "image/jpeg": "[encoded data removed]",
            "text/html": [
              "\n",
              "        <iframe\n",
              "            width=\"640\"\n",
              "            height=\"340\"\n",
              "            src=\"https://www.youtube.com/embed/p12nwropY-k\"\n",
              "            frameborder=\"0\"\n",
              "            allowfullscreen\n",
              "            \n",
              "        ></iframe>\n",
              "        "
            ],
            "text/plain": [
              "<IPython.lib.display.YouTubeVideo at 0x7f82fb6b25e0>"
            ]
          },
          "execution_count": 2,
          "metadata": {},
          "output_type": "execute_result"
        }
      ],
      "source": [
        "from IPython.display import YouTubeVideo\n",
        "YouTubeVideo(\"p12nwropY-k\",width=640,height=340)"
      ]
    },
    {
      "cell_type": "markdown",
      "id": "76ec801a-9148-4493-aac9-588e6bcd46ee",
      "metadata": {
        "id": "76ec801a-9148-4493-aac9-588e6bcd46ee"
      },
      "source": [
        "Now that you're familiar with nucleon charges, let's get to work!\n",
        "\n",
        "Lattice correlators can be stored in various formats. Text files are human-readable but inefficient for large datasets, as they take up more space and are slow to process. To address this, binary formats like HDF5 (.h5) are commonly used in computational research, but for now, we'll focus on a simple ASCII format.\n",
        "\n",
        "Download the data:\n",
        "<br>\n",
        "* Two-Point Correlator: https://drive.google.com/open?id=1qmHUbSAWmjIwR7Xlur7CPoADsholhf4Z <br>\n",
        "* Three-Point Correlator ($t_\\text{sep} = 8$): https://drive.google.com/open?id=12RfmOuxQe3BI80vg6faOgbtJWOuhKips <br>\n",
        "\n",
        "The first line of the data file contains metadata, with only the first two numbers being relevant. The first number represents the total number of configurations (ncfgs), while the second number corresponds to one-fourth of the temporal extent of the lattice. Each configuration in the dataset spans $L_t/4$ time slices, meaning the time index does not run continuously from $t = 0$ to $t = L_t - 1$ across the entire dataset. Instead, for each configuration, the time values range from $t = 0$ to $L_t/4 - 1$, after which they reset to $t=0$ for the next configuration. Beyond the first row, we have the correlator data. The first column indicates the Euclidean time $t$, with the ordering we discussed above, the second column is the real part of the correlator data, and the third column is the imaginary part of the correlator data.\n",
        "\n",
        "In addition to these data files, you are also provided with several functions throughout the notebook as the primary goal of this exercise is to become familiar with the data analysis process rather than writing your own code. However, be sure to take a moment to look at these functions and try to understand them as you proceed through the notebook. Our in-class exercise will build off of this pre-class work!"
      ]
    },
    {
      "cell_type": "code",
      "execution_count": null,
      "id": "e3e75f32-e82b-4e37-b471-83fbe6aeb043",
      "metadata": {
        "id": "e3e75f32-e82b-4e37-b471-83fbe6aeb043"
      },
      "outputs": [],
      "source": [
        "def jack(data):\n",
        "    n = len(data)\n",
        "    jack_data = [(np.sum(data)-data[i])/(n-1) for i in range(n)]\n",
        "    return np.array(jack_data)"
      ]
    },
    {
      "cell_type": "code",
      "execution_count": null,
      "id": "0855028b-21df-4e28-8016-e518caa1bc84",
      "metadata": {
        "id": "0855028b-21df-4e28-8016-e518caa1bc84"
      },
      "outputs": [],
      "source": [
        "def jack_stats(jack_data):\n",
        "    jack_data = np.asarray(jack_data)\n",
        "\n",
        "    if jack_data.ndim == 1:\n",
        "        n = len(jack_data)\n",
        "        mean  = np.mean(jack_data)\n",
        "        error = np.sqrt( (n - 1) / n * np.sum((jack_data - mean) ** 2) )\n",
        "        return mean, error\n",
        "\n",
        "    elif jack_data.ndim == 2:\n",
        "        m, n  = jack_data.shape  # m: rows (time), n: columns (subsets)\n",
        "        mean  = np.mean(jack_data, axis=1)\n",
        "        error = np.sqrt( (n - 1) / n * np.sum((jack_data - mean[:, None]) ** 2, axis=1) )\n",
        "        return mean, error\n",
        "    else: raise ValueError(\"Input data must be either 1D or 2D array.\")"
      ]
    },
    {
      "cell_type": "markdown",
      "id": "llc4Xjj1jl62",
      "metadata": {
        "id": "llc4Xjj1jl62",
        "tags": []
      },
      "source": [
        "### Task 1.1: Read in the Data\n",
        "* Write a function called `load_correlator_data()` to read in the two-point and three-point data files. Your function should do the following:\n",
        "    * Organize the real part of the data such that you have time along the rows and configurations along the columns.\n",
        "    * For each time, use the function `jack()` to apply jackknife resampling to the correlator data.\n",
        "    * Using `jack_stats()`, get the mean and error associated with the jackknife resampled configuration at each time.\n",
        "\n",
        "* Identify and globally define `time` and `ncfgs` from the datafile."
      ]
    },
    {
      "cell_type": "markdown",
      "id": "cdbe8c7e-be61-443d-9cc6-985ae5a8b3f1",
      "metadata": {
        "id": "cdbe8c7e-be61-443d-9cc6-985ae5a8b3f1"
      },
      "source": [
        "&#9998; *Student Solution...*"
      ]
    },
    {
      "cell_type": "code",
      "execution_count": null,
      "id": "82b05130-aba9-4c63-bc85-f2c339cb1367",
      "metadata": {
        "id": "82b05130-aba9-4c63-bc85-f2c339cb1367"
      },
      "outputs": [],
      "source": [
        "time  =\n",
        "ncfgs =\n",
        "\n",
        "def load_correlator_data(filename):\n",
        "    # add your code here...\n",
        "    return corr_jack, corr_mean, corr_std"
      ]
    },
    {
      "cell_type": "markdown",
      "id": "d43a75cb-6db4-436f-a3f1-97f1cd8d30b9",
      "metadata": {
        "id": "d43a75cb-6db4-436f-a3f1-97f1cd8d30b9"
      },
      "source": [
        "### Task 1.2: Plot the Raw Data\n",
        "It's always a good idea to plot our data and make sure everything looks ok before we start our analysis!\n",
        "* Using the function from Task 1, plot the mean and error of the two- and three-point correlators. You'll want to plot the two-point correlator in log scale. (Suggestion: use `plt.errorbar()` for the plotting). For consistency, stick with the naming scheme I provide in the cell below."
      ]
    },
    {
      "cell_type": "markdown",
      "id": "ea496352-15c4-42ea-b667-988ced2f683b",
      "metadata": {
        "id": "ea496352-15c4-42ea-b667-988ced2f683b"
      },
      "source": [
        "&#9998; *Student Solution...*"
      ]
    },
    {
      "cell_type": "code",
      "execution_count": null,
      "id": "b4b6f72d-44b1-4e35-b1d2-5cfd1929a16a",
      "metadata": {
        "id": "b4b6f72d-44b1-4e35-b1d2-5cfd1929a16a",
        "outputId": "843456fe-9e0e-4dde-e2f1-50686aca7504"
      },
      "outputs": [
        {
          "data": {
            "image/png": "[encoded data removed]",
            "text/plain": [
              "<Figure size 640x480 with 1 Axes>"
            ]
          },
          "metadata": {},
          "output_type": "display_data"
        },
        {
          "data": {
            "image/png": "[encoded data removed]",
            "text/plain": [
              "<Figure size 640x480 with 1 Axes>"
            ]
          },
          "metadata": {},
          "output_type": "display_data"
        }
      ],
      "source": [
        "C2pt_jack, C2pt_mean, C2pt_std = load_correlator_data('proton.D-694.DG5p5_3.DG5p5_3.SS')\n",
        "C3pt_jack, C3pt_mean, C3pt_std = load_correlator_data('NUCL_V_MIXED_NONREL_l0_g8_qx0_qy0_qz0.t8')\n",
        "\n",
        "# plot the raw correlator data."
      ]
    },
    {
      "cell_type": "markdown",
      "id": "a3ATLst8kXrr",
      "metadata": {
        "id": "a3ATLst8kXrr"
      },
      "source": [
        "----\n",
        "# Part 2: Fitting Correlators\n",
        "\n",
        "In the last lecture video, we were introduced to the spectral decompositions of the two-point correlator:\n",
        "\n",
        "$$ \\tag{2.1}\n",
        "C_{\\text{2pt}} (t_{\\text{src}}, t_{\\text{snk}})\n",
        "= \\sum_n \\left[ \\frac{\\langle \\Omega | \\chi^N (\\vec{z}, t_{\\text{snk}}) | n \\rangle \\langle n | \\bar{\\chi}^N (\\vec{x}, t_{\\text{src}}) | \\Omega \\rangle }{2E_n} \\right] e^{-E_n (t_{\\text{snk}} - t_{\\text{src}})}\n",
        "$$\n",
        "\n",
        "and of the three-point correlator:\n",
        "\n",
        "$$ \\tag{2.2}\n",
        "C_{\\text{3pt}} (t_{\\text{src}}, t_{\\text{ins}}, t_{\\text{snk}}) = \\sum_{n,m} \\left[ \\frac{\\langle \\Omega |  \\chi^N \\left(\\vec{z},t_{\\text{snk}}\\right) | n \\rangle \\langle n | \\mathcal{O} \\left(\\vec{y},t_{\\text{ins}}\\right) | m \\rangle \\langle m | \\overline{\\chi}^N  (\\vec{x},t_{\\text{src}} ) | \\Omega \\rangle}{4 E_n E_m} \\right] e^{-E_n (t_{\\text{snk}} - t_{\\text{src}})} e^{-E_m (t_{\\text{ins}} - t_{src})}\n",
        "$$\n",
        "\n",
        "These sums contain contributions from an infinite tower of excited states, but in most practical situations, we are interested in extracting the properties of the ground state or the lowest few excited states. The challenge is that the data contain statistical fluctuations, and simple inspection is not sufficient to isolate individual contributions. By fitting the correlators to appropriate functional forms, which we will learn about in this lecture video, we can determine matrix elements relevant for extracting nucleon charges and improve signal quality by isolating and reducing excited state contamination. In this section, we will discuss the commonly used fit forms and fitting procedures for extracting physical information from two- and three-point correlators.\n",
        "\n",
        "Watch the lecture video below:"
      ]
    },
    {
      "cell_type": "code",
      "execution_count": null,
      "id": "e8c7ab3c-eb50-4409-be59-a10e03f13497",
      "metadata": {
        "id": "e8c7ab3c-eb50-4409-be59-a10e03f13497",
        "outputId": "494d58f6-b872-45d9-aff8-efe8504a9f1e"
      },
      "outputs": [
        {
          "data": {
            "image/jpeg": "[encoded data removed]",
            "text/html": [
              "\n",
              "        <iframe\n",
              "            width=\"640\"\n",
              "            height=\"340\"\n",
              "            src=\"https://www.youtube.com/embed/7RjzwjLSMMQ\"\n",
              "            frameborder=\"0\"\n",
              "            allowfullscreen\n",
              "            \n",
              "        ></iframe>\n",
              "        "
            ],
            "text/plain": [
              "<IPython.lib.display.YouTubeVideo at 0x7f82fb6b23d0>"
            ]
          },
          "execution_count": 5,
          "metadata": {},
          "output_type": "execute_result"
        }
      ],
      "source": [
        "from IPython.display import YouTubeVideo\n",
        "YouTubeVideo(\"7RjzwjLSMMQ\",width=640,height=340)"
      ]
    },
    {
      "cell_type": "markdown",
      "id": "5b5fa327-ad56-4304-a237-ade0db9c9544",
      "metadata": {
        "id": "5b5fa327-ad56-4304-a237-ade0db9c9544"
      },
      "source": [
        "## Part 2.1: Two-Point Correlator Review\n",
        "In the second lecture video, we saw that we can write the two-point correlator as,\n",
        "\n",
        "$$ \\tag{2.3}\n",
        "C_{\\text{2pt}} = |A_0|^2 e^{-E_0 t} + |A_1|^2 e^{-E_1 t}\n",
        "$$\n",
        "\n",
        "where the first term represents the contribution from the ground state, while the second term accounts for excited-state contamination. By including the excited-state term, we can systematically reduce contamination and extract a more precise value for the ground-state energy $E_0$.\n",
        "\n",
        "$$ \\tag{2.4}\n",
        "M_{\\text{eff}} (t) = -ln \\left( \\frac{C_{\\text{2pt}}(t + 1)}{C_{\\text{2pt}} (t)} \\right)\n",
        "$$\n",
        "\n",
        "This quantity provides an estimate of the nucleon mass and helps assess the behavior of the correlator. By examining the plateau region in the effective mass plot, we can determine whether excited-state contamination is sufficiently suppressed and identify a reliable fitting window.\n",
        "\n",
        "### Task 2.1: Plotting the Effective Mass\n",
        "* Use the provided `EM()` function to compute and plot the effective mass with error bars. (Hint: Apply this function to each jackknife resampled set of data.)\n",
        "* Estimate the nucleon mass by averaging over the plateau region in your graph.\n",
        "* Based on your plot, determine a suitable fitting window for determining the ground state energy. Provide a justification for your choice in a markdown cell below."
      ]
    },
    {
      "cell_type": "markdown",
      "id": "81977afa-00ef-425c-af7e-bd34858e263d",
      "metadata": {
        "id": "81977afa-00ef-425c-af7e-bd34858e263d"
      },
      "source": [
        "&#9998; *Student Solution...*"
      ]
    },
    {
      "cell_type": "markdown",
      "id": "e6d9bd92-fafc-4a3e-94c5-f6c09764ddc5",
      "metadata": {
        "id": "e6d9bd92-fafc-4a3e-94c5-f6c09764ddc5"
      },
      "source": [
        "Add your explanation here..."
      ]
    },
    {
      "cell_type": "code",
      "execution_count": null,
      "id": "49074ef8-14e7-452f-81fd-43fb5be21bb4",
      "metadata": {
        "id": "49074ef8-14e7-452f-81fd-43fb5be21bb4"
      },
      "outputs": [],
      "source": [
        "# no need to change anything in this cell...\n",
        "def EM(data):\n",
        "    T = len(data)\n",
        "    Meff = [-1 * math.log(data[t+1]/data[t]) for t in range(0,T-1)]\n",
        "    return np.array(Meff)"
      ]
    },
    {
      "cell_type": "code",
      "execution_count": null,
      "id": "c47d763f-e605-4807-9c94-2f4e97c3c3ef",
      "metadata": {
        "id": "c47d763f-e605-4807-9c94-2f4e97c3c3ef",
        "outputId": "a2ce4617-aee5-40b3-da7a-609388f7e20a"
      },
      "outputs": [
        {
          "data": {
            "image/png": "[encoded data removed]",
            "text/plain": [
              "<Figure size 640x480 with 1 Axes>"
            ]
          },
          "metadata": {},
          "output_type": "display_data"
        }
      ],
      "source": [
        "EM_jack = # add your code here...\n",
        "EM_mean, EM_std = jack_stats(EM_jack)\n",
        "\n",
        "# plot the effective mass..."
      ]
    },
    {
      "cell_type": "markdown",
      "id": "8086c18b-5f06-4012-97db-cf560387f9da",
      "metadata": {
        "id": "8086c18b-5f06-4012-97db-cf560387f9da"
      },
      "source": [
        "### Task 2.2: Fitting the Correlator\n",
        "* Finish writing the function `C2pt_model()` using a **two-state** fit form.\n",
        "* Using `C2pt_model()` and the fitting window you identified in Task 1, fit the correlator data with `Fit2ptCorr(fit_range)`. Plot your reconstructed effective mass with error bands over the lattice data and comment on what you observe.\n",
        "* How does the mean of your jackknife fitted ground state energies compare to the average you took over the platue region in Task 1?"
      ]
    },
    {
      "cell_type": "markdown",
      "id": "bdbf6fdf-a9c0-4aff-9e62-f8bb47e45b0c",
      "metadata": {
        "id": "bdbf6fdf-a9c0-4aff-9e62-f8bb47e45b0c"
      },
      "source": [
        "&#9998; *Student Solution...*"
      ]
    },
    {
      "cell_type": "code",
      "execution_count": null,
      "id": "535fae5c-d5f6-4065-83d7-3972a1c4f6b9",
      "metadata": {
        "id": "535fae5c-d5f6-4065-83d7-3972a1c4f6b9"
      },
      "outputs": [],
      "source": [
        "def C2pt_model(t,A0,E0,A1,dE):\n",
        "    E1 = E0 + abs(dE) # enforces E1 > E0\n",
        "    return # finish writing this function..."
      ]
    },
    {
      "cell_type": "code",
      "execution_count": null,
      "id": "be7105da-ff00-4d9d-831f-d4dce47f4773",
      "metadata": {
        "id": "be7105da-ff00-4d9d-831f-d4dce47f4773"
      },
      "outputs": [],
      "source": [
        "# You don't need to change anything in this cell...\n",
        "def Fit2ptCorr(fit_range):\n",
        "    tmin, tmax = fit_range\n",
        "    C2pt_mean, C2pt_std = jack_stats(C2pt_jack)\n",
        "    fit_params = []\n",
        "    for cfg in tqdm(range(0,ncfgs)):\n",
        "        popt, pcov = curve_fit(lambda t, A0, E0, A1, dE: C2pt_model(t, A0, E0, A1, dE),\n",
        "                       xdata = time[tmin:tmax+1],\n",
        "                       ydata = C2pt_jack[:,cfg][tmin:tmax+1],\n",
        "                       sigma = C2pt_std[tmin:tmax+1],\n",
        "                       p0    = [1e-3,0.5,1e-3,0.5],\n",
        "                       maxfev= 500000)\n",
        "        fit_params.append(popt)\n",
        "    return np.array(fit_params)"
      ]
    },
    {
      "cell_type": "code",
      "execution_count": null,
      "id": "c4a5f737-0899-4f37-ae4f-cd43665beccf",
      "metadata": {
        "id": "c4a5f737-0899-4f37-ae4f-cd43665beccf",
        "outputId": "8ec21a28-41c5-4481-b771-3f16410e13c3"
      },
      "outputs": [
        {
          "name": "stderr",
          "output_type": "stream",
          "text": [
            "100%|██████████| 253/253 [00:01<00:00, 174.00it/s]\n"
          ]
        },
        {
          "data": {
            "image/png": "[encoded data removed]",
            "text/plain": [
              "<Figure size 640x480 with 1 Axes>"
            ]
          },
          "metadata": {},
          "output_type": "display_data"
        }
      ],
      "source": [
        "def Reconstruct_EM(fit_range):\n",
        "    tmin, tmax = fit_range\n",
        "    fit_time   = time[tmin:tmax+1]\n",
        "\n",
        "    params = Fit2ptCorr(fit_range)\n",
        "\n",
        "    fits = # fill this portion of the code in...\n",
        "    fit_mean, fit_std = jack_stats(fits)\n",
        "\n",
        "    EM_jack = # fill this portion of the code in...\n",
        "    EM_mean, EM_std = jack_stats(EM_jack)\n",
        "\n",
        "    # plot your results....\n",
        "\n",
        "fit_range = # what is an appropriate fit rnage?\n",
        "Reconstruct_EM(fit_range)"
      ]
    },
    {
      "cell_type": "markdown",
      "id": "8e636e17-b5b4-43b1-b78a-64d8d514fa8d",
      "metadata": {
        "id": "8e636e17-b5b4-43b1-b78a-64d8d514fa8d"
      },
      "source": [
        "## Part 2.2: Three-Point Correlator\n",
        "In the second lecture video, we saw that we can write the two-point correlator as,\n",
        "\n",
        "$$ \\tag{2.5}\n",
        "C_{\\text{3pt}}^{\\text{model}} (t, t_{\\text{sep}}) = \\mathcal{M}_{00} |A_0|^2 e^{-E_0 t_{\\text{sep}}} + \\mathcal{M}_{01} |A_0| |A_1| e^{-E_0 t_{\\text{sep}}} e^{-E_1 (t_{\\text{sep}} - t)}\n",
        "$$\n",
        "\n",
        "$$ + \\mathcal{M}_{10} |A_0| |A_1| e^{-E_1 t_{\\text{sep}}} e^{-E_0 (t_{\\text{sep}} - t)} + \\mathcal{M}_{11} |A_1|^2 e^{-E_1 t_{\\text{sep}}}\n",
        "$$\n",
        "\n",
        "Similar to the effective mass analysis for the two-point correlator, we can use the ratio of the two- and three-point correlators as a diagnostic tool to validate our fits,\n",
        "\n",
        "$$ \\tag{2.6}\n",
        "R(t, t_{\\text{sep}}) = \\frac{C_{\\text{3pt}}(t, t_{\\text{sep}})}{C_{\\text{2pt}}(t_{\\text{sep}})}\n",
        "$$\n",
        "\n",
        "Since the numerator and denominator share similar excited-state contributions, their effects partially cancel in the ratio, making it useful for isolating the dominant ground-state contribution. By plotting $R(t, t_{\\text{ins}})$ against $t - t_{\\text{sep}}/2$, we can identify a plateau region around $t \\approx t_{\\text{sep}}/2$, from which we can extract an estimate for the ground state matrix element, $\\mathcal{M}_{00}$.\n",
        "\n",
        "### Task 2.3: Plotting the Ratio\n",
        "* Write a function to calculate the ratio by applying Equation 2.6 to each jackknifed re-sampled dataset. Your function should return the mean and error of these jackknifed ratios.\n",
        "* Plot the mean and error using $t - t_{\\text{sep}}/2$ along the x-axis and zooming in on the region of interest by only plotting relevent data points from $t = \\{1, t_{sep}-1 \\}$.\n",
        "* Identify the plateau region and estimate it's value by taking an average across these central points."
      ]
    },
    {
      "cell_type": "markdown",
      "id": "69437949-4833-4125-99b0-efd34c7374f6",
      "metadata": {
        "id": "69437949-4833-4125-99b0-efd34c7374f6"
      },
      "source": [
        "&#9998; *Student Solution...*"
      ]
    },
    {
      "cell_type": "code",
      "execution_count": null,
      "id": "948fccd5-b1ab-4f60-b949-5ae4cab2d091",
      "metadata": {
        "id": "948fccd5-b1ab-4f60-b949-5ae4cab2d091",
        "outputId": "dc0ed972-8ac6-4706-84ac-a04fe67ace9b"
      },
      "outputs": [
        {
          "name": "stdout",
          "output_type": "stream",
          "text": [
            "Estimated O00 = 1.0544329324465065\n"
          ]
        },
        {
          "data": {
            "image/png": "[encoded data removed]",
            "text/plain": [
              "<Figure size 640x480 with 1 Axes>"
            ]
          },
          "metadata": {},
          "output_type": "display_data"
        }
      ],
      "source": [
        "def ratio(tsep, C3pt_jack, C2pt_jack):\n",
        "    R = # fill this in...\n",
        "    R_mean, R_std = jack_stats(R)\n",
        "    return R_mean, R_std\n",
        "\n",
        "# plot your results and estimate the ground state matrix element"
      ]
    },
    {
      "cell_type": "markdown",
      "id": "73e1e4d6-18eb-4562-a431-29484fd653d6",
      "metadata": {
        "id": "73e1e4d6-18eb-4562-a431-29484fd653d6"
      },
      "source": [
        "In the lecture video, we discussed the importance of doing a simultaneous fit across multiple separation times, however, to keep this pre-class assignment simple, we'll only fit with one separation time. Additionally, we'll continute to use the **one-state** fit form for the three point correlator. In class, we'll work together to extend our analysis to using the two-state fit forms and performing a simultaneous fit across multiple separation times.\n",
        "\n",
        "### Task 2.4: Fitting the Correlator\n",
        "* Finish writing the function `C3pt_model()` using the **one-state** fit form.\n",
        "* Using `C3pt_model()` and the jackknife fit parameters from Part 2.1, fit the correlator data with `Fit3ptCorr(tsep)`.\n",
        "* Take the mean and jackknife error of your ground state matrix element, `O00`. How does this compare to the value you obtained by taking the average across the platue of the ratio plot in Task 1?"
      ]
    },
    {
      "cell_type": "markdown",
      "id": "0f09e3b7-e315-48f7-b7f9-04a2af6072e2",
      "metadata": {
        "id": "0f09e3b7-e315-48f7-b7f9-04a2af6072e2"
      },
      "source": [
        "&#9998; *Finish writing the cell of code below...*"
      ]
    },
    {
      "cell_type": "code",
      "execution_count": null,
      "id": "b1159a1c-287c-4173-b49a-b557bfeea74b",
      "metadata": {
        "id": "b1159a1c-287c-4173-b49a-b557bfeea74b"
      },
      "outputs": [],
      "source": [
        "def C3pt_model(t, A0, E0, O00):\n",
        "    return # fill this in..."
      ]
    },
    {
      "cell_type": "code",
      "execution_count": null,
      "id": "4510b554-d786-4d8c-8dd3-5a74b9fb4422",
      "metadata": {
        "id": "4510b554-d786-4d8c-8dd3-5a74b9fb4422"
      },
      "outputs": [],
      "source": [
        "def Fit3ptCorr(tsep, A0, E0):\n",
        "    fit_params = []\n",
        "    for cfg in range(ncfgs):\n",
        "        popt, pcov = curve_fit(lambda t, O00: C3pt_model(tsep, A0[cfg], E0[cfg], O00),\n",
        "            xdata=time,\n",
        "            ydata=C3pt_jack[1:tsep,cfg],\n",
        "            sigma=C3pt_std[1:tsep],\n",
        "            p0=[0.1],\n",
        "            maxfev=500000)\n",
        "        fit_params.append(popt)\n",
        "    return np.array(fit_params)"
      ]
    },
    {
      "cell_type": "code",
      "execution_count": null,
      "id": "40fa19e2-6950-4d1e-96ce-c4c7a50c04a3",
      "metadata": {
        "id": "40fa19e2-6950-4d1e-96ce-c4c7a50c04a3"
      },
      "outputs": [],
      "source": [
        "# print out your fitted ground state matrix element"
      ]
    },
    {
      "cell_type": "markdown",
      "id": "1927ea2f-dc6d-46af-ac07-25af3e7e5dfb",
      "metadata": {
        "id": "1927ea2f-dc6d-46af-ac07-25af3e7e5dfb"
      },
      "source": [
        "-----------------------\n",
        "# Assignment Wrap-up\n",
        "\n",
        "Submit this assignment by uploading it to the course [Gradescope course page](https://www.gradescope.com/courses/987121). Please **fill out the following Google Form when you complete this assignment**; questions submitted into the GoogleForm before noon EST of the class day will be addressed by the instructor in the beginning of the class."
      ]
    },
    {
      "cell_type": "code",
      "execution_count": null,
      "id": "5b392ebc-fb50-4743-949c-b175eb812273",
      "metadata": {
        "colab": {
          "base_uri": "https://localhost:8080/",
          "height": 1000
        },
        "id": "5b392ebc-fb50-4743-949c-b175eb812273",
        "outputId": "059c6f8c-2600-446c-f254-ff9f935aa500"
      },
      "outputs": [
        {
          "data": {
            "text/html": [
              "\n",
              "<iframe\n",
              "\tsrc=\"https://forms.gle/jrEJKdByFRxAsNpU9\"\n",
              "\twidth=\"80%\"\n",
              "\theight=\"1200px\"\n",
              "\tframeborder=\"0\"\n",
              "\tmarginheight=\"0\"\n",
              "\tmarginwidth=\"0\">\n",
              "\tLoading...\n",
              "</iframe>\n"
            ],
            "text/plain": [
              "<IPython.core.display.HTML object>"
            ]
          },
          "execution_count": 7,
          "metadata": {},
          "output_type": "execute_result"
        }
      ],
      "source": [
        "from IPython.display import HTML\n",
        "HTML(\n",
        "\"\"\"\n",
        "<iframe\n",
        "\tsrc=\"https://forms.gle/jrEJKdByFRxAsNpU9\"\n",
        "\twidth=\"80%\"\n",
        "\theight=\"1200px\"\n",
        "\tframeborder=\"0\"\n",
        "\tmarginheight=\"0\"\n",
        "\tmarginwidth=\"0\">\n",
        "\tLoading...\n",
        "</iframe>\n",
        "\"\"\"\n",
        ")"
      ]
    },
    {
      "cell_type": "markdown",
      "id": "d327ed5c-4665-48c4-a8f2-8e0e90c85e81",
      "metadata": {
        "id": "d327ed5c-4665-48c4-a8f2-8e0e90c85e81"
      },
      "source": [
        "\n",
        "\n",
        "----\n",
        "\n",
        "#Congratulations, you're done!\n",
        "\n",
        "&#169; Copyright 2025,  Michigan State University Board of Trustees"
      ]
    },
    {
      "cell_type": "code",
      "source": [],
      "metadata": {
        "id": "sp1MhoJXpAYX"
      },
      "id": "sp1MhoJXpAYX",
      "execution_count": null,
      "outputs": []
    }
  ],
  "metadata": {
    "colab": {
      "provenance": []
    },
    "kernelspec": {
      "display_name": "Python 3 (ipykernel)",
      "language": "python",
      "name": "python3"
    },
    "language_info": {
      "codemirror_mode": {
        "name": "ipython",
        "version": 3
      },
      "file_extension": ".py",
      "mimetype": "text/x-python",
      "name": "python",
      "nbconvert_exporter": "python",
      "pygments_lexer": "ipython3",
      "version": "3.9.13"
    }
  },
  "nbformat": 4,
  "nbformat_minor": 5
}