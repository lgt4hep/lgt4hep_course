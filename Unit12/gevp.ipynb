{
 "cells": [
  {
   "cell_type": "markdown",
   "metadata": {},
   "source": [
    "# Distillation analysis for the muon g-2"
   ]
  },
  {
   "cell_type": "code",
   "execution_count": 1,
   "metadata": {},
   "outputs": [
    {
     "name": "stdout",
     "output_type": "stream",
     "text": [
      "/Users/thomasblum/Dropbox/python3.12/bin/python\n"
     ]
    },
    {
     "data": {
      "application/javascript": [
       "IPython.notebook.set_autosave_interval(60000)"
      ]
     },
     "metadata": {},
     "output_type": "display_data"
    },
    {
     "name": "stdout",
     "output_type": "stream",
     "text": [
      "Autosaving every 60 seconds\n"
     ]
    }
   ],
   "source": [
    "import sys\n",
    "print(sys.executable)\n",
    "import os\n",
    "import numpy as np\n",
    "import matplotlib.pyplot as plt\n",
    "from scipy.optimize import curve_fit\n",
    "from scipy.integrate import quad\n",
    "from scipy.linalg import eigh\n",
    "from scipy.stats import f as fdist\n",
    "from scipy.linalg import inv\n",
    "user=os.environ['USER']\n",
    "%autosave 60"
   ]
  },
  {
   "cell_type": "markdown",
   "metadata": {},
   "source": [
    "## Utils"
   ]
  },
  {
   "cell_type": "code",
   "execution_count": 2,
   "metadata": {},
   "outputs": [],
   "source": [
    "def jackblocks(data,jacks,omit,prt=0):\n",
    "    #loop over timeslices\n",
    "    nconf=data.shape[0]\n",
    "    nt=data.shape[1]\n",
    "    norm=1.0/(nconf-1-len(omit))\n",
    "    if(prt):print('omitting '+str(len(omit))+' of '+str(nconf)+' configs')\n",
    "    for j in range(0,nt):\n",
    "        #\n",
    "        # sum over configs\n",
    "        #\n",
    "        sum=0.0\n",
    "        for i in range(0,nconf):\n",
    "            if i not in omit:\n",
    "                sum = sum + data[i,j]\n",
    "        #\n",
    "        # contruct jacks for time slice j\n",
    "        #\n",
    "        n=0\n",
    "        for i in range(0,nconf):\n",
    "            if i not in omit:\n",
    "                jacks[n,j] = sum-data[i,j]\n",
    "                jacks[n,j] *= norm\n",
    "                n=n+1\n",
    "# jackknife blocks of size bs>=1\n",
    "def jackblocks_bs(data,bs=1):\n",
    "    \n",
    "    jacks=np.zeros([int(data.shape[0]/bs),data.shape[1]])\n",
    "    nconf=data.shape[0]\n",
    "    if nconf % bs:\n",
    "        print(\"num confs not divisible by block size\")\n",
    "        return\n",
    "    nt=data.shape[1]\n",
    "    norm=1.0/(nconf-bs)\n",
    "    # loop over timeslices\n",
    "    for j in range(0,nt):\n",
    "        #\n",
    "        # sum over configs\n",
    "        #\n",
    "        sum=0.0\n",
    "        for i in range(0,nconf):\n",
    "            sum = sum + data[i,j]\n",
    "        #\n",
    "        # contruct jacks for time slice j\n",
    "        #\n",
    "        n=0\n",
    "        for i in range(0,nconf,bs):\n",
    "            jacks[n,j] = sum\n",
    "            for k in range(bs):\n",
    "                jacks[n,j] -= data[i+k,j]\n",
    "            jacks[n,j] *= norm\n",
    "            n=n+1\n",
    "            \n",
    "    return jacks\n",
    "#\n",
    "# compute avg and jacknife error from a vector of jacknife blocks\n",
    "def jack(vec):\n",
    "    n=vec.shape[0]\n",
    "    avg=0.0\n",
    "    # compute average\n",
    "    for i in range(0,n):\n",
    "        avg+=vec[i]\n",
    "    avg = avg/n\n",
    "    # compute error\n",
    "    err=0.0\n",
    "    for i in range(0,n):\n",
    "        err+=(vec[i]-avg)*(vec[i]-avg)\n",
    "    err *= (n-1)/n\n",
    "    err = np.sqrt(err)\n",
    "    #print(f'{n} blocks, avg+-err= {avg:.4e} +- {err:.4e}')\n",
    "    return avg, err\n",
    "\n",
    "\n",
    "def covariance(data):\n",
    "    \n",
    "    nconf,tsize=data.shape\n",
    "    covmat=np.zeros((tsize,tsize))\n",
    "    avg = np.average(data,axis=0)\n",
    "    for n in range(nconf):\n",
    "        covmat+=np.outer(data[n]-avg,data[n]-avg)\n",
    "    covmat*=1/nconf\n",
    "    covmat *= nconf-1\n",
    "    \n",
    "    return avg,covmat\n",
    "\n",
    "def const_plus_exp(t,*p):\n",
    "\n",
    "    return p[0]+p[1]*np.exp(-t*p[2])\n",
    "\n",
    "def err_const_plus_exp(t,p,c):\n",
    "    \n",
    "    fact = np.exp(-t*p[2])\n",
    "    errsq  =   c[0][0]\n",
    "    errsq +=   c[1][1]*(fact)**2\n",
    "    errsq +=   c[2][2]*((-t)*p[1]*fact)**2\n",
    "    errsq += 2*c[0][1]*fact\n",
    "    errsq += 2*c[0][2]*(-t)*p[1]*fact\n",
    "    errsq += 2*c[1][2]*(-t)*p[1]*fact**2\n",
    "    \n",
    "    return np.sqrt(errsq)\n",
    "\n",
    "def fqed(qsq,m):\n",
    "    \n",
    "    return  m**2*qsq*Z(qsq,m)**3*(1-qsq*Z(qsq,m))/(1 + m**2*qsq*Z(qsq,m)**2)\n",
    "\n",
    "def Z(qsq,m):\n",
    "    \n",
    "    return (np.sqrt(qsq**2+4*m**2*qsq)-qsq)/2/m**2/qsq\n",
    "\n",
    "# long distance window filter\n",
    "def Theta(t1,t2):\n",
    "    \n",
    "    return (1+np.tanh((t1-t2)/Delta))/2\n",
    "\n",
    "class Ensemble_jks:\n",
    "    \n",
    "    def __init__(self):\n",
    "        self.Op=0 # operator list\n",
    "        self.jks=0 # gevp correlator single jackknife blocks\n",
    "        self.jks_ct_all=0 # lvec-lvec correlator single jackknife blocks\n",
    "        self.double_jks=0 # correlator double jackknife blocks\n",
    "        self.vec=0 # GEVP eigenvector double jackkife blocks\n",
    "        self.e=0 # GEVP eigenvalue jackkife blocks\n",
    "        self.amuOrig=0 # amu integrand for original correlator jackknife blocks\n",
    "        self.amuRec=0 # amu integrand for reconstructed correlator jackknife blocks\n",
    "        pass\n",
    "\n",
    "\n"
   ]
  },
  {
   "cell_type": "markdown",
   "metadata": {},
   "source": [
    "## Global Input Parameters"
   ]
  },
  {
   "cell_type": "code",
   "execution_count": 3,
   "metadata": {},
   "outputs": [],
   "source": [
    "alphaQED=1/137.035999074\n",
    "fm = 1/0.1973269804\n",
    "muon_mass=0.1056583755 # GeV\n",
    "Delta=0.15"
   ]
  },
  {
   "cell_type": "markdown",
   "metadata": {},
   "source": [
    "## Ensembles parameters"
   ]
  },
  {
   "cell_type": "code",
   "execution_count": 4,
   "metadata": {
    "scrolled": true
   },
   "outputs": [],
   "source": [
    "Ensemble='48I'\n",
    "ainv=1.72\n",
    "afm=1/fm/ainv\n",
    "tv=8\n",
    "numT=96\n",
    "Zv=0.71097"
   ]
  },
  {
   "cell_type": "markdown",
   "metadata": {},
   "source": [
    "### Operators"
   ]
  },
  {
   "cell_type": "code",
   "execution_count": 5,
   "metadata": {},
   "outputs": [],
   "source": [
    "l48I=Ensemble_jks()"
   ]
  },
  {
   "cell_type": "code",
   "execution_count": 6,
   "metadata": {},
   "outputs": [],
   "source": [
    "# these are the two pion and vector operators used in the GEVP\n",
    "l48I.Op=['2pi.g5.0.0.1','2pi.g5.0.1.1','2pi.g5.1.1.1','2pi.g5.0.0.2','svec.gi','lvec.gi']"
   ]
  },
  {
   "cell_type": "markdown",
   "metadata": {},
   "source": [
    "### Correlators"
   ]
  },
  {
   "cell_type": "code",
   "execution_count": 7,
   "metadata": {},
   "outputs": [],
   "source": [
    "# This is the corresponding \"matrix\" correlation function (jackKnife blocks)\n",
    "l48I.jks=np.load('48Ijks.npy')\n",
    "numDist=l48I.jks.shape[2]"
   ]
  },
  {
   "cell_type": "markdown",
   "metadata": {},
   "source": [
    "### GEVP"
   ]
  },
  {
   "cell_type": "code",
   "execution_count": 8,
   "metadata": {},
   "outputs": [
    {
     "name": "stderr",
     "output_type": "stream",
     "text": [
      "/var/folders/fp/rjrtmzhj03z5kr3pybmmdpn40000gn/T/ipykernel_42208/3310032787.py:16: ComplexWarning: Casting complex values to real discards the imaginary part\n",
      "  l48I.e[n,t],l48I.vec[n,t]=eigh(a,b,type=1)\n"
     ]
    }
   ],
   "source": [
    "# GEVP under jackknife\n",
    "NTfold=int(numT/2)\n",
    "minOp=0\n",
    "maxOp=5\n",
    "tmin=4\n",
    "tmax=16\n",
    "l48I.e=np.zeros((numDist,NTfold,maxOp-minOp))\n",
    "l48I.vec=np.zeros((numDist,NTfold,maxOp-minOp,maxOp-minOp))\n",
    "folded=0.5*(l48I.jks+np.roll(np.flip(l48I.jks,axis=3),1,axis=3))\n",
    "for n in range(numDist):\n",
    "    for t in range(tmin,tmax):\n",
    "        a=folded[minOp:maxOp,minOp:maxOp,n,t]\n",
    "        b=folded[minOp:maxOp,minOp:maxOp,n,t-1]\n",
    "        a=0.5*(a+np.conjugate(np.transpose(a)))\n",
    "        b=0.5*(b+np.conjugate(np.transpose(b)))\n",
    "        l48I.e[n,t],l48I.vec[n,t]=eigh(a,b,type=1)"
   ]
  },
  {
   "cell_type": "code",
   "execution_count": 9,
   "metadata": {},
   "outputs": [
    {
     "name": "stdout",
     "output_type": "stream",
     "text": [
      "n, chi square, dof= 0 (6.58047619753164, 0.4437633037250746) 8\n",
      "p-value= 0.7655547980767468\n",
      "n, chi square, dof= 1 (4.742210110133821, 0.33653603718722186) 8\n",
      "p-value= 0.8864469473754526\n",
      "n, chi square, dof= 2 (6.465706425223414, 0.549650106471327) 8\n",
      "p-value= 0.7736681697822423\n",
      "n, chi square, dof= 3 (8.406748813613275, 0.49153458973594993) 8\n",
      "p-value= 0.6347082204093193\n",
      "n, chi square, dof= 4 (4.622866815855745, 0.42182639879276845) 5\n",
      "p-value= 0.5732114073596604\n"
     ]
    }
   ],
   "source": [
    "# do excited state fit under jackknife\n",
    "npar=3\n",
    "fitpars=np.zeros((maxOp,numDist,npar))\n",
    "fitcov=np.zeros((maxOp,numDist,npar,npar))\n",
    "tmax=[16]*maxOp\n",
    "tmin=[5]*maxOp\n",
    "tmax[4]=13\n",
    "# jackknife the fit\n",
    "csq=np.zeros((maxOp,numDist))\n",
    "guess = ([0.25,1.,1])\n",
    "for l in range(maxOp):\n",
    "    #same cov mat for each block (\"frozen\")\n",
    "    avg,cov=covariance(-np.log(l48I.e[:,tmin[l]:tmax[l],l]))\n",
    "    dof=tmax[l]-tmin[l]-npar\n",
    "    t=np.arange(tmin[l],tmax[l])\n",
    "    for jk in range(numDist):\n",
    "        val=-np.log(l48I.e[jk,tmin[l]:tmax[l],l])\n",
    "        popt,pcov=curve_fit(const_plus_exp,t,val,sigma=cov, \n",
    "                            p0=guess, absolute_sigma=True)\n",
    "        fitpars[l][jk] = popt\n",
    "        fitcov[l][jk] = pcov\n",
    "        theory = const_plus_exp(t, *popt)\n",
    "        r = avg - theory\n",
    "        csq[l][jk] = r.T @ inv(cov) @ r\n",
    "    cs=jack(csq[l])\n",
    "    F = fdist(dof,numDist-dof)\n",
    "    p_value = 1 - F.cdf(cs[0]/dof/(numDist-1)*(numDist-dof))\n",
    "    print('n, chi square, dof=',l,cs,dof)\n",
    "    print('p-value=',p_value)"
   ]
  },
  {
   "cell_type": "code",
   "execution_count": 13,
   "metadata": {},
   "outputs": [
    {
     "name": "stdout",
     "output_type": "stream",
     "text": [
      "(20,) (20,) (20,)\n",
      "Energy= 0 0.5508608746510564 0.007526290225165433\n",
      "Amp= 4.824559783261879 1.673347412547365\n",
      "DeltaE= 0.6974416126485222 0.07872041772361335\n",
      "(20,) (20,) (20,)\n",
      "Energy= 1 0.49655036478200654 0.004454918246776296\n",
      "Amp= 3.264427420042771 0.8846857873651772\n",
      "DeltaE= 0.7020972616517204 0.0628502250335446\n",
      "(20,) (20,) (20,)\n",
      "Energy= 2 0.4559675224091049 0.0018971297064400872\n",
      "Amp= 2.7479639181988254 0.529098607197035\n",
      "DeltaE= 0.7820642155535329 0.04397562731161172\n",
      "(20,) (20,) (20,)\n",
      "Energy= 3 0.38854030399056 0.0009030193134805736\n",
      "Amp= 2.4041524781787995 0.41390851778594856\n",
      "DeltaE= 0.7887559346343456 0.03779363217759168\n",
      "(20,) (20,) (20,)\n",
      "Energy= 4 0.30448015584850824 0.0006557941569288282\n",
      "Amp= 3.5506739191278363 0.5884252562235388\n",
      "DeltaE= 0.9602575499096738 0.036164602632991476\n"
     ]
    },
    {
     "name": "stderr",
     "output_type": "stream",
     "text": [
      "/var/folders/fp/rjrtmzhj03z5kr3pybmmdpn40000gn/T/ipykernel_42208/2383681796.py:22: RuntimeWarning: divide by zero encountered in log\n",
      "  v,err=jack(-np.log(l48I.e[:,tmin:tmax,l]))\n",
      "/var/folders/fp/rjrtmzhj03z5kr3pybmmdpn40000gn/T/ipykernel_42208/2859662791.py:66: RuntimeWarning: invalid value encountered in subtract\n",
      "  err+=(vec[i]-avg)*(vec[i]-avg)\n"
     ]
    },
    {
     "data": {
      "image/png": "[encoded data removed]",
      "text/plain": [
       "<Figure size 640x480 with 1 Axes>"
      ]
     },
     "metadata": {},
     "output_type": "display_data"
    }
   ],
   "source": [
    "avg=np.average(l48I.e,axis=0)\n",
    "# data range\n",
    "tmin=4\n",
    "tmax=24\n",
    "t=np.arange(tmin,tmax)\n",
    "# fit range\n",
    "ftmin=5\n",
    "ftmax=17\n",
    "tc=np.zeros(int((ftmax-ftmin)/0.01))\n",
    "cmat=np.zeros((3,3))\n",
    "for i in range(int((ftmax-ftmin)/0.01)):\n",
    "    tc[i]=ftmin+i*0.01\n",
    "for l in range(maxOp):\n",
    "    v=np.average(fitpars[l],axis=0)\n",
    "    cmat=np.average(fitcov[l],axis=0)\n",
    "    val=const_plus_exp(tc,*v)\n",
    "    err=err_const_plus_exp(tc,v,cmat)\n",
    "    vp = val+err\n",
    "    vm = val-err\n",
    "    plt.fill_between(tc,vp,vm,color='blue', alpha=0.1)\n",
    "for l in range(maxOp):\n",
    "    v,err=jack(-np.log(l48I.e[:,tmin:tmax,l]))\n",
    "    print(t.shape,v.shape,err.shape)\n",
    "    plt.errorbar(t,v,err,marker='o',linestyle='',markersize=2,label='Op'+str(l))\n",
    "    v,err=jack(fitpars[l,:,0])\n",
    "    print('Energy=',l,v,err)\n",
    "    v,err=jack(fitpars[l,:,1])\n",
    "    print('Amp=',v,err)\n",
    "    v,err=jack(fitpars[l,:,2])\n",
    "    print('DeltaE=',v,err)\n",
    "plt.ylim(0.2,0.7)\n",
    "plt.xlim(3,16)\n",
    "plt.legend()\n",
    "plt.savefig('gevp energies.png')"
   ]
  },
  {
   "cell_type": "code",
   "execution_count": 14,
   "metadata": {},
   "outputs": [
    {
     "name": "stdout",
     "output_type": "stream",
     "text": [
      "v,norm= 0 [-0.74386546 -0.24283865 -0.20093068 -0.0639276   0.58563673] 0.9997366903233704\n",
      "err= 0 [0.01387046 0.01243214 0.03048198 0.06776769 0.03126489]\n",
      "v,norm= 1 [-0.0237153   0.79292493  0.26220743  0.11131972 -0.53797599] 0.9998553302600017\n",
      "err= 1 [0.00039698 0.01729505 0.02504438 0.04269054 0.03181876]\n",
      "v,norm= 2 [ 0.01115356  0.24085662 -0.719359   -0.12974986  0.63826578] 0.9998319144587605\n",
      "err= 2 [0.00046684 0.01028062 0.03692397 0.03387369 0.04187492]\n",
      "v,norm= 3 [-0.00635265 -0.08292641 -0.73200871  0.10711227 -0.55037712] 0.8571419158575162\n",
      "err= 3 [0.01323468 0.17268445 1.52273699 0.22679791 1.14636376]\n",
      "v,norm= 4 [-0.00208146 -0.01659268 -0.03844838 -0.88318133 -0.27480828] 0.8572867777493847\n",
      "err= 4 [0.00429782 0.03369136 0.08245061 1.83809156 0.56922009]\n"
     ]
    },
    {
     "name": "stderr",
     "output_type": "stream",
     "text": [
      "<>:22: SyntaxWarning: invalid escape sequence '\\l'\n",
      "<>:22: SyntaxWarning: invalid escape sequence '\\l'\n",
      "/var/folders/fp/rjrtmzhj03z5kr3pybmmdpn40000gn/T/ipykernel_42208/2915748307.py:22: SyntaxWarning: invalid escape sequence '\\l'\n",
      "  plt.plot(v,marker='o',color=color[i],linestyle='',markersize=3,label='$\\lambda=$'+str(maxOp-1-i))\n"
     ]
    },
    {
     "data": {
      "text/plain": [
       "<matplotlib.legend.Legend at 0x132f506b0>"
      ]
     },
     "execution_count": 14,
     "metadata": {},
     "output_type": "execute_result"
    },
    {
     "data": {
      "image/png": "[encoded data removed]",
      "text/plain": [
       "<Figure size 640x480 with 1 Axes>"
      ]
     },
     "metadata": {},
     "output_type": "display_data"
    }
   ],
   "source": [
    "plt.xticks(np.arange(len(l48I.Op)), l48I.Op, rotation=45)\n",
    "plt.ylim(-1,1)\n",
    "color=['red','blue','green','orange','black']\n",
    "x=0\n",
    "# timeslice of v, i.e. use v(tv,tv-1)\n",
    "tv=8\n",
    "tvec=np.zeros((numDist,NTfold,maxOp-minOp,maxOp-minOp))\n",
    "sign0=np.zeros(maxOp,dtype=int)\n",
    "sign=np.zeros(maxOp,dtype=int)\n",
    "idx=np.zeros(maxOp,dtype=int)\n",
    "tvec = l48I.vec\n",
    "for jk in range(numDist):\n",
    "    for n in range(maxOp):\n",
    "        # normalize eigenvectors (GEVP norms to v^dag.C.v=1)\n",
    "        tvec[jk,tv,:,n]=tvec[jk,tv,:,n]/np.sqrt(np.inner(tvec[jk,tv,:,n],tvec[jk,tv,:,n]))\n",
    "\n",
    "# c_ni, reverse order of label for plot\n",
    "for i in range(maxOp-1,-1,-1):\n",
    "    v,err=jack(tvec[:,tv,:,i])\n",
    "    print('v,norm=',maxOp-1-i,v,np.inner(v,v))\n",
    "    print('err=',maxOp-1-i,err)\n",
    "    plt.plot(v,marker='o',color=color[i],linestyle='',markersize=3,label='$\\lambda=$'+str(maxOp-1-i))\n",
    "    for j in range(maxOp):\n",
    "        x=j\n",
    "        plt.errorbar(x,v[j],err[j],marker='o',color=color[i],linestyle='',markersize=5)\n",
    "plt.title('$v_i($'+str(tv)+','+str(tv-1)+')')\n",
    "plt.legend()"
   ]
  },
  {
   "cell_type": "code",
   "execution_count": 15,
   "metadata": {},
   "outputs": [
    {
     "name": "stderr",
     "output_type": "stream",
     "text": [
      "/var/folders/fp/rjrtmzhj03z5kr3pybmmdpn40000gn/T/ipykernel_42208/495935871.py:18: ComplexWarning: Casting complex values to real discards the imaginary part\n",
      "  corr[c,t,n]=tt**2/ttt\n"
     ]
    },
    {
     "data": {
      "text/plain": [
       "<matplotlib.legend.Legend at 0x123bf3da0>"
      ]
     },
     "execution_count": 15,
     "metadata": {},
     "output_type": "execute_result"
    },
    {
     "data": {
      "image/png": "[encoded data removed]",
      "text/plain": [
       "<Figure size 640x480 with 1 Axes>"
      ]
     },
     "metadata": {},
     "output_type": "display_data"
    }
   ],
   "source": [
    "\n",
    "corr=np.zeros((numDist,numT,maxOp))\n",
    "# local vector:\n",
    "op=5\n",
    "tvec=np.zeros((numDist,NTfold,maxOp-minOp,maxOp-minOp))\n",
    "for c in range(numDist):\n",
    "    tvec = l48I.vec\n",
    "    for t in range(tmin,tmax):\n",
    "        for n in range(maxOp):\n",
    "            energy=fitpars[n,c,0]\n",
    "            tt=0\n",
    "            ttt=0\n",
    "            for i in range(maxOp):\n",
    "                tt += tvec[c,tv,i,n]*l48I.jks[op,i,c,t]*np.exp(energy*t)\n",
    "                tt += tvec[c,tv,i,n]*l48I.jks[i,op,c,t]*np.exp(energy*t)\n",
    "                for j in range(maxOp):\n",
    "                    ttt += tvec[c,tv,i,n]*tvec[c,tv,j,n]*l48I.jks[i,j,c,t]*np.exp(energy*t)\n",
    "            tt /= 2\n",
    "            corr[c,t,n]=tt**2/ttt\n",
    "#plot\n",
    "t=np.arange(0,tmax)\n",
    "#plt.ylim(0,0.012)\n",
    "plt.xlim(3.5,11.5)\n",
    "#plt.yscale('log')\n",
    "for n in range(0,maxOp):\n",
    "    v,err=jack(corr[:,0:tmax,n])\n",
    "    plt.errorbar(t,v,err,marker='o',linestyle='',markersize=3,label='$n=$'+str(maxOp-1-n))\n",
    "    t=t+0.\n",
    "plt.legend()"
   ]
  },
  {
   "cell_type": "markdown",
   "metadata": {},
   "source": [
    "$|\\langle 0 | O_V |n\\rangle|^2=\\frac{(v_{i,n} C_{V,i})^2}{v_{in}v_{j,n}C_{i,j}}$ (see Alpha collaboration paper https://iopscience.iop.org/article/10.1088/1126-6708/2009/04/094/pdf)"
   ]
  },
  {
   "cell_type": "markdown",
   "metadata": {},
   "source": [
    "where $v_{i,n}O_i|0\\rangle = A_n |n\\rangle$, i.e., it creates eigenstate n. $A_n$ is c- number. Assumed Einstein summation convention"
   ]
  },
  {
   "cell_type": "code",
   "execution_count": 16,
   "metadata": {},
   "outputs": [
    {
     "name": "stderr",
     "output_type": "stream",
     "text": [
      "/var/folders/fp/rjrtmzhj03z5kr3pybmmdpn40000gn/T/ipykernel_42208/2292182008.py:21: ComplexWarning: Casting complex values to real discards the imaginary part\n",
      "  corr[c,t,tv-mintv,n]=tt**2/ttt\n"
     ]
    },
    {
     "data": {
      "text/plain": [
       "<matplotlib.legend.Legend at 0x13396b1a0>"
      ]
     },
     "execution_count": 16,
     "metadata": {},
     "output_type": "execute_result"
    },
    {
     "data": {
      "image/png": "[encoded data removed]",
      "text/plain": [
       "<Figure size 640x480 with 1 Axes>"
      ]
     },
     "metadata": {},
     "output_type": "display_data"
    }
   ],
   "source": [
    "mintv=8\n",
    "maxtv=9\n",
    "corr=np.zeros((numDist,numT,maxtv-mintv,maxOp))\n",
    "# local vector:\n",
    "op=5\n",
    "tvec=np.zeros((numDist,NTfold,maxOp-minOp,maxOp-minOp))\n",
    "for c in range(numDist):\n",
    "    tvec = l48I.vec\n",
    "    for t in range(tmin,tmax):\n",
    "        for n in range(maxOp):\n",
    "            energy=fitpars[n,c,0]\n",
    "            for tv in range(mintv,maxtv):\n",
    "                tt=0\n",
    "                ttt=0\n",
    "                for i in range(maxOp):\n",
    "                    tt += tvec[c,tv,i,n]*l48I.jks[op,i,c,t]*np.exp(energy*t)\n",
    "                    tt += tvec[c,tv,i,n]*l48I.jks[i,op,c,t]*np.exp(energy*t)\n",
    "                    for j in range(maxOp):\n",
    "                        ttt += tvec[c,tv,i,n]*tvec[c,tv,j,n]*l48I.jks[i,j,c,t]*np.exp(energy*t)\n",
    "                tt /= 2\n",
    "                corr[c,t,tv-mintv,n]=tt**2/ttt\n",
    "#plot\n",
    "color=['red','blue','green','orange','black']\n",
    "t=np.arange(0,tmax)\n",
    "#plt.ylim(0,0.012)\n",
    "plt.xlim(3.5,13.5)\n",
    "#plt.yscale('log')\n",
    "n=1\n",
    "for tv in range(maxtv-mintv):\n",
    "    v,err=jack(corr[:,0:tmax,tv,n])\n",
    "    plt.errorbar(t,v,err,marker='o',linestyle='',markersize=3,label='$t_v=$'+str(tv+mintv))\n",
    "    t=t+0.1\n",
    "plt.title('$n=$'+str(maxOp-1-n))\n",
    "plt.xlabel('$t$')\n",
    "plt.ylabel('$< 0 |J|n >$')\n",
    "plt.legend()"
   ]
  },
  {
   "cell_type": "code",
   "execution_count": 17,
   "metadata": {},
   "outputs": [],
   "source": [
    "jks_ct=np.load('jks_ct.npy')\n",
    "l48I.jks_ct_all=np.load('jks_ct_all.npy')\n",
    "l48I.jks_lc_ll_ratio=np.load('jks_lc_ll_ratio.npy')"
   ]
  },
  {
   "cell_type": "code",
   "execution_count": 18,
   "metadata": {},
   "outputs": [
    {
     "data": {
      "text/plain": [
       "<matplotlib.legend.Legend at 0x133a0bda0>"
      ]
     },
     "execution_count": 18,
     "metadata": {},
     "output_type": "execute_result"
    },
    {
     "data": {
      "image/png": "[encoded data removed]",
      "text/plain": [
       "<Figure size 640x480 with 1 Axes>"
      ]
     },
     "metadata": {},
     "output_type": "display_data"
    }
   ],
   "source": [
    "# local-local \n",
    "# already folded\n",
    "plt.yscale('log')\n",
    "v,err=jack(jks_ct)\n",
    "plt.errorbar(np.arange(numT/2+1),v,err,marker='o',linestyle='',markersize=1,label='ll')\n",
    "plt.legend()"
   ]
  },
  {
   "cell_type": "code",
   "execution_count": 20,
   "metadata": {},
   "outputs": [
    {
     "data": {
      "image/png": "[encoded data removed]",
      "text/plain": [
       "<Figure size 640x480 with 1 Axes>"
      ]
     },
     "metadata": {},
     "output_type": "display_data"
    }
   ],
   "source": [
    "tv=8\n",
    "recon_corr2=np.zeros((numDist,NTfold))\n",
    "for n in range(maxOp-1,-1,-1):\n",
    "    for t in range (NTfold):\n",
    "        for jk in range (numDist):\n",
    "            recon_corr2[jk,t] += corr[jk,tv,tv-mintv,n] * np.exp(-fitpars[n,jk,0]*t)/jks_ct[jk,t]\n",
    "    v,err=jack(recon_corr2)\n",
    "    plt.errorbar(np.arange(NTfold),v,err,marker='o',linestyle='',markersize=3,label='n='+str(4-n+1))\n",
    "plt.xlim(0,25.5)\n",
    "plt.ylim(0,1.2)\n",
    "plt.hlines(1.0,0,33,linestyle='dashed',color='black',linewidth=0.5)\n",
    "plt.xlabel('t')\n",
    "plt.ylabel('C(t,exclusive)/C(t)')\n",
    "plt.legend()\n",
    "plt.savefig('compare correlators.png')"
   ]
  },
  {
   "cell_type": "code",
   "execution_count": null,
   "metadata": {},
   "outputs": [],
   "source": [
    "plt.yscale('log')\n",
    "v,err=jack(l48I.jks_ct_all)\n",
    "plt.errorbar(np.arange(NTfold+1),v,err,marker='o',linestyle='',markersize=1,label='ll')\n",
    "plt.legend()"
   ]
  },
  {
   "cell_type": "code",
   "execution_count": null,
   "metadata": {
    "scrolled": true
   },
   "outputs": [],
   "source": [
    "# local-conserved to local-local ratio \n",
    "# already folded\n",
    "#plt.yscale('log')\n",
    "plt.ylim(0.5,0.8)\n",
    "plt.xlim(0.0,2.5)\n",
    "v,err=jack(l48I.jks_lc_ll_ratio)\n",
    "plt.errorbar(np.arange(NTfold+1)*afm,v,err,marker='o',linestyle='',markersize=2,label='ll')\n",
    "plt.legend()"
   ]
  },
  {
   "cell_type": "code",
   "execution_count": null,
   "metadata": {},
   "outputs": [],
   "source": [
    "SuperJackSize=l48I.jks_ct_all.shape[0]\n",
    "gevpList=[1000,1080,1200,1280,1360,1440,1520,1600,1680,1760,1840,1960,2040,2160,1040,1160,1240,1320,1400,1480,1560,1640,1720,1800,1880,2000,2080]\n",
    "print(len(gevpList))\n",
    "print(SuperJackSize)"
   ]
  },
  {
   "cell_type": "code",
   "execution_count": null,
   "metadata": {},
   "outputs": [],
   "source": [
    "corrList=[\n",
    "640,\n",
    "680,\n",
    "720,\n",
    "740,\n",
    "760,\n",
    "780,\n",
    "800,\n",
    "820,\n",
    "840,\n",
    "860,\n",
    "880,\n",
    "900,\n",
    "920,\n",
    "940,\n",
    "960,\n",
    "975,\n",
    "985,\n",
    "980,\n",
    "990,\n",
    "995,\n",
    "1000,\n",
    "1002,\n",
    "1005,\n",
    "1007,\n",
    "1010,\n",
    "1012,\n",
    "1015,\n",
    "1017,\n",
    "1020,\n",
    "1022,\n",
    "1025,\n",
    "1027,\n",
    "1030,\n",
    "1032,\n",
    "1035,\n",
    "1037,\n",
    "1040,\n",
    "1042,\n",
    "1045,\n",
    "1047,\n",
    "1050,\n",
    "1052,\n",
    "1055,\n",
    "1057,\n",
    "1060,\n",
    "1062,\n",
    "1065,\n",
    "1067,\n",
    "1070,\n",
    "1072,\n",
    "1075,\n",
    "1077,\n",
    "1080,\n",
    "1082,\n",
    "1085,\n",
    "1087,\n",
    "1090,\n",
    "1092,\n",
    "1095,\n",
    "1097,\n",
    "1100,\n",
    "1102,\n",
    "1105,\n",
    "1107,\n",
    "1110,\n",
    "1112,\n",
    "1115,\n",
    "1117,\n",
    "1120,\n",
    "1122,\n",
    "1125,\n",
    "1127,\n",
    "1130,\n",
    "1132,\n",
    "1135,\n",
    "1137,\n",
    "1140,\n",
    "1142,\n",
    "1145,\n",
    "1147,\n",
    "1150,\n",
    "1152,\n",
    "1155,\n",
    "1157,\n",
    "1160,\n",
    "1162,\n",
    "1165,\n",
    "1167,\n",
    "1170,\n",
    "1172,\n",
    "1175,\n",
    "1177,\n",
    "1180,\n",
    "1182,\n",
    "1185,\n",
    "1187,\n",
    "1190,\n",
    "1192,\n",
    "1195,\n",
    "1197,\n",
    "1200,\n",
    "1202,\n",
    "1205,\n",
    "1207,\n",
    "1210,\n",
    "1212,\n",
    "1215,\n",
    "1217,\n",
    "1220,\n",
    "1222,\n",
    "1225,\n",
    "1227,\n",
    "1230,\n",
    "1232,\n",
    "1235,\n",
    "1237,\n",
    "1240,\n",
    "1242,\n",
    "1245,\n",
    "1247,\n",
    "1250,\n",
    "1252,\n",
    "1255,\n",
    "1257,\n",
    "1260,\n",
    "1262,\n",
    "1265,\n",
    "1267,\n",
    "1270,\n",
    "1272,\n",
    "1275,\n",
    "1277,\n",
    "1280,\n",
    "1282,\n",
    "1285,\n",
    "1287,\n",
    "1290,\n",
    "1292,\n",
    "1295,\n",
    "1297,\n",
    "1300,\n",
    "1302,\n",
    "1305,\n",
    "1307,\n",
    "1310,\n",
    "1312,\n",
    "1315,\n",
    "1317,\n",
    "1320,\n",
    "1322,\n",
    "1325,\n",
    "1327,\n",
    "1330,\n",
    "1332,\n",
    "1335,\n",
    "1337,\n",
    "1340,\n",
    "1342,\n",
    "1345,\n",
    "1347,\n",
    "1350,\n",
    "1352,\n",
    "1355,\n",
    "1357,\n",
    "1360,\n",
    "1362,\n",
    "1365,\n",
    "1367,\n",
    "1370,\n",
    "1375,\n",
    "1377,\n",
    "1380,\n",
    "1385,\n",
    "1387,\n",
    "1390,\n",
    "1395,\n",
    "1397,\n",
    "1400,\n",
    "1405,\n",
    "1407,\n",
    "1410,\n",
    "1415,\n",
    "1417,\n",
    "1420,\n",
    "1425,\n",
    "1427,\n",
    "1430,\n",
    "1435,\n",
    "1437,\n",
    "1440,\n",
    "1445,\n",
    "1447,\n",
    "1450,\n",
    "1455,\n",
    "1457,\n",
    "1460,\n",
    "1465,\n",
    "1467,\n",
    "1470,\n",
    "1475,\n",
    "1477,\n",
    "1480,\n",
    "1485,\n",
    "1487,\n",
    "1490,\n",
    "1495,\n",
    "1497,\n",
    "1500,\n",
    "1505,\n",
    "1507,\n",
    "1510,\n",
    "1515,\n",
    "1517,\n",
    "1520,\n",
    "1525,\n",
    "1527,\n",
    "1530,\n",
    "1535,\n",
    "1537,\n",
    "1540,\n",
    "1545,\n",
    "1547,\n",
    "1550,\n",
    "1555,\n",
    "1557,\n",
    "1560,\n",
    "1565,\n",
    "1567,\n",
    "1570,\n",
    "1575,\n",
    "1577,\n",
    "1580,\n",
    "1585,\n",
    "1587,\n",
    "1590,\n",
    "1595,\n",
    "1597,\n",
    "1600,\n",
    "1605,\n",
    "1607,\n",
    "1610,\n",
    "1615,\n",
    "1617,\n",
    "1620,\n",
    "1625,\n",
    "1627,\n",
    "1630,\n",
    "1635,\n",
    "1637,\n",
    "1640,\n",
    "1645,\n",
    "1647,\n",
    "1650,\n",
    "1655,\n",
    "1657,\n",
    "1660,\n",
    "1665,\n",
    "1667,\n",
    "1670,\n",
    "1675,\n",
    "1677,\n",
    "1680,\n",
    "1685,\n",
    "1687,\n",
    "1690,\n",
    "1695,\n",
    "1697,\n",
    "1700,\n",
    "1705,\n",
    "1707,\n",
    "1710,\n",
    "1715,\n",
    "1717,\n",
    "1720,\n",
    "1725,\n",
    "1727,\n",
    "1730,\n",
    "1735,\n",
    "1737,\n",
    "1740,\n",
    "1745,\n",
    "1747,\n",
    "1750,\n",
    "1755,\n",
    "1757,\n",
    "1760,\n",
    "1765,\n",
    "1767,\n",
    "1770,\n",
    "1775,\n",
    "1777,\n",
    "1780,\n",
    "1785,\n",
    "1787,\n",
    "1790,\n",
    "1795,\n",
    "1797,\n",
    "1800,\n",
    "1805,\n",
    "1807,\n",
    "1810,\n",
    "1815,\n",
    "1817,\n",
    "1820,\n",
    "1825,\n",
    "1827,\n",
    "1830,\n",
    "1835,\n",
    "1837,\n",
    "1840,\n",
    "1845,\n",
    "1847,\n",
    "1850,\n",
    "1855,\n",
    "1857,\n",
    "1860,\n",
    "1865,\n",
    "1870,\n",
    "1875,\n",
    "1877,\n",
    "1880,\n",
    "1885,\n",
    "1887,\n",
    "1890,\n",
    "1895,\n",
    "1897,\n",
    "1900,\n",
    "1905,\n",
    "1907,\n",
    "1910,\n",
    "1915,\n",
    "1917,\n",
    "1920,\n",
    "1925,\n",
    "1927,\n",
    "1930,\n",
    "1935,\n",
    "1940,\n",
    "1945,\n",
    "1950,\n",
    "1955,\n",
    "1960,\n",
    "1965,\n",
    "1970,\n",
    "1975,\n",
    "1980,\n",
    "1985,\n",
    "1990,\n",
    "1995,\n",
    "2000,\n",
    "2005,\n",
    "2010,\n",
    "2015,\n",
    "2020,\n",
    "2025,\n",
    "2030,\n",
    "2035,\n",
    "2040,\n",
    "2045,\n",
    "2050,\n",
    "2055,\n",
    "2060,\n",
    "2065,\n",
    "2070,\n",
    "2075,\n",
    "2080,\n",
    "2085,\n",
    "2090,\n",
    "2095,\n",
    "2100,\n",
    "2105,\n",
    "2110,\n",
    "2115,\n",
    "2120,\n",
    "2125,\n",
    "2130,\n",
    "2135,\n",
    "2140,\n",
    "2145,\n",
    "2150,\n",
    "2155,\n",
    "2160,\n",
    "2165,\n",
    "2175,\n",
    "2185,\n",
    "2195]\n",
    "print(len(corrList))"
   ]
  },
  {
   "cell_type": "code",
   "execution_count": null,
   "metadata": {
    "scrolled": true
   },
   "outputs": [],
   "source": [
    "l48I.recon_corr=np.zeros((SuperJackSize,NTfold+1,maxtv-mintv))\n",
    "for tv in range(mintv,maxtv):\n",
    "    ttv=tv-mintv\n",
    "    recon_corr=np.zeros((numDist,NTfold+1))\n",
    "    for t in range (NTfold+1):\n",
    "        temp_corr=np.zeros(numDist)\n",
    "        for j in range (numDist):\n",
    "            for n in range(maxOp-1,-1,-1):\n",
    "                temp_corr[j] += corr[j,tv,ttv,n] * np.exp(-fitpars[n,j,0]*t)\n",
    "            recon_corr[j,t]=temp_corr[j]\n",
    "    avg=np.average(recon_corr,axis=0)\n",
    "    for j in range(SuperJackSize):\n",
    "        l48I.recon_corr[j,:,ttv]=avg\n",
    "    n=0\n",
    "    for num in corrList:\n",
    "        m=0\n",
    "        for num2 in gevpList:\n",
    "            if num==num2:\n",
    "                l48I.recon_corr[n,:,ttv]=recon_corr[m]\n",
    "            m+=1\n",
    "        n+=1"
   ]
  },
  {
   "cell_type": "markdown",
   "metadata": {},
   "source": [
    "### LD part of $a_\\mu$"
   ]
  },
  {
   "cell_type": "code",
   "execution_count": null,
   "metadata": {},
   "outputs": [],
   "source": [
    "# compute amu for two light flavors with q=2/3, -1/3\n",
    "# for all t using original C(t)\n",
    "# and do superjack\n",
    "l48I.amuRec=np.zeros(l48I.recon_corr.shape)\n",
    "l48I.wt=np.zeros((SuperJackSize,l48I.recon_corr.shape[1]))\n",
    "fact = 2*4*5/9*alphaQED**2*10**10\n",
    "for t in range(NTfold+1):\n",
    "    n=0\n",
    "    for j in range(SuperJackSize):\n",
    "        mmu=muon_mass/ainv\n",
    "        # the QED kernel in euclidean time\n",
    "        l48I.wt[j,t] = quad(lambda x: ((np.cos(np.sqrt(x)*t)-1)/x+0.5*t**2)*fqed(x,mmu), 0, np.inf)[0]\n",
    "        l48I.amuRec[j,t]= l48I.recon_corr[j,t] * l48I.wt[j,t] * Theta(t*afm,1.0)\n",
    "        l48I.amuRec[j,t] *= Zv**2\n",
    "l48I.amuRec *= fact"
   ]
  },
  {
   "cell_type": "code",
   "execution_count": null,
   "metadata": {},
   "outputs": [],
   "source": [
    "# compute amu for two light flavors with q=2/3, -1/3\n",
    "# for all t using original C(t)\n",
    "# and do superjack\n",
    "l48I.amuOrig=np.zeros((SuperJackSize,l48I.jks_ct_all.shape[1]))\n",
    "fact = 2*4*5/9*alphaQED**2*10**10\n",
    "for t in range(NTfold+1):\n",
    "    for j in range(SuperJackSize):\n",
    "        mmu=muon_mass/ainv\n",
    "        l48I.amuOrig[j,t]= l48I.jks_ct_all[j,t] * l48I.wt[j,t] * Theta(t*afm,1.0)\n",
    "        l48I.amuOrig[j,t] *= Zv**2\n",
    "l48I.amuOrig *= fact"
   ]
  },
  {
   "cell_type": "code",
   "execution_count": null,
   "metadata": {
    "scrolled": true
   },
   "outputs": [],
   "source": [
    "plt.xlabel('$t$')\n",
    "plt.ylabel('$C$(t)$w$(t)')\n",
    "plt.ylim(0,170)\n",
    "val,err=jack(l48I.amuOrig)\n",
    "plt.errorbar(np.arange(NTfold+1),val,err,color='orange',marker='o',linestyle='',markersize=1,label='original')\n",
    "for tv in range(1):\n",
    "    val,err=jack(l48I.amuRec[:,:,tv])\n",
    "    plt.errorbar(np.arange(NTfold+1),val,err,color='blue',marker='o',linestyle='',markersize=1,label='reconstructed tv '+str(tv+mintv))\n",
    "plt.legend()\n",
    "plt.savefig('scratch/48I_summand.pdf')"
   ]
  },
  {
   "cell_type": "code",
   "execution_count": null,
   "metadata": {},
   "outputs": [],
   "source": [
    "# compute amu for two light flavors with q=2/3, -1/3\n",
    "l48I.sum=np.zeros(l48I.amuRec.shape)\n",
    "for tv in range(1):\n",
    "    for t in range(NTfold):\n",
    "        for t2 in range(t+1):\n",
    "            l48I.sum[:,t,tv] += l48I.amuOrig[:,t2]\n",
    "        for t2 in range(t+1,int(numT/2+1)):\n",
    "            l48I.sum[:,t,tv] += l48I.amuRec[:,t2,tv]\n",
    "\n",
    "for tv in range(1):\n",
    "    val,err=jack(l48I.sum[:,16,tv])\n",
    "    plt.errorbar(tv+mintv,val,err,color='blue',marker='o',linestyle='',markersize=3,label='reconstructed')\n",
    "plt.ylim(1460,1580)\n",
    "plt.xlim(3,15)\n",
    "plt.xlabel('t overlap')"
   ]
  }
 ],
 "metadata": {
  "kernelspec": {
   "display_name": "python3.12",
   "language": "python",
   "name": "python3.12"
  },
  "language_info": {
   "codemirror_mode": {
    "name": "ipython",
    "version": 3
   },
   "file_extension": ".py",
   "mimetype": "text/x-python",
   "name": "python",
   "nbconvert_exporter": "python",
   "pygments_lexer": "ipython3",
   "version": "3.12.7"
  },
  "latex_envs": {
   "LaTeX_envs_menu_present": true,
   "autoclose": false,
   "autocomplete": true,
   "bibliofile": "biblio.bib",
   "cite_by": "apalike",
   "current_citInitial": 1,
   "eqLabelWithNumbers": true,
   "eqNumInitial": 1,
   "hotkeys": {
    "equation": "Ctrl-E",
    "itemize": "Ctrl-I"
   },
   "labels_anchors": false,
   "latex_user_defs": false,
   "report_style_numbering": false,
   "user_envs_cfg": false
  },
  "toc": {
   "base_numbering": 1,
   "nav_menu": {
    "height": "11.6667px",
    "width": "164px"
   },
   "number_sections": true,
   "sideBar": true,
   "skip_h1_title": true,
   "title_cell": "Table of Contents",
   "title_sidebar": "Contents",
   "toc_cell": false,
   "toc_position": {
    "height": "192.833px",
    "left": "674px",
    "top": "110.633px",
    "width": "165px"
   },
   "toc_section_display": true,
   "toc_window_display": true
  }
 },
 "nbformat": 4,
 "nbformat_minor": 4
}
