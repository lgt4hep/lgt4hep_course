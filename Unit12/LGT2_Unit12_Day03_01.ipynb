{
 "cells": [
  {
   "cell_type": "markdown",
   "metadata": {},
   "source": [
    "# HVP and g-2 in the time-momentum representation with staggered (HISQ) fermions"
   ]
  },
  {
   "cell_type": "code",
   "execution_count": 1,
   "metadata": {},
   "outputs": [
    {
     "data": {
      "application/javascript": [
       "IPython.notebook.set_autosave_interval(60000)"
      ]
     },
     "metadata": {},
     "output_type": "display_data"
    },
    {
     "name": "stdout",
     "output_type": "stream",
     "text": [
      "Autosaving every 60 seconds\n"
     ]
    }
   ],
   "source": [
    "import sys\n",
    "import re\n",
    "import os\n",
    "import fnmatch\n",
    "import glob\n",
    "import h5py\n",
    "import numpy as np\n",
    "import matplotlib.pyplot as plt\n",
    "user=os.environ['USER']\n",
    "%autosave 60"
   ]
  },
  {
   "cell_type": "markdown",
   "metadata": {},
   "source": [
    "## Utils"
   ]
  },
  {
   "cell_type": "code",
   "execution_count": 2,
   "metadata": {},
   "outputs": [],
   "source": [
    "def jackblocks(data,jacks,omit):\n",
    "    #loop over timeslices\n",
    "    nconf=data.shape[0]\n",
    "    nt=data.shape[1]\n",
    "    norm=1.0/(nconf-1-len(omit))\n",
    "    print('omitting '+str(len(omit))+' of '+str(nconf)+' configs')\n",
    "    for j in range(0,nt):\n",
    "        #\n",
    "        # sum over configs\n",
    "        #\n",
    "        sum=0.0\n",
    "        for i in range(0,nconf):\n",
    "            if i not in omit:\n",
    "                sum = sum + data[i,j]\n",
    "        #\n",
    "        # contruct jacks for time slice j\n",
    "        #\n",
    "        n=0\n",
    "        for i in range(0,nconf):\n",
    "            if i not in omit:\n",
    "                jacks[n,j] = sum-data[i,j]\n",
    "                jacks[n,j] *= norm\n",
    "                n=n+1\n",
    "# compute avg and jacknife error from a vector of jacknife blocks\n",
    "def jack(vec):\n",
    "    n=vec.shape[0]\n",
    "    avg=0.0\n",
    "    # compute average\n",
    "    for i in range(0,n):\n",
    "        avg+=vec[i]\n",
    "    avg = avg/n\n",
    "    # compute error\n",
    "    err=0.0\n",
    "    for i in range(0,n):\n",
    "        err+=(vec[i]-avg)*(vec[i]-avg)\n",
    "    err *= (n-1)/n\n",
    "    err = np.sqrt(err)\n",
    "    #print(f'{n} blocks, avg+-err= {avg:.4e} +- {err:.4e}')\n",
    "    return avg, err\n",
    "\n",
    "\n",
    "def plot_integrand(name, jks, use_ainv=1):\n",
    "    # outer loop over T, time to integrate up to in bounding method\n",
    "    # get num jk blks and time size\n",
    "    num_blks = jks.shape[0]\n",
    "    time_size = int(jks.shape[1]/2+1)\n",
    "    if use_ainv==1: # gev-1\n",
    "        myainv = ainv\n",
    "        plt.xlim(0,time_size/myainv)\n",
    "        plt.xlabel('t (GeV$^{-1}$)')\n",
    "    elif use_ainv==0: #lattice units\n",
    "        myainv=1\n",
    "        plt.xlabel('t/a')\n",
    "        plt.xlim(0,time_size)\n",
    "    else : #fm\n",
    "        myainv=1/w0\n",
    "        plt.xlim(0,time_size*w0)\n",
    "        plt.xlabel('t (fm)')\n",
    "    #plt.ylim(-10,100)\n",
    "    #plt.title(name)\n",
    "    plt.ylabel('$w$(t)$C$(t)')\n",
    "    plt.tight_layout()\n",
    "\n",
    "    corrL = np.zeros((num_blks,time_size))\n",
    "    for t in range (1,time_size): \n",
    "        for n in range (num_blks):\n",
    "            corrL[n][t] = 5*0.5*(jks[n][t]+jks[n][NT-t])*wt[t]\n",
    "\n",
    "    for t in range(0,time_size-1):\n",
    "        tt=corrL[...,t]\n",
    "        y[t],yerr[t]=jack(tt)\n",
    "        x[t]=t\n",
    "    plt.errorbar(x/myainv,y/16*ainv,yerr/16*ainv,label=name,marker='o',markersize=2.5,linestyle='')\n",
    "    plt.axhline(0)\n",
    "\n",
    "    plt.savefig(name+\"amu-integrand.pdf\")"
   ]
  },
  {
   "cell_type": "markdown",
   "metadata": {},
   "source": [
    "## Global Parameters"
   ]
  },
  {
   "cell_type": "code",
   "execution_count": 3,
   "metadata": {},
   "outputs": [],
   "source": [
    "fm = 1/0.1973269804"
   ]
  },
  {
   "cell_type": "markdown",
   "metadata": {},
   "source": [
    "## $64^3$"
   ]
  },
  {
   "cell_type": "markdown",
   "metadata": {},
   "source": [
    "### Input params"
   ]
  },
  {
   "cell_type": "code",
   "execution_count": 4,
   "metadata": {},
   "outputs": [
    {
     "name": "stdout",
     "output_type": "stream",
     "text": [
      "lattice spacing, error (fm)= 0.0878676093862076 0.00046218839138563174\n",
      "a(GeV)= 0.4452893831755387 , Nconf= 78\n"
     ]
    }
   ],
   "source": [
    "w0oa=1.95180\n",
    "w0=0.1715/w0oa\n",
    "dw0oa=0.00070\n",
    "da=0.1715/w0oa*(0.0009**2/0.1715**2+dw0oa**2/w0oa**2)**0.5\n",
    "print('lattice spacing, error (fm)=',w0,da)\n",
    "w0m=w0 -da\n",
    "\n",
    "NT=96\n",
    "NS=64\n",
    "mpi=0.1295\n",
    "ainv = 1/w0/fm\n",
    "\n",
    "# read QED kernel w(t) generated in mathematica\n",
    "wt_file = open(r\"64c/wt\",\"r\")\n",
    "# for folded time extent, i.e. include t=96\n",
    "wt=np.zeros(int(NT/2+1))\n",
    "for t in range (int(NT/2+1)):\n",
    "    wt[t] = float(wt_file.readline())\n",
    "\n",
    "cstart={'h':500,'r':100,'s':100}\n",
    "cend={'h':4300,'r':2600,'s':1600}\n",
    "cinc=100\n",
    "omit=[]\n",
    "Nconf=0\n",
    "for series in cstart:\n",
    "    Nconf+=int((cend[series]-cstart[series])/cinc)\n",
    "print(\"a(GeV)=\",1/ainv, ', Nconf=', Nconf)"
   ]
  },
  {
   "cell_type": "code",
   "execution_count": 5,
   "metadata": {},
   "outputs": [],
   "source": [
    "clma=np.load('corrLma_jks.npy')\n",
    "clmasub=np.load('corrLmaSub_jks.npy')\n",
    "capprox=np.load('corrApprox_jks.npy')\n",
    "cexact=np.load('corrExact_jks.npy')\n",
    "csub=np.load('corrSub_jks.npy')"
   ]
  },
  {
   "cell_type": "code",
   "execution_count": 6,
   "metadata": {},
   "outputs": [],
   "source": [
    "corrtot_jk_blks = capprox+cexact-csub+clma-clmasub"
   ]
  },
  {
   "cell_type": "code",
   "execution_count": 8,
   "metadata": {
    "scrolled": false
   },
   "outputs": [
    {
     "data": {
      "text/plain": [
       "<matplotlib.legend.Legend at 0x11bbb57f0>"
      ]
     },
     "execution_count": 8,
     "metadata": {},
     "output_type": "execute_result"
    },
    {
     "data": {
      "image/png": "[encoded data removed]",
      "text/plain": [
       "<Figure size 640x480 with 1 Axes>"
      ]
     },
     "metadata": {},
     "output_type": "display_data"
    }
   ],
   "source": [
    "#plt.rc('axes', labelsize=20)\n",
    "plt.ylim(1e-8,1e-1)\n",
    "plt.xlim(0,NT/2)\n",
    "plt.yscale(\"log\")\n",
    "plt.xlabel('t/a')\n",
    "plt.ylabel('C(t/a)')\n",
    "plt.tight_layout()\n",
    "\n",
    "x=np.zeros(NT)\n",
    "y=np.zeros(NT)\n",
    "yerr=np.zeros(NT)\n",
    "for t in range(0,NT):\n",
    "    tt=corrtot_jk_blks[...,t]\n",
    "    y[t],yerr[t]=jack(tt)\n",
    "    x[t]=t\n",
    "plt.errorbar(x,y,yerr,linestyle='',linewidth=1,marker='o',markersize=2,label='total')\n",
    "for t in range(0,NT):\n",
    "    tt=clma[...,t]\n",
    "    y[t],yerr[t]=jack(tt)\n",
    "    x[t]=t\n",
    "plt.errorbar(x,y,yerr,linestyle='',linewidth=1,marker='o',markersize=2,label='LL')\n",
    "plt.legend()"
   ]
  },
  {
   "cell_type": "markdown",
   "metadata": {},
   "source": [
    "### full $a_\\mu$ integrand"
   ]
  },
  {
   "cell_type": "code",
   "execution_count": 9,
   "metadata": {
    "scrolled": false
   },
   "outputs": [
    {
     "data": {
      "text/plain": [
       "<matplotlib.legend.Legend at 0x1178e0140>"
      ]
     },
     "execution_count": 9,
     "metadata": {},
     "output_type": "execute_result"
    },
    {
     "data": {
      "image/png": "[encoded data removed]",
      "text/plain": [
       "<Figure size 640x480 with 1 Axes>"
      ]
     },
     "metadata": {},
     "output_type": "display_data"
    }
   ],
   "source": [
    "plot_integrand('64c total',corrtot_jk_blks,0)\n",
    "plot_integrand('64c LL',clma,0)\n",
    "#plot_integrand('64c Exact',cexact,0)\n",
    "plot_integrand('64c Approx',capprox,0)\n",
    "plt.ylim(-10,90)\n",
    "plt.legend()"
   ]
  },
  {
   "cell_type": "markdown",
   "metadata": {},
   "source": [
    "### windows"
   ]
  },
  {
   "cell_type": "markdown",
   "metadata": {},
   "source": [
    "1. Implement the window step function and repeat the above plot for the $t_1=0.4$ fm SD window and the 0.4-1 fm ID windows "
   ]
  },
  {
   "cell_type": "markdown",
   "metadata": {},
   "source": [
    "2. Compute the corresponding values for $a_\\mu$"
   ]
  }
 ],
 "metadata": {
  "kernelspec": {
   "display_name": "python3.12",
   "language": "python",
   "name": "python3.12"
  },
  "language_info": {
   "codemirror_mode": {
    "name": "ipython",
    "version": 3
   },
   "file_extension": ".py",
   "mimetype": "text/x-python",
   "name": "python",
   "nbconvert_exporter": "python",
   "pygments_lexer": "ipython3",
   "version": "3.12.7"
  },
  "latex_envs": {
   "LaTeX_envs_menu_present": true,
   "autoclose": false,
   "autocomplete": true,
   "bibliofile": "biblio.bib",
   "cite_by": "apalike",
   "current_citInitial": 1,
   "eqLabelWithNumbers": true,
   "eqNumInitial": 1,
   "hotkeys": {
    "equation": "Ctrl-E",
    "itemize": "Ctrl-I"
   },
   "labels_anchors": false,
   "latex_user_defs": false,
   "report_style_numbering": false,
   "user_envs_cfg": false
  },
  "toc": {
   "base_numbering": 1,
   "nav_menu": {
    "height": "11.6667px",
    "width": "164px"
   },
   "number_sections": true,
   "sideBar": true,
   "skip_h1_title": true,
   "title_cell": "Table of Contents",
   "title_sidebar": "Contents",
   "toc_cell": false,
   "toc_position": {
    "height": "192.833px",
    "left": "674px",
    "top": "110.633px",
    "width": "222.333px"
   },
   "toc_section_display": true,
   "toc_window_display": true
  }
 },
 "nbformat": 4,
 "nbformat_minor": 2
}
