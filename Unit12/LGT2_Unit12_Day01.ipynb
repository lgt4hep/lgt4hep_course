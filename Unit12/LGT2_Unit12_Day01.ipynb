{
 "cells": [
  {
   "cell_type": "markdown",
   "id": "12c546c9-b531-4b49-9f09-4f84e0b746a9",
   "metadata": {
    "id": "12c546c9-b531-4b49-9f09-4f84e0b746a9"
   },
   "source": [
    "# LGT2 Unit12 Day 01 - Introduction to the muon g-2\n",
    "### <p style=\"text-align: right;\"> &#9989; Blum</p>"
   ]
  },
  {
   "cell_type": "markdown",
   "id": "e8038f13-ffd8-4e92-b455-7b63eebb3481",
   "metadata": {
    "id": "e8038f13-ffd8-4e92-b455-7b63eebb3481"
   },
   "source": [
    "---\n",
    "## Goals of this assignment\n",
    "\n",
    "The goals of this assignment are:\n",
    "\n",
    "* Develop theory framework for the anomalous magnetic moment\n",
    "\n",
    "## Assignment instructions\n",
    "\n",
    "Work with your group to complete this assignment. Upload the assignment to each university's assignement system at the end of class.\n",
    "The class has a diverse background of students with different expertise; if the topic aligned well with your research topic, help the instructor to guide other students who are learning about these topics for the very first time. There will be classes that others are the experts and can return the favor.\n",
    "**Make sure everyone's name is listed in everyone's notebook before moving on**"
   ]
  },
  {
   "cell_type": "markdown",
   "id": "b7ec8ecb-b69c-4772-84b2-ea0fc3c45b05",
   "metadata": {
    "id": "b7ec8ecb-b69c-4772-84b2-ea0fc3c45b05"
   },
   "source": [
    "---\n",
    "# Problem 1\n",
    "Using Lorentz symmetry and the Ward identity (charge conservation), show the most general vertex function for the muon scattering off of a photon can be written in terms of two form-factors,\n",
    "$$\n",
    "\\Gamma_\\rho = \\gamma_\\rho F_1(q^2) + \\frac{i}{4 m_\\mu}\\left(\\gamma_\\rho \\slash q-\\slash{q}\\gamma_\\rho\\right) F_2(q^2),\n",
    "$$\n",
    "where $q=p_2-p_1$ is the momentum transfered by the photon to the muon. You may find that a text book on quantum field theory, like Peskin and Schroeder or Schwartz are useful. The Gordon identity is also handy. Be sure to fill in all the steps."
   ]
  },
  {
   "cell_type": "markdown",
   "id": "be06eb59",
   "metadata": {
    "id": "b7ec8ecb-b69c-4772-84b2-ea0fc3c45b05"
   },
   "source": [
    "---\n",
    "# Problem 2\n",
    "Do the integral in Eq. 3 of Blum 2002 and show you get $\\frac{\\alpha}{2\\pi}$, the result Schwinger found more than 75 years ago. You may use Mathematica, or Python, or your favorite tool for integration."
   ]
  },
  {
   "cell_type": "markdown",
   "id": "6f9defcc",
   "metadata": {
    "id": "b7ec8ecb-b69c-4772-84b2-ea0fc3c45b05"
   },
   "source": [
    "---\n",
    "# Problem 3\n",
    "Take the $q^2\\to0$ limit of the vertex function in Problem 1., sandwiched between on-shell spinors, and show you recover the non-relativistic interaction of an elementary, spin-1/2 particle, with an external magnetic field. In particular, show that the Lande g-factor is given by the following:\n",
    "$$\n",
    "g=2+2F_2(0)\n",
    "$$\n",
    "Again, Peskin and Schroeder or Schwartz will be helpful and make sure you show all the steps."
   ]
  },
  {
   "cell_type": "markdown",
   "id": "B4N_DLQQs5wH",
   "metadata": {
    "id": "B4N_DLQQs5wH"
   },
   "source": [
    "----\n",
    "# More perturbation theory (optional, for experts)\n",
    "\n",
    "Using Eq. 3 in Blum 2002 and the renormalized vacuum polarization in QED, compute the $O(\\alpha^2)$ vacuum polarization contribution to the muon g-2."
   ]
  },
  {
   "cell_type": "markdown",
   "id": "21TmbdwDtSsV",
   "metadata": {
    "id": "21TmbdwDtSsV"
   },
   "source": [
    "---\n",
    "# Assignment Wrap-up\n",
    "\n",
    "Please upload and/or share your in-class assignement according to your university lead-faculty's instruction."
   ]
  }
 ],
 "metadata": {
  "colab": {
   "provenance": []
  },
  "kernelspec": {
   "display_name": "Python 3 (ipykernel)",
   "language": "python",
   "name": "python3"
  },
  "language_info": {
   "codemirror_mode": {
    "name": "ipython",
    "version": 3
   },
   "file_extension": ".py",
   "mimetype": "text/x-python",
   "name": "python",
   "nbconvert_exporter": "python",
   "pygments_lexer": "ipython3",
   "version": "3.11.10"
  },
  "toc": {
   "base_numbering": 1,
   "nav_menu": {},
   "number_sections": true,
   "sideBar": true,
   "skip_h1_title": false,
   "title_cell": "Table of Contents",
   "title_sidebar": "Contents",
   "toc_cell": false,
   "toc_position": {},
   "toc_section_display": true,
   "toc_window_display": false
  }
 },
 "nbformat": 4,
 "nbformat_minor": 5
}
