{
 "cells": [
  {
   "cell_type": "markdown",
   "id": "24501303-0c9e-4037-b4e0-464c9c018245",
   "metadata": {},
   "source": [
    "## LGT1 Unit 3 Day 12"
   ]
  },
  {
   "cell_type": "markdown",
   "id": "085114a7-7c2f-4942-b37f-c2a0e46b9896",
   "metadata": {},
   "source": [
    "Today we are going to use the Grid Python Toolkit(gpt) library by Cristoph Lehner to investigate Wilson fermions, mass fine tuning, and fermion correlation functions. \n",
    "\n",
    "Just to write them here, the parts which require you to fill something out are \n",
    " - Write the kinetic term of the Wilson Dirac operator\n",
    " - calculate the pion correlator, and plot the effective mass of the pion\n",
    " - Using the data for the input quark masses and the calculated effective pion masses, calculate the critical mass by a linear fit of the data\n",
    "\n",
    "If there ever is the need to use a built in gpt function, I will tell you what it is and what its arguments are."
   ]
  },
  {
   "cell_type": "code",
   "execution_count": 1,
   "id": "e127c909-7112-40f2-b820-37304bab18ae",
   "metadata": {},
   "outputs": [],
   "source": [
    "import gpt as g\n",
    "import numpy as np\n",
    "import matplotlib.pyplot as plt"
   ]
  },
  {
   "cell_type": "markdown",
   "id": "19f0ec66-bf39-4e2c-b047-0931c749f3ba",
   "metadata": {
    "jp-MarkdownHeadingCollapsed": true
   },
   "source": [
    "### Configuration generation"
   ]
  },
  {
   "cell_type": "markdown",
   "id": "138d117f-987a-4d4f-94c4-373fc39446de",
   "metadata": {},
   "source": [
    "Run this cell to create a 8c32 configuration to use for today's exercise"
   ]
  },
  {
   "cell_type": "code",
   "execution_count": 3,
   "id": "b47a66fe-125d-4c63-97a9-116e1934ea26",
   "metadata": {},
   "outputs": [
    {
     "name": "stdout",
     "output_type": "stream",
     "text": [
      "GPT :      10.195157 s : Initializing gpt.random(test,vectorized_ranlux24_24_64) took 0.000302792 s\n",
      "GPT :      10.275601 s : SU(2)-subgroup heatbath 0 has P = 1.0\n",
      "GPT :      24.304476 s : SU(2)-subgroup heatbath 50 has P = 0.5016584396362305\n",
      "GPT :      44.523818 s : SU(2)-subgroup heatbath 100 has P = 0.49897437625461155\n",
      "GPT :      68.482410 s : SU(2)-subgroup heatbath 150 has P = 0.49731948640611434\n",
      "GPT :      83.901509 s : SU(2)-subgroup heatbath 200 has P = 0.49608691533406574\n",
      "GPT :     105.138474 s : SU(2)-subgroup heatbath 250 has P = 0.4999668863084581\n",
      "GPT :     123.820985 s : SU(2)-subgroup heatbath 300 has P = 0.49857166078355575\n",
      "GPT :     123.826647 s : Switching view to [1,1,1,1]/Write\n",
      "GPT :     123.839345 s : Wrote 0.00109863 GB at 0.0863957 GB/s (0.111668 GB/s for distribution, 1.80777 GB/s for checksum, 1.51979 GB/s for writing, 1 views per node)\n",
      "GPT :     123.845089 s : Wrote 0.00109863 GB at 0.225352 GB/s (0.861469 GB/s for distribution, 0.377272 GB/s for checksum, 1.67747 GB/s for writing, 1 views per node)\n",
      "GPT :     123.849600 s : Wrote 0.00109863 GB at 0.28874 GB/s (0.512456 GB/s for distribution, 1.12941 GB/s for checksum, 1.67199 GB/s for writing, 1 views per node)\n",
      "GPT :     123.853462 s : Wrote 0.00109863 GB at 0.339448 GB/s (1.36898 GB/s for distribution, 1.26837 GB/s for checksum, 0.715195 GB/s for writing, 1 views per node)\n",
      "GPT :     123.857037 s : Completed writing 8c32_5.5/su3.300 in 0.0344272 s\n",
      "GPT :     140.694809 s : SU(2)-subgroup heatbath 350 has P = 0.49755059348212344\n",
      "GPT :     140.696086 s : Switching view to [1,1,1,1]/Write\n",
      "GPT :     140.710127 s : Wrote 0.00109863 GB at 0.0782223 GB/s (0.0984615 GB/s for distribution, 2.02372 GB/s for checksum, 1.63115 GB/s for writing, 1 views per node)\n",
      "GPT :     140.713102 s : Wrote 0.00109863 GB at 0.566511 GB/s (1.57592 GB/s for distribution, 2.05622 GB/s for checksum, 1.63636 GB/s for writing, 1 views per node)\n",
      "GPT :     140.721593 s : Wrote 0.00109863 GB at 0.143239 GB/s (0.2048 GB/s for distribution, 0.677946 GB/s for checksum, 1.68853 GB/s for writing, 1 views per node)\n",
      "GPT :     140.724261 s : Wrote 0.00109863 GB at 0.635937 GB/s (2.21113 GB/s for distribution, 2.00872 GB/s for checksum, 1.68606 GB/s for writing, 1 views per node)\n",
      "GPT :     140.725509 s : Completed writing 8c32_5.5/su3.350 in 0.0298083 s\n",
      "GPT :     173.837815 s : SU(2)-subgroup heatbath 400 has P = 0.4989693959554036\n",
      "GPT :     173.839086 s : Switching view to [1,1,1,1]/Write\n",
      "GPT :     173.856338 s : Wrote 0.00109863 GB at 0.0636631 GB/s (0.0989627 GB/s for distribution, 2.0184 GB/s for checksum, 1.75677 GB/s for writing, 1 views per node)\n",
      "GPT :     173.860721 s : Wrote 0.00109863 GB at 0.32396 GB/s (0.501305 GB/s for distribution, 1.97176 GB/s for checksum, 1.82062 GB/s for writing, 1 views per node)\n",
      "GPT :     173.863746 s : Wrote 0.00109863 GB at 0.490265 GB/s (1.46892 GB/s for distribution, 1.29438 GB/s for checksum, 1.8 GB/s for writing, 1 views per node)\n",
      "GPT :     173.869667 s : Wrote 0.00109863 GB at 0.214685 GB/s (0.33113 GB/s for distribution, 1.07413 GB/s for checksum, 1.74216 GB/s for writing, 1 views per node)\n",
      "GPT :     173.871112 s : Completed writing 8c32_5.5/su3.400 in 0.0324247 s\n",
      "GPT :     215.988504 s : SU(2)-subgroup heatbath 450 has P = 0.4979231092664931\n",
      "GPT :     215.989950 s : Switching view to [1,1,1,1]/Write\n",
      "GPT :     216.000749 s : Wrote 0.00109863 GB at 0.10169 GB/s (0.202008 GB/s for distribution, 2.01487 GB/s for checksum, 1.76687 GB/s for writing, 1 views per node)\n",
      "GPT :     216.003813 s : Wrote 0.00109863 GB at 0.542118 GB/s (1.4755 GB/s for distribution, 1.98706 GB/s for checksum, 1.58514 GB/s for writing, 1 views per node)\n",
      "GPT :     216.007216 s : Wrote 0.00109863 GB at 0.420323 GB/s (1.20251 GB/s for distribution, 1.01767 GB/s for checksum, 1.86634 GB/s for writing, 1 views per node)\n",
      "GPT :     216.013161 s : Wrote 0.00109863 GB at 0.213769 GB/s (0.273067 GB/s for distribution, 2.03624 GB/s for checksum, 2.02283 GB/s for writing, 1 views per node)\n",
      "GPT :     216.014672 s : Completed writing 8c32_5.5/su3.450 in 0.0251009 s\n",
      "GPT :     233.461959 s : SU(2)-subgroup heatbath 500 has P = 0.4951470163133409\n",
      "GPT :     233.463298 s : Switching view to [1,1,1,1]/Write\n",
      "GPT :     233.472818 s : Wrote 0.00109863 GB at 0.115356 GB/s (0.24845 GB/s for distribution, 2.11279 GB/s for checksum, 1.78951 GB/s for writing, 1 views per node)\n",
      "GPT :     233.475453 s : Wrote 0.00109863 GB at 0.642857 GB/s (1.83075 GB/s for distribution, 2.16541 GB/s for checksum, 1.92723 GB/s for writing, 1 views per node)\n",
      "GPT :     233.481156 s : Wrote 0.00109863 GB at 0.217021 GB/s (0.396865 GB/s for distribution, 0.647282 GB/s for checksum, 1.93127 GB/s for writing, 1 views per node)\n",
      "GPT :     233.485294 s : Wrote 0.00109863 GB at 0.314797 GB/s (0.459193 GB/s for distribution, 2.08885 GB/s for checksum, 2.01223 GB/s for writing, 1 views per node)\n",
      "GPT :     233.486395 s : Completed writing 8c32_5.5/su3.500 in 0.0235438 s\n",
      "GPT :     248.034966 s : SU(2)-subgroup heatbath 550 has P = 0.49406793382432723\n",
      "GPT :     248.036990 s : Switching view to [1,1,1,1]/Write\n",
      "GPT :     248.047993 s : Wrote 0.00109863 GB at 0.099818 GB/s (0.137783 GB/s for distribution, 1.94841 GB/s for checksum, 1.52482 GB/s for writing, 1 views per node)\n",
      "GPT :     248.051832 s : Wrote 0.00109863 GB at 0.368581 GB/s (0.836298 GB/s for distribution, 1.1375 GB/s for checksum, 1.64689 GB/s for writing, 1 views per node)\n",
      "GPT :     248.058542 s : Wrote 0.00109863 GB at 0.182654 GB/s (0.227961 GB/s for distribution, 2.04437 GB/s for checksum, 1.75945 GB/s for writing, 1 views per node)\n",
      "GPT :     248.063704 s : Wrote 0.00109863 GB at 0.24381 GB/s (0.332156 GB/s for distribution, 2.08696 GB/s for checksum, 1.71365 GB/s for writing, 1 views per node)\n",
      "GPT :     248.065168 s : Completed writing 8c32_5.5/su3.550 in 0.0285673 s\n",
      "GPT :     262.714481 s : SU(2)-subgroup heatbath 600 has P = 0.4961576991611057\n",
      "GPT :     262.715653 s : Switching view to [1,1,1,1]/Write\n",
      "GPT :     262.724949 s : Wrote 0.00109863 GB at 0.118157 GB/s (0.162025 GB/s for distribution, 1.85956 GB/s for checksum, 1.66354 GB/s for writing, 1 views per node)\n",
      "GPT :     262.727684 s : Wrote 0.00109863 GB at 0.586932 GB/s (1.5133 GB/s for distribution, 2.10411 GB/s for checksum, 1.85283 GB/s for writing, 1 views per node)\n",
      "GPT :     262.730478 s : Wrote 0.00109863 GB at 0.504268 GB/s (1.44045 GB/s for distribution, 1.536 GB/s for checksum, 1.63753 GB/s for writing, 1 views per node)\n",
      "GPT :     262.738672 s : Wrote 0.00109863 GB at 0.153248 GB/s (0.285767 GB/s for distribution, 0.413607 GB/s for checksum, 1.72069 GB/s for writing, 1 views per node)\n",
      "GPT :     262.739954 s : Completed writing 8c32_5.5/su3.600 in 0.024724 s\n",
      "GPT :     278.165117 s : SU(2)-subgroup heatbath 650 has P = 0.4949106640285916\n",
      "GPT :     278.166348 s : Switching view to [1,1,1,1]/Write\n",
      "GPT :     278.178747 s : Wrote 0.00109863 GB at 0.0886103 GB/s (0.1185 GB/s for distribution, 2.0813 GB/s for checksum, 1.69163 GB/s for writing, 1 views per node)\n",
      "GPT :     278.183200 s : Wrote 0.00109863 GB at 0.303198 GB/s (0.968271 GB/s for distribution, 0.617281 GB/s for checksum, 1.62482 GB/s for writing, 1 views per node)\n",
      "GPT :     278.188665 s : Wrote 0.00109863 GB at 0.225949 GB/s (0.298137 GB/s for distribution, 2.02906 GB/s for checksum, 1.80919 GB/s for writing, 1 views per node)\n",
      "GPT :     278.193096 s : Wrote 0.00109863 GB at 0.281904 GB/s (0.83237 GB/s for distribution, 0.572921 GB/s for checksum, 1.7369 GB/s for writing, 1 views per node)\n",
      "GPT :     278.194544 s : Completed writing 8c32_5.5/su3.650 in 0.0286267 s\n",
      "GPT :     293.307193 s : SU(2)-subgroup heatbath 700 has P = 0.49867041905721027\n",
      "GPT :     293.308556 s : Switching view to [1,1,1,1]/Write\n",
      "GPT :     293.320931 s : Wrote 0.00109863 GB at 0.0887605 GB/s (0.139387 GB/s for distribution, 1.95752 GB/s for checksum, 1.72455 GB/s for writing, 1 views per node)\n",
      "GPT :     293.323616 s : Wrote 0.00109863 GB at 0.589258 GB/s (1.50294 GB/s for distribution, 2.09169 GB/s for checksum, 1.90021 GB/s for writing, 1 views per node)\n",
      "GPT :     293.327471 s : Wrote 0.00109863 GB at 0.340275 GB/s (1.30723 GB/s for distribution, 0.631579 GB/s for checksum, 1.77095 GB/s for writing, 1 views per node)\n",
      "GPT :     293.334848 s : Wrote 0.00109863 GB at 0.16135 GB/s (0.225077 GB/s for distribution, 0.974207 GB/s for checksum, 1.42707 GB/s for writing, 1 views per node)\n",
      "GPT :     293.337421 s : Completed writing 8c32_5.5/su3.700 in 0.0292578 s\n"
     ]
    }
   ],
   "source": [
    "#create 1 config\n",
    "L = [8,8,8,32]\n",
    "Ls = 8\n",
    "Lt = 32\n",
    "grid = g.grid(L, g.single)\n",
    "grid_eo = g.grid(L, g.single, g.redblack)\n",
    "\n",
    "rng = g.random(\"test\", \"vectorized_ranlux24_24_64\")\n",
    "U = g.qcd.gauge.unit(grid)\n",
    "Nd = len(U)\n",
    "\n",
    "# red/black mask\n",
    "mask_rb = g.complex(grid_eo)\n",
    "mask_rb[:] = 1\n",
    "# full mask\n",
    "mask = g.complex(grid)\n",
    "\n",
    "# simple plaquette action\n",
    "def staple(U, mu):\n",
    "    st = g.lattice(U[0])\n",
    "    st[:] = 0\n",
    "    Nd = len(U)\n",
    "    for nu in range(Nd):\n",
    "        if mu != nu:\n",
    "            st += g.qcd.gauge.staple(U, mu, nu) / U[0].otype.Nc\n",
    "    return st\n",
    "    \n",
    "beta = 5.5\n",
    "\n",
    "g.default.push_verbose(\"su2_heat_bath\", False)\n",
    "markov = g.algorithms.markov.su2_heat_bath(rng)\n",
    "U = g.qcd.gauge.unit(grid)\n",
    "plaquette_heatbath = []\n",
    "for it in range(250):\n",
    "    plaq = g.qcd.gauge.plaquette(U)\n",
    "    plaquette_heatbath.append(plaq)\n",
    "    if it % 50 == 0:\n",
    "        g.message(f\"SU(2)-subgroup heatbath {it} has P = {plaq}\")\n",
    "    for cb in [g.even, g.odd]:\n",
    "        mask[:] = 0\n",
    "        mask_rb.checkerboard(cb)\n",
    "        g.set_checkerboard(mask, mask_rb)\n",
    "\n",
    "        for mu in range(Nd):\n",
    "            st = g.eval(beta * staple(U, mu))\n",
    "            markov(U[mu], st, mask)"
   ]
  },
  {
   "cell_type": "markdown",
   "id": "d4e61404-45b8-41ca-9587-559b81b1d4ec",
   "metadata": {},
   "source": [
    "Below we define a Wilson Dirac operator. I have left the kinetic term out for you to fill in. "
   ]
  },
  {
   "cell_type": "markdown",
   "id": "d5b8ad22-e5a3-45fa-a39c-d66004ff19d3",
   "metadata": {},
   "source": [
    "### Wilson Dirac operator and pion correlator"
   ]
  },
  {
   "cell_type": "code",
   "execution_count": 4,
   "id": "90ace1b9-9f43-4063-9de3-fbad77ef0dae",
   "metadata": {},
   "outputs": [
    {
     "name": "stdout",
     "output_type": "stream",
     "text": [
      "gamma[1] =\n",
      " [[ 0.+0.j  0.+0.j  0.+0.j  0.+1.j]\n",
      " [ 0.+0.j  0.+0.j  0.+1.j  0.+0.j]\n",
      " [ 0.+0.j -0.-1.j  0.+0.j  0.+0.j]\n",
      " [-0.-1.j  0.+0.j  0.+0.j  0.+0.j]]\n",
      "gamma[2] =\n",
      " [[ 0.+0.j  0.+0.j  0.+0.j -1.+0.j]\n",
      " [ 0.+0.j  0.+0.j  1.+0.j  0.+0.j]\n",
      " [ 0.+0.j  1.+0.j  0.+0.j  0.+0.j]\n",
      " [-1.+0.j  0.+0.j  0.+0.j  0.+0.j]]\n",
      "gamma[3] =\n",
      " [[ 0.+0.j  0.+0.j  0.+1.j  0.+0.j]\n",
      " [ 0.+0.j  0.+0.j  0.+0.j -0.-1.j]\n",
      " [-0.-1.j  0.+0.j  0.+0.j  0.+0.j]\n",
      " [ 0.+0.j  0.+1.j  0.+0.j  0.+0.j]]\n",
      "gamma[4] =\n",
      " [[0.+0.j 0.+0.j 1.+0.j 0.+0.j]\n",
      " [0.+0.j 0.+0.j 0.+0.j 1.+0.j]\n",
      " [1.+0.j 0.+0.j 0.+0.j 0.+0.j]\n",
      " [0.+0.j 1.+0.j 0.+0.j 0.+0.j]]\n",
      "gamma[5] =\n",
      " [[ 1.+0.j  0.+0.j  0.+0.j  0.+0.j]\n",
      " [ 0.+0.j  1.+0.j  0.+0.j  0.+0.j]\n",
      " [ 0.+0.j  0.+0.j -1.+0.j  0.+0.j]\n",
      " [ 0.+0.j  0.+0.j  0.+0.j -1.+0.j]]\n"
     ]
    }
   ],
   "source": [
    "#gamma matrices\n",
    "print(\"gamma[1] =\\n\",g.gamma[0].tensor().array)\n",
    "print(\"gamma[2] =\\n\",g.gamma[1].tensor().array)\n",
    "print(\"gamma[3] =\\n\",g.gamma[2].tensor().array)\n",
    "print(\"gamma[4] =\\n\",g.gamma[3].tensor().array)\n",
    "print(\"gamma[5] =\\n\",g.gamma[5].tensor().array)"
   ]
  },
  {
   "cell_type": "code",
   "execution_count": 4,
   "id": "1192c4ba-8ba6-4266-a21b-cf1fd81263d0",
   "metadata": {},
   "outputs": [
    {
     "name": "stdout",
     "output_type": "stream",
     "text": [
      "GPT :     827.101506 s : Initializing gpt.random(13,vectorized_ranlux24_389_64) took 0.00014329 s\n",
      "(312.2275570382616+4365.117751981628j)\n",
      "(312.2279762047615+4365.116901796602j)\n",
      "(1418.6184790119203+3.4729264257293835e-05j)\n"
     ]
    }
   ],
   "source": [
    "Uapt = g.copy(U)\n",
    "# anti-periodic fermion in time can be achieved modifying last link in time\n",
    "Uapt[3][:,:,:,grid.gdimensions[3]-1] *= -1\n",
    "\n",
    "def DiracWilson(U, src, m):\n",
    "    dst = g((4.0 + m) * src) #mass term\n",
    "    for mu in range(4):\n",
    "        #Kinetic term. Note you must use covariant shift functions g.cshift(src,dir,len)\n",
    "        #gpt also has a built in adjoint function g.adj(M)\n",
    "        #also make sure that your expressions are in this g() function. \n",
    "        fmu = g() #forward derivative term\n",
    "        bmu = g() #backward derivative term\n",
    "\n",
    "        #put it all together here \n",
    "        \n",
    "    return dst\n",
    "\n",
    "#this generates random quark fields and tests the gamma5 Hermiticity, and tests that the norm is real. Your Dirac operator\n",
    "#is gamma5 Hermitian if the first two numbers are the same, and check that the third number has a near zero imaginary part. \n",
    "rng = g.random(\"13\")\n",
    "a, b = rng.cnormal([g.vspincolor(grid),g.vspincolor(grid)]) #defines two random quark fields\n",
    "# test gamma5 hermiticity\n",
    "print(g.inner_product(b, g.gamma[5] * DiracWilson(Uapt, a, -0.5)))\n",
    "print(g.inner_product(a, g.gamma[5] * DiracWilson(Uapt, b, -0.5)).conjugate())\n",
    "# norm real\n",
    "print(g.inner_product(a, g.gamma[5] * DiracWilson(Uapt, a, -0.5)))"
   ]
  },
  {
   "cell_type": "markdown",
   "id": "1990ed07-be86-4262-9d65-e6bc3e675ef9",
   "metadata": {},
   "source": [
    "In order to calculate a correlation function, we need to invert the Dirac operator we just created. This is one method to do so, the Flexible\n",
    "Generalized Minimal RESidual(fgmres) algorithm to invert our operator. Note $\\gamma_5D\\gamma_5 = D^{\\dagger}$,so we we want to invert that instead of just $D$"
   ]
  },
  {
   "cell_type": "code",
   "execution_count": 5,
   "id": "85c16621-6e8e-4476-aec8-f9660dc675ce",
   "metadata": {},
   "outputs": [],
   "source": [
    "g.default.set_verbose(\"fgmres_convergence\", False)\n",
    "inv = g.algorithms.inverter.fgmres(eps = 1e-8, maxiter = 400)"
   ]
  },
  {
   "cell_type": "code",
   "execution_count": 6,
   "id": "bb518d68-c54b-4a88-af84-6dfa0e213c41",
   "metadata": {},
   "outputs": [],
   "source": [
    "#defines the gamma_5 Wilson Dirac operator. \n",
    "def G5DiracWilson(dst, src):\n",
    "    dst @= g.gamma[5] * DiracWilson(Uapt, src, -0.5)\n",
    "    return dst\n",
    "\n",
    "invG5D = inv(G5DiracWilson)"
   ]
  },
  {
   "cell_type": "code",
   "execution_count": 7,
   "id": "d9933ed5-015f-4fe9-bbcf-23d704bb6dda",
   "metadata": {},
   "outputs": [
    {
     "data": {
      "text/plain": [
       "lattice(ot_matrix_spin_color(4,3),single)"
      ]
     },
     "execution_count": 7,
     "metadata": {},
     "output_type": "execute_result"
    }
   ],
   "source": [
    "src = g.mspincolor(grid)\n",
    "g.create.point(src, [0, 0, 0, 0])"
   ]
  },
  {
   "cell_type": "code",
   "execution_count": 8,
   "id": "220534a5-cab0-468a-afa7-941cc322d582",
   "metadata": {},
   "outputs": [
    {
     "name": "stdout",
     "output_type": "stream",
     "text": [
      "GPT :     871.178560 s : fgmres: converged in 376 iterations;  computed squared residual 1.093025e-15 / 1.200000e-15;  true squared residual 7.237462e-14 / 1.200000e-15\n"
     ]
    }
   ],
   "source": [
    "#dst here is our inverse. This is what we will use to define a correlation function. \n",
    "dst = g(invG5D * g.gamma[5] * src)"
   ]
  },
  {
   "cell_type": "markdown",
   "id": "ddac5b58-66af-438a-8494-70dd00c97d9e",
   "metadata": {},
   "source": [
    "Now that we have the inverse we want, define the pion correlator in the next cell. Recall \n",
    "$$\n",
    "\\langle \\hat{O}_{\\pi}(t)\\hat{O}_{\\pi}^{\\dagger}(0)\\rangle = \\sum_{x,y}\\langle \\text{Tr}[D^{-1}(U)_{\\vec{x},t;0,0}(D^{-1}(U)_{\\vec{x},t;0,0})^{\\dagger}]\\rangle\n",
    "$$"
   ]
  },
  {
   "cell_type": "code",
   "execution_count": 1,
   "id": "20477d67-1f34-4143-9b0c-db9ffc61fb67",
   "metadata": {},
   "outputs": [
    {
     "ename": "SyntaxError",
     "evalue": "invalid syntax (1026812842.py, line 3)",
     "output_type": "error",
     "traceback": [
      "\u001b[0;36m  Cell \u001b[0;32mIn[1], line 3\u001b[0;36m\u001b[0m\n\u001b[0;31m    Ct = #expression for correlation function goes here\u001b[0m\n\u001b[0m         ^\u001b[0m\n\u001b[0;31mSyntaxError\u001b[0m\u001b[0;31m:\u001b[0m invalid syntax\n"
     ]
    }
   ],
   "source": [
    "#You will want to use two gpt functions here, g.slice(M,axis) to take the time slice (averages over spatial components), \n",
    "#and g.trace(M) to compute the trace. \n",
    "\n",
    "Ct = #expression for correlation function goes here\n"
   ]
  },
  {
   "cell_type": "markdown",
   "id": "44ce5266-be4c-496a-a948-3594d487ba39",
   "metadata": {},
   "source": [
    "Plot the effective mass of the pion, given by an expression similar to how the static quark potential was defined, \n",
    "$$ m_{eff,\\pi} = \\text{ln}\\frac{C(t)_{\\pi}}{C(t+1)_{\\pi}}$$\n",
    "(no special gpt functions are needed here)"
   ]
  },
  {
   "cell_type": "code",
   "execution_count": 10,
   "id": "221711c5-b65a-4efb-b587-4c6fc6e0de4c",
   "metadata": {},
   "outputs": [
    {
     "data": {
      "image/png": "[encoded data removed]",
      "text/plain": [
       "<Figure size 640x480 with 1 Axes>"
      ]
     },
     "metadata": {},
     "output_type": "display_data"
    }
   ],
   "source": [
    "\n",
    "#plot the effective mass here. \n"
   ]
  },
  {
   "cell_type": "markdown",
   "id": "d8ee5c15-9f21-4713-a8e7-f7eb623b0af8",
   "metadata": {},
   "source": [
    "### Mass fine tuning"
   ]
  },
  {
   "cell_type": "markdown",
   "id": "1f36f0f7-71fb-4710-a43a-a96d051325f8",
   "metadata": {},
   "source": [
    "Now we want to demonstrate an example of mass fine tuning to make Wilson fermions chiral. If we had exact chiral symmetry, the pion would be an exact Goldstone boson of the theory. So what we want to do is find a value of the quark mass, the mass of the Wilson fermions, that get us to that limit. "
   ]
  },
  {
   "cell_type": "code",
   "execution_count": 14,
   "id": "649431cf-8f7c-4f74-bf77-aa1496090fa0",
   "metadata": {},
   "outputs": [
    {
     "name": "stdout",
     "output_type": "stream",
     "text": [
      "Test D: 4.9434384928430386e-08\n",
      "GPT :    1440.121496 s : cg: converged in 31 iterations\n",
      "GPT :    1440.179521 s : cg: converged in 31 iterations\n",
      "GPT :    1440.244258 s : cg: converged in 32 iterations\n",
      "GPT :    1440.305615 s : cg: converged in 31 iterations\n",
      "GPT :    1440.368030 s : cg: converged in 31 iterations\n",
      "GPT :    1440.430347 s : cg: converged in 31 iterations\n",
      "GPT :    1440.492722 s : cg: converged in 32 iterations\n",
      "GPT :    1440.555052 s : cg: converged in 31 iterations\n",
      "GPT :    1440.615066 s : cg: converged in 32 iterations\n",
      "GPT :    1440.676816 s : cg: converged in 31 iterations\n",
      "GPT :    1440.738984 s : cg: converged in 32 iterations\n",
      "GPT :    1440.803238 s : cg: converged in 31 iterations\n",
      "Test D^{-1}: 5.266828203712478e-12\n"
     ]
    }
   ],
   "source": [
    "#We now define Wilson fermions using the built in gpt functionality\n",
    "w = g.qcd.fermion.wilson_clover(U,mass=-0.5, csw_r=0.0, csw_t=0.0, nu=1.0, xi_0=1.0,isAnisotropic=False,boundary_phases=[1,1,1,-1])\n",
    "\n",
    "#this line checks the difference of the previously defined Wilson operator and the gpt defined one. This should be small\n",
    "print(\"Test D:\", g.norm2(w(b) - DiracWilson(Uapt,b,-0.5)))\n",
    "\n",
    "#we use a more efficient inverting algoritm now, the conjugate gradient method. \n",
    "inv = g.algorithms.inverter\n",
    "pc = g.qcd.fermion.preconditioner\n",
    "g.default.set_verbose(\"cg_convergence\",False)\n",
    "cg = inv.cg({\"eps\":1e-6, \"maxiter\":1000})\n",
    "invD = w.propagator(inv.preconditioned(pc.eo1_ne(),cg))\n",
    "\n",
    "#dst2 is our quark propagator for this new Wilson operator.\n",
    "dst2 = g(invD * src)\n",
    "\n",
    "#This checks the difference between the propagators\n",
    "print(\"Test D^{-1}:\",g.norm2(dst-dst2)/g.norm2(dst2))"
   ]
  },
  {
   "cell_type": "code",
   "execution_count": 17,
   "id": "e6968865-b4ae-4996-8ea2-874f052942ef",
   "metadata": {},
   "outputs": [
    {
     "name": "stdout",
     "output_type": "stream",
     "text": [
      "GPT :    1628.646620 s : cg: converged in 31 iterations\n",
      "GPT :    1628.707702 s : cg: converged in 31 iterations\n",
      "GPT :    1628.768658 s : cg: converged in 32 iterations\n",
      "GPT :    1628.828470 s : cg: converged in 31 iterations\n",
      "GPT :    1628.890213 s : cg: converged in 31 iterations\n",
      "GPT :    1628.941562 s : cg: converged in 31 iterations\n",
      "GPT :    1629.001561 s : cg: converged in 32 iterations\n",
      "GPT :    1629.062196 s : cg: converged in 31 iterations\n",
      "GPT :    1629.127903 s : cg: converged in 32 iterations\n",
      "GPT :    1629.189233 s : cg: converged in 31 iterations\n",
      "GPT :    1629.250474 s : cg: converged in 32 iterations\n",
      "GPT :    1629.311605 s : cg: converged in 31 iterations\n",
      "GPT :    1629.751889 s : cg: converged in 36 iterations\n",
      "GPT :    1629.820266 s : cg: converged in 36 iterations\n",
      "GPT :    1629.901682 s : cg: converged in 36 iterations\n",
      "GPT :    1629.986330 s : cg: converged in 36 iterations\n",
      "GPT :    1630.057644 s : cg: converged in 36 iterations\n",
      "GPT :    1630.127387 s : cg: converged in 36 iterations\n",
      "GPT :    1630.198251 s : cg: converged in 36 iterations\n",
      "GPT :    1630.261893 s : cg: converged in 35 iterations\n",
      "GPT :    1630.332894 s : cg: converged in 36 iterations\n",
      "GPT :    1630.405663 s : cg: converged in 36 iterations\n",
      "GPT :    1630.510808 s : cg: converged in 37 iterations\n",
      "GPT :    1630.582474 s : cg: converged in 36 iterations\n",
      "GPT :    1631.057590 s : cg: converged in 42 iterations\n",
      "GPT :    1631.137527 s : cg: converged in 42 iterations\n",
      "GPT :    1631.221190 s : cg: converged in 43 iterations\n",
      "GPT :    1631.300087 s : cg: converged in 43 iterations\n",
      "GPT :    1631.384269 s : cg: converged in 42 iterations\n",
      "GPT :    1631.468750 s : cg: converged in 42 iterations\n",
      "GPT :    1631.548744 s : cg: converged in 43 iterations\n",
      "GPT :    1631.629098 s : cg: converged in 42 iterations\n",
      "GPT :    1631.717338 s : cg: converged in 43 iterations\n",
      "GPT :    1631.792323 s : cg: converged in 42 iterations\n",
      "GPT :    1631.875770 s : cg: converged in 44 iterations\n",
      "GPT :    1631.962080 s : cg: converged in 42 iterations\n",
      "GPT :    1632.484669 s : cg: converged in 51 iterations\n",
      "GPT :    1632.617475 s : cg: converged in 52 iterations\n",
      "GPT :    1632.710734 s : cg: converged in 52 iterations\n",
      "GPT :    1632.809504 s : cg: converged in 52 iterations\n",
      "GPT :    1632.913195 s : cg: converged in 52 iterations\n",
      "GPT :    1633.014298 s : cg: converged in 51 iterations\n",
      "GPT :    1633.117164 s : cg: converged in 53 iterations\n",
      "GPT :    1633.214436 s : cg: converged in 51 iterations\n",
      "GPT :    1633.319080 s : cg: converged in 53 iterations\n",
      "GPT :    1633.418118 s : cg: converged in 51 iterations\n",
      "GPT :    1633.527539 s : cg: converged in 54 iterations\n",
      "GPT :    1633.629067 s : cg: converged in 52 iterations\n",
      "GPT :    1634.166060 s : cg: converged in 65 iterations\n",
      "GPT :    1634.290049 s : cg: converged in 65 iterations\n",
      "GPT :    1634.421847 s : cg: converged in 67 iterations\n",
      "GPT :    1634.545261 s : cg: converged in 67 iterations\n",
      "GPT :    1634.703953 s : cg: converged in 66 iterations\n",
      "GPT :    1634.829092 s : cg: converged in 65 iterations\n",
      "GPT :    1634.961839 s : cg: converged in 68 iterations\n",
      "GPT :    1635.088906 s : cg: converged in 65 iterations\n",
      "GPT :    1635.219568 s : cg: converged in 67 iterations\n",
      "GPT :    1635.338663 s : cg: converged in 65 iterations\n",
      "GPT :    1635.470034 s : cg: converged in 68 iterations\n",
      "GPT :    1635.605180 s : cg: converged in 66 iterations\n",
      "GPT :    1636.184456 s : cg: converged in 89 iterations\n",
      "GPT :    1636.344453 s : cg: converged in 90 iterations\n",
      "GPT :    1636.522628 s : cg: converged in 92 iterations\n",
      "GPT :    1636.726000 s : cg: converged in 92 iterations\n",
      "GPT :    1636.896789 s : cg: converged in 90 iterations\n",
      "GPT :    1637.064424 s : cg: converged in 90 iterations\n",
      "GPT :    1637.243298 s : cg: converged in 94 iterations\n",
      "GPT :    1637.410020 s : cg: converged in 89 iterations\n",
      "GPT :    1637.585471 s : cg: converged in 93 iterations\n",
      "GPT :    1637.752561 s : cg: converged in 90 iterations\n",
      "GPT :    1637.928967 s : cg: converged in 95 iterations\n",
      "GPT :    1638.104417 s : cg: converged in 91 iterations\n"
     ]
    }
   ],
   "source": [
    "#we now define a function that will calculate the pion effective mass for an input list of different Wilson fermion masses. \n",
    "def effective_mass_pion_single_config(m):\n",
    "    w = g.qcd.fermion.wilson_clover(U, mass=m, csw_r=0.0, csw_t=0.0, nu=1.0, xi_0=1.0,\n",
    "                                    isAnisotropic=False,boundary_phases=[1,1,1,-1])\n",
    "    invD = w.propagator(inv.preconditioned(pc.eo1_ne(), cg))\n",
    "    dst = g(invD * src)\n",
    "    Ct = g.slice(g.trace(g.adj(dst)*dst),3)\n",
    "    return [np.log(Ct[t] / Ct[t+1]).real for t in range(13)]\n",
    "\n",
    "#loops through the Wilson fermion masses and calculates the effective pion mass for all of them. \n",
    "emp = {}\n",
    "for m in [-0.5, -0.6, -0.7, -0.8, -0.9, -1.0]:\n",
    "    emp[m] = effective_mass_pion_single_config(m)"
   ]
  },
  {
   "cell_type": "code",
   "execution_count": 2,
   "id": "68a7d1dd-12bb-44e9-bfb4-37cd1b6236e2",
   "metadata": {},
   "outputs": [
    {
     "ename": "SyntaxError",
     "evalue": "unterminated string literal (detected at line 15) (1949240068.py, line 15)",
     "output_type": "error",
     "traceback": [
      "\u001b[0;36m  Cell \u001b[0;32mIn[2], line 15\u001b[0;36m\u001b[0m\n\u001b[0;31m    ax.errorbar(quark_masses,pion_masses,pion_masses_err,marker='.,ls='',c='red',label=\"m_pi(m)\")\u001b[0m\n\u001b[0m                                                                               ^\u001b[0m\n\u001b[0;31mSyntaxError\u001b[0m\u001b[0;31m:\u001b[0m unterminated string literal (detected at line 15)\n"
     ]
    }
   ],
   "source": [
    "quark_masses = []\n",
    "pion_masses = []\n",
    "pion_masses_err = []\n",
    "\n",
    "#we fill lists of \n",
    "for m in emp:\n",
    "    quark_masses.append(m)\n",
    "    pion_masses.append(0.5*(emp[m][7] + emp[m][8]))\n",
    "    pion_masses_err.append(0.5*(emp[m][7] - emp[m][8]))"
   ]
  },
  {
   "cell_type": "markdown",
   "id": "35792633-a72c-471f-b8c2-68b8ef2f93f9",
   "metadata": {},
   "source": [
    "We now have the input quark masses, the effective pion masses, and their errors(single configuration). Plot this data, and use a linear fit to extrapolate backwards to find the so called 'critical mass', which is the input mass for which we have effectively zero pion mass, indicating chiral symmetry. "
   ]
  },
  {
   "cell_type": "code",
   "execution_count": 33,
   "id": "81e97e06-1fa4-4c50-8a82-6467b51ddc32",
   "metadata": {},
   "outputs": [
    {
     "name": "stdout",
     "output_type": "stream",
     "text": [
      "-1.7714202322269366\n"
     ]
    }
   ],
   "source": [
    "fig, ax = plt.subplots()\n",
    "\n",
    "#scipy isn't built in the gpt container so you can use np.polyfit to do the linear fit, and plt.axline to draw the fit line on the graph\n",
    "\n",
    "#plot the fit line and the data in the same plot and then calculate the x intercept to find the critical mass"
   ]
  },
  {
   "cell_type": "code",
   "execution_count": null,
   "id": "ac1a9777-e773-4af6-9020-ae7df4a63f1c",
   "metadata": {},
   "outputs": [],
   "source": []
  }
 ],
 "metadata": {
  "kernelspec": {
   "display_name": "Python 3 (ipykernel)",
   "language": "python",
   "name": "python3"
  },
  "language_info": {
   "codemirror_mode": {
    "name": "ipython",
    "version": 3
   },
   "file_extension": ".py",
   "mimetype": "text/x-python",
   "name": "python",
   "nbconvert_exporter": "python",
   "pygments_lexer": "ipython3",
   "version": "3.10.12"
  }
 },
 "nbformat": 4,
 "nbformat_minor": 5
}
