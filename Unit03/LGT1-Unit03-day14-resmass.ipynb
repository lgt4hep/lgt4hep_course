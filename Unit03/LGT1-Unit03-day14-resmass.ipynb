{
 "cells": [
  {
   "cell_type": "markdown",
   "id": "8f5529aa-b1b8-4100-84ce-d1a97e04e00f",
   "metadata": {},
   "source": [
    "## LGT1 Unit 3 day 14 exercise"
   ]
  },
  {
   "cell_type": "markdown",
   "id": "1ff78781-629c-46c2-ae0f-6d760c9f9d50",
   "metadata": {},
   "source": [
    "In today's exercise we look at the explicit chiral symmetry breaking in domain wall fermions due to the finite extent of the fifth dimension. We will generate a small quenched configuration, calculate the divergence of the vector current, the divergence of the axial current, and calculate the residual mass with a varying extent in the fifth dimension to see how increasing $L_s$ decreases the explicit chiral symmetry breaking.  "
   ]
  },
  {
   "cell_type": "code",
   "execution_count": 34,
   "id": "b725da69-1a37-465b-88b6-7b5bf884e5f5",
   "metadata": {},
   "outputs": [],
   "source": [
    "import gpt as g\n",
    "import numpy as np\n",
    "import matplotlib.pyplot as plt"
   ]
  },
  {
   "cell_type": "markdown",
   "id": "8b97abd8-8a7c-404a-8983-06e4ffed45f4",
   "metadata": {},
   "source": [
    "The following cell generates a single quenched configuration. "
   ]
  },
  {
   "cell_type": "code",
   "execution_count": 35,
   "id": "2f6482f1-ca9a-4908-805a-387a526c18b0",
   "metadata": {},
   "outputs": [],
   "source": [
    "def heatbath_quenched_config(L,Lt,beta):\n",
    "    #create 1 config\n",
    "    L = [L,L,L,Lt]\n",
    "    grid = g.grid(L, g.single)\n",
    "    grid_eo = g.grid(L, g.single, g.redblack)\n",
    "    \n",
    "    rng = g.random(\"test\", \"vectorized_ranlux24_24_64\")\n",
    "    U = g.qcd.gauge.unit(grid)\n",
    "    Nd = len(U)\n",
    "    \n",
    "    # red/black mask\n",
    "    mask_rb = g.complex(grid_eo)\n",
    "    mask_rb[:] = 1\n",
    "    # full mask\n",
    "    mask = g.complex(grid)\n",
    "    \n",
    "    # simple plaquette action\n",
    "    def staple(U, mu):\n",
    "        st = g.lattice(U[0])\n",
    "        st[:] = 0\n",
    "        Nd = len(U)\n",
    "        for nu in range(Nd):\n",
    "            if mu != nu:\n",
    "                st += g.qcd.gauge.staple(U, mu, nu) / U[0].otype.Nc\n",
    "        return st\n",
    "    \n",
    "    g.default.push_verbose(\"su2_heat_bath\", False)\n",
    "    markov = g.algorithms.markov.su2_heat_bath(rng)\n",
    "    U = g.qcd.gauge.unit(grid)\n",
    "    plaquette_heatbath = []\n",
    "    for it in range(150):\n",
    "        plaq = g.qcd.gauge.plaquette(U)\n",
    "        plaquette_heatbath.append(plaq)\n",
    "        if it % 50 == 0:\n",
    "            g.message(f\"SU(2)-subgroup heatbath {it} has P = {plaq}\")\n",
    "        for cb in [g.even, g.odd]:\n",
    "            mask[:] = 0\n",
    "            mask_rb.checkerboard(cb)\n",
    "            g.set_checkerboard(mask, mask_rb)\n",
    "    \n",
    "            for mu in range(Nd):\n",
    "                st = g.eval(beta * staple(U, mu))\n",
    "                markov(U[mu], st, mask)\n",
    "\n",
    "    return U"
   ]
  },
  {
   "cell_type": "code",
   "execution_count": 36,
   "id": "c9f4d299-a210-450c-9149-77a1a049d1e2",
   "metadata": {},
   "outputs": [
    {
     "name": "stdout",
     "output_type": "stream",
     "text": [
      "GPT :    1979.942515 s : Initializing gpt.random(test,vectorized_ranlux24_24_64) took 0.000102758 s\n",
      "GPT :    1979.999599 s : SU(2)-subgroup heatbath 0 has P = 1.0\n",
      "GPT :    1987.224906 s : SU(2)-subgroup heatbath 50 has P = 0.5029050509134928\n",
      "GPT :    1994.357431 s : SU(2)-subgroup heatbath 100 has P = 0.4927652147081163\n"
     ]
    }
   ],
   "source": [
    "#The Ls = 24 case might take a long time, so feel free to make the test configuration smaller. \n",
    "U = heatbath_quenched_config(8,8,5.5)\n",
    "grid = g.grid([8,8,8,8],g.double)"
   ]
  },
  {
   "cell_type": "markdown",
   "id": "7b63fe75-caaf-431b-b0a5-3a45218f9f13",
   "metadata": {},
   "source": [
    "Next we define the fermion parameters, and the domain wall fermion operator. We start with $L_s = 8$. To change the extent of the fifth dimension, change it here in the dwf_params"
   ]
  },
  {
   "cell_type": "code",
   "execution_count": 37,
   "id": "95247f8a-452e-4bac-9cf5-044fbcade5c0",
   "metadata": {},
   "outputs": [],
   "source": [
    "#If you change the config size, be sure to change it here too.\n",
    "grid = g.grid([8,8,8,8],g.double)\n",
    "\n",
    "#This is where you change Ls\n",
    "dwf_params = {\n",
    "    \"mass\":0.01,\n",
    "    \"M5\":1.8,\n",
    "    \"b\":1.0,\n",
    "    \"c\":0.0,\n",
    "    \"Ls\":8,\n",
    "    \"boundary_phases\":[1.0,1.0,1.0,-1.0]\n",
    "}\n",
    "\n",
    "qm = g.qcd.fermion.mobius(U,dwf_params)"
   ]
  },
  {
   "cell_type": "markdown",
   "id": "c4e50c87-c1d7-4b8b-87e1-569369d08d72",
   "metadata": {},
   "source": [
    "We are interested in looking at the Ward identities for the axial and vector current, so we first calculate the 5D propagator.  "
   ]
  },
  {
   "cell_type": "markdown",
   "id": "cc5ef249-1361-447b-863f-47c5a172dc15",
   "metadata": {},
   "source": [
    "In the cell below we have code that defines the fermion operator in 5D, defines all that we need to invert it with conjugate gradient method, and then it does the inversion to give us the 5D propagator. "
   ]
  },
  {
   "cell_type": "code",
   "execution_count": 38,
   "id": "55526b46-b462-4e19-9afd-20b32794c7d6",
   "metadata": {},
   "outputs": [],
   "source": [
    "#conjugate gradient things to invert the 5D operator\n",
    "cg_iter = 500 #change this if you are using Ls = 24 or higher\n",
    "pc = g.qcd.fermion.preconditioner\n",
    "inv = g.algorithms.inverter\n",
    "cg = inv.cg({\"eps\":1e-6,\"maxiter\":cg_iter}) #cg to be used for 5D operator inversion\n",
    "slv_5d = inv.preconditioned(pc.eo1_ne(),cg)\n",
    "\n",
    "Q_5d = qm.bulk_propagator(slv_5d) #This for 5D propagator\n",
    "\n",
    "src = g.mspincolor(U[0].grid) #we create a source at point [1,0,0,0] \n",
    "g.create.point(src,[1,0,0,0]);"
   ]
  },
  {
   "cell_type": "code",
   "execution_count": 39,
   "id": "62dd839a-95d8-4021-8510-02c62c59dc36",
   "metadata": {},
   "outputs": [
    {
     "name": "stdout",
     "output_type": "stream",
     "text": [
      "GPT :    2039.051775 s : cg: converged in 216 iterations\n",
      "GPT :    2039.568641 s : cg: converged in 231 iterations\n",
      "GPT :    2039.840732 s : cg: converged in 238 iterations\n",
      "GPT :    2040.101099 s : cg: converged in 232 iterations\n",
      "GPT :    2040.445571 s : cg: converged in 235 iterations\n",
      "GPT :    2040.715605 s : cg: converged in 224 iterations\n",
      "GPT :    2040.962724 s : cg: converged in 215 iterations\n",
      "GPT :    2041.302695 s : cg: converged in 209 iterations\n",
      "GPT :    2041.578538 s : cg: converged in 219 iterations\n",
      "GPT :    2041.870643 s : cg: converged in 216 iterations\n",
      "GPT :    2042.207981 s : cg: converged in 217 iterations\n",
      "GPT :    2042.470184 s : cg: converged in 215 iterations\n"
     ]
    }
   ],
   "source": [
    "pbulk = g(Q_5d * src)"
   ]
  },
  {
   "cell_type": "markdown",
   "id": "5c4cca62-d2b4-42ad-9608-8ea4027bf98b",
   "metadata": {},
   "source": [
    "Below we convert the 5D propagator to the 4D propagator. We use this to evaluate the correlator of the pseudoscalar density"
   ]
  },
  {
   "cell_type": "code",
   "execution_count": 42,
   "id": "b778a52f-215d-4c1e-83aa-f99845a86172",
   "metadata": {},
   "outputs": [],
   "source": [
    "p4d = g.mspincolor(U[0].grid)\n",
    "p4d @= qm.bulk_propagator_to_propagator * pbulk"
   ]
  },
  {
   "cell_type": "markdown",
   "id": "157c76a2-782e-4677-884b-604358d1f67d",
   "metadata": {},
   "source": [
    "Below is a cell to calculate the conserved vector current. We print out the divergence with the contact term, then we set it to zero and look at it without the contact term from the Ward identity. "
   ]
  },
  {
   "cell_type": "code",
   "execution_count": 43,
   "id": "59b7d36e-1d4e-484b-88ae-33c187838d14",
   "metadata": {},
   "outputs": [
    {
     "name": "stdout",
     "output_type": "stream",
     "text": [
      "GPT :    2152.733892 s : divergence contact term 4.279424579457791e-13\n",
      "GPT :    2152.753240 s : divergence = 5.223988881313804e-15 without contact term\n"
     ]
    }
   ],
   "source": [
    "j = qm.J5q(pbulk)\n",
    "J5q = g.slice(g.trace(j*g.adj(j)),3)\n",
    "\n",
    "div = g.mspin(U[0].grid)\n",
    "div[:] = 0\n",
    "\n",
    "for mu in range(4):\n",
    "    tmp = qm.conserved_vector_current(pbulk,src,pbulk,src,mu)\n",
    "    tmp-=g.cshift(tmp,mu,-1)\n",
    "    div+=g.color_trace(tmp)\n",
    "\n",
    "div = g(g.trace(g.adj(div)*div))\n",
    "\n",
    "g.message(\"divergence contact term\",div[1,0,0,0].real)\n",
    "div[1,0,0,0] = 0\n",
    "eps = g.sum(div).real\n",
    "g.message(f\"divergence = {eps} without contact term\")\n",
    "    "
   ]
  },
  {
   "cell_type": "markdown",
   "id": "a630e12b-37ad-4f82-a40d-03bab44e9d4f",
   "metadata": {},
   "source": [
    "Now we move on to the axial Ward identity, with the goal of calculating the residual mass. We start by defining the correlator of the axial current which we call AP, and the physical mass term proportional to $J_5^a$. $J_{5q}$ is defined above in the vector current function"
   ]
  },
  {
   "cell_type": "code",
   "execution_count": 44,
   "id": "ad7b1874-7b79-4fa9-a315-6e80b8ee0400",
   "metadata": {},
   "outputs": [],
   "source": [
    "AP = g.slice(g.trace(qm.conserved_axial_current(pbulk,src,pbulk,src,3)*g.gamma[5]),3) #expectation value of axial current\n",
    "PP = g.slice(g.trace(p4d*g.adj(p4d)),3) #J_5"
   ]
  },
  {
   "cell_type": "markdown",
   "id": "82bb217d-2f64-4dbb-8237-2a31a76d9c39",
   "metadata": {},
   "source": [
    "EXERCISE: From the axial Ward identity, construct the left hand side, the divergence of the axial current term using the above defined AP, and construct the effective mass term using the above defined PP and J5q. Once again here is the Ward identity\n",
    "\n",
    "$$\n",
    "\\Delta_{\\mu}\\left\\langle A^a_{\\mu}O(y_1,y_2,...) \\right\\rangle = 2m \\left\\langle J^a_5(x)O(y_1,y_2,...) \\right\\rangle + 2 \\left\\langle J^a_{5q}(x) O(y_1,y_2,...) \\right\\rangle + i \\left\\langle \\delta^a_A O(y_1,y_2,...) \\right\\rangle\n",
    "$$\n",
    "\n",
    "Where in this case we drop the contact term, and the operator we are using as $O$ is the pseudoscalar density $J_5^a$. We already have all three of these correlation functions defined above, all that needs to be done is  them together in this form. "
   ]
  },
  {
   "cell_type": "code",
   "execution_count": 46,
   "id": "e6d6b730-954f-4bab-bdf5-bf84f4e35952",
   "metadata": {},
   "outputs": [
    {
     "name": "stdout",
     "output_type": "stream",
     "text": [
      "GPT :    2168.982047 s : axial vector current divergence residuum at t=1: 0.3040138180623248\n",
      "GPT :    2168.982663 s : Axial vector mass term: t=1: (0.07795841962099076-2.1296561285299998e-11j)\n",
      "GPT :    2168.983586 s : residual mass: t=1: (0.07012633428388171-2.947689682046218e-12j)\n",
      "GPT :    2168.984047 s : axial vector current divergence residuum at t=2: 0.19765746113755076\n",
      "GPT :    2168.984646 s : Axial vector mass term: t=2: (0.03266248315572739+2.6230048948833184e-13j)\n",
      "GPT :    2168.985039 s : residual mass: t=2: (0.13207469676968428-1.6040351489398653e-11j)\n",
      "GPT :    2168.985563 s : axial vector current divergence residuum at t=3: 0.19452719740819155\n",
      "GPT :    2168.986062 s : Axial vector mass term: t=3: (0.014746914878487588+9.223520189803603e-13j)\n",
      "GPT :    2168.986528 s : residual mass: t=3: (0.13492546659996546+9.66184771585767e-12j)\n",
      "GPT :    2168.986972 s : axial vector current divergence residuum at t=4: 0.19337297230310455\n",
      "GPT :    2168.987313 s : Axial vector mass term: t=4: (0.011920115854591132-1.3800118599943679e-12j)\n",
      "GPT :    2168.987781 s : residual mass: t=4: (0.13599726360052036+8.573017897794562e-12j)\n",
      "GPT :    2168.988433 s : axial vector current divergence residuum at t=5: 0.21094640444589957\n",
      "GPT :    2168.988774 s : Axial vector mass term: t=5: (0.018483486399054526-1.0672359263691482e-13j)\n",
      "GPT :    2168.989117 s : residual mass: t=5: (0.12091634450254445+2.6751704201077687e-11j)\n",
      "GPT :    2168.990248 s : axial vector current divergence residuum at t=6: 0.2542582291683328\n",
      "GPT :    2168.990640 s : Axial vector mass term: t=6: (0.03618912234902382+1.02659016704143e-12j)\n",
      "GPT :    2168.990988 s : residual mass: t=6: (0.0926544655498799+3.220867010874307e-11j)\n",
      "GPT :    2168.991743 s : axial vector current divergence residuum at t=7: 0.2979183798816696\n",
      "GPT :    2168.992264 s : Axial vector mass term: t=7: (0.08508216559886933+1.9010912219452613e-11j)\n",
      "GPT :    2168.992590 s : residual mass: t=7: (0.07248184537572362-1.641390263873706e-11j)\n"
     ]
    }
   ],
   "source": [
    "#change Nt based on the size of the config you have\n",
    "Nt = 8\n",
    "t = np.arange(0,Nt,1)\n",
    "res_list = []\n",
    "for t in range(Nt):\n",
    "    \n",
    "    # Use a discrete derivative on correlator AP to construct the lhs of the Ward identity\n",
    "    # construct the effective mass term of the rhs of the Ward identity\n",
    "    dAP_t = #divergence of axial current\n",
    "    mass_term = #effectice mass, rhs of Ward identity\n",
    "    \n",
    "    eps = abs(dAP_t - mass_term)/abs(dAP_t + mass_term)\n",
    "    \n",
    "    mres = J5q[t]/PP[t] \n",
    "\n",
    "    if t!=0:\n",
    "        g.message(f\"axial vector current divergence residuum at t={t}: {eps}\")\n",
    "        g.message(f\"Axial vector mass term: t={t}: {mass_term}\")\n",
    "        g.message(f\"residual mass: t={t}: {mres}\")\n",
    "        res_list.append(mres.real)"
   ]
  },
  {
   "cell_type": "markdown",
   "id": "1d90adc8-d4ab-45c0-acaf-a18703f54fed",
   "metadata": {},
   "source": [
    "EXERCISE: plot the residual mass over all time slices. "
   ]
  },
  {
   "cell_type": "code",
   "execution_count": 49,
   "id": "50f02081-213c-4814-b124-f707f8e04920",
   "metadata": {},
   "outputs": [
    {
     "data": {
      "text/plain": [
       "Text(0, 0.5, 'residual mass')"
      ]
     },
     "execution_count": 49,
     "metadata": {},
     "output_type": "execute_result"
    },
    {
     "data": {
      "image/png": "[encoded data removed]",
      "text/plain": [
       "<Figure size 640x480 with 1 Axes>"
      ]
     },
     "metadata": {},
     "output_type": "display_data"
    }
   ],
   "source": [
    "#plot the residual mass "
   ]
  },
  {
   "cell_type": "markdown",
   "id": "00476e43-cbfb-496a-aa9c-f305b2e43c85",
   "metadata": {},
   "source": [
    "EXERCISE: Repeat the above exercise for a higher value of Ls. Ideally this just entails running the entire notebook again for a different value of $L_s$. "
   ]
  }
 ],
 "metadata": {
  "kernelspec": {
   "display_name": "Python 3 (ipykernel)",
   "language": "python",
   "name": "python3"
  },
  "language_info": {
   "codemirror_mode": {
    "name": "ipython",
    "version": 3
   },
   "file_extension": ".py",
   "mimetype": "text/x-python",
   "name": "python",
   "nbconvert_exporter": "python",
   "pygments_lexer": "ipython3",
   "version": "3.10.12"
  }
 },
 "nbformat": 4,
 "nbformat_minor": 5
}
