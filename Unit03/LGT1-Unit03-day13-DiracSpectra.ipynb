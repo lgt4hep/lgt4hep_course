{
 "cells": [
  {
   "cell_type": "markdown",
   "id": "1e8e1b84-8242-4201-908f-05f196f99dda",
   "metadata": {},
   "source": [
    "## LGT1 Unit 3 day 13 exercises"
   ]
  },
  {
   "cell_type": "markdown",
   "id": "645aef48-6c08-4319-a31e-984e1193c1e5",
   "metadata": {},
   "source": [
    "In today's exercises we look at the spectra of two Dirac operators; the Wilson Dirac operator and the overlap operator with the Wilson Dirac operator as a kernel. We should see clearly the difference in spectra between the two, the first having explicit chiral symmetry breaking, and the second being a solution to the Ginsparg-Wilson equation, effectively being a projection of the Wilson operator onto a chiral Dirac operator. \n",
    "\n",
    "The exercises are as follows, placed throughout the notebook:\n",
    " - plot the spectra of the Dirac operator on the complex plane - comment on the pattern you see\n",
    " - Show the overlap operator is a solution to the Ginsparg-Wilson equation\n",
    " - define the overlap operator from the deflated $H^2$ operator\n",
    " - comment on the shape of the eigenvalue plot for the overlap operator. How does it compare to the\n",
    "   plot from the Wilson Dirac operator?"
   ]
  },
  {
   "cell_type": "code",
   "execution_count": 5,
   "id": "069ef943-6d60-460d-ac22-d6a6ea5b7c78",
   "metadata": {},
   "outputs": [],
   "source": [
    "import gpt as g\n",
    "import numpy as np\n",
    "import matplotlib.pyplot as plt"
   ]
  },
  {
   "cell_type": "code",
   "execution_count": 7,
   "id": "5e0f4bbb-ac8f-49bb-a4f1-1be6884b0615",
   "metadata": {},
   "outputs": [],
   "source": [
    "grid = g.grid([8,8,8,16],g.double)"
   ]
  },
  {
   "cell_type": "markdown",
   "id": "3e14376a-013f-4a68-8e52-00fabbaa378c",
   "metadata": {},
   "source": [
    "### Wilson Dirac operator spectra"
   ]
  },
  {
   "cell_type": "markdown",
   "id": "acff596a-1bd9-4e53-bd25-c1b8e744e7b8",
   "metadata": {},
   "source": [
    "We begin by analyzing the spectra of the Wilson Dirac operator. To start we look at the free case, where we set U to the identity at every site"
   ]
  },
  {
   "cell_type": "code",
   "execution_count": 8,
   "id": "ab80599d-d7ea-42c4-aa20-eaa02f5939a2",
   "metadata": {},
   "outputs": [],
   "source": [
    "U_f = g.qcd.gauge.unit(grid)\n",
    "start = g.vspincolor(grid)"
   ]
  },
  {
   "cell_type": "markdown",
   "id": "9f803723-54a9-4865-9e03-883a4cbde84a",
   "metadata": {},
   "source": [
    "We will also look at the eigenvalues in the interacting case (optional), so below is a function to generate a single quenched configuration"
   ]
  },
  {
   "cell_type": "code",
   "execution_count": 32,
   "id": "5d909d7b-acbe-4756-b7fa-73237662aeb4",
   "metadata": {},
   "outputs": [],
   "source": [
    "def heatbath_quenched_config(L,Lt,beta):\n",
    "    #create 1 config\n",
    "    L = [L,L,L,Lt]\n",
    "    grid = g.grid(L, g.single)\n",
    "    grid_eo = g.grid(L, g.single, g.redblack)\n",
    "    \n",
    "    rng = g.random(\"test\", \"vectorized_ranlux24_24_64\")\n",
    "    U = g.qcd.gauge.unit(grid)\n",
    "    Nd = len(U)\n",
    "    \n",
    "    # red/black mask\n",
    "    mask_rb = g.complex(grid_eo)\n",
    "    mask_rb[:] = 1\n",
    "    # full mask\n",
    "    mask = g.complex(grid)\n",
    "    \n",
    "    # simple plaquette action\n",
    "    def staple(U, mu):\n",
    "        st = g.lattice(U[0])\n",
    "        st[:] = 0\n",
    "        Nd = len(U)\n",
    "        for nu in range(Nd):\n",
    "            if mu != nu:\n",
    "                st += g.qcd.gauge.staple(U, mu, nu) / U[0].otype.Nc\n",
    "        return st\n",
    "    \n",
    "    g.default.push_verbose(\"su2_heat_bath\", False)\n",
    "    markov = g.algorithms.markov.su2_heat_bath(rng)\n",
    "    U = g.qcd.gauge.unit(grid)\n",
    "    plaquette_heatbath = []\n",
    "    for it in range(150):\n",
    "        plaq = g.qcd.gauge.plaquette(U)\n",
    "        plaquette_heatbath.append(plaq)\n",
    "        if it % 50 == 0:\n",
    "            g.message(f\"SU(2)-subgroup heatbath {it} has P = {plaq}\")\n",
    "        for cb in [g.even, g.odd]:\n",
    "            mask[:] = 0\n",
    "            mask_rb.checkerboard(cb)\n",
    "            g.set_checkerboard(mask, mask_rb)\n",
    "    \n",
    "            for mu in range(Nd):\n",
    "                st = g.eval(beta * staple(U, mu))\n",
    "                markov(U[mu], st, mask)\n",
    "\n",
    "    return U"
   ]
  },
  {
   "cell_type": "code",
   "execution_count": 37,
   "id": "91534fbc-3f12-4e6f-81a5-d996c7645cbd",
   "metadata": {},
   "outputs": [
    {
     "name": "stdout",
     "output_type": "stream",
     "text": [
      "GPT :    6373.905487 s : Initializing gpt.random(test,vectorized_ranlux24_24_64) took 0.000183344 s\n",
      "GPT :    6374.032852 s : SU(2)-subgroup heatbath 0 has P = 1.0\n",
      "GPT :    6381.186679 s : SU(2)-subgroup heatbath 50 has P = 0.5029050509134928\n",
      "GPT :    6389.554543 s : SU(2)-subgroup heatbath 100 has P = 0.4927652147081163\n"
     ]
    }
   ],
   "source": [
    "U = heatbath_quenched_config(8,8,5.5)"
   ]
  },
  {
   "cell_type": "markdown",
   "id": "5f830fb4-ed08-4b56-b5dd-41d3227a37ee",
   "metadata": {},
   "source": [
    "From here, we want to calculate the eigenvalues. We initialize the Wilson Dirac operator, intialize a random fermion field for it to act on, then use the Arnoldi algorithm to calculate $N$ eigenvectors and eigenvalues. We only return the eigenvalues because we won't need to use the eigenvectors here. "
   ]
  },
  {
   "cell_type": "code",
   "execution_count": 9,
   "id": "0e12b5dc-c57d-414f-8ee6-855ff7a48706",
   "metadata": {},
   "outputs": [],
   "source": [
    "def compute_evs_Wilson(U,m):\n",
    "    #operator init\n",
    "    w = g.qcd.fermion.wilson_clover(U, mass=0.0, csw_r=0.0, csw_t=0.0, nu=1.0, xi_0=1.0,isAnisotropic=False,\n",
    "                                    boundary_phases=[1,1,1,-1])\n",
    "\n",
    "    #initialize random quark fields for the operator to act on\n",
    "    start = g.vspincolor(w.F_grid)\n",
    "\n",
    "    #define the implicitly restarted arnoldi eigenvector calculator. Nmin is the minimum amount of vectors we want, Nmax is a bigger\n",
    "    #space of eigenvectors to look in, Nstop is where we would be fine with stopping, and resid is the accepted error\n",
    "    g.default.set_verbose(\"arnoldi\",False)\n",
    "    a = g.algorithms.eigen.arnoldi(Nmin=700, Nmax=1400, Nstep=100,Nstop=500,resid=1e-6,implicit_restart=True)\n",
    "\n",
    "    evec,evals = a(w,start)\n",
    "    return evals"
   ]
  },
  {
   "cell_type": "code",
   "execution_count": 11,
   "id": "7939333a-7868-4301-a70b-1958fbd85549",
   "metadata": {},
   "outputs": [],
   "source": [
    "ev_wilson_free = compute_evs_Wilson(U_f,0.0)"
   ]
  },
  {
   "cell_type": "markdown",
   "id": "30a4eb85-88e0-4303-9c91-2ca528c40e6f",
   "metadata": {},
   "source": [
    "EXERCISE: create a scatterplot of eigenvalues in the complex plane, and plot the GW circle. comment on the shape of the scatterplot. "
   ]
  },
  {
   "cell_type": "code",
   "execution_count": 2,
   "id": "4c267322-5eef-4c19-bd44-bfee166686f1",
   "metadata": {},
   "outputs": [
    {
     "ename": "NameError",
     "evalue": "name 'plt' is not defined",
     "output_type": "error",
     "traceback": [
      "\u001b[0;31m---------------------------------------------------------------------------\u001b[0m",
      "\u001b[0;31mNameError\u001b[0m                                 Traceback (most recent call last)",
      "Cell \u001b[0;32mIn[2], line 2\u001b[0m\n\u001b[1;32m      1\u001b[0m \u001b[38;5;66;03m#plot Wilson Dirac spectra\u001b[39;00m\n\u001b[0;32m----> 2\u001b[0m fig1,ax1 \u001b[38;5;241m=\u001b[39m \u001b[43mplt\u001b[49m\u001b[38;5;241m.\u001b[39msubplots()\n\u001b[1;32m      4\u001b[0m \u001b[38;5;66;03m#create a scatterplot using the real and imaginary parts of the eigenvalues\u001b[39;00m\n\u001b[1;32m      5\u001b[0m \n\u001b[1;32m      6\u001b[0m \u001b[38;5;66;03m#plot the GW circle, which is just a circle centered at 1 with radius 1 in this case\u001b[39;00m\n\u001b[1;32m      8\u001b[0m ax1\u001b[38;5;241m.\u001b[39mlegend();\n",
      "\u001b[0;31mNameError\u001b[0m: name 'plt' is not defined"
     ]
    }
   ],
   "source": [
    "#plot Wilson Dirac spectra\n",
    "fig1,ax1 = plt.subplots()\n",
    "\n",
    "#create a scatterplot using the real and imaginary parts of the eigenvalues\n",
    "\n",
    "#plot the GW circle, which is just a circle centered at 1 with radius 1 in this case\n",
    "\n",
    "ax1.legend();"
   ]
  },
  {
   "cell_type": "markdown",
   "id": "a72e9a1c-0961-42e8-85b0-99132a6675ce",
   "metadata": {},
   "source": [
    "Optional exercise: try this again for the interacting case, using a quenched configuration generated from the function at the beginning of the notebook"
   ]
  },
  {
   "cell_type": "markdown",
   "id": "cbe0c24a-6594-488d-9b6d-eea0fe7d0493",
   "metadata": {},
   "source": [
    "### Overlap operator spectra"
   ]
  },
  {
   "cell_type": "markdown",
   "id": "4acdece9-0d82-45b7-87e8-a0ad51030af5",
   "metadata": {},
   "source": [
    "For this part of the exercise, we are going to calculate the eigenvalues and eigenvectors of the overlap operator:\n",
    "$$\n",
    "D_{\\text{ov}} = \\frac{1}{a}(1 + \\gamma_5\\text{sign}[H]), \\quad H = \\gamma_5A\n",
    "$$\n",
    "for some general Hermitian kernel operator $H$. \n",
    "\n",
    "We will use the Wilson Dirac operator as $A$, thus $H = \\gamma_5D_w(m = -M_5)$, where $M_5 = 1 + s$. This 'mass' parameter does not correspond to the mass of the fermion this operator describes,we are still working with massless fermions for any $M_5$."
   ]
  },
  {
   "cell_type": "markdown",
   "id": "b59b56da-8a39-4941-a345-9e01cd4e9bea",
   "metadata": {},
   "source": [
    "EXERCISE: Show the general form of the overlap operator is a solution to the Ginsparg-Wilson equation,\n",
    "$$\n",
    "D\\gamma_5 + \\gamma_5D = aD\\gamma_5D\n",
    "$$"
   ]
  },
  {
   "cell_type": "markdown",
   "id": "d0305e1c-085a-4b02-a36d-1382571cb89a",
   "metadata": {},
   "source": [
    "The overlap operator is gauge invariant and chirally symmetric, and its free of doublers because the kernel we are using is free of doublers, the Wilson Dirac operator. Any doubler free lattice Dirac operator can be used as the kernel, and the overlap operator will show these same properties. In this sense we can think of the overlap operator as a projection of a non-chiral doubler free lattice operator onto a chirally symmetric Dirac operator. \n",
    "\n",
    "Now we want to look at the spectrum of the overlap operator with the Wilson Dirac operator as its kernel. The tricky part is the evaluation of the Sign function, which acts by replacing all of the operator's eigenvalues by their sign. As a first step, we rewrite the sign function as \n",
    "$$\n",
    "\\text{Sign[H]} = \\frac{H}{|H|} = \\frac{H}{\\sqrt{H^2}}\n",
    "$$\n",
    "The main issue here is how do we apply the $\\sqrt{H^2}$ term to a given vector. We are first interested in looking at the spectrum of $H^2$. We pick $M_5 = 1.8$"
   ]
  },
  {
   "cell_type": "code",
   "execution_count": 16,
   "id": "ec617ae7-5e5f-4d4e-be8e-69c7d07bb51c",
   "metadata": {},
   "outputs": [
    {
     "name": "stdout",
     "output_type": "stream",
     "text": [
      "GPT :    1153.891060 s : Initializing gpt.random(evecs,vectorized_ranlux24_389_64) took 0.000174522 s\n"
     ]
    }
   ],
   "source": [
    "w = g.qcd.fermion.wilson_clover(U_f, mass=-1.8, csw_r=0.0, csw_t=0.0, nu=1.0, xi_0=1.0,\n",
    "                                isAnisotropic=False,boundary_phases=[1,1,1,-1])\n",
    "\n",
    "#initialize random quark fields for the operator to act on\n",
    "start = g.vspincolor(w.F_grid)\n",
    "rng = g.random(\"evecs\")\n",
    "rng.normal(start)\n",
    "\n",
    "#function that defines H^2\n",
    "def H2(dst,src):\n",
    "    dst @= g.gamma[5] * w * g.gamma[5] * w * src\n",
    "\n",
    "#We use the arnoldi algorithm on the H^2 operator.\n",
    "g.default.set_verbose(\"arnoldi\",False)\n",
    "a = g.algorithms.eigen.arnoldi(Nmin=700, Nmax=1400, Nstep=100, Nstop=500, resid=1e-6, implicit_restart=True)\n",
    "\n",
    "evecH2, evalsH2 = a(H2,start)"
   ]
  },
  {
   "cell_type": "code",
   "execution_count": 18,
   "id": "18f7073a-cdca-413a-9048-3fe5c9d1d771",
   "metadata": {},
   "outputs": [
    {
     "data": {
      "text/plain": [
       "Text(0, 0.5, 'eigenvalue of H^2')"
      ]
     },
     "execution_count": 18,
     "metadata": {},
     "output_type": "execute_result"
    },
    {
     "data": {
      "image/png": "[encoded data removed]",
      "text/plain": [
       "<Figure size 640x480 with 1 Axes>"
      ]
     },
     "metadata": {},
     "output_type": "display_data"
    }
   ],
   "source": [
    "fig2,ax2 = plt.subplots()\n",
    "\n",
    "ax2.plot(list(range(len(evalsH2))),sorted([e.real for e in evalsH2]))\n",
    "ax2.set_xlim(0,200)\n",
    "ax2.set_ylim(0,20)\n",
    "ax2.set_xlabel(\"Number of eigenvalues\")\n",
    "ax2.set_ylabel(\"eigenvalue of H^2\")"
   ]
  },
  {
   "cell_type": "markdown",
   "id": "80b5a17b-aa0c-4540-b017-74069d83cbeb",
   "metadata": {},
   "source": [
    "We clearly have some small eigenvalues. A common thing to do when evaluating the overlap operator is to define a deflated operator\n",
    "$$\n",
    "H^2_{\\text{def}} = H^2 - \\sum_n \\lambda_n |n\\rangle\\langle n|\n",
    "$$\n",
    "with eigenvalues $\\lambda_n$ and eigenvectors $|n\\rangle$, and the sum running over the smallest eigenvalues up to a given threshold. \n",
    "\n",
    "We combine this small eigenmode subtraction with a polynomial approximation using Chebyshev polynomials. Chebyshev polynomials are defined in the interval $[-1,1]$, so we map the domain of eigenvalues into the domain of the Chebyshev polynomials. Then we expand the function in a truncated series,\n",
    "$$\n",
    " r(x) \\approx \\sum_{n=0}^{N-1}c_nT_n(x)\n",
    "$$\n",
    "in our case, for the inverse square root function, for $\\lambda \\in [\\alpha^2,\\beta^2]$\n",
    "$$\n",
    "r(x) = \\frac{1}{\\sqrt{\\lambda(x)}} = \\left(\\frac{1}{2}(\\beta^2 + \\alpha^2) + \\frac{x}{2}(\\beta^2 - \\alpha^2)\\right)^{-1/2}\n",
    "$$\n",
    "The coefficients are defined by\n",
    "$$\n",
    "c_n = \\frac{\\pi}{N}\\sum_{k=1}^Nr(x_k)T_n(x_k),\\quad x_k = \\cos\\left(\\left(k-\\frac{1}{2}\\right)\\frac{\\pi}{N}\\right)\n",
    "$$\n",
    "and the approximation of the sign function comes from multiplication by $H$\n",
    "$$\n",
    "\\text{sign}[H] = \\frac{H}{\\sqrt{H^2}} = H\\sum_{n=0}^{N-1}c_nT_n(X) + \\mathcal{O}(\\text{exp}(-2N|\\alpha/\\beta|))\n",
    "$$\n",
    "where \n",
    "$$\n",
    " X = \\frac{2H^2 - (\\beta^2 + \\alpha^2)}{\\beta^2 - \\alpha^2}\n",
    "$$\n",
    "\n",
    "All of this is conviniently implemented in GPT, and we will use that here."
   ]
  },
  {
   "cell_type": "code",
   "execution_count": 19,
   "id": "cea8aa94-7cb3-475b-b4ee-f47dcabc2a7c",
   "metadata": {},
   "outputs": [],
   "source": [
    "#with this, c(x) will approximate the function (x)^(-1/2) \n",
    "c = g.algorithms.polynomial.chebyshev(low=0.5,high=40,order=30,func=lambda x: x**-0.5)"
   ]
  },
  {
   "cell_type": "code",
   "execution_count": 27,
   "id": "7f3899f3-45af-4693-8b86-0f37085228d4",
   "metadata": {},
   "outputs": [],
   "source": [
    "#sorts the eigenvalues so we can subtract the smallest ones\n",
    "idx = evalsH2.real.argsort()\n",
    "\n",
    "#this function is our approximate inverse square root function in the overlap operator\n",
    "def Hm0p5(dst,src):\n",
    "    deflated_src = g.copy(src)\n",
    "    dst[:] = 0\n",
    "    for i in range(20):\n",
    "        v = g.inner_product(evecH2[idx[i]],deflated_src)\n",
    "        dst += evalsH2[idx[i]]**-0.5 * evecH2[idx[i]] * v\n",
    "        deflated_src -= evecH2[idx[i]] * v\n",
    "    dst += c(H2) * deflated_src #the return is the chebyshev approximation acting on the deflated field\n",
    "\n",
    "#The form of these functions, F(dst,src) effectively acts the function on the 'src' argument, and returns\n",
    "#it to the \"dst\" argument. So Hm0p5(dst,src) acts the sign function on src, and puts it in dst."
   ]
  },
  {
   "cell_type": "markdown",
   "id": "93b7de38-1700-486f-ab57-682caeee981c",
   "metadata": {},
   "source": [
    "EXERCISE: define the overlap operator in the cell below using the following form of the overlap operator\n",
    "$$\n",
    "D_{\\text{ov}} = \\frac{1}{a}\\left(1 + \\gamma_5H(H^2)^{-1/2} \\right), \\quad H = \\gamma_5A\n",
    "$$\n",
    "\n",
    "$$\n",
    "D_{\\text{ov}} = \\frac{1}{a}\\left(1 + A(\\gamma_5A\\gamma_5A)^{-1/2} \\right)\n",
    "$$\n",
    "where $A$ is the Wilson Dirac operator with mass $M_5$\n",
    "\n",
    "The Hm0p5 function above approximates the quantity in the inverse square root, so apply that function first, and complete the expression in the function below. "
   ]
  },
  {
   "cell_type": "code",
   "execution_count": 28,
   "id": "d0aac113-f669-46c7-8798-a01b06edfc88",
   "metadata": {},
   "outputs": [
    {
     "ename": "SyntaxError",
     "evalue": "invalid syntax (3969584299.py, line 6)",
     "output_type": "error",
     "traceback": [
      "\u001b[0;36m  Cell \u001b[0;32mIn[28], line 6\u001b[0;36m\u001b[0m\n\u001b[0;31m    dst @= #Fill this in - reminder, you can use the regular '*' operation for multiplication here due to how the operation is defined in GPT\u001b[0m\n\u001b[0m           ^\u001b[0m\n\u001b[0;31mSyntaxError\u001b[0m\u001b[0;31m:\u001b[0m invalid syntax\n"
     ]
    }
   ],
   "source": [
    "#act the sign function above on 'src', then use the definition of the overlap\n",
    "#operator above to fully define the function\n",
    "def Overlap(dst,src):\n",
    "\n",
    "    #act the above Hm0p5 on the passed in src\n",
    "    dst @= #Fill this in - reminder, you can use the regular '*' operation for multiplication here due to how the operation is defined in GPT\n",
    "    "
   ]
  },
  {
   "cell_type": "markdown",
   "id": "45b748be-8b52-4556-bb36-58b70fd77188",
   "metadata": {},
   "source": [
    "Now with the overlap function defined, run the two cells below to calculate the eigenvalues and eigenvectors of the overlap operator using the Arnoldi algorithm, and plot the eigenvalues along with the GW circle in the complex plane. "
   ]
  },
  {
   "cell_type": "code",
   "execution_count": 22,
   "id": "77b2122c-f87f-47df-8f40-a106f30d21bb",
   "metadata": {},
   "outputs": [],
   "source": [
    "g.default.set_verbose(\"arnoldi\", False)\n",
    "a = g.algorithms.eigen.arnoldi(Nmin=300, Nmax=1400, Nstep=100, Nstop=200, resid=1e-6, implicit_restart=True)\n",
    "\n",
    "evecOv, evalsOv = a(Overlap, start)"
   ]
  },
  {
   "cell_type": "code",
   "execution_count": 1,
   "id": "098b47d6-3d2c-4fbf-98dd-82a8ef5b4062",
   "metadata": {},
   "outputs": [
    {
     "ename": "NameError",
     "evalue": "name 'plt' is not defined",
     "output_type": "error",
     "traceback": [
      "\u001b[0;31m---------------------------------------------------------------------------\u001b[0m",
      "\u001b[0;31mNameError\u001b[0m                                 Traceback (most recent call last)",
      "Cell \u001b[0;32mIn[1], line 1\u001b[0m\n\u001b[0;32m----> 1\u001b[0m fig3, ax3 \u001b[38;5;241m=\u001b[39m \u001b[43mplt\u001b[49m\u001b[38;5;241m.\u001b[39msubplots()\n\u001b[1;32m      2\u001b[0m ax3\u001b[38;5;241m.\u001b[39mscatter([e\u001b[38;5;241m.\u001b[39mreal \u001b[38;5;28;01mfor\u001b[39;00m e \u001b[38;5;129;01min\u001b[39;00m evalsOv], [e\u001b[38;5;241m.\u001b[39mimag \u001b[38;5;28;01mfor\u001b[39;00m e \u001b[38;5;129;01min\u001b[39;00m evalsOv], label\u001b[38;5;241m=\u001b[39m\u001b[38;5;124m\"\u001b[39m\u001b[38;5;124mOverlap (M5=-1.8, U=1)\u001b[39m\u001b[38;5;124m\"\u001b[39m)\n\u001b[1;32m      3\u001b[0m ax3\u001b[38;5;241m.\u001b[39mplot([\u001b[38;5;241m1\u001b[39m \u001b[38;5;241m-\u001b[39m np\u001b[38;5;241m.\u001b[39mcos(phi) \u001b[38;5;28;01mfor\u001b[39;00m phi \u001b[38;5;129;01min\u001b[39;00m np\u001b[38;5;241m.\u001b[39marange(\u001b[38;5;241m0\u001b[39m,\u001b[38;5;241m2\u001b[39m\u001b[38;5;241m*\u001b[39mnp\u001b[38;5;241m.\u001b[39mpi,\u001b[38;5;241m0.1\u001b[39m)],[np\u001b[38;5;241m.\u001b[39msin(phi) \u001b[38;5;28;01mfor\u001b[39;00m phi \u001b[38;5;129;01min\u001b[39;00m np\u001b[38;5;241m.\u001b[39marange(\u001b[38;5;241m0\u001b[39m,\u001b[38;5;241m2\u001b[39m\u001b[38;5;241m*\u001b[39mnp\u001b[38;5;241m.\u001b[39mpi,\u001b[38;5;241m0.1\u001b[39m)], c\u001b[38;5;241m=\u001b[39m\u001b[38;5;124m\"\u001b[39m\u001b[38;5;124mred\u001b[39m\u001b[38;5;124m\"\u001b[39m, label\u001b[38;5;241m=\u001b[39m\u001b[38;5;124m\"\u001b[39m\u001b[38;5;124mGW circle\u001b[39m\u001b[38;5;124m\"\u001b[39m)\n",
      "\u001b[0;31mNameError\u001b[0m: name 'plt' is not defined"
     ]
    }
   ],
   "source": [
    "fig3, ax3 = plt.subplots()\n",
    "ax3.scatter([e.real for e in evalsOv], [e.imag for e in evalsOv], label=\"Overlap (M5=-1.8, U=1)\")\n",
    "ax3.plot([1 - np.cos(phi) for phi in np.arange(0,2*np.pi,0.1)],[np.sin(phi) for phi in np.arange(0,2*np.pi,0.1)], c=\"red\", label=\"GW circle\")\n",
    "ax3.legend()\n",
    "ax3.set_xlim(-0.1,2.2)\n",
    "ax3.set_ylim(-1.1,1.1)"
   ]
  },
  {
   "cell_type": "markdown",
   "id": "3b6de23e-ab5a-4463-ba62-d1134eb204f9",
   "metadata": {},
   "source": [
    "Optional exercise: Do this again with the quenched configuration generated at the beginning of this notebook"
   ]
  },
  {
   "cell_type": "code",
   "execution_count": null,
   "id": "77b54333-afce-446f-a34d-493eb4bb8ab9",
   "metadata": {},
   "outputs": [],
   "source": []
  }
 ],
 "metadata": {
  "kernelspec": {
   "display_name": "Python 3 (ipykernel)",
   "language": "python",
   "name": "python3"
  },
  "language_info": {
   "codemirror_mode": {
    "name": "ipython",
    "version": 3
   },
   "file_extension": ".py",
   "mimetype": "text/x-python",
   "name": "python",
   "nbconvert_exporter": "python",
   "pygments_lexer": "ipython3",
   "version": "3.10.12"
  }
 },
 "nbformat": 4,
 "nbformat_minor": 5
}
