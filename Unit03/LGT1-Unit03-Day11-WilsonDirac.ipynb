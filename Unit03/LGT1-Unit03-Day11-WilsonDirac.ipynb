{
 "cells": [
  {
   "cell_type": "markdown",
   "id": "707ec3de-a3c0-459e-8c91-837a39aa20da",
   "metadata": {},
   "source": [
    "# LGT1 Day 11 Exercises "
   ]
  },
  {
   "cell_type": "markdown",
   "id": "3a18aa41-90c9-4180-a829-bb44718dce7c",
   "metadata": {},
   "source": [
    "For today's exercises we will be investigating properties of the Wilson Dirac operator.\n",
    "\n",
    "Here are today's exercises\n",
    "\n",
    "1. Calculate the quark propagator including the new Wilson term (analytic)\n",
    "2. Show the Wilson Dirac operator is invariant under Parity (analytic)\n",
    "3. Implement the Wilson Dirac operator and show that it is Gamma-5 Hermitian\n"
   ]
  },
  {
   "cell_type": "code",
   "execution_count": 3,
   "id": "57c305b4",
   "metadata": {},
   "outputs": [],
   "source": [
    "import numpy as np"
   ]
  },
  {
   "cell_type": "code",
   "execution_count": 1,
   "id": "62ceba8a-e5fc-453e-aa80-9cb1ed05b09e",
   "metadata": {},
   "outputs": [],
   "source": [
    "Nc = 3\n",
    "Nd = 4\n",
    "L = 8\n",
    "Lt = 8\n",
    "num_sites = L*L*L*Lt"
   ]
  },
  {
   "cell_type": "markdown",
   "id": "255de325",
   "metadata": {},
   "source": [
    "On the github page is a set of 8^4 pure gauge configs that we will use here. "
   ]
  },
  {
   "cell_type": "code",
   "execution_count": 5,
   "id": "2226f65c",
   "metadata": {},
   "outputs": [],
   "source": [
    "gauge = np.load('LGT1-day11-configs.npy')\n",
    "gauge.shape\n",
    "U = gauge[0] "
   ]
  },
  {
   "cell_type": "code",
   "execution_count": null,
   "id": "f7b70f69",
   "metadata": {},
   "outputs": [],
   "source": [
    "def adj(M):\n",
    "    return np.conj(np.swapaxes(M, axis1=-1,axis2=-2))\n",
    "\n",
    "#Define gamma matrices\n",
    "gamma = []\n",
    "gamma.append(np.array([[0,0,0,1j],[0,0,1j,0],[0,-1j,0,0],[-1j,0,0,0]]))\n",
    "gamma.append(np.array([[0,0,0,-1+0j],[0,0,1+0j,0],[0,1+0j,0,0],[-1+0j,0,0,0]]))\n",
    "gamma.append(np.array([[0,0,1j,0],[0,0,0,-1j],[-1j,0,0,0],[0,1j,0,0]]))\n",
    "gamma.append(np.array([[0,0,1+0j,0],[0,0,0,1+0j],[1+0j,0,0,0],[0,1+0j,0,0]]))\n",
    "\n",
    "def WilsonDirac(U,src,m):\n",
    "    dst = (m + 4) * src #mass term\n",
    "    \n",
    "    ## Implement the kinetic term with covariant shifts ## \n",
    "\n",
    "    return dst"
   ]
  },
  {
   "cell_type": "code",
   "execution_count": 7,
   "id": "4da3d2e3",
   "metadata": {},
   "outputs": [],
   "source": [
    "#we will use random Fermi fields to check the gamma-5 Hermiticity of the Wilson Dirac operator\n",
    "q1 = np.array([8,8,8,8,4,3],dtype=np.complex128)\n",
    "q2 = np.array([8,8,8,8,4,3],dtype=np.complex128)\n",
    "\n",
    "q1_r = np.random.rand(8,8,8,8,4,3) \n",
    "q1_i = np.random.rand(8,8,8,8,4,3)\n",
    "q2_r = np.random.rand(8,8,8,8,4,3) \n",
    "q2_i = np.random.rand(8,8,8,8,4,3)\n",
    "\n",
    "q1 = q1_r + 1j * q1_i\n",
    "q2 = q2_r + 1j * q2_i"
   ]
  },
  {
   "cell_type": "code",
   "execution_count": null,
   "id": "697f636c",
   "metadata": {},
   "outputs": [],
   "source": [
    "#Check that your implementation of the Dirac operator is gamma-5 Hermitian using the random Fermi fields defined above. "
   ]
  }
 ],
 "metadata": {
  "kernelspec": {
   "display_name": "Python 3 (ipykernel)",
   "language": "python",
   "name": "python3"
  },
  "language_info": {
   "codemirror_mode": {
    "name": "ipython",
    "version": 3
   },
   "file_extension": ".py",
   "mimetype": "text/x-python",
   "name": "python",
   "nbconvert_exporter": "python",
   "pygments_lexer": "ipython3",
   "version": "3.12.4"
  }
 },
 "nbformat": 4,
 "nbformat_minor": 5
}
