{
 "cells": [
  {
   "cell_type": "code",
   "execution_count": 1,
   "id": "3e4b1a50",
   "metadata": {},
   "outputs": [],
   "source": [
    "import numpy as np\n",
    "import math\n",
    "import matplotlib.pyplot as plt\n",
    "import itertools as it\n",
    "import scipy.linalg, scipy.optimize\n",
    "from scipy.linalg import expm\n",
    "import copy as cp"
   ]
  },
  {
   "cell_type": "markdown",
   "id": "2f170d7f",
   "metadata": {},
   "source": [
    "# Hamiltonian of the Schwinger model:\n",
    "Consider the purely fermionic formulation and open boundary condition (OBC), the dimensionless Hamiltonian is:\n",
    "$$    H = \\text{x}\\sum_{x=0}^{N-2}{\\left[\\psi^\\dagger(x)\\psi(x+1)+\\text{h.c.}\\right]} + \\mu \\sum_{x=0}^{N-1}{(-1)^x\\psi^\\dagger(x)\\psi(x)} + \\sum_{x=0}^{N-2}{\\left\\{ \\epsilon_0-\\sum_{y=0}^x{\\left[\\psi^\\dagger(y)\\psi(y)-\\frac{1-{(-1)}^y}{2}\\right]} \\right\\}^2} $$\n",
    "The hopping term, the mass term and the electric term in the electric basis are still recognizable, but only fermionic operators $\\psi$, $\\psi^\\dagger$ remain. After Jordan-Wigner transformation, one obtains:\n",
    "$$\n",
    "    H =  \\text{x}\\sum_{x=0}^{N-2}{\\left[\\sigma^+(x)\\sigma^-(x+1)+\\text{h.c.}\\right]} + \\frac{\\mu}{2} \\sum_{x=0}^{N-1}{(-1)^{x+1}\\sigma^{\\text{z}}(x)} + \\sum_{x=0}^{N-2}{\\left\\{ \\epsilon_0+ \\frac{1}{2}\\sum_{y=0}^x{\\left[\\sigma^{\\text{z}}(y)-(-1)^y\\right]} \\right\\}^2} \n",
    "    =  H^X + H^{ZZ} + H^Z\n",
    "$$\n",
    "The goal of this notebook is to study the dyamics of Schwinger model using exact diagonalization. "
   ]
  },
  {
   "cell_type": "markdown",
   "id": "a9c5b659",
   "metadata": {},
   "source": [
    "### Theory parameters"
   ]
  },
  {
   "cell_type": "code",
   "execution_count": 2,
   "id": "0174f95e",
   "metadata": {},
   "outputs": [],
   "source": [
    "N = 4          # number of sites\n",
    "a = 1          # lattice spacing\n",
    "\n",
    "Nphys = N//2   # number of physical sites\n",
    "x_factor = 0.6 # hopping parameter\n",
    "mf = 0.1       # fermion mass\n",
    "pi = math.pi"
   ]
  },
  {
   "cell_type": "code",
   "execution_count": 3,
   "id": "d48d08a0",
   "metadata": {},
   "outputs": [
    {
     "name": "stdout",
     "output_type": "stream",
     "text": [
      "Size of full Hilbert space = 16\n"
     ]
    }
   ],
   "source": [
    "Hilbert_full = 2**N\n",
    "print(\"Size of full Hilbert space =\", Hilbert_full)"
   ]
  },
  {
   "cell_type": "code",
   "execution_count": 4,
   "id": "40896ef8",
   "metadata": {},
   "outputs": [],
   "source": [
    "# General functions\n",
    "def commute(A,B):\n",
    "    res = np.matmul(A,B) - np.matmul(B,A)\n",
    "    return(np.all(np.isclose(res,0)))\n",
    "\n",
    "def is_hermitian(H):\n",
    "    HC = H.conj().T\n",
    "    return(np.all(np.isclose(HC, H)))\n",
    "\n",
    "def eigen(H):\n",
    "    Hw, Hv =  scipy.linalg.eigh(H)\n",
    "    idx = Hw.argsort() #small to large\n",
    "    Hw = Hw[idx].real\n",
    "    Hv = Hv.T\n",
    "    Hv = Hv[idx]\n",
    "    return Hw, Hv"
   ]
  },
  {
   "cell_type": "markdown",
   "id": "1aad8a28",
   "metadata": {},
   "source": [
    "# Full Hilbert space Hamiltonian"
   ]
  },
  {
   "cell_type": "code",
   "execution_count": 5,
   "id": "bf6d2c1f",
   "metadata": {},
   "outputs": [],
   "source": [
    "# Define the Pauli matrices\n",
    "I = np.array([[1, 0], [0, 1]], dtype=complex)\n",
    "X = np.array([[0, 1], [1, 0]], dtype=complex)\n",
    "Y = np.array([[0, -1j], [1j, 0]], dtype=complex)\n",
    "Z = np.array([[1, 0], [0, -1]], dtype=complex)\n",
    "\n",
    "# tensor product\n",
    "def kron_n(*args):\n",
    "    \"\"\"Computes the Kronecker product of a list of matrices.\"\"\"\n",
    "    result = np.array([[1]], dtype=complex)\n",
    "    for op in args:\n",
    "        result = np.kron(op, result)\n",
    "    return result"
   ]
  },
  {
   "cell_type": "markdown",
   "id": "5d36df8f",
   "metadata": {},
   "source": [
    "### Build the Hamiltonian using spin operators"
   ]
  },
  {
   "cell_type": "code",
   "execution_count": 6,
   "id": "309f21cf",
   "metadata": {},
   "outputs": [
    {
     "name": "stdout",
     "output_type": "stream",
     "text": [
      "True\n"
     ]
    }
   ],
   "source": [
    "e0 = 0\n",
    "I_mat = kron_n(*[I for k in range(N)])\n",
    "\n",
    "# 2 ways of implementing H_x (hopping term)\n",
    "\n",
    "# \"Stairs\" (V_1')\n",
    "H_xx = np.zeros((2**N, 2**N), dtype=complex)\n",
    "for i in range(N-1):\n",
    "    spins_x = [X if j == i or j == (i + 1) % N else I for j in range(N)]\n",
    "    H_xx += 0.5 * kron_n(*spins_x)\n",
    "    \n",
    "H_yy = np.zeros((2**N, 2**N), dtype=complex)    \n",
    "for i in range(N-1):\n",
    "    spins_y = [Y if j == i or j == (i + 1) % N else I for j in range(N)]\n",
    "    H_yy += 0.5 * kron_n(*spins_y)\n",
    "\n",
    "H_x_stairs = H_xx + H_yy\n",
    "\n",
    "# \"Brickwall\" (V_1)\n",
    "H_x_even = np.zeros((2**N, 2**N), dtype=complex)\n",
    "for i in range(0, N-1, 2):\n",
    "    spins_x = [X if j == i or j == (i + 1) % N else I for j in range(N)]\n",
    "    spins_y = [Y if j == i or j == (i + 1) % N else I for j in range(N)]\n",
    "    H_x_even += 0.5 * (kron_n(*spins_x)+kron_n(*spins_y))\n",
    "    \n",
    "H_x_odd = np.zeros((2**N, 2**N), dtype=complex)    \n",
    "for i in range(1, N-2, 2):\n",
    "    spins_x = [X if j == i or j == (i + 1) % N else I for j in range(N)]\n",
    "    spins_y = [Y if j == i or j == (i + 1) % N else I for j in range(N)]\n",
    "    H_x_odd += 0.5 * (kron_n(*spins_x)+kron_n(*spins_y))\n",
    "    \n",
    "\n",
    "H_x_brickwall = H_x_even + H_x_odd\n",
    "    \n",
    "print(np.all(np.isclose(H_x_stairs, H_x_brickwall)))"
   ]
  },
  {
   "cell_type": "code",
   "execution_count": 7,
   "id": "a6058659",
   "metadata": {},
   "outputs": [],
   "source": [
    "# mass term\n",
    "H_z = np.zeros((2**N, 2**N), dtype=complex)\n",
    "for i in range(N):\n",
    "    spins = [Z if j == i else I for j in range(N)]\n",
    "    H_z += (-1)**(i+1)*kron_n(*spins)\n",
    "\n",
    "# electric term, notice the non-local stucture\n",
    "H_zz = np.zeros((2**N, 2**N), dtype=complex)\n",
    "for i in range(N-1):\n",
    "    E_mat = np.zeros((2**N, 2**N), dtype=complex)\n",
    "    for j in range(i+1):\n",
    "        spins = [Z if k == j else I for k in range(N)]\n",
    "        E_mat += 0.5*(kron_n(*spins) - (-1)**j*I_mat)\n",
    "    H_zz += (e0*I_mat + E_mat) @ (e0*I_mat + E_mat)"
   ]
  },
  {
   "cell_type": "code",
   "execution_count": 8,
   "id": "5f4b4cf5",
   "metadata": {},
   "outputs": [
    {
     "name": "stdout",
     "output_type": "stream",
     "text": [
      "False\n",
      "True\n"
     ]
    }
   ],
   "source": [
    "# Check commute or not\n",
    "print(commute(H_zz, H_x_brickwall))\n",
    "print(commute(H_zz, H_z))"
   ]
  },
  {
   "cell_type": "markdown",
   "id": "0d2a31f2",
   "metadata": {},
   "source": [
    "### Spectrum of the full Hamiltonian"
   ]
  },
  {
   "cell_type": "code",
   "execution_count": 9,
   "id": "2c7a2178",
   "metadata": {},
   "outputs": [
    {
     "name": "stdout",
     "output_type": "stream",
     "text": [
      "(16, 16)\n"
     ]
    }
   ],
   "source": [
    "H_full = x_factor*H_x_brickwall + 0.5*mf*H_z + H_zz\n",
    "print(H_full.shape)"
   ]
  },
  {
   "cell_type": "code",
   "execution_count": 10,
   "id": "ab7ccd3f",
   "metadata": {},
   "outputs": [
    {
     "name": "stdout",
     "output_type": "stream",
     "text": [
      "Spectrum =\n",
      "[-0.84487809 -0.55591798  0.62550611  0.7470235   0.88259793  1.\n",
      "  1.34238256  1.40926326  1.9913733   2.          2.26405679  2.34697392\n",
      "  3.17141253  3.40849811  6.          6.21170807]\n"
     ]
    }
   ],
   "source": [
    "Hw, Hv = eigen(H_full)\n",
    "print(\"Spectrum =\")\n",
    "print(Hw)"
   ]
  },
  {
   "cell_type": "markdown",
   "id": "fe05553e",
   "metadata": {},
   "source": [
    "# Time evolution"
   ]
  },
  {
   "cell_type": "markdown",
   "id": "e7c2fabc",
   "metadata": {},
   "source": [
    "To study the dynamics, we directly construct the time-evolution operator $U = e^{-iHt}$ by exactly exponentiating the Hamiltonian."
   ]
  },
  {
   "cell_type": "code",
   "execution_count": 11,
   "id": "24b5edbf",
   "metadata": {},
   "outputs": [],
   "source": [
    "# Time evolution operator U(t) = exp(-i * H * t)\n",
    "def time_evolution(H, t):\n",
    "    return expm(-1j * H * t)"
   ]
  },
  {
   "cell_type": "markdown",
   "id": "b2c6b646",
   "metadata": {},
   "source": [
    "The initial state is set to be the strong coupling vacuum $|\\psi(0)> = {|01>}^{\\otimes N/2}$. Here we are interested in the survival probability of the vacuum at time $t$:\n",
    "$$\n",
    "P_{\\rm vac}(t) = {\\left|<\\psi(0)|\\psi(t)>\\right|}^2 = {\\left|<\\psi(0)|e^{-iHt}|\\psi(0)>\\right|}^2\n",
    "$$\n",
    "Using the following parameters, one should be able to recover fig.6 in 2112.14262. "
   ]
  },
  {
   "cell_type": "code",
   "execution_count": 12,
   "id": "40aa3c3f",
   "metadata": {},
   "outputs": [],
   "source": [
    "# Parameters for time evolution\n",
    "time_steps = 100\n",
    "total_time = 5\n",
    "delta_t = total_time / time_steps\n",
    "\n",
    "# Initial state |1010>\n",
    "initial_state = np.zeros(2**N, dtype=complex)\n",
    "initial_state[10] = 1.0"
   ]
  },
  {
   "cell_type": "code",
   "execution_count": 13,
   "id": "743d34d8",
   "metadata": {},
   "outputs": [
    {
     "name": "stdout",
     "output_type": "stream",
     "text": [
      "Final state (amplitude squared):\n",
      "[0.         0.         0.         0.00312552 0.         0.00162288\n",
      " 0.12517595 0.         0.         0.12517595 0.45106123 0.\n",
      " 0.29383847 0.         0.         0.        ]\n"
     ]
    }
   ],
   "source": [
    "# Evolve the state over time\n",
    "state = initial_state.copy()\n",
    "evolution = [state]\n",
    "for step in range(time_steps):\n",
    "    U = time_evolution(H_full, delta_t)\n",
    "    state = U @ state\n",
    "    evolution.append(state)\n",
    "# Print final evolved state (amplitude squared)\n",
    "print(\"Final state (amplitude squared):\")\n",
    "print(np.abs(state)**2)"
   ]
  },
  {
   "cell_type": "code",
   "execution_count": 14,
   "id": "e5d6f8ea",
   "metadata": {},
   "outputs": [
    {
     "data": {
      "image/png": "[encoded data removed]",
      "text/plain": [
       "<Figure size 800x600 with 1 Axes>"
      ]
     },
     "metadata": {},
     "output_type": "display_data"
    }
   ],
   "source": [
    "# Plot probabilities\n",
    "probabilities = [np.abs(state)**2 for state in evolution]\n",
    "times = np.linspace(0, total_time, time_steps + 1)\n",
    "plt.figure(figsize=(8,6))\n",
    "plt.plot(times, [prob[10] for prob in probabilities], label=f\"State |1010>\")\n",
    "plt.ylim(0,1)\n",
    "plt.xlim(0,total_time)\n",
    "plt.xlabel(\"Time\")\n",
    "plt.ylabel(r\"$P_{\\rm vac}(t)$\")\n",
    "plt.legend()\n",
    "plt.show()"
   ]
  },
  {
   "cell_type": "markdown",
   "id": "fadd694a",
   "metadata": {},
   "source": [
    "The exact-diagonalization result serves as a benchmark for your circuit. Now you need to do the following:\n",
    "1. Figure out the coefficients of all ZZ and Z operators in the Hamiltonian, and use them as the angles for your gates.\n",
    "2. Implement 10 Trotter steps for the circuit time-evolution ($\\delta t$ for each step = 0.5). Use $V_1$ ordering (brickwall $H_x$). Plot the Trotterized survival probability.\n"
   ]
  },
  {
   "cell_type": "code",
   "execution_count": 15,
   "id": "a2759fe5",
   "metadata": {},
   "outputs": [
    {
     "data": {
      "image/png": "[encoded data removed]",
      "text/plain": [
       "<Figure size 800x600 with 1 Axes>"
      ]
     },
     "metadata": {},
     "output_type": "display_data"
    }
   ],
   "source": [
    "# Plot probabilities\n",
    "N_trotter = 10\n",
    "\n",
    "# Your circuit result\n",
    "#p_vac_trotter = [1.,         0.76021808, ...]\n",
    "\n",
    "plt.figure(figsize=(8,6))\n",
    "plt.plot(times, [prob[10] for prob in probabilities], label=f\"State |1010>\")\n",
    "plt.scatter(np.linspace(0, total_time, N_trotter + 1), p_vac_trotter, label=\"staggered density (Trotter)\")\n",
    "plt.ylim(0,1)\n",
    "plt.xlim(0,total_time)\n",
    "plt.xlabel(\"Time\")\n",
    "plt.ylabel(r\"$P_{\\rm vac}(t)$\")\n",
    "plt.legend()\n",
    "plt.show()"
   ]
  },
  {
   "cell_type": "markdown",
   "id": "dc861e2a",
   "metadata": {},
   "source": [
    "Compare your results with fig.6 in 2112.14262"
   ]
  },
  {
   "cell_type": "markdown",
   "id": "8f9b4d65",
   "metadata": {},
   "source": [
    "# Appendix"
   ]
  },
  {
   "cell_type": "markdown",
   "id": "0093a0a9",
   "metadata": {},
   "source": [
    "Here are some additional checks one can perform, including:\n",
    "1. Check the spectrum of the physical Hamiltonian with OBC\n",
    "2. Apply exact exponentiation of different components in the Hamiltonian. This should match the circuit result\n",
    "3. Calculate the staggered density using ED and Trotter"
   ]
  },
  {
   "cell_type": "markdown",
   "id": "ed7416a6",
   "metadata": {},
   "source": [
    "The staggered density counts the fermionic excitation, and is defined as:\n",
    "$$\n",
    "\\nu(t) = \\frac{1}{N}\\sum_n{\\nu_n(t)} \\\\\n",
    "\\nu_n(t) = <\\psi(t)|\\frac{(-1)^{(n+1)}\\sigma_n^{\\rm z}+1}{2}|\\psi(t)>\n",
    "$$"
   ]
  }
 ],
 "metadata": {
  "kernelspec": {
   "display_name": "Python 3 (ipykernel)",
   "language": "python",
   "name": "python3"
  },
  "language_info": {
   "codemirror_mode": {
    "name": "ipython",
    "version": 3
   },
   "file_extension": ".py",
   "mimetype": "text/x-python",
   "name": "python",
   "nbconvert_exporter": "python",
   "pygments_lexer": "ipython3",
   "version": "3.10.8"
  }
 },
 "nbformat": 4,
 "nbformat_minor": 5
}
