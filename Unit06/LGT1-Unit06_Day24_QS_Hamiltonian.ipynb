{
 "cells": [
  {
   "cell_type": "code",
   "execution_count": 1,
   "id": "3e4b1a50",
   "metadata": {},
   "outputs": [],
   "source": [
    "import numpy as np\n",
    "import math\n",
    "import matplotlib.pyplot as plt\n",
    "import itertools as it\n",
    "import scipy.linalg\n",
    "import time\n",
    "import copy as cp"
   ]
  },
  {
   "cell_type": "markdown",
   "id": "1acd4870",
   "metadata": {},
   "source": [
    "# Theory parameters"
   ]
  },
  {
   "cell_type": "markdown",
   "id": "2f170d7f",
   "metadata": {},
   "source": [
    "### Hamiltonian of the Schwinger model:\n",
    "$$H = \\frac{i}{2a}\\sum_x{\\psi^\\dagger(x)U(x)\\psi(x+1)+{\\rm h.c.}} + m\\sum_x{(-1)^x\\psi^\\dagger(x)\\psi(x)} + \\frac{ag^2}{2}\\sum_x{E(x)^2}$$\n",
    "These are the hopping term, the mass term and the electric term in the electric basis. $\\psi$, $\\psi^\\dagger$ are fermionic operators and $U$, $E$ are bosonic."
   ]
  },
  {
   "cell_type": "code",
   "execution_count": 2,
   "id": "0174f95e",
   "metadata": {},
   "outputs": [],
   "source": [
    "N = 4          # number of sites\n",
    "a = 1          # lattice spacing\n",
    "\n",
    "Nphys = N//2   # number of physical sites\n",
    "mf = 0.1       # fermion mass\n",
    "g2 = 1.0       # electric coupling"
   ]
  },
  {
   "cell_type": "code",
   "execution_count": 3,
   "id": "d48d08a0",
   "metadata": {},
   "outputs": [
    {
     "name": "stdout",
     "output_type": "stream",
     "text": [
      "Size of full Hilbert space = 1296\n"
     ]
    }
   ],
   "source": [
    "Lamb = 1       # truncation on bosonic dof\n",
    "Hilbert_full = (2*(2*Lamb+1))**N\n",
    "print(\"Size of full Hilbert space =\", Hilbert_full)"
   ]
  },
  {
   "cell_type": "markdown",
   "id": "4d817e76",
   "metadata": {},
   "source": [
    "# Physical Hilbert space"
   ]
  },
  {
   "cell_type": "markdown",
   "id": "ec46deab",
   "metadata": {},
   "source": [
    "The shape of the configurations = (2, N). The first(second) row represents fermionic(bosonic) degrees of freedom. The fermionic dofs can be 0 or 1, while the bosonic dofs can take integer values between $-\\Lambda$ and $\\Lambda$. The first task is to find out which configurations are physical (obey Gauss' law). The Gauss' law in Schwinger model is:\n",
    "\n",
    "$$ G(x) = E(x) - E(x-1) + \\psi^\\dagger(x)\\psi(x) - \\frac{1-(-1)^x}{2} $$\n",
    "$$ G(x)|\\psi_{phys}>=0 $$\n",
    "\n",
    "Note: in 1 spacial dimension the bosonic dofs can be fixed by the fermionic ones, so instead of running through all possible configurations one can have more efficient algorithm. Here we keep it general."
   ]
  },
  {
   "cell_type": "code",
   "execution_count": 4,
   "id": "20500abf",
   "metadata": {},
   "outputs": [],
   "source": [
    "def Gauss(config): # Gauss' law\n",
    "    L = len(config[0])\n",
    "    out = True\n",
    "    for x in range(L): # Here we use PBC\n",
    "        # implement the Gauss' law\n",
    "        \n",
    "        \n",
    "        \n",
    "    return out"
   ]
  },
  {
   "cell_type": "code",
   "execution_count": 5,
   "id": "2fd56eef",
   "metadata": {},
   "outputs": [],
   "source": [
    "config_all = [] # configurations in full Hilbert space\n",
    "config_phys = [] # configurations in physical Hilbert space\n",
    "for fer in it.product((0,1), repeat=N): # fermionic dof = 0 or 1\n",
    "    for bos in it.product(range(-Lamb, Lamb + 1), repeat=N): # bosonic dof runs from -\\Lambda to Lambda\n",
    "        config = [list(fer), list(bos)]\n",
    "        config_all.append(config)\n",
    "        if Gauss(config):\n",
    "            config_phys.append(config) # collect the physical ones"
   ]
  },
  {
   "cell_type": "code",
   "execution_count": 6,
   "id": "a3340f11",
   "metadata": {},
   "outputs": [
    {
     "name": "stdout",
     "output_type": "stream",
     "text": [
      "Size of physical Hilbert space = 13\n"
     ]
    }
   ],
   "source": [
    "Hilbert_phys = len(config_phys)\n",
    "print(\"Size of physical Hilbert space =\", Hilbert_phys)"
   ]
  },
  {
   "cell_type": "markdown",
   "id": "c094f120",
   "metadata": {},
   "source": [
    "# Building Hamiltonian"
   ]
  },
  {
   "cell_type": "markdown",
   "id": "f78eae38",
   "metadata": {},
   "source": [
    "After the physical configurations are identified, one can construct the Hamiltoninan in the physical Hilbert space. In electric basis, the mass term and the electric term are diagonal and are easy to implement. Here you need to complete the construction of the hopping term."
   ]
  },
  {
   "cell_type": "markdown",
   "id": "3b47b99c",
   "metadata": {},
   "source": [
    "### Operations on the configurations"
   ]
  },
  {
   "cell_type": "code",
   "execution_count": 7,
   "id": "024696ce",
   "metadata": {},
   "outputs": [],
   "source": [
    "def fer_sign(config, x): # general fermionic signs, may not be needed here\n",
    "    return((-1)**np.sum(config[:x]))\n",
    "\n",
    "def mass_term(config): \n",
    "    out = 0\n",
    "    for i in range(len(config[0])):\n",
    "        out += config[0][i]*(-1)**(i) # staggered fermion's excitation\n",
    "    return out\n",
    "\n",
    "def electric_term(config): \n",
    "    out = 0\n",
    "    for i in range(len(config[1])):\n",
    "        out += (config[1][i])**2 # quadratic electric term\n",
    "    return out\n",
    "\n",
    "def hopping_term(config): \n",
    "    out = []\n",
    "    for i in range(lwn(config[1])):\n",
    "        # implement the hopping term\n",
    "        \n",
    "        \n",
    "        \n",
    "        \n",
    "        \n",
    "    return out"
   ]
  },
  {
   "cell_type": "code",
   "execution_count": 8,
   "id": "6aefaa47",
   "metadata": {},
   "outputs": [],
   "source": [
    "HI = np.zeros([Hilbert_phys, Hilbert_phys], dtype = complex)\n",
    "for i in range(Hilbert_phys):\n",
    "    out = hopping_term(config_phys[i])\n",
    "    if out != []:\n",
    "        for res in out:\n",
    "            idx = config_phys.index(res[1])\n",
    "            HI[idx,i] += 0.5j/a*res[0]\n",
    "\n",
    "HM = np.zeros([Hilbert_phys, Hilbert_phys], dtype = complex)\n",
    "for i in range(Hilbert_phys):\n",
    "    HM[i,i] += mass_term(config_phys[i])\n",
    "\n",
    "HE = np.zeros([Hilbert_phys, Hilbert_phys], dtype = complex)\n",
    "for i in range(Hilbert_phys):\n",
    "    HE[i,i] += electric_term(config_phys[i])\n",
    "\n",
    "H = HI + HI.conj().T + mf*HM + 0.5*g2/a*HE"
   ]
  },
  {
   "cell_type": "markdown",
   "id": "14d9b0df",
   "metadata": {},
   "source": [
    "As a consistency check with 1803.03326, set $N=4$ with the parameters below and look for the ground state $E_0 = −1.011810$. There may be a small error due to the choice of $\\Lambda$"
   ]
  },
  {
   "cell_type": "code",
   "execution_count": 9,
   "id": "ddddc160",
   "metadata": {},
   "outputs": [
    {
     "data": {
      "text/plain": [
       "'\\nmf = 0.1\\nx = 0.6\\ng2 = 1/x\\nmff = mf/(x*2) # These are the \\nfac = 2/g2\\nH = (HI + HI.conj().T + mff*HM + 0.5*g2*HE)*fac \\n\\n'"
      ]
     },
     "execution_count": 9,
     "metadata": {},
     "output_type": "execute_result"
    }
   ],
   "source": [
    "'''\n",
    "mf = 0.1\n",
    "x = 0.6\n",
    "g2 = 1/x\n",
    "mff = mf/(x*2) # These are the \n",
    "fac = 2/g2\n",
    "H = (HI + HI.conj().T + mff*HM + 0.5*g2*HE)*fac \n",
    "\n",
    "'''"
   ]
  },
  {
   "cell_type": "markdown",
   "id": "e88f8fbf",
   "metadata": {},
   "source": [
    "# Spectrum"
   ]
  },
  {
   "cell_type": "code",
   "execution_count": 10,
   "id": "e94981c3",
   "metadata": {},
   "outputs": [],
   "source": [
    "def is_hermitian(H):\n",
    "    HC = H.conj().T\n",
    "    return(np.all(np.isclose(HC, H)))\n",
    "\n",
    "def eigen(H):\n",
    "    Hw, Hv =  scipy.linalg.eigh(H)\n",
    "    idx = Hw.argsort() #small to large\n",
    "    Hw = Hw[idx].real\n",
    "    Hv = Hv.T\n",
    "    Hv = Hv[idx]\n",
    "    return Hw, Hv"
   ]
  },
  {
   "cell_type": "code",
   "execution_count": 11,
   "id": "f2c25ad5",
   "metadata": {},
   "outputs": [
    {
     "name": "stdout",
     "output_type": "stream",
     "text": [
      "(13, 13)\n",
      "Hamiltonian is hermitian: True\n"
     ]
    }
   ],
   "source": [
    "print(H.shape)\n",
    "print(\"Hamiltonian is hermitian:\", is_hermitian(H))"
   ]
  },
  {
   "cell_type": "code",
   "execution_count": 12,
   "id": "5c9f1fdd",
   "metadata": {},
   "outputs": [
    {
     "name": "stdout",
     "output_type": "stream",
     "text": [
      "Spectrum =\n",
      "[-1.00071764 -0.06689261  0.33995045  0.5         0.5         0.78139303\n",
      "  1.06367813  1.5         1.5         1.70560167  1.80842232  2.57989791\n",
      "  2.58866673]\n"
     ]
    }
   ],
   "source": [
    "Hw, Hv = eigen(H)\n",
    "print(\"Spectrum =\")\n",
    "print(Hw)"
   ]
  },
  {
   "cell_type": "markdown",
   "id": "fdd308dc",
   "metadata": {},
   "source": [
    "### Bonus\n",
    "\n",
    "What are the Gauss' law, physical configurations, and the Hamiltonian using open boundary condition?\n",
    "\n",
    "Construct the Hamiltonian in the full Hilbert space and see if you get the same ground state."
   ]
  }
 ],
 "metadata": {
  "kernelspec": {
   "display_name": "Python 3 (ipykernel)",
   "language": "python",
   "name": "python3"
  },
  "language_info": {
   "codemirror_mode": {
    "name": "ipython",
    "version": 3
   },
   "file_extension": ".py",
   "mimetype": "text/x-python",
   "name": "python",
   "nbconvert_exporter": "python",
   "pygments_lexer": "ipython3",
   "version": "3.10.8"
  }
 },
 "nbformat": 4,
 "nbformat_minor": 5
}
