{
 "cells": [
  {
   "cell_type": "code",
   "execution_count": 1,
   "id": "c347180d",
   "metadata": {},
   "outputs": [],
   "source": [
    "import numpy as np\n",
    "import scipy\n",
    "import itertools\n",
    "import matplotlib.pyplot as plt\n",
    "rng = np.random.default_rng(seed=0)"
   ]
  },
  {
   "cell_type": "markdown",
   "id": "5f1d53a5",
   "metadata": {},
   "source": [
    "# Introduction"
   ]
  },
  {
   "cell_type": "markdown",
   "id": "b5df14dd",
   "metadata": {},
   "source": [
    "In today's notebook, we'll be demonstrating the exact solution of 2D Yang-Mills theories. As we saw in the lecture, Wilson loops should exactly decay exponentially in the area of the Wilson loop. There are \"no excited state contributions\". In fact, it doesn't matter what the actual shape of the Wilson loop is: in the plot below, there are two examples shown (1xN rectangles, and L-shaped tetris-tiles). \n",
    "![example](LGT1-Unit02-Day10_2d_example.png)"
   ]
  },
  {
   "cell_type": "markdown",
   "id": "ee75753b",
   "metadata": {},
   "source": [
    "Your task is to reproduce this plot for the 1xN shaped rectangles. \n",
    "\n",
    "<b>Challenge:</b> Implement a different type of shape and check that it still lies on the same curve (e.g. L-shaped loops, or something stranger). "
   ]
  },
  {
   "cell_type": "code",
   "execution_count": 2,
   "id": "4c8ad793",
   "metadata": {},
   "outputs": [],
   "source": [
    "Nc            = 2             #Number of colors\n",
    "Nd            = 2             #Number of spacetime dimensions\n",
    "L             = 20            #Box length\n",
    "beta          = 6             #Action = (beta/Nc) Sum_{unoriented plaquettes} ReTr(P)\n",
    "lattice_shape = tuple([L]*Nd) #Shape of the lattice"
   ]
  },
  {
   "cell_type": "markdown",
   "id": "cbdbe5be",
   "metadata": {},
   "source": [
    "Here are some auxiliary functions that we've seen from last week's notebook, that will let us sample the path integral with the heatbath algorithm. "
   ]
  },
  {
   "cell_type": "code",
   "execution_count": 3,
   "id": "fe161c1a",
   "metadata": {
    "code_folding": [
     0,
     4,
     8,
     25,
     37,
     39,
     62,
     83,
     92
    ]
   },
   "outputs": [],
   "source": [
    "def trace(M):\n",
    "    # Trace over the last two dimension\n",
    "    return np.trace(M, axis1=-1, axis2=-2)\n",
    "\n",
    "def adjoint(M):\n",
    "    #Adjoint (dagger) of the color matrix\n",
    "    return np.conj(np.swapaxes(M, axis1=-1, axis2=-2))\n",
    "\n",
    "def project_suN(g):\n",
    "    #Projects an array of matrices g onto SU(N)\n",
    "    def project_uN(g):\n",
    "        Nc = g.shape[-1]\n",
    "        for i in range(Nc):\n",
    "            v_i = g[..., i, :]\n",
    "            for j in range(i):\n",
    "                v_j = g[..., j, :]\n",
    "                dot = np.sum(np.conj(v_j) * v_i, axis=-1)\n",
    "                v_i = v_i - dot[..., None] * v_j\n",
    "            v_i = v_i / np.linalg.norm(v_i, axis=-1)[..., None]\n",
    "            g[..., i, :] = v_i\n",
    "        return g\n",
    "    Nc = g.shape[-1]\n",
    "    g = project_uN(g)\n",
    "    return g * np.conj(np.linalg.det(g)**(1/Nc))[...,None,None]\n",
    "\n",
    "def compute_staple(U, mu):\n",
    "    #Computes the staple, required for heatbath\n",
    "    result = 0\n",
    "    for nu in range(Nd):\n",
    "        if nu == mu:\n",
    "            continue\n",
    "        staple_left = np.roll(U[nu], -1, mu) @ np.roll(adjoint(U[mu]), -1, nu) @ adjoint(U[nu])\n",
    "        staple_right = np.roll(adjoint(U[nu]), (-1, 1), (mu, nu)) @ np.roll(adjoint(U[mu]), 1, nu) @ np.roll(U[nu], 1, nu)\n",
    "\n",
    "        result = result + staple_left + staple_right\n",
    "    return result\n",
    "\n",
    "def su2_heatbath(U, mu, *, beta, update_mask):\n",
    "    #Performs an update of the gauge field in the mu dimension\n",
    "    def _sample_x0(a):\n",
    "        accepted = np.zeros(a.shape, dtype=bool)\n",
    "        x0 = np.zeros_like(a)\n",
    "        while np.sum(accepted) < np.sum(np.ones_like(a)):\n",
    "            def _uniform(maxval=1.0):\n",
    "                return rng.uniform(low=0.0, high=maxval, size=a.shape)\n",
    "\n",
    "            r = _uniform()\n",
    "            r1 = 1.0 - _uniform()\n",
    "            r2 = _uniform(maxval=2*np.pi)\n",
    "            r3 = 1.0 - _uniform()\n",
    "\n",
    "            lam_sq = -1 / (4 * a) * (np.log(r1) + np.cos(r2)**2 * np.log(r3))\n",
    "\n",
    "            newly_accepted = r**2 < 1 - lam_sq\n",
    "            to_update = np.logical_and(newly_accepted, np.logical_not(accepted))\n",
    "\n",
    "            x0 = np.where(to_update, 1 - 2 * lam_sq, x0)\n",
    "\n",
    "            accepted = np.logical_or(accepted, newly_accepted)\n",
    "\n",
    "        return x0\n",
    "    \n",
    "    def _su2_heatbath_dist(a):\n",
    "        x0 = _sample_x0(a)\n",
    "        r = rng.normal(size=(3, *a.shape))\n",
    "        x = r / np.linalg.norm(r, axis=0) * np.sqrt(1 - x0**2)\n",
    "        X = np.zeros((*a.shape, 2, 2), dtype=np.complex128)\n",
    "        # x0 + i x[2] sigma_z                                                                                                                                                   \n",
    "        X[..., 0, 0] = x0 + 1j * x[2]\n",
    "        X[..., 1, 1] = x0 - 1j * x[2]\n",
    "        # i x[0] sigma_x + i x[1] sigma_y                                                                                                                                       \n",
    "        X[..., 0, 1] = 1j * x[0] + x[1]\n",
    "        X[..., 1, 0] = 1j * x[0] - x[1]\n",
    "        return X\n",
    "    \n",
    "    A = beta / Nc * compute_staple(U, mu)\n",
    "    a = np.sqrt(np.abs(np.linalg.det(A)))\n",
    "    X = _su2_heatbath_dist(a)\n",
    "    U_mu_new = X @ adjoint(A) / a[..., None, None]\n",
    "    U[mu] = U[mu] * update_mask[...,None,None] + (1 - update_mask[...,None,None]) * U_mu_new\n",
    "    U = project_suN(U)\n",
    "    return U\n",
    "\n",
    "def make_even_mask(lattice_shape):\n",
    "    #Auxiliary function to make an even/odd mask, for heatbath\n",
    "    even_mask = np.zeros(lattice_shape)\n",
    "    for parities in itertools.product([0, 1], repeat=Nd):\n",
    "        idx = tuple(slice(parity, None, 2) for parity in parities)\n",
    "        if sum(parities) % 2 == 0:\n",
    "            even_mask[idx] = 1\n",
    "    return even_mask\n",
    "\n",
    "def heatbath_sweep(U, beta):\n",
    "    #Perform a heatbath sweep over the whole lattice\n",
    "    even_mask = make_even_mask(lattice_shape=U.shape[1:-2])\n",
    "\n",
    "    for mu in range(Nd):\n",
    "        U = su2_heatbath(U, mu, beta=beta, update_mask=even_mask)\n",
    "        U = su2_heatbath(U, mu, beta=beta, update_mask=1-even_mask)\n",
    "    return U"
   ]
  },
  {
   "cell_type": "markdown",
   "id": "77f375c8",
   "metadata": {},
   "source": [
    "The following function will be useful for you to use, as it will compute averaged Wilson loops on your generated gauge configurations:"
   ]
  },
  {
   "cell_type": "code",
   "execution_count": 4,
   "id": "628a42d6",
   "metadata": {
    "code_folding": []
   },
   "outputs": [],
   "source": [
    "def wilson_loop(U, mu, nu, l_mu, l_nu, untraced=False):\n",
    "    \"\"\"\n",
    "    Computes the average of the trace of the Wilson loop in the mu-th and nu-th directions.\n",
    "    The Wilson loop has length l_mu in the mu-th direction, and l_nu in the nu-th direction.\n",
    "    If untraced is true, then the unaveraged, untraced Wilson loop is returned. \n",
    "    \"\"\"\n",
    "    W = np.broadcast_to(np.eye(Nc, Nc), U.shape[1:])\n",
    "    for x in range(l_mu):\n",
    "        W = W @ np.roll(U[mu], -x, mu)\n",
    "    for y in range(l_nu):\n",
    "        W = W @ np.roll(U[nu], (-l_mu, -y), (mu, nu))\n",
    "    for x in reversed(range(l_mu)):\n",
    "        W = W @ np.roll(adjoint(U[mu]), (-x, -l_nu), (mu, nu))\n",
    "    for y in reversed(range(l_nu)):\n",
    "        W = W @ np.roll(adjoint(U[nu]), -y, nu)\n",
    "\n",
    "    if untraced:\n",
    "        return W\n",
    "    \n",
    "    return np.mean(trace(W.real))"
   ]
  },
  {
   "cell_type": "markdown",
   "id": "4e1edef0",
   "metadata": {},
   "source": [
    "# Your Code Below:"
   ]
  },
  {
   "cell_type": "code",
   "execution_count": 5,
   "id": "53c996af",
   "metadata": {},
   "outputs": [],
   "source": [
    "loops = [];\n",
    "U = project_suN(   np.random.random((Nd,*lattice_shape,Nc,Nc)) + \\\n",
    "                1j*np.random.random((Nd,*lattice_shape,Nc,Nc)))"
   ]
  },
  {
   "cell_type": "code",
   "execution_count": 7,
   "id": "b582a8cd",
   "metadata": {
    "code_folding": []
   },
   "outputs": [],
   "source": [
    "def compute_loops(U):\n",
    "    #??\n",
    "    pass"
   ]
  },
  {
   "cell_type": "code",
   "execution_count": 8,
   "id": "8fe08770",
   "metadata": {},
   "outputs": [
    {
     "name": "stdout",
     "output_type": "stream",
     "text": [
      "Iter 0/100\n",
      "Iter 10/100\n",
      "Iter 20/100\n",
      "Iter 30/100\n",
      "Iter 40/100\n",
      "Iter 50/100\n",
      "Iter 60/100\n",
      "Iter 70/100\n",
      "Iter 80/100\n",
      "Iter 90/100\n"
     ]
    }
   ],
   "source": [
    "for _ in range(20):\n",
    "    U = heatbath_sweep(U, beta)\n",
    "for i in range(100):\n",
    "    for _ in range(10):\n",
    "        U = heatbath_sweep(U, beta)\n",
    "    #loops.append(compute_loops(U))\n",
    "    if i%10 == 0:\n",
    "        print(f\"Iter {i}/100\")"
   ]
  }
 ],
 "metadata": {
  "kernelspec": {
   "display_name": "Python 3 (ipykernel)",
   "language": "python",
   "name": "python3"
  },
  "language_info": {
   "codemirror_mode": {
    "name": "ipython",
    "version": 3
   },
   "file_extension": ".py",
   "mimetype": "text/x-python",
   "name": "python",
   "nbconvert_exporter": "python",
   "pygments_lexer": "ipython3",
   "version": "3.9.15"
  }
 },
 "nbformat": 4,
 "nbformat_minor": 5
}
