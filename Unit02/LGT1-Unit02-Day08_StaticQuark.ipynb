{
 "cells": [
  {
   "cell_type": "code",
   "execution_count": 15,
   "metadata": {},
   "outputs": [],
   "source": [
    "import numpy as np\n",
    "import scipy\n",
    "\n",
    "import itertools\n",
    "\n",
    "import matplotlib.pyplot as plt"
   ]
  },
  {
   "cell_type": "code",
   "execution_count": 16,
   "metadata": {},
   "outputs": [],
   "source": [
    "rng = np.random.default_rng(seed=0)"
   ]
  },
  {
   "cell_type": "markdown",
   "metadata": {},
   "source": [
    "# Lattice parameters"
   ]
  },
  {
   "cell_type": "code",
   "execution_count": 17,
   "metadata": {},
   "outputs": [],
   "source": [
    "Nc = 2\n",
    "Nd = 4\n",
    "\n",
    "L = 8\n",
    "Lt = 16\n",
    "\n",
    "beta = 2.5\n",
    "\n",
    "lattice_shape = tuple([L] * (Nd-1) + [Lt])"
   ]
  },
  {
   "cell_type": "markdown",
   "metadata": {},
   "source": [
    "# Utility functions"
   ]
  },
  {
   "cell_type": "code",
   "execution_count": 18,
   "metadata": {},
   "outputs": [],
   "source": [
    "def trace(M):\n",
    "    # Trace over the last dimension (by default np.trace traces over the first\n",
    "    # two dimensions)\n",
    "    return np.trace(M, axis1=-1, axis2=-2)\n",
    "\n",
    "def adjoint(M):\n",
    "    return np.conj(np.swapaxes(M, axis1=-1, axis2=-2))\n",
    "\n",
    "def random_suN_element(scale, batch_shape):\n",
    "    \"\"\"\n",
    "    Generates a random SU(N) element by sampling a gaussian Lie-algebra-valued\n",
    "    field and exponentiating. Returns an array with shape (*batch_shape, Nc, Nc).\n",
    "\n",
    "    The value of 'scale' determines how close the output will be to the identity\n",
    "    -- if scale is small, then the output will be closer to the identity.\n",
    "\n",
    "    Note that the output distribution is somewhat unclear, but this does not\n",
    "    affect any of the uses of this function below.\n",
    "    \"\"\"\n",
    "    shape = (*batch_shape, Nc, Nc)\n",
    "    X = (rng.standard_normal(shape) + 1j * rng.standard_normal(shape)) / np.sqrt(2)\n",
    "    # Project X to be Hermitian\n",
    "    X = 0.5 * (X + adjoint(X))\n",
    "    # Project X to be traceless\n",
    "    # Note: broadcasting is very useful here (see https://numpy.org/doc/stable/user/basics.broadcasting.html)\n",
    "    X = X - 1/Nc * trace(X)[...,None,None] * np.eye(Nc, Nc)\n",
    "    # Now X is an element of the Lie algebra, so expm(X) will be in SU(N)\n",
    "    return scipy.linalg.expm(1j * scale * X)\n",
    "\n",
    "def apply_gauge_transformation(U, g):\n",
    "    \"\"\"\n",
    "    Takes a gauge field U and a gauge transformation g, and outputs the gauge\n",
    "    transformed field defined by\n",
    "\n",
    "        U'_\\mu(x) = g(x) U_\\mu(x) g^\\dag(x + \\hat{mu})\n",
    "\n",
    "    Exercise: complete this function.\n",
    "    \"\"\"\n",
    "    U_g = []\n",
    "    for mu in range(Nd):\n",
    "        U_g_mu = g @ U[mu] @ np.roll(adjoint(g), -1, mu)\n",
    "        U_g.append(U_g_mu)\n",
    "    return np.stack(U_g, axis=0)\n",
    "\n",
    "\n",
    "# Project onto U(N) using Gram-Schmidt\n",
    "def project_uN(g):\n",
    "    Nc = g.shape[-1]\n",
    "\n",
    "    for i in range(Nc):\n",
    "        v_i = g[..., i, :]\n",
    "        for j in range(i):\n",
    "            v_j = g[..., j, :]\n",
    "            dot = np.sum(np.conj(v_j) * v_i, axis=-1)\n",
    "            v_i = v_i - dot[..., None] * v_j\n",
    "        v_i = v_i / np.linalg.norm(v_i, axis=-1)[..., None]\n",
    "\n",
    "        g[..., i, :] = v_i\n",
    "\n",
    "    return g\n",
    "\n",
    "def project_suN(g):\n",
    "    g = project_uN(g)\n",
    "    return g * np.conj(np.linalg.det(g)**(1/Nc))[...,None,None]"
   ]
  },
  {
   "cell_type": "code",
   "execution_count": 19,
   "metadata": {},
   "outputs": [],
   "source": [
    "def wilson_action(U, *, beta):\n",
    "    result = 0\n",
    "    for mu in range(Nd):\n",
    "        for nu in range(mu):\n",
    "            P_mu_nu = U[mu] @ np.roll(U[nu], -1, mu) @ np.roll(adjoint(U[mu]), -1, nu) @ adjoint(U[nu])\n",
    "            result = result + np.sum(trace(P_mu_nu.real))\n",
    "    return -beta / Nc * result\n",
    "\n",
    "def plaquette(U):\n",
    "    volume = np.prod(lattice_shape)\n",
    "    num_plaq = volume * Nd * (Nd - 1) // 2\n",
    "    return -wilson_action(U, beta=1) / num_plaq\n",
    "\n",
    "def compute_staple(U, mu):\n",
    "    result = 0\n",
    "    for nu in range(Nd):\n",
    "        if nu == mu:\n",
    "            continue\n",
    "        staple_left = np.roll(U[nu], -1, mu) @ np.roll(adjoint(U[mu]), -1, nu) @ adjoint(U[nu])\n",
    "        staple_right = np.roll(adjoint(U[nu]), (-1, 1), (mu, nu)) @ np.roll(adjoint(U[mu]), 1, nu) @ np.roll(U[nu], 1, nu)\n",
    "\n",
    "        result = result + staple_left + staple_right\n",
    "    return result"
   ]
  },
  {
   "cell_type": "markdown",
   "metadata": {},
   "source": [
    "# SU(2) Heatbath\n",
    "\n",
    "This section implements a SU(2) heatbath algorithm, primarily following Gattringer and Lang, Section 4.3.1. In comparison to the metropolis implementation in the previous notebook, this runs slightly slower, but thermalizes an order of magnitude faster.\n",
    "\n",
    "There are no exercises in this section, but if you want to explore this further here are some possibilities:\n",
    "\n",
    "- Add overrelaxation (see Gattringer and Lang, Section 4.3.2)\n",
    "\n",
    "- Genrealize to $SU(N)$ for $N \\geq 3$. This is discussed in Gatteringer and Lang Section 4.3.1, but the discussion there is somewhat lacking. In particular, the sentence \"It is no group element of SU(2) but proportional to 1\" should probably read \"It is no group element of SU(2), but it can be replaced with a group element without changing the conditional probability\". The key lemma needed is that for any $2 \\times 2$ complex matrix $W$, there exists a projection $\\mathcal{P}(W) \\in SU(2)$ such that $\\mathrm{Re} \\mathrm{Tr} (U W) = \\mathrm{Re} \\mathrm{Tr} (U \\mathcal{P}(W))$. For a concrete implementation, see here: https://github.com/lehner/gpt/blob/master/lib/gpt/algorithms/markov/su2_heat_bath.py"
   ]
  },
  {
   "cell_type": "code",
   "execution_count": 20,
   "metadata": {},
   "outputs": [],
   "source": [
    "# Generates x_0 \\sim sqrt(1 - x_0^2) exp(2 a x_0)\n",
    "# Originally from https://inspirehep.net/literature/220728, though\n",
    "# I've used Gattringer and Lang as a reference\n",
    "def _sample_x0(a):\n",
    "    accepted = np.zeros(a.shape, dtype=bool)\n",
    "    x0 = np.zeros_like(a)\n",
    "    while np.sum(accepted) < np.sum(np.ones_like(a)):\n",
    "        def _uniform(maxval=1.0):\n",
    "            return rng.uniform(low=0.0, high=maxval, size=a.shape)\n",
    "\n",
    "        r = _uniform()\n",
    "        r1 = 1.0 - _uniform()\n",
    "        r2 = _uniform(maxval=2*np.pi)\n",
    "        r3 = 1.0 - _uniform()\n",
    "\n",
    "        lam_sq = -1 / (4 * a) * (np.log(r1) + np.cos(r2)**2 * np.log(r3))\n",
    "\n",
    "        newly_accepted = r**2 < 1 - lam_sq\n",
    "        to_update = np.logical_and(newly_accepted, np.logical_not(accepted))\n",
    "\n",
    "        x0 = np.where(to_update, 1 - 2 * lam_sq, x0)\n",
    "\n",
    "        accepted = np.logical_or(accepted, newly_accepted)\n",
    "\n",
    "    return x0\n",
    "\n",
    "def _su2_heatbath_dist(a):\n",
    "    x0 = _sample_x0(a)\n",
    "\n",
    "    r = rng.normal(size=(3, *a.shape))\n",
    "    x = r / np.linalg.norm(r, axis=0) * np.sqrt(1 - x0**2)\n",
    "\n",
    "    X = np.zeros((*a.shape, 2, 2), dtype=np.complex128)\n",
    "    # x0 + i x[2] sigma_z                                                                                                                                                   \n",
    "    X[..., 0, 0] = x0 + 1j * x[2]\n",
    "    X[..., 1, 1] = x0 - 1j * x[2]\n",
    "\n",
    "    # i x[0] sigma_x + i x[1] sigma_y                                                                                                                                       \n",
    "    X[..., 0, 1] = 1j * x[0] + x[1]\n",
    "    X[..., 1, 0] = 1j * x[0] - x[1]\n",
    "\n",
    "    return X\n",
    "\n",
    "def su2_heatbath(U, mu, *, beta, update_mask):\n",
    "    A = beta / Nc * compute_staple(U, mu)\n",
    "\n",
    "    a = np.sqrt(np.abs(np.linalg.det(A)))\n",
    "\n",
    "    X = _su2_heatbath_dist(a)\n",
    "    U_mu_new = X @ adjoint(A) / a[..., None, None]\n",
    "\n",
    "    U[mu] = U[mu] * update_mask[...,None,None] + (1 - update_mask[...,None,None]) * U_mu_new\n",
    "\n",
    "    # Project the result back onto SU(N) -- without this change, the values of\n",
    "    # U_mu drift slowly away from SU(N) due to roundoff error.\n",
    "    U = project_suN(U)\n",
    "\n",
    "    return U"
   ]
  },
  {
   "cell_type": "code",
   "execution_count": 21,
   "metadata": {},
   "outputs": [],
   "source": [
    "# Create a mask that is 1 on even-parity sites, and 0 on odd-parity sites\n",
    "def make_even_mask(lattice_shape):\n",
    "    even_mask = np.zeros(lattice_shape)\n",
    "    for parities in itertools.product([0, 1], repeat=Nd):\n",
    "        idx = tuple(slice(parity, None, 2) for parity in parities)\n",
    "        if sum(parities) % 2 == 0:\n",
    "            even_mask[idx] = 1\n",
    "    return even_mask\n",
    "\n",
    "def heatbath_sweep(U, beta):\n",
    "    even_mask = make_even_mask(lattice_shape=U.shape[1:-2])\n",
    "\n",
    "    for mu in range(Nd):\n",
    "        U = su2_heatbath(U, mu, beta=beta, update_mask=even_mask)\n",
    "        U = su2_heatbath(U, mu, beta=beta, update_mask=1-even_mask)\n",
    "    return U"
   ]
  },
  {
   "cell_type": "markdown",
   "metadata": {},
   "source": [
    "# Computing Wilson Loops"
   ]
  },
  {
   "cell_type": "code",
   "execution_count": 22,
   "metadata": {},
   "outputs": [
    {
     "name": "stdout",
     "output_type": "stream",
     "text": [
      "[PASSED test_wilson_loop_gauge_invariance mu=0 nu=1 l_mu=1 l_nu=1]\n",
      "[PASSED test_wilson_loop_gauge_invariance mu=2 nu=3 l_mu=2 l_nu=1]\n",
      "[PASSED test_wilson_loop_gauge_invariance mu=2 nu=0 l_mu=2 l_nu=3]\n"
     ]
    }
   ],
   "source": [
    "# Computes a (mu, nu) wislon loop of size l_mu x l_nu\n",
    "def wilson_loop(U, mu, nu, l_mu, l_nu):\n",
    "    W = np.broadcast_to(np.eye(Nc, Nc), U.shape[1:])\n",
    "    for x in range(l_mu):\n",
    "        W = W @ np.roll(U[mu], -x, mu)\n",
    "    for y in range(l_nu):\n",
    "        W = W @ np.roll(U[nu], (-l_mu, -y), (mu, nu))\n",
    "    for x in reversed(range(l_mu)):\n",
    "        W = W @ np.roll(adjoint(U[mu]), (-x, -l_nu), (mu, nu))\n",
    "    for y in reversed(range(l_nu)):\n",
    "        W = W @ np.roll(adjoint(U[nu]), -y, nu)\n",
    "\n",
    "    return np.mean(trace(W.real))\n",
    "\n",
    "def test_wilson_loop_gauge_invariance(mu, nu, l_mu, l_nu):\n",
    "    U = random_suN_element(scale=1.0, batch_shape=(Nd, *lattice_shape))\n",
    "    g = random_suN_element(scale=1.0, batch_shape=lattice_shape)\n",
    "\n",
    "    U_transformed = apply_gauge_transformation(U, g)\n",
    "\n",
    "    W_initial = wilson_loop(U, mu, nu, l_mu, l_nu)\n",
    "    W_transformed = wilson_loop(U_transformed, mu, nu, l_mu, l_nu)\n",
    "\n",
    "    assert np.allclose(W_initial, W_transformed)\n",
    "    print(f\"[PASSED test_wilson_loop_gauge_invariance {mu=} {nu=} {l_mu=} {l_nu=}]\")\n",
    "\n",
    "test_wilson_loop_gauge_invariance(0, 1, 1, 1)\n",
    "test_wilson_loop_gauge_invariance(2, 3, 2, 1)\n",
    "test_wilson_loop_gauge_invariance(2, 0, 2, 3)"
   ]
  },
  {
   "cell_type": "code",
   "execution_count": 23,
   "metadata": {},
   "outputs": [],
   "source": [
    "def compute_loops(U):\n",
    "    t_dir = 3\n",
    "    Lt_max = 5\n",
    "    Lx_max = 6\n",
    "    loops = np.zeros((Lx_max+1, Lt_max+1))\n",
    "    for Lx in range(1,Lx_max+1):\n",
    "        for Lt in range(1,Lt_max+1):\n",
    "            # Note: we're Averaging over different spatial dimensions here\n",
    "            loops[Lx, Lt] = np.mean([wilson_loop(U, i, t_dir, Lx, Lt) for i in range(Nd-1)])\n",
    "    return loops\n"
   ]
  },
  {
   "cell_type": "markdown",
   "metadata": {},
   "source": [
    "# Generating Ensemble"
   ]
  },
  {
   "cell_type": "code",
   "execution_count": 24,
   "metadata": {},
   "outputs": [
    {
     "name": "stdout",
     "output_type": "stream",
     "text": [
      "Iter 10 plaquette 0.65321\n",
      "Iter 20 plaquette 0.65335\n",
      "Iter 30 plaquette 0.65290\n",
      "Iter 40 plaquette 0.65330\n"
     ]
    }
   ],
   "source": [
    "# Cold start -- U = identity\n",
    "U = random_suN_element(0.0, batch_shape=(Nd, *lattice_shape))\n",
    "\n",
    "plaq = []\n",
    "loops = []\n",
    "# Thermalize -- throw away first ~20 configurations\n",
    "for _ in range(20):\n",
    "    U = heatbath_sweep(U, beta)\n",
    "for i in range(50):\n",
    "    U = heatbath_sweep(U, beta)\n",
    "    if i % 10 == 0 and i > 0:\n",
    "        print(f\"Iter {i} plaquette {np.mean(plaq):.5f}\")\n",
    "    plaq.append(plaquette(U))\n",
    "    loops.append(compute_loops(U))\n",
    "plaq = np.array(plaq)\n",
    "loops = np.stack(loops)"
   ]
  },
  {
   "cell_type": "markdown",
   "metadata": {},
   "source": [
    "# Analysing data with bootstrap"
   ]
  },
  {
   "cell_type": "markdown",
   "metadata": {},
   "source": [
    "## Generating bootstrap samples\n",
    "\n"
   ]
  },
  {
   "cell_type": "code",
   "execution_count": 25,
   "metadata": {},
   "outputs": [],
   "source": [
    "Nboot = 50\n",
    "Nsample = loops.shape[0]\n",
    "\n",
    "# Variation over bootstrap samples\n",
    "bootstrap_samples = rng.multinomial(Nsample, np.ones(Nsample) / Nsample, size=(Nboot,))\n",
    "# loops_boot[i,r,t] contains the 'i'th bootstrap sample for an r x t loop\n",
    "loops_boot = np.einsum(\"bi,ij... -> bj...\", bootstrap_samples, loops) / Nsample"
   ]
  },
  {
   "cell_type": "markdown",
   "metadata": {},
   "source": [
    "# Static quark potential\n",
    "\n",
    "We can compute the static quark potential by computing an effective mass:\n",
    "$$ V(r, t) = \\log \\frac{W(r, t)}{W(r, t + 1)} $$\n",
    "The static quark potential is then\n",
    "$$ V(r) = \\lim_{t \\to \\infty} V(r, t) $$\n",
    "\n",
    "**Exercise**: implement the function $V(r, t)$ below. The function should compute $V(r, t)$ on each bootstrap sample independently and then return the mean and standard deviation over bootstrap samples."
   ]
  },
  {
   "cell_type": "code",
   "execution_count": 26,
   "metadata": {},
   "outputs": [],
   "source": [
    "def V(r, t):\n",
    "    # FIXME\n",
    "    return 0, 0"
   ]
  },
  {
   "cell_type": "markdown",
   "metadata": {},
   "source": [
    "## Plotting the static potential\n",
    "\n",
    "Here we plot $V(r, t)$ across $r$ for different values of $t$. For smaller values of $t$, we expect excited state contamination, so the values of $V(r, t)$ to approach $V(r)$ from above.\n",
    "\n",
    "Also plotted is a line indicating the expected\n",
    "$$ V(r) \\sim \\frac{\\alpha}{r} + V_0 + \\sigma r $$\n",
    "The values of $\\alpha$ and $\\sigma$ are taken from https://doi.org/10.1103/PhysRevD.50.3399, while the value of $V_0$ was determined by eye"
   ]
  },
  {
   "cell_type": "code",
   "execution_count": 27,
   "metadata": {},
   "outputs": [
    {
     "data": {
      "text/plain": [
       "<matplotlib.legend.Legend at 0x787a62d2fd00>"
      ]
     },
     "execution_count": 27,
     "metadata": {},
     "output_type": "execute_result"
    },
    {
     "data": {
      "image/png": "[encoded data removed]",
      "text/plain": [
       "<Figure size 640x480 with 1 Axes>"
      ]
     },
     "metadata": {},
     "output_type": "display_data"
    }
   ],
   "source": [
    "def V_fit(r):\n",
    "    # The values of alpha and sigma here are taken from\n",
    "    # https://doi.org/10.1103/PhysRevD.50.3399\n",
    "    # The value of V0 is was fit by eye to the data\n",
    "    # (Note: Fig 2 in the reference has incorrectly labelled axes, which is why\n",
    "    # it looks different from the plot generated here)\n",
    "    alpha = -0.29\n",
    "    sigma = 0.033\n",
    "    V0 = 0.55\n",
    "    return alpha/r + sigma * r + V0\n",
    "\n",
    "r = np.arange(1,7)\n",
    "for t in range(2,5):\n",
    "    potential = np.array([V(r_i, t) for r_i in r])\n",
    "    potential_mean = potential[:,0]\n",
    "    potential_err = potential[:,1]\n",
    "    # Offset different values of t so the error bars do not overlap\n",
    "    offset = 0.05 * t\n",
    "    plt.errorbar(r + offset, potential_mean, yerr=potential_err, fmt='o', label=f\"$t={t}$\")\n",
    "\n",
    "r = np.arange(1,6.5,0.01)\n",
    "plt.plot(r, V_fit(r))\n",
    "\n",
    "plt.ylabel(\"$a V(r)$\")\n",
    "plt.xlabel(\"$r/a$\")\n",
    "plt.legend(loc=\"best\")"
   ]
  },
  {
   "cell_type": "markdown",
   "metadata": {},
   "source": [
    "# Additional exercises\n",
    "\n",
    "Here are some additional (longer) exercises that you can take on in your own time:\n",
    "\n",
    "- Add additional static quark configurations, e.g. placing the quarks diagonally offset from each other. This requires computing some non-planar Wilson loops, and also gives a test of the restoration of rotational symmetry in the continuum limit.\n",
    "\n",
    "- Perform a fit to determine the values of $\\alpha, V_0$, and $\\sigma$ from the data (e.g. using `scipy.optimize.curve_fit`). Using the fit values, compute the Sommer scale $r_0$ defined by\n",
    "\n",
    "$$ \\left. r^2 \\frac{dV}{dr} \\right|_{r=r_0} = 0.4 $$\n",
    "\n",
    "- Perform the same calculation at different values of $\\beta$, and plot the static quark potential for each value of $\\beta$. If you also perform scale setting, you should be able to get the curves for different values of $\\beta$ to collapse by appropriately rescaling the axes."
   ]
  },
  {
   "cell_type": "code",
   "execution_count": null,
   "metadata": {},
   "outputs": [],
   "source": []
  },
  {
   "cell_type": "code",
   "execution_count": null,
   "metadata": {},
   "outputs": [],
   "source": []
  }
 ],
 "metadata": {
  "kernelspec": {
   "display_name": "jax",
   "language": "python",
   "name": "python3"
  },
  "language_info": {
   "codemirror_mode": {
    "name": "ipython",
    "version": 3
   },
   "file_extension": ".py",
   "mimetype": "text/x-python",
   "name": "python",
   "nbconvert_exporter": "python",
   "pygments_lexer": "ipython3",
   "version": "3.9.17"
  }
 },
 "nbformat": 4,
 "nbformat_minor": 2
}
