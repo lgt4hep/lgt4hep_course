{
 "cells": [
  {
   "cell_type": "markdown",
   "metadata": {},
   "source": [
    "# LGT4HEP Unit05 Day22\n",
    "\n"
   ]
  },
  {
   "cell_type": "markdown",
   "metadata": {},
   "source": [
    "### Following are the solutions to the Notebook shared on Day 20 (last Friday). Navigate to the section on Global Updating Algorithms for today's exercise:"
   ]
  },
  {
   "cell_type": "markdown",
   "metadata": {},
   "source": [
    "Consider a complex scalar field $\\varphi(x)\\equiv\\rho(x)e^{i\\theta(x)}$ in the limit $\\lambda\\to\\infty$, as discussed in class. In this limit the magnitude is frozen $\\rho(x)=1$ and the only degree of freedom is $\\theta(x)\\in[-\\pi,\\pi]$. The action is\n",
    "\n",
    "$$\n",
    "S[\\theta]=-2\\kappa\\sum_z\\sum_\\mu {\\rm Re}\\{\\exp(-i\\theta_{z+\\hat\\mu})\\exp(i\\theta_z)\\}=\n",
    "-2\\kappa\\sum_z\\sum_\\mu \\cos(\\theta_z-\\theta_{z+\\hat\\mu})\n",
    "$$\n",
    "\n",
    "and the partition function (i.e. the path integral)\n",
    "\n",
    "$$\n",
    "Z=\\int_{-\\pi}^{\\pi}\\prod_x d\\theta_x e^{-S[\\theta]}.\n",
    "$$\n",
    "\n",
    "The goal of this homework is to build a Markov Chain Monte Carlo process to sample the field configurations (i.e. $\\theta_x$) and calculate the following observable:\n",
    "\n",
    "$$\n",
    "L_\\varphi\\equiv\\frac{1}{2V}\\sum_{\\langle xy\\rangle}\\exp(-i\\theta_{x})\\exp(i\\theta_y)\\equiv\n",
    "\\frac{1}{V}\\sum_z\\sum_\\mu {\\rm Re}\\{\\exp(-i\\theta_{z+\\hat\\mu})\\exp(i\\theta_z)\\}\\equiv\n",
    "\\frac{1}{V}\\sum_z\\sum_\\mu \\cos(\\theta_z-\\theta_{z+\\hat\\mu}),\n",
    "$$\n",
    "\n",
    "where $V$ is lattice volume (the number of sites).\n",
    "\n",
    "In this notebook we work on 2D lattice."
   ]
  },
  {
   "cell_type": "markdown",
   "metadata": {},
   "source": [
    "## 1. Prerequisites"
   ]
  },
  {
   "cell_type": "markdown",
   "metadata": {},
   "source": [
    "Load the packages."
   ]
  },
  {
   "cell_type": "code",
   "execution_count": 1,
   "metadata": {},
   "outputs": [],
   "source": [
    "import numpy as np\n",
    "import random\n",
    "from matplotlib import pyplot as plt\n",
    "%matplotlib inline\n",
    "from matplotlib import animation\n",
    "from IPython.display import HTML\n"
   ]
  },
  {
   "cell_type": "markdown",
   "metadata": {},
   "source": [
    "Global parameters: lattice sizes, volume, couplings, global field array. **Note: Start with size $N=4$ or even $N=2$ to speed up the debugging, then increase to $N=6$ once the code is working properly.**"
   ]
  },
  {
   "cell_type": "code",
   "execution_count": 2,
   "metadata": {},
   "outputs": [],
   "source": [
    "# lattice sizes -- global variables, for simplicity deal with a square lattice\n",
    "N = 6\n",
    "Nx = N\n",
    "Nt = N\n",
    "# volume measured in sites\n",
    "Vn = Nx*Nt\n",
    "# the coupling -- global variable\n",
    "kappa = 0.1\n",
    "\n",
    "# global field storage\n",
    "field_theta = np.zeros( Vn, dtype=float )\n",
    "\n",
    "# initialize random seed (for reproducibility)\n",
    "random.seed( 3 )\n"
   ]
  },
  {
   "cell_type": "markdown",
   "metadata": {},
   "source": [
    "Here are the functions for mapping lattice integer vector to integer index (i.e. we convert a two-dimensional vector into an integer index that has a value from 0 to ``Nx*Nt-1`` that we used. This is needed because we store the field configuration (array of values of ``theta``) as a one dimensional array, despite that we work on a two-dimensional lattice."
   ]
  },
  {
   "cell_type": "code",
   "execution_count": 3,
   "metadata": {},
   "outputs": [],
   "source": [
    "# function to map lattice coordinates to integer index\n",
    "# input:\n",
    "# vec - vector of two integer coordinates, x is first, t is second\n",
    "# output:\n",
    "# return value - integer index in [0,Nx*Nt) range\n",
    "def lat_vec_to_index( vec ):\n",
    "    if len(vec) != 2:\n",
    "        print( \"Error in lat_vec_to_index: only two-dimensional lattices are supported\" )\n",
    "        return -1\n",
    "    ix = vec[0]\n",
    "    it = vec[1]\n",
    "    if ix<0 or ix>=Nx:\n",
    "        print( \"Error in lat_vec_to_index: x coordinate is out of range\", ix)\n",
    "        return -1\n",
    "    if it<0 or ix>=Nt:\n",
    "        print( \"Error in lat_vec_to_index: t coordinate is out of range\", it)\n",
    "        return -1\n",
    "    \n",
    "    return it*Nx + ix\n",
    "\n",
    "# function to map integer index to integer lattice coordinates\n",
    "# input:\n",
    "# i - integer index\n",
    "# output:\n",
    "# vec - vector of two integer coordinates, x is first, t is second\n",
    "def index_to_lat_vec( i, vec ):\n",
    "    if i<0 or i>=Nx*Nt:\n",
    "        print( \"Error in index_to_lat_vec: integer index is out of range\", i )\n",
    "    if len(vec) != 2:\n",
    "        print( \"Error in index_to_lat_vec: size of x array is not 2\", len(vec) )\n",
    "    it = i // Nx\n",
    "    ix = i % Nx\n",
    "    vec[0] = ix\n",
    "    vec[1] = it\n"
   ]
  },
  {
   "cell_type": "markdown",
   "metadata": {},
   "source": [
    "This function generates a random value of angle $\\theta$ uniformly distributed in $[-\\pi,\\pi]$."
   ]
  },
  {
   "cell_type": "code",
   "execution_count": 4,
   "metadata": {},
   "outputs": [],
   "source": [
    "# generate random angle in [-pi,pi] uniformly\n",
    "# return value:\n",
    "# theta\n",
    "def get_random_theta():\n",
    "\n",
    "    # generate new` value of theta uniformly in [-pi,pi]\n",
    "    r = random.random()\n",
    "    return ( 2*r - 1 ) * np.pi\n"
   ]
  },
  {
   "cell_type": "markdown",
   "metadata": {},
   "source": [
    "The next two function produce two types of field configurations: 1) completely disordered, all values are random, ''hot'' start, 2) completely ordered, all angles set to 0, ''cold'' start."
   ]
  },
  {
   "cell_type": "code",
   "execution_count": 5,
   "metadata": {},
   "outputs": [],
   "source": [
    "def make_hot_start( field ):\n",
    "\n",
    "    for i in range(Vn):\n",
    "        field[i] = get_random_theta()\n",
    "        \n",
    "def make_cold_start( field ):\n",
    "\n",
    "    for i in range(Vn):\n",
    "        field[i] = 0\n"
   ]
  },
  {
   "cell_type": "markdown",
   "metadata": {},
   "source": [
    "## 2. Auxiliary functions for plotting"
   ]
  },
  {
   "cell_type": "code",
   "execution_count": 6,
   "metadata": {},
   "outputs": [],
   "source": [
    "# this function generates coordinates for plotting in such a way\n",
    "# so that each degree of freedom (theta) is plotted as a \"magnet\",\n",
    "# half blue, half red line\n",
    "# input: field configuration\n",
    "def field_to_lines( field_theta ):\n",
    "    # blue lines / red lines (even/edd)\n",
    "    x = []\n",
    "    y = []\n",
    "    vec = np.zeros( 2, dtype=int )\n",
    "    for i in range( Vn ):\n",
    "        # convert lattice index to vector\n",
    "        index_to_lat_vec( i, vec )\n",
    "        dx = alen * np.cos( field_theta[i] )\n",
    "        dy = alen * np.sin( field_theta[i] )\n",
    "        x.append( [vec[0],vec[0]+dx] )\n",
    "        y.append( [vec[1],vec[1]+dy] )\n",
    "        dx = alen * np.cos( field_theta[i] + np.pi )\n",
    "        dy = alen * np.sin( field_theta[i] + np.pi )\n",
    "        x.append( [vec[0],vec[0]+dx] )\n",
    "        y.append( [vec[1],vec[1]+dy] )\n",
    "        \n",
    "    return x,y\n",
    "\n",
    "\n",
    "# plot the field\n",
    "def plot_field( field ):\n",
    "    global alen\n",
    "    # set figure\n",
    "    xlim = Nx\n",
    "    ylim = Nt\n",
    "    alen = 0.3\n",
    "    fig = plt.figure()\n",
    "    fig.set_size_inches(8, 8/Nx*Nt)\n",
    "    ax = plt.axes( xlim=(-1, xlim), ylim=(-1, ylim) )\n",
    "    ax.set_aspect( Nt/Nx )\n",
    "    lines = []\n",
    "    for i in range( Vn ):\n",
    "        lobj, = ax.plot([], [], color=\"blue\", lw=2 )\n",
    "        lines.append( lobj )\n",
    "        lobj, = ax.plot([], [], color=\"red\", lw=2 )\n",
    "        lines.append( lobj )\n",
    "\n",
    "    x, y = field_to_lines( field )\n",
    "    \n",
    "    for lnum,line in enumerate(lines):\n",
    "        line.set_data( x[ lnum ], y[ lnum ] )\n",
    "\n",
    "    plt.show()\n"
   ]
  },
  {
   "cell_type": "markdown",
   "metadata": {},
   "source": [
    "Plot how a ''cold'' starting configuration looks."
   ]
  },
  {
   "cell_type": "code",
   "execution_count": 7,
   "metadata": {},
   "outputs": [
    {
     "data": {
      "image/png": "[encoded data removed]",
      "text/plain": [
       "<Figure size 576x432 with 1 Axes>"
      ]
     },
     "metadata": {
      "needs_background": "light"
     },
     "output_type": "display_data"
    }
   ],
   "source": [
    "make_cold_start( field_theta )\n",
    "plot_field( field_theta )\n"
   ]
  },
  {
   "cell_type": "markdown",
   "metadata": {},
   "source": [
    "Plot how a ''hot'' starting configuration looks."
   ]
  },
  {
   "cell_type": "code",
   "execution_count": 8,
   "metadata": {},
   "outputs": [
    {
     "data": {
      "image/png": "[encoded data removed]",
      "text/plain": [
       "<Figure size 576x432 with 1 Axes>"
      ]
     },
     "metadata": {
      "needs_background": "light"
     },
     "output_type": "display_data"
    }
   ],
   "source": [
    "make_hot_start( field_theta )\n",
    "plot_field( field_theta )\n"
   ]
  },
  {
   "cell_type": "markdown",
   "metadata": {},
   "source": [
    "## 3. Auxiliary functions for animation -- works if you have ffmpeg installed\n",
    "\n",
    "To use this functionality you need properly installed ffmpeg module. This may not work on your platform."
   ]
  },
  {
   "cell_type": "code",
   "execution_count": 9,
   "metadata": {},
   "outputs": [
    {
     "name": "stdout",
     "output_type": "stream",
     "text": [
      "\u001b[33mDEPRECATION: Python 2.7 reached the end of its life on January 1st, 2020. Please upgrade your Python as Python 2.7 is no longer maintained. pip 21.0 will drop support for Python 2.7 in January 2021. More details about Python 2 support in pip can be found at https://pip.pypa.io/en/latest/development/release-process/#python-2-support pip 21.0 will remove support for this functionality.\u001b[0m\n",
      "Defaulting to user installation because normal site-packages is not writeable\n",
      "Collecting ffmpeg\n",
      "  Downloading ffmpeg-1.4.tar.gz (5.1 kB)\n",
      "Building wheels for collected packages: ffmpeg\n",
      "  Building wheel for ffmpeg (setup.py) ... \u001b[?25ldone\n",
      "\u001b[?25h  Created wheel for ffmpeg: filename=ffmpeg-1.4-py2-none-any.whl size=6813 sha256=d9422332a1b2f68120aabc4ef72608ca2205a2fe6c5e9b06c1facc9ab7653ea2\n",
      "  Stored in directory: /home/mandlecha/.cache/pip/wheels/19/73/bc/a40f5286475db60fe38d678660b54b40692d9c0ea025b156ae\n",
      "Successfully built ffmpeg\n",
      "Installing collected packages: ffmpeg\n",
      "Successfully installed ffmpeg-1.4\n"
     ]
    }
   ],
   "source": [
    "!pip install ffmpeg"
   ]
  },
  {
   "cell_type": "code",
   "execution_count": 10,
   "metadata": {},
   "outputs": [],
   "source": [
    "# create animation\n",
    "\n",
    "# initialization function: set up a subplot for each line\n",
    "def init():\n",
    "    for line in lines:\n",
    "        line.set_data([], [])\n",
    "    return lines\n",
    "\n",
    "# animation function -- populate the data for preexisting subplot\n",
    "def animate(i):\n",
    "    \n",
    "    xx, yy = field_to_lines( collected_field[i] ) # note that collected_field is a global variable\n",
    "    \n",
    "    for lnum,line in enumerate(lines):\n",
    "        line.set_data( xx[ lnum ], yy[ lnum ] )\n",
    "    return lines\n",
    "\n",
    "# make full animation and export to html\n",
    "def make_animation():\n",
    "\n",
    "    global lines\n",
    "    global alen\n",
    "\n",
    "    # set figure\n",
    "    xlim = Nx\n",
    "    ylim = Nt\n",
    "    alen = 0.3\n",
    "\n",
    "    # initialize figure\n",
    "    fig = plt.figure()\n",
    "    fig.set_size_inches(8, 8/Nx*Nt)\n",
    "    # set axis limits and aspect ratio\n",
    "    ax = plt.axes( xlim=(-1, xlim), ylim=(-1, ylim) )\n",
    "    ax.set_aspect( Nt/Nx )\n",
    "    lines = []\n",
    "    for i in range( Vn ):\n",
    "        lobj, = ax.plot([], [], color=\"blue\", lw=2 )\n",
    "        lines.append( lobj )\n",
    "        lobj, = ax.plot([], [], color=\"red\", lw=2 )\n",
    "        lines.append( lobj )\n",
    "\n",
    "    Nframes = len( collected_field ) # note that collected_field is a global variable\n",
    "\n",
    "    # main animation block, the interval is set in milliseconds\n",
    "    anim = animation.FuncAnimation(fig, animate, init_func=init,\n",
    "                               frames=Nframes, interval=500, blit=True, repeat=False)\n",
    "    # export this animation into a video file, embedded then in HTML\n",
    "    return anim.to_html5_video()\n"
   ]
  },
  {
   "cell_type": "markdown",
   "metadata": {},
   "source": [
    "## 4. Monte Carlo simulation -- random sampling (e.g. kappa=0)\n",
    "\n",
    "Now we try completely random sampling that corresponds to $\\kappa=0$ -- all field configurations are equally likely. The simulation is organized as two nested loops: ``Nsim`` and ``Ninner``. This allows one to record data less often than the number of sweeps. (A _sweep_ is an update where each degree of freedom on the lattice is updated once.)"
   ]
  },
  {
   "cell_type": "code",
   "execution_count": 11,
   "metadata": {},
   "outputs": [
    {
     "name": "stdout",
     "output_type": "stream",
     "text": [
      "('Acceptance rate ', 100, ' %')\n"
     ]
    }
   ],
   "source": [
    "Nsim = 50 # outer simulation loop where data is recorded, \n",
    "          # preferably less than 100, otherwise creating the animation may be slow\n",
    "Ninner = 1 # inner simulation loop, updates, but data is not recorded\n",
    "Nequi = 50 # equilibration (no data recorded)\n",
    "\n",
    "# random start\n",
    "make_hot_start( field_theta )\n",
    "\n",
    "# equilibration\n",
    "for i in range(Nequi):\n",
    "    for i in range(Vn):\n",
    "        new_theta = get_random_theta()\n",
    "        field_theta[i] = new_theta\n",
    "    \n",
    "# array to record field configurations for animation\n",
    "collected_field = []\n",
    "collected_field.append( field_theta.copy() )\n",
    "\n",
    "# main production loop\n",
    "acpt_rate = 0\n",
    "for i1 in range(Nsim):\n",
    "    \n",
    "    for i2 in range(Ninner):\n",
    "        \n",
    "        # sweep over the lattice\n",
    "        for i in range(Vn):\n",
    "            new_theta = get_random_theta()\n",
    "            acpt_rate += 1 # record accpetance rate, here all moves are accepted\n",
    "            field_theta[i] = new_theta\n",
    "            \n",
    "    collected_field.append( field_theta.copy() )\n",
    "\n",
    "# record the acceptance rate\n",
    "print( \"Acceptance rate \", acpt_rate/Vn/Ninner/Nsim*100, \" %\" )\n"
   ]
  },
  {
   "cell_type": "markdown",
   "metadata": {},
   "source": [
    "After the simulation the list ``collected_field`` contains ``Nsim`` successive field configuration that we can use to make an animation."
   ]
  },
  {
   "cell_type": "code",
   "execution_count": 12,
   "metadata": {},
   "outputs": [
    {
     "ename": "RuntimeError",
     "evalue": "Requested MovieWriter (ffmpeg) not available",
     "output_type": "error",
     "traceback": [
      "\u001b[0;31m---------------------------------------------------------------------------\u001b[0m",
      "\u001b[0;31mRuntimeError\u001b[0m                              Traceback (most recent call last)",
      "\u001b[0;32m<ipython-input-12-00bac5ce09a3>\u001b[0m in \u001b[0;36m<module>\u001b[0;34m()\u001b[0m\n\u001b[1;32m      2\u001b[0m \u001b[0;32mfrom\u001b[0m \u001b[0mIPython\u001b[0m\u001b[0;34m.\u001b[0m\u001b[0mdisplay\u001b[0m \u001b[0;32mimport\u001b[0m \u001b[0mHTML\u001b[0m\u001b[0;34m\u001b[0m\u001b[0m\n\u001b[1;32m      3\u001b[0m \u001b[0;34m\u001b[0m\u001b[0m\n\u001b[0;32m----> 4\u001b[0;31m \u001b[0mHTML\u001b[0m\u001b[0;34m(\u001b[0m \u001b[0mmake_animation\u001b[0m\u001b[0;34m(\u001b[0m\u001b[0;34m)\u001b[0m \u001b[0;34m)\u001b[0m\u001b[0;34m\u001b[0m\u001b[0m\n\u001b[0m",
      "\u001b[0;32m<ipython-input-10-715cd72c49e5>\u001b[0m in \u001b[0;36mmake_animation\u001b[0;34m()\u001b[0m\n\u001b[1;32m     46\u001b[0m                                frames=Nframes, interval=500, blit=True, repeat=False)\n\u001b[1;32m     47\u001b[0m     \u001b[0;31m# export this animation into a video file, embedded then in HTML\u001b[0m\u001b[0;34m\u001b[0m\u001b[0;34m\u001b[0m\u001b[0m\n\u001b[0;32m---> 48\u001b[0;31m     \u001b[0;32mreturn\u001b[0m \u001b[0manim\u001b[0m\u001b[0;34m.\u001b[0m\u001b[0mto_html5_video\u001b[0m\u001b[0;34m(\u001b[0m\u001b[0;34m)\u001b[0m\u001b[0;34m\u001b[0m\u001b[0m\n\u001b[0m",
      "\u001b[0;32m/home/mandlecha/.local/lib/python2.7/site-packages/matplotlib/animation.pyc\u001b[0m in \u001b[0;36mto_html5_video\u001b[0;34m(self, embed_limit)\u001b[0m\n\u001b[1;32m   1347\u001b[0m                 \u001b[0;31m# We create a writer manually so that we can get the\u001b[0m\u001b[0;34m\u001b[0m\u001b[0;34m\u001b[0m\u001b[0m\n\u001b[1;32m   1348\u001b[0m                 \u001b[0;31m# appropriate size for the tag\u001b[0m\u001b[0;34m\u001b[0m\u001b[0;34m\u001b[0m\u001b[0m\n\u001b[0;32m-> 1349\u001b[0;31m                 \u001b[0mWriter\u001b[0m \u001b[0;34m=\u001b[0m \u001b[0mwriters\u001b[0m\u001b[0;34m[\u001b[0m\u001b[0mrcParams\u001b[0m\u001b[0;34m[\u001b[0m\u001b[0;34m'animation.writer'\u001b[0m\u001b[0;34m]\u001b[0m\u001b[0;34m]\u001b[0m\u001b[0;34m\u001b[0m\u001b[0m\n\u001b[0m\u001b[1;32m   1350\u001b[0m                 writer = Writer(codec='h264',\n\u001b[1;32m   1351\u001b[0m                                 \u001b[0mbitrate\u001b[0m\u001b[0;34m=\u001b[0m\u001b[0mrcParams\u001b[0m\u001b[0;34m[\u001b[0m\u001b[0;34m'animation.bitrate'\u001b[0m\u001b[0;34m]\u001b[0m\u001b[0;34m,\u001b[0m\u001b[0;34m\u001b[0m\u001b[0m\n",
      "\u001b[0;32m/home/mandlecha/.local/lib/python2.7/site-packages/matplotlib/animation.pyc\u001b[0m in \u001b[0;36m__getitem__\u001b[0;34m(self, name)\u001b[0m\n\u001b[1;32m    171\u001b[0m         \u001b[0;32mexcept\u001b[0m \u001b[0mKeyError\u001b[0m\u001b[0;34m:\u001b[0m\u001b[0;34m\u001b[0m\u001b[0m\n\u001b[1;32m    172\u001b[0m             raise RuntimeError(\n\u001b[0;32m--> 173\u001b[0;31m                 'Requested MovieWriter ({}) not available'.format(name))\n\u001b[0m\u001b[1;32m    174\u001b[0m \u001b[0;34m\u001b[0m\u001b[0m\n\u001b[1;32m    175\u001b[0m \u001b[0;34m\u001b[0m\u001b[0m\n",
      "\u001b[0;31mRuntimeError\u001b[0m: Requested MovieWriter (ffmpeg) not available"
     ]
    },
    {
     "data": {
      "image/png": "[encoded data removed]",
      "text/plain": [
       "<Figure size 576x432 with 1 Axes>"
      ]
     },
     "metadata": {
      "needs_background": "light"
     },
     "output_type": "display_data"
    }
   ],
   "source": [
    "# run animation\n",
    "from IPython.display import HTML\n",
    "\n",
    "HTML( make_animation() )"
   ]
  },
  {
   "cell_type": "markdown",
   "metadata": {},
   "source": [
    "## 5. Forward and backward neighbor indices"
   ]
  },
  {
   "cell_type": "markdown",
   "metadata": {},
   "source": [
    "To write a program that performs updates with $\\kappa>0$ we need to calculate the interaction of $\\theta$ being updated with its environment (neighboring sites). For this we need to know the integer indices of the forward and backward neighbors for a given integer index. As an example, here is a function for the forward neighbor index."
   ]
  },
  {
   "cell_type": "code",
   "execution_count": 13,
   "metadata": {},
   "outputs": [],
   "source": [
    "# forward neighbor\n",
    "# input:\n",
    "# i - integer site index\n",
    "# mu - direction, 0 for x, 1 for t\n",
    "# return value:\n",
    "# j - integer index of the neighbor site\n",
    "def get_forward_neighbor( i, mu ):\n",
    "    if mu<0 or mu>1:\n",
    "        print( \"Error in get_forward_neighbor: dir index is out of range\", mu )\n",
    "    vec = np.zeros( 2, dtype=int )\n",
    "    # convert lattice index to vector\n",
    "    index_to_lat_vec( i, vec )\n",
    "    # forward neighbor in mu direction\n",
    "    vec[mu] = vec[mu] + 1\n",
    "    # fold into lattice\n",
    "    vec[0] = vec[0] % Nx\n",
    "    vec[1] = vec[1] % Nt\n",
    "    # convert vector to lattice index\n",
    "    j = lat_vec_to_index( vec )\n",
    "    return j\n",
    "\n"
   ]
  },
  {
   "cell_type": "markdown",
   "metadata": {},
   "source": [
    "We need to test if the function is working properly."
   ]
  },
  {
   "cell_type": "code",
   "execution_count": 14,
   "metadata": {},
   "outputs": [
    {
     "name": "stdout",
     "output_type": "stream",
     "text": [
      "(1, 6)\n",
      "(2, 7)\n",
      "(3, 8)\n",
      "(4, 9)\n",
      "(5, 10)\n",
      "(0, 11)\n",
      "(7, 12)\n",
      "(8, 13)\n",
      "(9, 14)\n",
      "(10, 15)\n",
      "(11, 16)\n",
      "(6, 17)\n",
      "(13, 18)\n",
      "(14, 19)\n",
      "(15, 20)\n",
      "(16, 21)\n",
      "(17, 22)\n",
      "(12, 23)\n",
      "(19, 24)\n",
      "(20, 25)\n",
      "(21, 26)\n",
      "(22, 27)\n",
      "(23, 28)\n",
      "(18, 29)\n",
      "(25, 30)\n",
      "(26, 31)\n",
      "(27, 32)\n",
      "(28, 33)\n",
      "(29, 34)\n",
      "(24, 35)\n",
      "(31, 0)\n",
      "(32, 1)\n",
      "(33, 2)\n",
      "(34, 3)\n",
      "(35, 4)\n",
      "(30, 5)\n"
     ]
    }
   ],
   "source": [
    "# test forward neighbor index\n",
    "for i in range(Vn):\n",
    "    print( get_forward_neighbor(i,0), get_forward_neighbor(i,1) )"
   ]
  },
  {
   "cell_type": "markdown",
   "metadata": {},
   "source": [
    "**Exercise 1:** Write a function for the backward index. "
   ]
  },
  {
   "cell_type": "code",
   "execution_count": 15,
   "metadata": {},
   "outputs": [],
   "source": [
    "\n",
    "# backward neighbor\n",
    "# input:\n",
    "# i - integer site index\n",
    "# mu - direction, 0 for x, 1 for t\n",
    "# return value:\n",
    "# j - integer index of the neighbor site\n",
    "def get_backward_neighbor( i, mu ):\n",
    "    if mu<0 or mu>1:\n",
    "        print( \"Error in get_forward_neighbor: dir index is out of range\", mu )\n",
    "    vec = np.zeros( 2, dtype=int )\n",
    "    # convert lattice index to vector\n",
    "    index_to_lat_vec( i, vec )\n",
    "    # backward neighbor in mu direction\n",
    "    vec[mu] = vec[mu] - 1\n",
    "    # fold into lattice\n",
    "    vec[0] = ( vec[0] + Nx ) % Nx\n",
    "    vec[1] = ( vec[1] + Nt ) % Nt\n",
    "    # convert vector to lattice index\n",
    "    j = lat_vec_to_index( vec )\n",
    "    return j\n",
    "\n"
   ]
  },
  {
   "cell_type": "markdown",
   "metadata": {},
   "source": [
    "**Exercise 2:** Test the backward index function. "
   ]
  },
  {
   "cell_type": "code",
   "execution_count": 16,
   "metadata": {},
   "outputs": [
    {
     "name": "stdout",
     "output_type": "stream",
     "text": [
      "(5, 30)\n",
      "(0, 31)\n",
      "(1, 32)\n",
      "(2, 33)\n",
      "(3, 34)\n",
      "(4, 35)\n",
      "(11, 0)\n",
      "(6, 1)\n",
      "(7, 2)\n",
      "(8, 3)\n",
      "(9, 4)\n",
      "(10, 5)\n",
      "(17, 6)\n",
      "(12, 7)\n",
      "(13, 8)\n",
      "(14, 9)\n",
      "(15, 10)\n",
      "(16, 11)\n",
      "(23, 12)\n",
      "(18, 13)\n",
      "(19, 14)\n",
      "(20, 15)\n",
      "(21, 16)\n",
      "(22, 17)\n",
      "(29, 18)\n",
      "(24, 19)\n",
      "(25, 20)\n",
      "(26, 21)\n",
      "(27, 22)\n",
      "(28, 23)\n",
      "(35, 24)\n",
      "(30, 25)\n",
      "(31, 26)\n",
      "(32, 27)\n",
      "(33, 28)\n",
      "(34, 29)\n"
     ]
    }
   ],
   "source": [
    "\n",
    "# test bacward neighbor index\n",
    "for i in range(Vn):\n",
    "    print( get_backward_neighbor(i,0), get_backward_neighbor(i,1) )\n",
    "    \n"
   ]
  },
  {
   "cell_type": "markdown",
   "metadata": {},
   "source": [
    "## 6. Calculate environment\n",
    "\n",
    "Let ``j`` be the index of the site being updated. The ''environment'' is then\n",
    "\n",
    "$$\n",
    "S_x\\equiv \\sum_{\\mu=\\pm x, \\pm t}\\exp(i\\theta_{j+\\hat \\mu})\n",
    "$$"
   ]
  },
  {
   "cell_type": "markdown",
   "metadata": {},
   "source": [
    "**Exercise 3 :** Write a function that given the field array and the index of a site ``i`` returns ``Sx`` (as a complex number). "
   ]
  },
  {
   "cell_type": "code",
   "execution_count": 17,
   "metadata": {},
   "outputs": [],
   "source": [
    "\n",
    "# calculate the environment for site i\n",
    "# input:\n",
    "# field -- field array of size Vn\n",
    "# i -- integer site index\n",
    "# return value:\n",
    "# Sx -- sum of the neighboring \"spins\"\n",
    "def get_environment_theta( field, i ):\n",
    "    Sx = 0\n",
    "    # loop on dimensions\n",
    "    for idir in range(2):\n",
    "        # index of the forward neighbor\n",
    "        j = get_forward_neighbor( i, idir )\n",
    "        # add to the total\n",
    "        Sx += np.exp( field[j] * 1j )\n",
    "        # index of the backward neighbor\n",
    "        j = get_backward_neighbor( i, idir )\n",
    "        # add to the total\n",
    "        Sx += np.exp( field[j] * 1j )\n",
    "    return Sx\n",
    "\n"
   ]
  },
  {
   "cell_type": "markdown",
   "metadata": {},
   "source": [
    "## 7. Generate new value of theta with the Metropolis algorithm\n",
    "\n",
    "Now that we can calculate $S_x$ we can write a function that generates a new value for $\\theta$ with the following algorithm:\n",
    "\n",
    "* Propose $\\theta'$ uniformly in $[-\\pi,\\pi]$.\n",
    "* Accept with the probability\n",
    "$$\n",
    "\\min\\left\\{1,\\exp\\left[2\\kappa{\\rm Re}\\{S_x^\\dagger(\\exp(i\\theta)-\\exp(i\\theta')\\}\\right]\\right\\},\n",
    "$$\n",
    "where $\\theta$ is the old value. If accepted, the function should return two values: $\\theta'$ and 1, if rejected:\n",
    "$\\theta$ (old value) and 0. The second value will help to count the number of accepted moves."
   ]
  },
  {
   "cell_type": "markdown",
   "metadata": {},
   "source": [
    "**Exercise 4 :** Write a function to generate new value of $\\theta$. "
   ]
  },
  {
   "cell_type": "code",
   "execution_count": 18,
   "metadata": {},
   "outputs": [],
   "source": [
    "\n",
    "# Metropolis to generate theta\n",
    "# input:\n",
    "# old_theta -- existing value of theta\n",
    "# Sx -- the environment (as complex number)\n",
    "# return:\n",
    "# new_theta, acpt -- new_theta is new angle if accepted, or old_theta otherwise; acpt -- =1 if accepted, =0 otherwise\n",
    "def get_theta( old_theta, Sx ):\n",
    "    \n",
    "    # generate new value of theta uniformly in [-pi,pi]\n",
    "    new_theta = get_random_theta()\n",
    "    \n",
    "    # difference between new and old field\n",
    "    diff = np.exp( new_theta * 1j ) - np.exp( old_theta * 1j )\n",
    "    \n",
    "    # real part of the environment times the field difference\n",
    "    A = 2 * kappa * ( Sx.conj() * diff ).real\n",
    "\n",
    "    r = random.random()\n",
    "    \n",
    "    # acceptance\n",
    "    if r < np.exp( A ): # accept\n",
    "        return new_theta,1\n",
    "    else:\n",
    "        return old_theta,0\n",
    "\n"
   ]
  },
  {
   "cell_type": "markdown",
   "metadata": {},
   "source": [
    "## 8. Calculate the action\n",
    "\n",
    "Our observable is essentially the action itself (in fact, the action density as it is normalized by volume).\n",
    "\n"
   ]
  },
  {
   "cell_type": "markdown",
   "metadata": {},
   "source": [
    "**Exercise 5:** Write a function to calcualte $L_\\varphi$ defined above. "
   ]
  },
  {
   "cell_type": "code",
   "execution_count": 19,
   "metadata": {},
   "outputs": [],
   "source": [
    "\n",
    "# calculate the action density\n",
    "# input:\n",
    "# field -- field array of size Vn\n",
    "# return value:\n",
    "# action density L_phi\n",
    "def get_action( field ):\n",
    "    act = 0\n",
    "    for i in range(Vn):\n",
    "        # loop on dimensions\n",
    "        for idir in range(2):\n",
    "            # index of the forward neighbor\n",
    "            j = get_forward_neighbor( i, idir )\n",
    "            # add to the total\n",
    "            act += np.cos( field[i] - field[j] )\n",
    "\n",
    "    # normalize by volume\n",
    "    act /= Vn\n",
    "\n",
    "    return act\n",
    "\n"
   ]
  },
  {
   "cell_type": "markdown",
   "metadata": {},
   "source": [
    "## 9. Full Monte Carlo simulation\n",
    "\n",
    "Now we have all the tools to perform actual Monte Carlo simulation for $\\kappa>0$."
   ]
  },
  {
   "cell_type": "markdown",
   "metadata": {},
   "source": [
    "**Exercise 6:** Use the code below to run the simulation and debug the functions for the environment and the Metropolis algorithm to generate new value of theta. Note that in this block we also record the values of the observable (action density $L_\\varphi$) in the ``act_series`` list. "
   ]
  },
  {
   "cell_type": "code",
   "execution_count": 20,
   "metadata": {},
   "outputs": [
    {
     "name": "stdout",
     "output_type": "stream",
     "text": [
      "('Acceptance rate ', 0, ' %')\n"
     ]
    }
   ],
   "source": [
    "Nsim = 50 # outer simulation loop where data is recorded, \n",
    "          # preferably less than 100, otherwise creating the animation may be slow\n",
    "Ninner = 1 # inner simulation loop, updates, but data is not recorded\n",
    "Nequi = 50 # equilibration (no data recorded)\n",
    "\n",
    "# action time series\n",
    "act_series = []\n",
    "\n",
    "# random start\n",
    "make_hot_start( field_theta )\n",
    "\n",
    "# equilibration\n",
    "for i in range(Nequi):\n",
    "    for i in range(Vn):\n",
    "        new_theta = get_random_theta()\n",
    "        field_theta[i] = new_theta\n",
    "    \n",
    "# array to record field configurations for animation\n",
    "collected_field = []\n",
    "collected_field.append( field_theta.copy() )\n",
    "\n",
    "# main production loop\n",
    "acpt_rate = 0\n",
    "for i1 in range(Nsim):\n",
    "    \n",
    "    for i2 in range(Ninner):\n",
    "        \n",
    "        # sweep over the lattice\n",
    "        for i in range(Vn):\n",
    "            Sx = get_environment_theta( field_theta, i )\n",
    "            new_theta,acpt = get_theta( field_theta[i], Sx )\n",
    "            acpt_rate += acpt\n",
    "            field_theta[i] = new_theta\n",
    "            \n",
    "    collected_field.append( field_theta.copy() )\n",
    "    \n",
    "    # record action\n",
    "    act_series.append( get_action( field_theta ) )\n",
    "\n",
    "# record the acceptance rate\n",
    "print( \"Acceptance rate \", acpt_rate/Vn/Ninner/Nsim*100, \" %\" )\n"
   ]
  },
  {
   "cell_type": "code",
   "execution_count": null,
   "metadata": {},
   "outputs": [],
   "source": [
    "# run animation\n",
    "\n",
    "HTML(make_animation())"
   ]
  },
  {
   "cell_type": "markdown",
   "metadata": {},
   "source": [
    "## 10. Data analysis\n",
    "\n",
    "As a result of the simulation we recorded the time series for the values of the action density. We can extract the mean and the errorbar (using the definition of the unbiased variance)."
   ]
  },
  {
   "cell_type": "markdown",
   "metadata": {},
   "source": [
    "**Exercise 7:** Write a function to calculate the mean and the errorbar. "
   ]
  },
  {
   "cell_type": "code",
   "execution_count": 21,
   "metadata": {},
   "outputs": [],
   "source": [
    "\n",
    "# get mean and errorbar from a time series\n",
    "# input:\n",
    "# series -- list with time series\n",
    "# return value:\n",
    "# xm, xe -- mean and errorbar\n",
    "def get_mean_and_error( series ):\n",
    "\n",
    "    N = len(series)\n",
    "    xm = 0\n",
    "    xv = 0\n",
    "    xe = 0\n",
    "    for i in range(N):\n",
    "        xm += series[i]\n",
    "    xm /= N\n",
    "    for i in range(N):\n",
    "        xv += ( series[i] - xm )**2\n",
    "    xv /= N*(N-1)\n",
    "    xe = np.sqrt( xv )\n",
    "    return xm, xe\n",
    "\n"
   ]
  },
  {
   "cell_type": "markdown",
   "metadata": {},
   "source": [
    "# 11. Dependence of the action density on $\\kappa$\n",
    "\n",
    "With the code above we can calculate the action density for arbitrary $\\kappa>0$. For small values of $\\kappa$ we can use the hopping parameter expansion to test the code."
   ]
  },
  {
   "cell_type": "markdown",
   "metadata": {},
   "source": [
    "**Exercise 8 (25 pts):** Reuse the code from exercise 6 with proper modifications to perform the simulation for\n",
    "$\\kappa=0,0.05,0.10,0.15,0.20,0.25$ and extract the action density and errorbar for each value of $\\kappa$. Plot the action density (with errors) vs $\\kappa$ together with the hopping parameter expansion which in this case is:\n",
    "$$\n",
    "L_\\varphi=2\\kappa+3\\kappa^3+O(\\kappa^5)\n",
    "$$\n",
    "Reasonable parameters for $6\\times6$ lattice may be ``Nequi=300``, ``Nsim=400``, ``Ninner=20``. However, use smaller values to debug the code and larger values for final production run. Do not store the field configurations\n",
    "(i.e. do not append to ``collected_field`` list) since animation is not needed here."
   ]
  },
  {
   "cell_type": "code",
   "execution_count": 22,
   "metadata": {},
   "outputs": [],
   "source": [
    "\n",
    "# function to run simulation at given parameters\n",
    "def run_simulation( in_kappa, Nequi, Nsim, Ninner=1 ):\n",
    "\n",
    "    global kappa\n",
    "    global field_theta\n",
    "    global collected_field\n",
    "    global act_series\n",
    "\n",
    "    kappa = in_kappa\n",
    "\n",
    "    # random start\n",
    "    make_hot_start( field_theta )\n",
    "\n",
    "    # equilibration\n",
    "    for iequ in range(Nequi):\n",
    "        for i in range(Vn):\n",
    "            Sx = get_environment_theta( field_theta, i )\n",
    "            new_theta,acpt = get_theta( field_theta[i], Sx )\n",
    "            field_theta[i] = new_theta\n",
    "    \n",
    "\n",
    "    # main production loop\n",
    "    acpt_rate = 0\n",
    "    for i1 in range(Nsim):\n",
    "    \n",
    "        for i2 in range(Ninner):\n",
    "\n",
    "            for i in range(Vn):\n",
    "                Sx = get_environment_theta( field_theta, i )\n",
    "                new_theta,acpt = get_theta( field_theta[i], Sx )\n",
    "                acpt_rate += acpt\n",
    "                field_theta[i] = new_theta\n",
    "\n",
    "        # record action\n",
    "        act_series.append( get_action( field_theta ) )\n",
    "\n",
    "    print( \"Acceptance rate \", acpt_rate/Vn/Ninner/Nsim*100, \" %\" )\n",
    "\n"
   ]
  },
  {
   "cell_type": "code",
   "execution_count": 23,
   "metadata": {},
   "outputs": [
    {
     "name": "stdout",
     "output_type": "stream",
     "text": [
      "('kappa = ', 0)\n",
      "('Acceptance rate ', 100, ' %')\n",
      "('kappa = ', 0.05)\n",
      "('Acceptance rate ', 0, ' %')\n",
      "('kappa = ', 0.1)\n",
      "('Acceptance rate ', 0, ' %')\n",
      "('kappa = ', 0.15)\n",
      "('Acceptance rate ', 0, ' %')\n",
      "('kappa = ', 0.2)\n",
      "('Acceptance rate ', 0, ' %')\n",
      "('kappa = ', 0.25)\n",
      "('Acceptance rate ', 0, ' %')\n"
     ]
    }
   ],
   "source": [
    "\n",
    "# run simulation and extract \n",
    "akappa = [0,0.05,0.10,0.15,0.20,0.25]\n",
    "en = []\n",
    "en_err = []\n",
    "\n",
    "for ak in akappa:\n",
    "    print( \"kappa = \", ak )\n",
    "    act_series = []\n",
    "    run_simulation( ak, 300, 400, 20 )\n",
    "    am, ae = get_mean_and_error( act_series )\n",
    "    en.append( am )\n",
    "    en_err.append( ae )\n",
    "\n"
   ]
  },
  {
   "cell_type": "code",
   "execution_count": 24,
   "metadata": {
    "scrolled": true
   },
   "outputs": [
    {
     "data": {
      "image/png": "[encoded data removed]",
      "text/plain": [
       "<Figure size 432x288 with 1 Axes>"
      ]
     },
     "metadata": {
      "needs_background": "light"
     },
     "output_type": "display_data"
    }
   ],
   "source": [
    "import matplotlib.pyplot as plt\n",
    "import numpy as np\n",
    "\n",
    "# Prepare data\n",
    "# prepare hopping parameter expansion result: 2*k + 3*k^3\n",
    "xh = np.linspace(0, akappa[-1], num=100, endpoint=True)\n",
    "yh1 = xh * 2\n",
    "yh3 = yh1 + xh**3 * 3\n",
    "\n",
    "# Plotting\n",
    "plt.plot(xh, yh3, \"-\", color=\"orange\", label=\"Hopping parameter expansion\")\n",
    "plt.errorbar(akappa, en, yerr=en_err, fmt=\"+\", color=\"blue\", label=r\"Action density $L_\\varphi$\")\n",
    "\n",
    "# Add legend\n",
    "plt.legend()\n",
    "\n",
    "# Display the plot\n",
    "plt.show()\n"
   ]
  },
  {
   "cell_type": "markdown",
   "metadata": {},
   "source": [
    "## 12. Prediction for $\\kappa$ beyond the hopping parameter expansion"
   ]
  },
  {
   "cell_type": "markdown",
   "metadata": {},
   "source": [
    "**Exercise 9:** Once your code is working properly, perform a simulation at $\\kappa=2$ and predict the value of the action density with errorbar at this $\\kappa$. The autocorrelations are much longer at $\\kappa=2$ so you may use ``Nequi=500``, ``Nsim=50``, ``Ninner=200``."
   ]
  },
  {
   "cell_type": "code",
   "execution_count": 25,
   "metadata": {},
   "outputs": [
    {
     "name": "stdout",
     "output_type": "stream",
     "text": [
      "('Acceptance rate ', 0, ' %')\n"
     ]
    }
   ],
   "source": [
    "\n",
    "act_series = []\n",
    "run_simulation( 2.0, 500, 50, 200 )\n",
    "\n"
   ]
  },
  {
   "cell_type": "code",
   "execution_count": 26,
   "metadata": {},
   "outputs": [
    {
     "name": "stdout",
     "output_type": "stream",
     "text": [
      "(1.880420881246644, ' +/- ', 0.003856996902816158)\n"
     ]
    }
   ],
   "source": [
    "\n",
    "am, ae = get_mean_and_error( act_series )\n",
    "\n",
    "print( am, \" +/- \", ae)\n",
    "\n"
   ]
  },
  {
   "cell_type": "markdown",
   "metadata": {},
   "source": [
    "# Global Updating Algorithms"
   ]
  },
  {
   "cell_type": "markdown",
   "metadata": {},
   "source": [
    "$$\\frac{\\partial S}{\\partial \\theta_z} = 2\\kappa \\sum_j\\sum_\\mu \\sin(\\theta_z - \\theta_{z + \\mu})$$\n",
    "\n",
    " We can write the equations of motion:\n",
    " \n",
    "$$\\frac{dP_i}{d\\tau} = -\\frac{\\partial H}{\\partial Q_i} = -\\frac{\\partial S}{\\partial Q_i}$$\n",
    "\n",
    "$$\\frac{dQ_i}{d\\tau} = \\frac{\\partial H}{\\partial P_i} = P_i$$\n",
    "\n"
   ]
  },
  {
   "cell_type": "markdown",
   "metadata": {},
   "source": [
    "**Exercise 10:**  "
   ]
  },
  {
   "cell_type": "code",
   "execution_count": 31,
   "metadata": {},
   "outputs": [
    {
     "ename": "IndentationError",
     "evalue": "expected an indented block (<ipython-input-31-1a201027782e>, line 13)",
     "output_type": "error",
     "traceback": [
      "\u001b[0;36m  File \u001b[0;32m\"<ipython-input-31-1a201027782e>\"\u001b[0;36m, line \u001b[0;32m13\u001b[0m\n\u001b[0;31m    return F\u001b[0m\n\u001b[0m         ^\u001b[0m\n\u001b[0;31mIndentationError\u001b[0m\u001b[0;31m:\u001b[0m expected an indented block\n"
     ]
    }
   ],
   "source": [
    "#needed for derivative\n",
    "def kronecker_delta(i, j):\n",
    "    return 1 if i == j else 0\n",
    "\n",
    "# Compute Force \n",
    "def compute_Force(theta_field,kappa,Vn):\n",
    "    F = np.zeros( Vn, dtype=float );\n",
    "    \n",
    "    for k in range (Vn):\n",
    "        for j in range(Vn):\n",
    "       \n",
    "    #YOUR CODE\n",
    "    return F\n",
    "    "
   ]
  },
  {
   "cell_type": "code",
   "execution_count": null,
   "metadata": {},
   "outputs": [],
   "source": [
    "#fill the following functions according to Leapfrog algorithm\n",
    "def update_P(P,delTau,Force):\n",
    "    P_evol = np.zeros( Vn, dtype=float );\n",
    "    for i in range(Vn):\n",
    "        \n",
    "      #YOUR CODE\n",
    "        \n",
    "    \n",
    "    return P_evol\n",
    "\n",
    "def update_theta(theta,delTau,P):\n",
    "    theta_evol = np.zeros( Vn, dtype=float );\n",
    "    for i in range(Vn):\n",
    "        #YOUR CODE\n",
    "        \n",
    "    \n",
    "    return theta_evol\n",
    "\n",
    "def refresh_P(mu=0, sigma=1):\n",
    "    field_P = np.zeros(Vn, dtype=float)\n",
    "    \n",
    "    for i in range(Vn):\n",
    "        field_P[i] = np.random.normal(mu, sigma)\n",
    "    \n",
    "    return field_P\n",
    "\n",
    "def kinetic_energy(field_P):\n",
    "    K=0.5*np.sum(np.square(field_P));\n",
    "    \n",
    "    return K"
   ]
  },
  {
   "cell_type": "markdown",
   "metadata": {},
   "source": [
    "## Molecular Dynamics"
   ]
  },
  {
   "cell_type": "markdown",
   "metadata": {},
   "source": [
    "**Exercise 11: complete the MD algorithm.**  "
   ]
  },
  {
   "cell_type": "code",
   "execution_count": null,
   "metadata": {},
   "outputs": [],
   "source": [
    "\n",
    "def MD_algorithm(field_theta,Ttraj,steps,kappa,Nsim):\n",
    "    #Initializing variables\n",
    "    field_P = np.zeros( Vn, dtype=float );\n",
    "    field_P_evol = np.zeros( Vn, dtype=float );\n",
    "    field_theta_evol = np.zeros( Vn, dtype=float );\n",
    "    field_force = np.zeros( Vn, dtype=float );\n",
    "    collected_field_MD = [];\n",
    "    \n",
    "   \n",
    "    delTau=Traj/steps; \n",
    "   \n",
    "\n",
    "    field_Force = np.zeros( Vn, dtype=float );\n",
    "\n",
    "   \n",
    "\n",
    "   \n",
    "    for m in range(Nsim):\n",
    "        \n",
    "        #Draw momentum from Gaussian Distribution \n",
    "        field_P=refresh_P();\n",
    "        \n",
    "        for s in range(steps):\n",
    "    \n",
    "            \n",
    "            if(s==0):\n",
    "                #Do a half step on momentum\n",
    "               \n",
    "               \n",
    "        \n",
    "            else:\n",
    "                #Add leapfrog\n",
    "        \n",
    "     \n",
    "        collected_field_MD.append(field_theta_evol);\n",
    "\n",
    "    return collected_field_MD\n",
    "    \n",
    "    "
   ]
  },
  {
   "cell_type": "markdown",
   "metadata": {},
   "source": [
    "## Hybrid Monte Carlo Algorithm"
   ]
  },
  {
   "cell_type": "markdown",
   "metadata": {},
   "source": [
    "**Exercise 12: Use your code for MD to write the code for the HMC algorithm**  "
   ]
  },
  {
   "cell_type": "code",
   "execution_count": null,
   "metadata": {},
   "outputs": [],
   "source": [
    "\n",
    "def HMC_algorithm(field_theta,Ttraj,steps,kappa,Vn,Nsim):\n",
    "    \n",
    "    #Initializing variables\n",
    "    field_P = np.zeros( Vn, dtype=float );\n",
    "    field_P_evol = np.zeros( Vn, dtype=float );\n",
    "    field_theta_evol = np.zeros( Vn, dtype=float );\n",
    "    field_force = np.zeros( Vn, dtype=float );\n",
    "    collected_field_HMC = [];\n",
    "    acceptance=0;\n",
    "    \n",
    "    delTau=Ttraj/steps;\n",
    "   \n",
    "\n",
    "    field_Force = np.zeros( Vn, dtype=float );\n",
    "\n",
    "\n",
    "   \n",
    "    \n",
    "  \n",
    "    for m in range(Nsim):\n",
    "        \n",
    "        #Draw momentum from Gaussian Distribution \n",
    "        field_P=refresh_P();\n",
    "        \n",
    "        for s in range(steps):\n",
    "            \n",
    "            \n",
    "            if(s==0):\n",
    "                #Do a half step on momentum\n",
    "              \n",
    "        \n",
    "            #Add leapfrog\n",
    "        \n",
    "            \n",
    "          \n",
    "            \n",
    "            if(s==steps-1):\n",
    "               #Update momenta again\n",
    "            \n",
    "         \n",
    "        #Compute H and H'\n",
    "        \n",
    "        r = random.random()\n",
    "    \n",
    "        # Metropolis step\n",
    "        if r < np.exp( H-Hprime ): # accept\n",
    "            collected_field_HMC.append(field_theta_evol);\n",
    "            acceptance=acceptance+1;\n",
    "        else:\n",
    "            collected_field_HMC.append(field_theta);\n",
    "            \n",
    "\n",
    "    a_rate=acceptance*100/Nsim;\n",
    "    print(acceptance*100/Nsim);\n",
    "    return collected_field_HMC,a_rate"
   ]
  },
  {
   "cell_type": "markdown",
   "metadata": {},
   "source": [
    "## Comparison"
   ]
  },
  {
   "cell_type": "markdown",
   "metadata": {},
   "source": [
    "plot the mean value of $L_{\\phi}$ for configurations sampled with varying $\\Delta \\tau$ for both MD and HMC"
   ]
  },
  {
   "cell_type": "code",
   "execution_count": null,
   "metadata": {},
   "outputs": [],
   "source": [
    "#Compare both algorithms for the observable L_phi  for varying step size\n",
    "\n",
    "acpt_rate_series=[]\n",
    "HMC_mean=[];\n",
    "HMC_err=[]\n",
    "Ttraj=1;\n",
    "HMC_series=[]\n",
    "for n in range(3):\n",
    "    steps=n+4;\n",
    "    make_hot_start( field_theta );\n",
    "    HMC_configurations,a=HMC_algorithm(field_theta,Ttraj,steps,kappa,Vn,Nsim);\n",
    "    acpt_rate_series.append(a);\n",
    "    HMC_series=[]\n",
    "    for i in range(len(HMC_configurations)):\n",
    "        HMC_series.append(get_action(HMC_configurations[i]));\n",
    "        \n",
    "    m,e =get_mean_and_error(HMC_series);\n",
    "    HMC_mean.append(m);\n",
    "    HMC_err.append(e);"
   ]
  },
  {
   "cell_type": "code",
   "execution_count": null,
   "metadata": {},
   "outputs": [],
   "source": [
    "MD_mean=[];\n",
    "MD_err=[];\n",
    "MD_series=[];\n",
    "delTau_list=[];\n",
    "\n",
    "for n in range(3):\n",
    "    steps=n+4;\n",
    "    delTau_list.append(Ttraj/steps);\n",
    "    make_hot_start( field_theta );\n",
    "    MD_configurations=MD_algorithm(field_theta,Ttraj,steps,kappa,Nsim);\n",
    "    MD_series=[]\n",
    "    for i in range(len(MD_configurations)):\n",
    "        MD_series.append(get_action(MD_configurations[i]));\n",
    "        \n",
    "    m,e =get_mean_and_error(MD_series);\n",
    "    MD_mean.append(m);\n",
    "    MD_err.append(e);"
   ]
  },
  {
   "cell_type": "markdown",
   "metadata": {},
   "source": [
    "## Plot the results"
   ]
  },
  {
   "cell_type": "markdown",
   "metadata": {},
   "source": [
    "**Exercise 14:** Plot the results for our observable, the Action Density $L_\\varphi$. "
   ]
  },
  {
   "cell_type": "code",
   "execution_count": null,
   "metadata": {},
   "outputs": [],
   "source": [
    "plt.plot(delTau_list, MD_mean, label='MD Mean', color='blue', marker='o', linestyle='-', markersize=6)\n",
    "\n",
    "\n",
    "plt.plot(delTau_list, HMC_mean, label='HMC Mean', color='red', marker='x', linestyle='--', markersize=8)\n",
    "\n",
    "# Add labels and title\n",
    "plt.xlabel('delta tau')\n",
    "plt.ylabel('$<L_{\\phi}>$')\n",
    "\n",
    "\n",
    "\n",
    "\n",
    "\n",
    "\n",
    "# Show the plot\n",
    "plt.show()"
   ]
  },
  {
   "cell_type": "markdown",
   "metadata": {},
   "source": [
    "&#169; Copyright 2024,  Michigan State University Board of Trustees"
   ]
  }
 ],
 "metadata": {
  "kernelspec": {
   "display_name": "Python 3 (ipykernel)",
   "language": "python",
   "name": "python3"
  },
  "language_info": {
   "codemirror_mode": {
    "name": "ipython",
    "version": 3
   },
   "file_extension": ".py",
   "mimetype": "text/x-python",
   "name": "python",
   "nbconvert_exporter": "python",
   "pygments_lexer": "ipython3",
   "version": "3.11.5"
  }
 },
 "nbformat": 4,
 "nbformat_minor": 4
}
