{
 "cells": [
  {
   "cell_type": "markdown",
   "id": "e254c2ef",
   "metadata": {},
   "source": [
    "# HEP4LGT Unit 5: Computing algorithms and HPC"
   ]
  },
  {
   "cell_type": "markdown",
   "id": "ad7016e5",
   "metadata": {},
   "source": [
    "## Markov Chain Monte Carlo example"
   ]
  },
  {
   "cell_type": "markdown",
   "id": "677355b6",
   "metadata": {},
   "source": [
    "This notebook contains examples for Unit 5 lecture 1 \"Markov Chain Monte Carlo\"."
   ]
  },
  {
   "cell_type": "code",
   "execution_count": null,
   "id": "7140c1ad",
   "metadata": {},
   "outputs": [],
   "source": [
    "import numpy as np\n",
    "from matplotlib import pyplot as plt\n",
    "%matplotlib inline\n"
   ]
  },
  {
   "cell_type": "markdown",
   "id": "b7f310d5",
   "metadata": {},
   "source": [
    "## Transition probability matrix"
   ]
  },
  {
   "cell_type": "code",
   "execution_count": null,
   "id": "f63eaa0e",
   "metadata": {},
   "outputs": [],
   "source": [
    "# columns: \"from\" state\n",
    "# raws: \"to\" state\n",
    "T = np.array( [\n",
    "    [ 7/10, 1/3, 1/6 ],\n",
    "    [ 3/20, 1/3, 1/3 ],\n",
    "    [ 3/20, 1/3, 1/2 ]\n",
    "] )\n"
   ]
  },
  {
   "cell_type": "markdown",
   "id": "5e77d45f",
   "metadata": {},
   "source": [
    "## Dynamical process"
   ]
  },
  {
   "cell_type": "markdown",
   "id": "b0d8f3e8",
   "metadata": {},
   "source": [
    "Three rooms: states 0, 1, 2. There is an ant in one room and it can transition to another room with some probability. Consider the transitions happening in discrete steps. We run the process for some number of steps and record how many times each state was visited.\n"
   ]
  },
  {
   "cell_type": "code",
   "execution_count": null,
   "id": "aa3f7ef1",
   "metadata": {},
   "outputs": [],
   "source": [
    "# set random seed for reproducibility\n",
    "np.random.seed( 1 )\n"
   ]
  },
  {
   "cell_type": "code",
   "execution_count": null,
   "id": "e70c14ca",
   "metadata": {},
   "outputs": [],
   "source": [
    "# run transitions between three states with given transition probability matrix\n",
    "# Input:\n",
    "# T -- 3x3 Markov matrix (columns sum to 1)\n",
    "# Nsteps -- how many steps to make\n",
    "# start_state =0, 1 or 2\n",
    "# Output:\n",
    "# a list with visited states\n",
    "def run_transitions( T, Nsteps, start_state=0 ):\n",
    "\n",
    "    # start in state 0\n",
    "    state = start_state\n",
    "\n",
    "    visited = []\n",
    "\n",
    "    for i in range( Nsteps ):\n",
    "\n",
    "        # read the transition probabilities\n",
    "        tij = T.transpose()[state]\n",
    "\n",
    "        # attempt a transition\n",
    "        r = np.random.random()\n",
    "        if r < tij[0]:\n",
    "            state = 0\n",
    "        elif r < tij[0] + tij[1]:\n",
    "            state = 1\n",
    "        else:\n",
    "            state = 2\n",
    "\n",
    "        visited.append( state )\n",
    "\n",
    "    return visited\n",
    "\n",
    "\n",
    "# count how many times states were visited\n",
    "# Input:\n",
    "# list with visited states, containing only 0, 1 or 2\n",
    "# Output:\n",
    "# array of three elements with how many times each state was visited\n",
    "def count_states( visited ):\n",
    "    \n",
    "    frequency = np.zeros( 3 )\n",
    "    for i in range( len( visited  ) ):\n",
    "        frequency[ visited[i] ] += 1\n",
    "        \n",
    "    return frequency\n",
    "\n",
    "\n"
   ]
  },
  {
   "cell_type": "markdown",
   "id": "864272d6",
   "metadata": {},
   "source": [
    "Run the process, count how many times each state was visited, normalize to define _probability_ of the state."
   ]
  },
  {
   "cell_type": "code",
   "execution_count": null,
   "id": "0f6c4a90",
   "metadata": {},
   "outputs": [],
   "source": [
    "# try Nsteps = 10, 100, 1000, 10000, 100000\n",
    "Nsteps = 10\n",
    "vis = run_transitions( T, Nsteps )\n",
    "frequency = count_states( vis )\n",
    "\n",
    "print( \"Frequency:\")\n",
    "print( frequency )\n",
    "print()\n",
    "print( \"Probability:\")\n",
    "print( frequency / frequency.sum() )\n"
   ]
  },
  {
   "cell_type": "code",
   "execution_count": null,
   "id": "4882f8cc",
   "metadata": {},
   "outputs": [],
   "source": [
    "plt.bar( [0,1,2], frequency, width=1, color='skyblue', edgecolor='black')"
   ]
  },
  {
   "cell_type": "markdown",
   "id": "2c2d1018",
   "metadata": {},
   "source": [
    "## Dynamical process vs ensemble\n",
    "\n",
    "What happens if we act with the transition matrix on a probability vector?"
   ]
  },
  {
   "cell_type": "code",
   "execution_count": null,
   "id": "8a160ed7",
   "metadata": {},
   "outputs": [],
   "source": [
    "# starting ensemble\n",
    "p0 = np.array( [0,0,1] )\n",
    "\n",
    "print( \"Starting ensemble:\" )\n",
    "p = p0.copy()\n",
    "print(p)\n",
    "print()\n",
    "\n",
    "print( \"Ensemble evolution:\" )\n",
    "nrpt = 1 # try 1, 2, 3, 5, 10, 20, 30\n",
    "for i in range( nrpt ):\n",
    "    p = T.dot(p)\n",
    "    print(p)\n"
   ]
  },
  {
   "cell_type": "markdown",
   "id": "3f961336",
   "metadata": {},
   "source": [
    "# Eigenvalues and eigenvectors of the transition matrix \n",
    "\n",
    "The equilibrium distribution is the eigenvector of the Markov matrix corresponding to the largest eigenvalue, equal 1, of the Markov matrix."
   ]
  },
  {
   "cell_type": "code",
   "execution_count": null,
   "id": "f6b88a66",
   "metadata": {},
   "outputs": [],
   "source": [
    "eigvals, eigvecs = np.linalg.eig( T )\n",
    "\n",
    "print( eigvals )\n",
    "print( eigvecs )\n",
    "print()\n",
    "\n",
    "idx = eigvals.argsort()[::-1]   \n",
    "eigvals = eigvals[idx]\n",
    "eigvecs = eigvecs[:,idx]\n",
    "\n",
    "print( \"Largest eigenvalue:\", eigvals[0] )\n",
    "\n",
    "evec0 = eigvecs.transpose()[0]\n",
    "print( \"Its eigenvector:\", evec0 )\n",
    "\n",
    "\n",
    "evec0 = np.abs( evec0 )\n",
    "evec0 /= evec0.sum()\n",
    "print( \"Eigenvector properly normalized:\", evec0 )\n"
   ]
  },
  {
   "cell_type": "markdown",
   "id": "e08a1a25",
   "metadata": {},
   "source": [
    "## From weights to transition matrix"
   ]
  },
  {
   "cell_type": "markdown",
   "id": "40d3387a",
   "metadata": {},
   "source": [
    "Now, all we know are the relative weights of the states and we want to generate a sequence (Markov chain) where the states appear with frequency (i.e. probability) proportional to the weights."
   ]
  },
  {
   "cell_type": "code",
   "execution_count": null,
   "id": "a79d9266",
   "metadata": {},
   "outputs": [],
   "source": [
    "weights = evec0 / evec0[0]\n",
    "print( weights )"
   ]
  },
  {
   "cell_type": "markdown",
   "id": "ebde1e2d",
   "metadata": {},
   "source": [
    "Try several proposal probability matrices."
   ]
  },
  {
   "cell_type": "code",
   "execution_count": null,
   "id": "ae3ae017",
   "metadata": {},
   "outputs": [],
   "source": [
    "# proposal probability\n",
    "# columns: \"from\" state\n",
    "# rows: \"to\" state\n",
    "T0_list = [ \\\n",
    "    np.array( [ \\\n",
    "    [ 1/3, 1/3, 1/3 ], \\\n",
    "    [ 1/3, 1/3, 1/3 ], \\\n",
    "    [ 1/3, 1/3, 1/3 ]  \\\n",
    "    ] ), \\\n",
    "    np.array( [ \\\n",
    "    [ 1/2, 1/2, 1/2 ], \\\n",
    "    [ 1/4, 1/4, 1/4 ], \\\n",
    "    [ 1/4, 1/4, 1/4 ]  \\\n",
    "    ] ), \\\n",
    "    np.array( [ \\\n",
    "    [ 1/2, 2/3, 1/8 ], \\\n",
    "    [ 1/4, 1/6, 3/8 ], \\\n",
    "    [ 1/4, 1/6, 1/2 ]  \\\n",
    "    ] ), \\\n",
    "    np.array( [ \\\n",
    "    [ 1/10, 1/10, 1/10 ], \\\n",
    "    [ 8/10, 8/10, 8/10 ], \\\n",
    "    [ 1/10, 1/10, 1/10 ] \\\n",
    "    ] ), \\\n",
    "    np.array( [ \\\n",
    "    [ 80/179, 80/179, 80/179 ], \\\n",
    "    [ 45/179, 45/179, 45/179 ], \\\n",
    "    [ 54/179, 54/179, 54/179 ]  \\\n",
    "    ] ) \\\n",
    "]\n",
    "\n",
    "T0 = T0_list[0]\n"
   ]
  },
  {
   "cell_type": "markdown",
   "id": "54af2459",
   "metadata": {},
   "source": [
    "Construct acceptance probability and full transition matrix."
   ]
  },
  {
   "cell_type": "code",
   "execution_count": null,
   "id": "545ae329",
   "metadata": {},
   "outputs": [],
   "source": [
    "# acceptance probability\n",
    "Ta = np.zeros( (3,3) )\n",
    "\n",
    "for j in range(3):\n",
    "    for i in range(3):\n",
    "        prob = weights[i]/weights[j]\n",
    "        prob *= T0[j,i] / T0[i,j]\n",
    "        Ta[i,j] = ( prob if prob < 1 else 1 )\n",
    "\n",
    "# transition probability\n",
    "newT = np.zeros( (3,3) )\n",
    "\n",
    "for j in range(3):\n",
    "    for i in range(3):\n",
    "        if i==j:\n",
    "            newT[i,j] = 0\n",
    "        else:\n",
    "            newT[i,j] = Ta[i,j]*T0[i,j]\n",
    "    newT[j,j] = 1 - np.sum( newT[:,j] )\n"
   ]
  },
  {
   "cell_type": "code",
   "execution_count": null,
   "id": "3877c462",
   "metadata": {},
   "outputs": [],
   "source": [
    "print( newT )"
   ]
  },
  {
   "cell_type": "markdown",
   "id": "fcc3dcc0",
   "metadata": {},
   "source": [
    "Run Markov Chain Monte Carlo with new transition matrix."
   ]
  },
  {
   "cell_type": "code",
   "execution_count": null,
   "id": "c7cd7e3e",
   "metadata": {},
   "outputs": [],
   "source": [
    "# try Nsteps = 10, 100, 1000, 10000, 100000\n",
    "vis = run_transitions( newT, 100000 )\n",
    "frequency = count_states( vis )\n",
    "\n",
    "print( \"Frequency:\")\n",
    "print( frequency )\n",
    "print()\n",
    "print( \"Probability:\")\n",
    "print( frequency / frequency.sum() )\n"
   ]
  },
  {
   "cell_type": "markdown",
   "id": "36037e71",
   "metadata": {},
   "source": [
    "Eigenvalues and eigenvectors."
   ]
  },
  {
   "cell_type": "code",
   "execution_count": null,
   "id": "1df6b2c4",
   "metadata": {},
   "outputs": [],
   "source": [
    "eigvals, eigvecs = np.linalg.eig( newT )\n",
    "\n",
    "print( eigvals )\n",
    "print( eigvecs )\n",
    "print()\n",
    "\n",
    "idx = eigvals.argsort()[::-1]   \n",
    "eigvals = eigvals[idx]\n",
    "eigvecs = eigvecs[:,idx]\n",
    "\n",
    "print( \"Largest eigenvalue:\", eigvals[0] )\n",
    "\n",
    "evec0 = eigvecs.transpose()[0]\n",
    "print( \"Its eigenvector:\", evec0 )\n",
    "\n",
    "\n",
    "evec0 = np.abs( evec0 )\n",
    "evec0 /= evec0.sum()\n",
    "print( \"Eigenvector properly normalized:\", evec0 )\n"
   ]
  },
  {
   "cell_type": "markdown",
   "id": "94f2f4b8",
   "metadata": {},
   "source": [
    "What about the acceptance probabilities?"
   ]
  },
  {
   "cell_type": "code",
   "execution_count": null,
   "id": "1bfd7da8",
   "metadata": {},
   "outputs": [],
   "source": [
    "print( Ta )"
   ]
  },
  {
   "cell_type": "markdown",
   "id": "6953edaa",
   "metadata": {},
   "source": [
    " "
   ]
  }
 ],
 "metadata": {
  "kernelspec": {
   "display_name": "Python 3 (ipykernel)",
   "language": "python",
   "name": "python3"
  },
  "language_info": {
   "codemirror_mode": {
    "name": "ipython",
    "version": 3
   },
   "file_extension": ".py",
   "mimetype": "text/x-python",
   "name": "python",
   "nbconvert_exporter": "python",
   "pygments_lexer": "ipython3",
   "version": "3.11.5"
  }
 },
 "nbformat": 4,
 "nbformat_minor": 5
}
