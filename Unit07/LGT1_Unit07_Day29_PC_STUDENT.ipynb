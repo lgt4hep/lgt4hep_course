{
  "cells": [
    {
      "cell_type": "markdown",
      "id": "ac77ac3a-6f3a-4288-b4b4-7f9ee85f04db",
      "metadata": {
        "id": "ac77ac3a-6f3a-4288-b4b4-7f9ee85f04db"
      },
      "source": [
        "# LGT1 Unit07 Day29 - Pre-Class Assignment:  ML for the Inverse Problem in the Pseudo-PDF Method for LQCD\n",
        "### <p style=\"text-align: right;\"> &#9989; Put your name here.</p>"
      ]
    },
    {
      "cell_type": "markdown",
      "id": "248ee028-7dfd-46bf-9818-454abd82928f",
      "metadata": {
        "id": "248ee028-7dfd-46bf-9818-454abd82928f"
      },
      "source": [
        "\n",
        "## Goals of this assignment\n",
        "\n",
        "The goals of this assignment are:\n",
        "\n",
        "* Learn the definition of an inverse problem\n",
        "* Learn how psuedo-data can be used to train models to solve the inverse problem\n",
        "* Learn the basic definition of a parton distribution function (PDF)\n",
        "* Learn how machine learning can be applied to solve the inverse problem in the psuedo-PDF method for calculating PDFs from lattice QCD\n",
        "* Explore the generation of psuedo-data for this problem (will use them for in-class assignement)\n",
        "\n",
        "## Assignment instructions\n",
        "\n",
        "Please complete assignment before noon Dec. 6th."
      ]
    },
    {
      "cell_type": "markdown",
      "id": "5d313080-512d-4756-a865-8f4bf1591088",
      "metadata": {
        "id": "5d313080-512d-4756-a865-8f4bf1591088"
      },
      "source": [
        "# Part 1: ML for the Inverse Problem in the Pseudo-PDF Method for LQCD\n",
        "Watch the lecture video below"
      ]
    },
    {
      "cell_type": "code",
      "execution_count": null,
      "id": "49c47e56-6c73-453f-914e-ec5ac33845ce",
      "metadata": {
        "id": "49c47e56-6c73-453f-914e-ec5ac33845ce",
        "colab": {
          "base_uri": "https://localhost:8080/",
          "height": 362
        },
        "outputId": "a6332ced-768a-4670-d8bf-2841d6432d28"
      },
      "outputs": [
        {
          "output_type": "execute_result",
          "data": {
            "text/plain": [
              "<IPython.lib.display.YouTubeVideo at 0x7c8afcdb7220>"
            ],
            "text/html": [
              "\n",
              "        <iframe\n",
              "            width=\"640\"\n",
              "            height=\"340\"\n",
              "            src=\"https://www.youtube.com/embed/4_YXdABF2iI\"\n",
              "            frameborder=\"0\"\n",
              "            allowfullscreen\n",
              "            \n",
              "        ></iframe>\n",
              "        "
            ],
            "image/jpeg": "[encoded data removed]"
          },
          "metadata": {},
          "execution_count": 6
        }
      ],
      "source": [
        "from IPython.display import YouTubeVideo\n",
        "YouTubeVideo(\"4_YXdABF2iI\",width=640,height=340)\n",
        "# Direct link on YourTube: https://www.youtube.com/watch?v=4_YXdABF2iI"
      ]
    },
    {
      "cell_type": "markdown",
      "id": "9f96b676-e3c0-4d6d-897c-dc6064e34cdb",
      "metadata": {
        "id": "9f96b676-e3c0-4d6d-897c-dc6064e34cdb"
      },
      "source": [
        "# Part 2: Generate one sample of psuedo-data\n",
        "The pre-class task is to generate just one sample of the pseudo-data and explore what the input and output will look like.\n",
        "I will generate the samples that will be used for training the ML model for the in class assignment so that everyone has the same data.\n",
        "Follow the code to generate and plot and example of the input data and output PDF.\n",
        "Fill in any spots that say ```#YOUR CODE HERE``` (these will only be in code blocks with \"(Task #)\" written above them).\n",
        "You will need to choose a $(a,b)$ and \"implement\" a quadrature integration (the function for getting the weights and points is already done)."
      ]
    },
    {
      "cell_type": "code",
      "execution_count": null,
      "id": "069f6f22-87ba-4ee3-a60d-a51b318ad036",
      "metadata": {
        "id": "069f6f22-87ba-4ee3-a60d-a51b318ad036"
      },
      "outputs": [],
      "source": [
        "### Some things to include\n",
        "\n",
        "import numpy as np\n",
        "\n",
        "#--matplotlib\n",
        "import matplotlib.pyplot as plt\n",
        "import matplotlib\n",
        "matplotlib.rc('text',usetex=True)\n",
        "\n",
        "#--scipy\n",
        "from scipy.special import beta as beta_func\n",
        "from scipy.special import roots_jacobi\n",
        "from scipy.interpolate import CubicSpline"
      ]
    },
    {
      "cell_type": "markdown",
      "id": "052b55a5-f91d-4698-a7d9-0a642200ea57",
      "metadata": {
        "id": "052b55a5-f91d-4698-a7d9-0a642200ea57"
      },
      "source": [
        "## Mock Lattice Parameters\n",
        "We want to generate \"mock\" lattice data of the matrix elements,\n",
        "$$M(\\nu = zP_z, z^2) \\propto \\langle H(P_z)| O_g(z)|H(P_z)\\rangle$$\n",
        "where $H(P_z)$ is a hadron state with boost momentum $P_z$ and $O_g(z)$ is a non-local operator with spatial extent $z$.\n",
        "The $M$ are called called the reduced pseudo-Ioffe time Distribution (RpITD). $\\nu=zP_z$ is the dimensionless Ioffe time.\n",
        "The exact form of the operator is not important to know for this exercise, and we will cover it next semester in the hadron structure section.\n",
        "We want to represent lattice data with $a = 0.09$ fm and a spatial extent $L = 32a$.\n",
        "We will generate matrix elements for spatial seperations $z \\in [1,5]$ and hadron momenta $P_z \\in [1,5]$, both in integer units.\n",
        "I set these parameters below."
      ]
    },
    {
      "cell_type": "code",
      "execution_count": null,
      "id": "b111f9d2-5b4e-4b5e-b04a-c75fd14f3154",
      "metadata": {
        "id": "b111f9d2-5b4e-4b5e-b04a-c75fd14f3154"
      },
      "outputs": [],
      "source": [
        "#Parameters\n",
        "a = 0.09 #fm, lattice spacing (this actually doesn't end up being used)\n",
        "L = 32  #  , lattice spatial length\n",
        "\n",
        "zs = np.arange(1,6) # units of a, z values in lattice units\n",
        "Pzs = 2*np.pi / L * np.arange(1,6) # units 1/a , Pz values in lattice units\n",
        "nus = np.outer(zs, Pzs) # unitless  , Values of z*Pz"
      ]
    },
    {
      "cell_type": "markdown",
      "id": "b029576d-15d9-403f-848b-691ed5c55767",
      "metadata": {
        "id": "b029576d-15d9-403f-848b-691ed5c55767"
      },
      "source": [
        "## Gluon Pseduo-PDF Matching Definitions\n",
        "Ignoring mixing with the quark PDF, the matching relation for the pseudo-PDF method is:\n",
        "$$M(\\nu, z^2) = \\int_0^1 dx \\frac{xg(x,\\mu^2)}{\\langle x \\rangle_g(\\mu^2)}R_{gg}(x\\nu, z^2 \\mu^2)$$\n",
        " $g(x,\\mu^2)$ is the light-cone gluon PDF at the at the $\\overline{\\text{MS}}$ scheme scale $\\mu$.\n",
        "$R_{gg}$ is the glue-glue matching kernel defined in I. Balitsky, et al. PRD 105:014008 (2022).\n",
        "\n",
        "We'll fix $\\mu = 2$ GeV and treat the matching kernel as a black box.\n",
        "In particular, I have generated a table of $R_{gg}$ sufficient to make an interpolation of the matching kernel at the 5 fixed values of $z$ and the fixed $\\mu$.\n",
        "I implement this below.\n",
        "\n",
        "The ```R_gg(y,z)``` function returns the $R_{gg}(y, z*a, \\mu = 2 \\text{ GeV})$.\n",
        "It is only defined for $z \\in \\{1,2,3,4,5\\}$."
      ]
    },
    {
      "cell_type": "code",
      "execution_count": null,
      "id": "e1d9c055-f2d5-4d30-87fe-54b30d542988",
      "metadata": {
        "id": "e1d9c055-f2d5-4d30-87fe-54b30d542988"
      },
      "outputs": [],
      "source": [
        "# Load the R_gg table and make the 5 interpolations\n",
        "\n",
        "#Read in table\n",
        "R_gg_tab = np.load(\"R_gg_tab.npy\")\n",
        "\n",
        "#Make a list to hold the interpolations\n",
        "R_gg_interps = []\n",
        "\n",
        "#Loop over the zs in R_gg_tab\n",
        "for i in range(len(R_gg_tab)):\n",
        "    #Append a cubic spline interpolation of R_gg\n",
        "    R_gg_interps.append(CubicSpline(R_gg_tab[i,0], R_gg_tab[i,1]))\n",
        "\n",
        "#Define a function for that returns an interpolation of R_gg for the fixed values of z\n",
        "def R_gg(y,z):\n",
        "    return R_gg_interps[z-1](y)"
      ]
    },
    {
      "cell_type": "markdown",
      "id": "3bfae38c-0985-4ba5-9b39-60cae1d1bd82",
      "metadata": {
        "id": "3bfae38c-0985-4ba5-9b39-60cae1d1bd82"
      },
      "source": [
        "## Pseduo Data Generation\n",
        "We want to create a model (details of which are not important right now) that takes lattice data in the form of RpITD data points and outputs the gluon PDF that would correspond to such lattice data.\n",
        "We have a mathematical form (see above) to relate a gluon PDF to the lattice data, so if we choose some reasonable representations of PDFs, we can generate RpITD \"pseudo-data\" to train the ML model.\n",
        "\n",
        "We will assume a phenomenologically inspired form of the normalized gluon PDF\n",
        "$$\\frac{xg(x)}{\\langle x_g \\rangle} = N(a,b) x^a (1-x)^b$$\n",
        "to generate pseudo-data with $N(a,b) = 1/\\beta(a+1,b+1)$.\n",
        "We will generate random 1000 pairs of $(a,b)$ in a reasonable range $a \\in (-1, 2) $ and $b \\in (0,15)$.\n",
        "$b > 0$ as the PDF must go to 0 as $x \\rightarrow 1$, and $a > -1$ to be integrable, but I don't have rigorous justification for the upper limits right now...\n",
        "We can generate PDFs at 99 points between $x \\in (0,1)$ to represent the output PDF data, and match the PDF to the RpITD at 25 points to represent input data."
      ]
    },
    {
      "cell_type": "markdown",
      "id": "6e94d3e2-c388-4667-9cfa-5cdd9feb82ac",
      "metadata": {
        "id": "6e94d3e2-c388-4667-9cfa-5cdd9feb82ac"
      },
      "source": [
        "### Gauss-Jacobi Quadrature\n",
        "\n",
        "Gaussian quadrature is a slightly magical integration method that can allow you to effeciently evaluate integrals with only a few points.\n",
        "In fact, we'll only use 25 points to integrate the matching relation in this notebook, and that's probably overkill.\n",
        "We find quadrature rules that look like\n",
        "$$\\int_a^b dx G(x) f(x) \\approx \\sum_i w^G_i f(x_i) $$\n",
        "where $G(x)$ is some weight function, $w^G_i$ are some numerical weights that depend on the function $G$ and $x_i$ are quadrature points that also depend on $G$.\n",
        "I won't go into further detail, but I highly reccomend [this lecture](https://www.youtube.com/watch?v=1tg9DcZZ7y0&list=PLMik9FXSPCPG3vzslgmOS-AfsCxWE0hVI&index=3) from Dr. Micheal Berry at UTK for his numerical methods course, if you want to learn more.\n",
        "\n",
        "Our PDF model form is just a translation of the Jacobi ploynomials, so we can take advantage of [Gauss-Jacobi quadrature](https://en.wikipedia.org/wiki/Gaussian_quadrature#Other_forms) for the integration of our matching relation:\n",
        "$$\\int_0^1 dx~x^a(1-x)^b f(x) = \\frac{1}{2^{a+b+1}}\\int_{-1}^1 du~(u+1)^a(u-1)^b f\\left(\\frac{u+1}{2}\\right).$$\n",
        "Note that for the quadrature, the weight function is $(u+1)^\\beta(u-1)^\\alpha$ in ```roots_jacobi```, so the argument is flipped."
      ]
    },
    {
      "cell_type": "code",
      "execution_count": null,
      "id": "4678e3bf-a6a8-4de7-a522-e56b2c6e0f1b",
      "metadata": {
        "id": "4678e3bf-a6a8-4de7-a522-e56b2c6e0f1b"
      },
      "outputs": [],
      "source": [
        "## PDF weight quadrature points and weights\n",
        "def PDFQuad(n, alpha, beta):\n",
        "    '''This function returns the quadrature points, xs, and weights, ws, for what I'm calling\n",
        "    'PDF weight' quadrature, which is a transformation of Gauass-Jacobi quadrature.\n",
        "    n is the number of quad points to use, alpha and beta are the powers on the weight functions (x^alpha(1-x)^beta)/Beta(a+1,b+1).\n",
        "    Alpha and beta must be greater than -1'''\n",
        "\n",
        "    #Check integrability, raise exception if not\n",
        "    if alpha <= -1 or beta <= -1:\n",
        "        raise ValueError('alpha or beta <= -1. Not integrable')\n",
        "\n",
        "    #Generate the Jacobi quadrature weights\n",
        "    xs, ws = roots_jacobi(n, beta, alpha)\n",
        "\n",
        "    # Return the transformed weights\n",
        "    return 0.5*xs + 0.5, (0.5)**(alpha+beta+1) * ws / beta_func(alpha+1, beta+1)"
      ]
    },
    {
      "cell_type": "markdown",
      "id": "87a27eee-ca58-49c8-aee7-64ccefa1d923",
      "metadata": {
        "id": "87a27eee-ca58-49c8-aee7-64ccefa1d923"
      },
      "source": [
        "### Input and Output Data Form\n",
        "Here we implement the functions for calculating the PDF at a specific $x$ from the empirical model, and solve the forward problem of matching the PDF to matrix elements using the Gauss-Jacobi quadrature function above.\n",
        "\n",
        "#### (Task 1) Implement the empirical PDF model function WITHOUT NORMALIZATION\n",
        "(We evalute the PDF at multiple values of $x$.\n",
        "It would be wasteful to calculate the same beta function every time.)\n"
      ]
    },
    {
      "cell_type": "code",
      "execution_count": null,
      "id": "35365694-73ea-4c0a-94f4-848104bab66b",
      "metadata": {
        "id": "35365694-73ea-4c0a-94f4-848104bab66b"
      },
      "outputs": [],
      "source": [
        "def PDFModel(x,a,b):\n",
        "    return #YOUR CODE HERE\n",
        "\n",
        "def Normalization(a,b):\n",
        "    return 1/beta_func(a+1,b+1)"
      ]
    },
    {
      "cell_type": "markdown",
      "id": "c6666e7a-f143-4773-97e5-032f00e38cd8",
      "metadata": {
        "id": "c6666e7a-f143-4773-97e5-032f00e38cd8"
      },
      "source": [
        "#### (Task 2 and 3) Pick $a$ and $b$ and implement Gauss-Jacobi quadrature from ```PDFQuad``` output"
      ]
    },
    {
      "cell_type": "code",
      "execution_count": null,
      "id": "39c13228-3dae-4454-9f26-8a14363241b7",
      "metadata": {
        "id": "39c13228-3dae-4454-9f26-8a14363241b7"
      },
      "outputs": [],
      "source": [
        "N = 25 #number of quad points\n",
        "\n",
        "alpha = # YOUR CODE HERE\n",
        "beta = # YOUR CODE HERE\n",
        "\n",
        "\n",
        "### OUTPUT PDF ###\n",
        "\n",
        "#xs for the output PDF\n",
        "xs_out = np.arange(1, 100)/100 #Kinda funny way to get this, but linspace was being weird\n",
        "\n",
        "#Get the normalized PDF for your a and b choice for xs_out\n",
        "\n",
        "xgx = Normalization(alpha,beta) * PDFModel(xs_out,alpha,beta)\n",
        "\n",
        "\n",
        "### INPUT PSEUDO-DATA ###\n",
        "\n",
        "#Get the quadrature weights\n",
        "xs_quad, ws = PDFQuad(N, alpha, beta)\n",
        "\n",
        "#Make a vector to store the RpITD data for various z and P_z\n",
        "RpITD = np.zeros((len(zs),len(Pzs)))\n",
        "\n",
        "#Fill in the RpITD data\n",
        "for i in range(len(zs)):\n",
        "    for j in range(len(Pzs)):\n",
        "        #Implement the quadrature for each data point\n",
        "        #YOUR CODE HERE\n",
        "        #Pseduo-code:\n",
        "        # RpITD_ij = sum_k [ws_k * R_gg(nu_ij * xs_quad_k, zs_i)]"
      ]
    },
    {
      "cell_type": "markdown",
      "id": "ce43a213-ae82-4d1e-adf7-71b35e366fb1",
      "metadata": {
        "id": "ce43a213-ae82-4d1e-adf7-71b35e366fb1"
      },
      "source": [
        "Below, we plot the PDF"
      ]
    },
    {
      "cell_type": "code",
      "execution_count": null,
      "id": "ee093927-f1da-4e88-9795-d1d8f901066c",
      "metadata": {
        "id": "ee093927-f1da-4e88-9795-d1d8f901066c",
        "outputId": "179799eb-819a-4564-e29b-0358892654cd"
      },
      "outputs": [
        {
          "data": {
            "text/plain": [
              "Text(0, 0.5, '$xg(x)/\\\\langle x_g \\\\rangle$')"
            ]
          },
          "execution_count": 8,
          "metadata": {},
          "output_type": "execute_result"
        },
        {
          "data": {
            "image/png": "[encoded data removed]",
            "text/plain": [
              "<Figure size 640x480 with 1 Axes>"
            ]
          },
          "metadata": {},
          "output_type": "display_data"
        }
      ],
      "source": [
        "#Plot of the output PDF data\n",
        "plt.plot(xs_out, xgx)\n",
        "plt.xlabel(r'$x$')\n",
        "plt.ylabel(r'$xg(x)/\\langle x_g \\rangle$')"
      ]
    },
    {
      "cell_type": "markdown",
      "id": "4ac6096b-810a-44c9-87f2-c52b016e9c28",
      "metadata": {
        "id": "4ac6096b-810a-44c9-87f2-c52b016e9c28"
      },
      "source": [
        "Below, we plot the psuedo-data that came from the above PDF.\n",
        "We plot as a function of $\\nu$ and have different lines for different values of $z$."
      ]
    },
    {
      "cell_type": "code",
      "execution_count": null,
      "id": "31659bc5-07a6-4233-a974-4fcfd5aa3cb0",
      "metadata": {
        "id": "31659bc5-07a6-4233-a974-4fcfd5aa3cb0",
        "outputId": "fdb5a536-a616-44b5-fbc1-40699f950bc2"
      },
      "outputs": [
        {
          "data": {
            "text/plain": [
              "Text(0, 0.5, '$M(\\\\nu, z)$')"
            ]
          },
          "execution_count": 9,
          "metadata": {},
          "output_type": "execute_result"
        },
        {
          "data": {
            "image/png": "[encoded data removed]",
            "text/plain": [
              "<Figure size 640x480 with 1 Axes>"
            ]
          },
          "metadata": {},
          "output_type": "display_data"
        }
      ],
      "source": [
        "#Plot of the input data\n",
        "\n",
        "for i in range(len(zs)):\n",
        "    plt.plot(nus[i], RpITD[i], 'o--', label = \"z = {}a\".format(int(np.round(zs[i]))))\n",
        "\n",
        "plt.ylim(0, 1.05)\n",
        "\n",
        "plt.legend()\n",
        "plt.xlabel(r'$\\nu$')\n",
        "plt.ylabel(r'$M(\\nu, z)$')"
      ]
    },
    {
      "cell_type": "markdown",
      "id": "beb36d96-56e9-4104-a427-f4a8eba6b731",
      "metadata": {
        "id": "beb36d96-56e9-4104-a427-f4a8eba6b731"
      },
      "source": [
        "### Explore the ranges of $a$ and $b$ (Task 4)\n",
        "Choose some different values for $a$ and $b$ and comment on any observations you have."
      ]
    },
    {
      "cell_type": "markdown",
      "id": "d8b795e8-31d8-46b7-9c08-b16050bfaebd",
      "metadata": {
        "id": "d8b795e8-31d8-46b7-9c08-b16050bfaebd"
      },
      "source": [
        "### Conclusion\n",
        "Hopefully you have a reasonable feeling for what the input and output data look like.\n",
        "For the in-class assignment, I will provide the training data, which will be 1000 copies of the same type of data that you have generated here.\n",
        "The only difference is that the arrays will be flattened, to skip an extra step in the pipeline."
      ]
    },
    {
      "cell_type": "markdown",
      "id": "1927ea2f-dc6d-46af-ac07-25af3e7e5dfb",
      "metadata": {
        "id": "1927ea2f-dc6d-46af-ac07-25af3e7e5dfb"
      },
      "source": [
        "---\n",
        "## Assignment Wrap-up\n",
        "\n",
        "Please fill out the following Google Form when you complete this assignment"
      ]
    },
    {
      "cell_type": "code",
      "execution_count": null,
      "id": "5b392ebc-fb50-4743-949c-b175eb812273",
      "metadata": {
        "id": "5b392ebc-fb50-4743-949c-b175eb812273",
        "outputId": "9eb6a169-ea95-4a3c-faf8-18f6cd1286f2"
      },
      "outputs": [
        {
          "data": {
            "text/html": [
              "\n",
              "<iframe\n",
              "\tsrc=\"https://forms.gle/Y66wJvJptRiXwD4E9\"\n",
              "\twidth=\"80%\"\n",
              "\theight=\"1200px\"\n",
              "\tframeborder=\"0\"\n",
              "\tmarginheight=\"0\"\n",
              "\tmarginwidth=\"0\">\n",
              "\tLoading...\n",
              "</iframe>\n"
            ],
            "text/plain": [
              "<IPython.core.display.HTML object>"
            ]
          },
          "execution_count": 10,
          "metadata": {},
          "output_type": "execute_result"
        }
      ],
      "source": [
        "from IPython.display import HTML\n",
        "HTML(\n",
        "\"\"\"\n",
        "<iframe\n",
        "\tsrc=\"https://forms.gle/Y66wJvJptRiXwD4E9\"\n",
        "\twidth=\"80%\"\n",
        "\theight=\"1200px\"\n",
        "\tframeborder=\"0\"\n",
        "\tmarginheight=\"0\"\n",
        "\tmarginwidth=\"0\">\n",
        "\tLoading...\n",
        "</iframe>\n",
        "\"\"\"\n",
        ")"
      ]
    },
    {
      "cell_type": "code",
      "execution_count": null,
      "id": "05e1b4af-1205-4e7a-8d24-90f0afb471ce",
      "metadata": {
        "id": "05e1b4af-1205-4e7a-8d24-90f0afb471ce"
      },
      "outputs": [],
      "source": []
    }
  ],
  "metadata": {
    "kernelspec": {
      "display_name": "Python 3 (ipykernel)",
      "language": "python",
      "name": "python3"
    },
    "language_info": {
      "codemirror_mode": {
        "name": "ipython",
        "version": 3
      },
      "file_extension": ".py",
      "mimetype": "text/x-python",
      "name": "python",
      "nbconvert_exporter": "python",
      "pygments_lexer": "ipython3",
      "version": "3.10.14"
    },
    "colab": {
      "provenance": []
    }
  },
  "nbformat": 4,
  "nbformat_minor": 5
}