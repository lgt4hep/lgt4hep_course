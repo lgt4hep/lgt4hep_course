{
  "cells": [
    {
      "cell_type": "markdown",
      "metadata": {
        "id": "KhhOzv1X5sDh"
      },
      "source": [
        "# LGT1 Unit07 Day27 - In-Class Assignment: Scikit-Learn\n",
        "\n",
        "### <p style=\"text-align: right;\"> &#9989; Put your name here.</p>\n",
        "\n",
        "\n",
        "#### <p style=\"text-align: right;\"> &#9989; Put your group member names here.</p>\n",
        "\n",
        "-------------\n",
        "\n",
        "## Goals of this assignment\n",
        "\n",
        "The goals of this assignment are:\n",
        "\n",
        "* Use Scikit-Learn for linear regression and polynomial features\n",
        "* Learn about kernel methods and how to fit hyperparameters in Scikit-Learn\n",
        "\n",
        "## Assignment instructions\n",
        "\n",
        "\n",
        "Upload the assignment to Gradescope before 5PM today."
      ]
    },
    {
      "cell_type": "markdown",
      "metadata": {
        "id": "41WwOy1E5sDi"
      },
      "source": [
        "# Part 1 :  Scikit-Learn with Linear Models\n",
        "\n",
        "[Scikit-Learn](https://scikit-learn.org/) (sklearn) is the most popular library for \"conventional\" (e.g., non-deep-learning) machine learning.\n",
        "The library has an impressive collection of machine-learning algorithms and the tools needed to use them effectively in many applications, such as tools for model validation.\n",
        "It provides many unsupervised and supervised learning algorithms, and is built on the technology we've already been using, like NumPy, Pandas, and Matplotlib."
      ]
    },
    {
      "cell_type": "code",
      "execution_count": null,
      "metadata": {
        "id": "rsk5ZeEC5sDj"
      },
      "outputs": [],
      "source": [
        "# modules we will be using here\n",
        "%matplotlib inline\n",
        "from matplotlib import pyplot as plt\n",
        "from sklearn.linear_model import LinearRegression\n",
        "from sklearn.preprocessing import PolynomialFeatures\n",
        "from sklearn.pipeline import Pipeline\n",
        "import numpy as np\n",
        "import pandas as pd\n",
        "import os\n",
        "\n",
        "# fix random seed\n",
        "np.random.seed(12)\n",
        "\n",
        "# number of data points\n",
        "n_points = 32"
      ]
    },
    {
      "cell_type": "markdown",
      "metadata": {
        "id": "QhtzwEyg5sDj"
      },
      "source": [
        "## 1.1 Our old friend: linear regression\n",
        "All machine-learning models and many utility tools in `sklearn` follow the pattern defined by `LinearRegression`."
      ]
    },
    {
      "cell_type": "markdown",
      "metadata": {
        "id": "Hn5dTw595sDk"
      },
      "source": [
        "### 1.1.1 Create a linear regression with the desired settings\n",
        "\n",
        "We begin by configuring a `LinearRegression`, a Python object that can be created with different settings.\n",
        "We can examine the object's `__dict__` member to see the settings stored in the object."
      ]
    },
    {
      "cell_type": "code",
      "execution_count": null,
      "metadata": {
        "id": "e-BeXAhG5sDk",
        "outputId": "7d0b1ee8-3885-420d-f5a5-6d1d8bf374d2"
      },
      "outputs": [
        {
          "data": {
            "text/plain": [
              "{'fit_intercept': True,\n",
              " 'normalize': False,\n",
              " 'copy_X': True,\n",
              " 'n_jobs': None,\n",
              " 'positive': False}"
            ]
          },
          "execution_count": 12,
          "metadata": {},
          "output_type": "execute_result"
        }
      ],
      "source": [
        "lr = LinearRegression()\n",
        "lr.__dict__"
      ]
    },
    {
      "cell_type": "markdown",
      "metadata": {
        "id": "r6DW4IgF5sDk"
      },
      "source": [
        "We can set these when we create the object, and the `help` function for the `__init__` member tells us what the options are and their default values."
      ]
    },
    {
      "cell_type": "code",
      "execution_count": null,
      "metadata": {
        "id": "Cp3BSQUj5sDl",
        "outputId": "686c2793-6897-4df0-c34f-b8e329773ebc"
      },
      "outputs": [
        {
          "name": "stdout",
          "output_type": "stream",
          "text": [
            "Help on function __init__ in module sklearn.linear_model._base:\n",
            "\n",
            "__init__(self, *, fit_intercept=True, normalize=False, copy_X=True, n_jobs=None, positive=False)\n",
            "    Initialize self.  See help(type(self)) for accurate signature.\n",
            "\n"
          ]
        }
      ],
      "source": [
        "help(LinearRegression.__init__)"
      ]
    },
    {
      "cell_type": "markdown",
      "metadata": {
        "id": "fNbTvpdr5sDl"
      },
      "source": [
        "You can retrieve or set these options manually using the `.` operator."
      ]
    },
    {
      "cell_type": "code",
      "execution_count": null,
      "metadata": {
        "id": "uroXdwbW5sDl",
        "outputId": "77840aca-9a25-4025-b936-bbdf21dde9ab"
      },
      "outputs": [
        {
          "data": {
            "text/plain": [
              "True"
            ]
          },
          "execution_count": 4,
          "metadata": {},
          "output_type": "execute_result"
        }
      ],
      "source": [
        "lr.fit_intercept"
      ]
    },
    {
      "cell_type": "code",
      "execution_count": null,
      "metadata": {
        "id": "nu9HitgP5sDl",
        "outputId": "5a45edc6-b81f-4132-a08e-d4e1da92e3f1"
      },
      "outputs": [
        {
          "data": {
            "text/plain": [
              "False"
            ]
          },
          "execution_count": 5,
          "metadata": {},
          "output_type": "execute_result"
        }
      ],
      "source": [
        "lr.fit_intercept = False\n",
        "lr.fit_intercept"
      ]
    },
    {
      "cell_type": "markdown",
      "metadata": {
        "id": "v99V_X5y5sDl"
      },
      "source": [
        "This object also has `get_params` and `set_params` methods defined for manipulating these members."
      ]
    },
    {
      "cell_type": "code",
      "execution_count": null,
      "metadata": {
        "id": "W8j27WWF5sDm",
        "outputId": "d6c20f5b-d051-4195-8447-eb2b137bb243"
      },
      "outputs": [
        {
          "data": {
            "text/plain": [
              "{'copy_X': True,\n",
              " 'fit_intercept': False,\n",
              " 'n_jobs': None,\n",
              " 'normalize': False,\n",
              " 'positive': False}"
            ]
          },
          "execution_count": 6,
          "metadata": {},
          "output_type": "execute_result"
        }
      ],
      "source": [
        "lr.get_params()"
      ]
    },
    {
      "cell_type": "code",
      "execution_count": null,
      "metadata": {
        "id": "XF5Zj04V5sDm",
        "outputId": "100e010c-bcf1-4a6f-dcdb-7cf8a7fb9967"
      },
      "outputs": [
        {
          "data": {
            "text/plain": [
              "LinearRegression()"
            ]
          },
          "execution_count": 7,
          "metadata": {},
          "output_type": "execute_result"
        }
      ],
      "source": [
        "lr.set_params(fit_intercept=True)"
      ]
    },
    {
      "cell_type": "markdown",
      "metadata": {
        "id": "1AiNzLb85sDm"
      },
      "source": [
        "These parameters provide you different ways of\n",
        "- changing how a machine-learning model learns (e.g., `fit_intercept` controls whether we determine a nonzero intercept for the model)\n",
        "- changing computational methodology (e.g., whether it uses more than one parallel job when evaluating the model)\n",
        "- altering other details (e.g., printing debugging information)\n",
        "\n",
        "The other kind of information held by this object is the information learned from data."
      ]
    },
    {
      "cell_type": "markdown",
      "metadata": {
        "id": "DXtdcq-x5sDm"
      },
      "source": [
        "### 1.1.2 Fitting a model\n",
        "Once you define the proper settings, the next step is to use a model object to learn from data.\n",
        "\n",
        "We'll use a simple example with some linear data."
      ]
    },
    {
      "cell_type": "code",
      "execution_count": null,
      "metadata": {
        "id": "rwQuNVgb5sDm"
      },
      "outputs": [],
      "source": [
        "X = np.random.uniform(0, 10, (n_points, 1))  # 2D array with one column\n",
        "y = 2 * X + 1 + np.random.normal(size=(n_points, 1))"
      ]
    },
    {
      "cell_type": "code",
      "execution_count": null,
      "metadata": {
        "id": "1jaxaDOP5sDm",
        "outputId": "895b289d-1757-4c4c-bb65-948eb549a95f"
      },
      "outputs": [
        {
          "data": {
            "image/png": "[encoded data removed]",
            "text/plain": [
              "<Figure size 266.4x180 with 1 Axes>"
            ]
          },
          "metadata": {
            "needs_background": "light"
          },
          "output_type": "display_data"
        }
      ],
      "source": [
        "# Check out the data visually to avoid wasting a lot of time\n",
        "# training on data that doesn't make any sense\n",
        "fig, ax = plt.subplots(figsize=(3.7, 2.5))\n",
        "\n",
        "x_plot = np.linspace(0, 10, 128)[:, None]  # Makes a 2D array\n",
        "ax.scatter(X, y, color='teal', alpha=0.5)\n",
        "\n",
        "ax.set_xlabel('$X$', fontsize=16)\n",
        "ax.set_ylabel('$y$', fontsize=16)\n",
        "\n",
        "fig.tight_layout()"
      ]
    },
    {
      "cell_type": "markdown",
      "metadata": {
        "id": "bXXN4DuE5sDm"
      },
      "source": [
        "All machine-learning models in `sklearn` provide a `fit` operation that runs the machine-learning algorithm to learn the weights of the model for the data."
      ]
    },
    {
      "cell_type": "code",
      "execution_count": null,
      "metadata": {
        "id": "bBjturR95sDm",
        "outputId": "8529c70a-65cc-421c-e51d-7cf10697590a"
      },
      "outputs": [
        {
          "data": {
            "text/plain": [
              "LinearRegression()"
            ]
          },
          "execution_count": 15,
          "metadata": {},
          "output_type": "execute_result"
        }
      ],
      "source": [
        "lr.fit(X, y)  # For supervised learning, it takes the inputs and outputs"
      ]
    },
    {
      "cell_type": "markdown",
      "metadata": {
        "id": "vQnoIckc5sDn"
      },
      "source": [
        "The information extracted from the model is stored in the object.\n",
        "For example, the model coefficients are stored in `coef_`.\n",
        "Note how the model coefficients are close to 2, the slope we input to our model."
      ]
    },
    {
      "cell_type": "code",
      "execution_count": null,
      "metadata": {
        "id": "6x89J-_J5sDn",
        "outputId": "a6d799e4-08fd-41db-88be-7fc9c6944958"
      },
      "outputs": [
        {
          "data": {
            "text/plain": [
              "array([[1.94810487]])"
            ]
          },
          "execution_count": 11,
          "metadata": {},
          "output_type": "execute_result"
        }
      ],
      "source": [
        "lr.coef_"
      ]
    },
    {
      "cell_type": "markdown",
      "metadata": {
        "id": "ZM1thHDo5sDn"
      },
      "source": [
        "Now that our model contains the weights needed to make predictions, we can use the `predict` function on new data."
      ]
    },
    {
      "cell_type": "code",
      "execution_count": null,
      "metadata": {
        "id": "1FT0RhAh5sDn"
      },
      "outputs": [],
      "source": [
        "x_eval = np.linspace(0, 10, n_points)[:, None]\n",
        "# [:, None] turns the array from a 1D shape (32,) to a 2D shape (32, 1).\n",
        "#  sklearn requires input arrays be 2D"
      ]
    },
    {
      "cell_type": "code",
      "execution_count": null,
      "metadata": {
        "id": "ufZksMi-5sDn"
      },
      "outputs": [],
      "source": [
        "y_pred = lr.predict(x_eval)"
      ]
    },
    {
      "cell_type": "code",
      "execution_count": null,
      "metadata": {
        "id": "GsxXiOaK5sDn",
        "outputId": "9ac00818-3322-4a82-ea5d-9efd6334c6a3"
      },
      "outputs": [
        {
          "data": {
            "image/png": "[encoded data removed]",
            "text/plain": [
              "<Figure size 266.4x180 with 1 Axes>"
            ]
          },
          "metadata": {
            "needs_background": "light"
          },
          "output_type": "display_data"
        }
      ],
      "source": [
        "fig, ax = plt.subplots(figsize=(3.7, 2.5))\n",
        "\n",
        "ax.scatter(X, y, color='teal', alpha=0.5)\n",
        "ax.plot(x_eval, y_pred, 'k')\n",
        "\n",
        "ax.set_xlabel('$X$', fontsize=16)\n",
        "ax.set_ylabel('$y$', fontsize=16)\n",
        "\n",
        "fig.tight_layout()"
      ]
    },
    {
      "cell_type": "markdown",
      "metadata": {
        "id": "V8sU8KqL5sDn"
      },
      "source": [
        "Awesome! You've now fit your first machine-learning model."
      ]
    },
    {
      "cell_type": "markdown",
      "metadata": {
        "id": "rx5G6Rgs5sDo"
      },
      "source": [
        "### 1.1.3: Write some code\n",
        "Fit a model without `fit_intercept=False` and make predictions using `x_eval`.\n",
        "Name that model `lr_2` and the predictions `y_pred_2`."
      ]
    },
    {
      "cell_type": "code",
      "execution_count": null,
      "metadata": {
        "id": "6mc17EU55sDo"
      },
      "outputs": [],
      "source": [
        "###  your code here\n"
      ]
    },
    {
      "cell_type": "code",
      "execution_count": null,
      "metadata": {
        "id": "8u6XdOAm5sDo",
        "outputId": "b236c7df-40b1-4f2f-ef2c-b7ce9d8154fa"
      },
      "outputs": [
        {
          "data": {
            "image/png": "[encoded data removed]",
            "text/plain": [
              "<Figure size 266.4x180 with 1 Axes>"
            ]
          },
          "metadata": {
            "needs_background": "light"
          },
          "output_type": "display_data"
        }
      ],
      "source": [
        "fig, ax = plt.subplots(figsize=(3.7, 2.5))\n",
        "\n",
        "ax.scatter(X, y, color='teal', alpha=0.5)\n",
        "ax.plot(x_eval, y_pred, 'k', label='intercept')\n",
        "ax.plot(x_eval, y_pred_2, 'r--', label='no intercept')\n",
        "\n",
        "ax.set_xlabel('$X$', fontsize=16)\n",
        "ax.set_ylabel('$y$', fontsize=16)\n",
        "\n",
        "fig.tight_layout()"
      ]
    },
    {
      "cell_type": "markdown",
      "metadata": {
        "id": "vekYZyE45sDo"
      },
      "source": [
        "The following block will raise an error if you've made a mistake"
      ]
    },
    {
      "cell_type": "code",
      "execution_count": null,
      "metadata": {
        "id": "9S0-lAfU5sDo"
      },
      "outputs": [],
      "source": [
        "assert lr_2.intercept_ == 0"
      ]
    },
    {
      "cell_type": "markdown",
      "metadata": {
        "id": "MwAhoP785sDo"
      },
      "source": [
        "## 1.2: Measuring performance\n",
        "The next critical element of using `sklearn` is to measure the performance of different models.\n",
        "\n",
        "There are many ways to measure model performance, and we can try out some of them using the capabilities of the `sklearn.metrics` module."
      ]
    },
    {
      "cell_type": "code",
      "execution_count": null,
      "metadata": {
        "id": "abWpxxEL5sDo"
      },
      "outputs": [],
      "source": [
        "from sklearn import metrics"
      ]
    },
    {
      "cell_type": "markdown",
      "metadata": {
        "id": "zVU0Nq865sDo"
      },
      "source": [
        "As an example, we'll compute the mean absolute error for the two-parameter and one-parameter linear models."
      ]
    },
    {
      "cell_type": "code",
      "execution_count": null,
      "metadata": {
        "id": "-s4yYnNU5sDp",
        "outputId": "fa898d12-90a1-426f-b5f2-3ad721a5f789"
      },
      "outputs": [
        {
          "name": "stdout",
          "output_type": "stream",
          "text": [
            "With intercept: MAE=0.9 ; Without intercept: MAE=1.1\n"
          ]
        }
      ],
      "source": [
        "lr_mae = metrics.mean_absolute_error(lr.predict(X), y)\n",
        "lr_2_mae = metrics.mean_absolute_error(lr_2.predict(X), y)\n",
        "print(f'With intercept: MAE={lr_mae:.1f} ; Without intercept: MAE={lr_2_mae:.1f}')"
      ]
    },
    {
      "cell_type": "markdown",
      "metadata": {
        "id": "VKFwZOAm5sDp"
      },
      "source": [
        "### 1.2.1: Mean square error\n",
        "Compare the \"mean squared error\" between the two models, using variable `lr_mse` and `lr_2_mse`"
      ]
    },
    {
      "cell_type": "code",
      "execution_count": null,
      "metadata": {
        "id": "g_4bK7ym5sDp"
      },
      "outputs": [],
      "source": [
        "### your code here\n"
      ]
    },
    {
      "cell_type": "code",
      "execution_count": null,
      "metadata": {
        "scrolled": false,
        "id": "hZu8gUO-5sDp"
      },
      "outputs": [],
      "source": [
        "#raise NotImplementedError()\n",
        "print(f'With intercept: MSE={lr_mse:.1f} ; Without intercept: MAE={lr_2_mse:.1f}')"
      ]
    },
    {
      "cell_type": "markdown",
      "metadata": {
        "id": "naI-mnLz5sDp"
      },
      "source": [
        "### 1.3.1 Polynomial features\n",
        "To start, we'll create a quadratic dataset."
      ]
    },
    {
      "cell_type": "code",
      "execution_count": null,
      "metadata": {
        "id": "GMQIGIgk5sDq"
      },
      "outputs": [],
      "source": [
        "y = -0.6 * X * (X - 11) + np.random.normal(size=(n_points, 1))"
      ]
    },
    {
      "cell_type": "markdown",
      "metadata": {
        "id": "koCUoqXA5sDq"
      },
      "source": [
        "Now, let's take a linear regression on it."
      ]
    },
    {
      "cell_type": "code",
      "execution_count": null,
      "metadata": {
        "id": "2JxpMuub5sDq"
      },
      "outputs": [],
      "source": [
        "lr = LinearRegression().fit(X, y)"
      ]
    },
    {
      "cell_type": "code",
      "execution_count": null,
      "metadata": {
        "id": "8qvJncMf5sDq",
        "outputId": "03f58d1b-cd65-4510-b62e-5b07c7529ee3"
      },
      "outputs": [
        {
          "data": {
            "image/png": "[encoded data removed]",
            "text/plain": [
              "<Figure size 216x144 with 1 Axes>"
            ]
          },
          "metadata": {
            "needs_background": "light"
          },
          "output_type": "display_data"
        }
      ],
      "source": [
        "fig, ax = plt.subplots(figsize=(3, 2))\n",
        "\n",
        "x_plot = np.linspace(0, 10, 128)[:, None]  # Makes a 2D array\n",
        "ax.scatter(X, y, color='teal', alpha=0.5)\n",
        "ax.plot(x_plot, lr.predict(x_plot), 'k', lw=2)\n",
        "\n",
        "ax.set_xlabel('$X$', fontsize=16)\n",
        "ax.set_ylabel('$y$', fontsize=16)\n",
        "ax.set_ylim(0, 20)\n",
        "\n",
        "fig.tight_layout()"
      ]
    },
    {
      "cell_type": "markdown",
      "metadata": {
        "id": "Scsb-0lZ5sDq"
      },
      "source": [
        "Not that linear model is terrible.\n",
        "Let's add some polynomial features (e.g., $X^2$, $X^3$) to make it possible to learn a nonlinear model.\n",
        "\n",
        "We'll use the [`PolynomialFeatures`](https://scikit-learn.org/stable/modules/generated/sklearn.preprocessing.PolynomialFeatures.html) tool from `sklearn` to compute these features.\n",
        "It's descended from the same kind of base object as `LinearRegression` (it's a `BaseEstimator`), so it has the same functions for changing its settings"
      ]
    },
    {
      "cell_type": "code",
      "execution_count": null,
      "metadata": {
        "id": "AjzZnBSc5sDq",
        "outputId": "f98c949b-1e5e-4d53-9c89-41a9fc9f35ff"
      },
      "outputs": [
        {
          "data": {
            "text/plain": [
              "{'degree': 3, 'include_bias': False, 'interaction_only': False, 'order': 'C'}"
            ]
          },
          "execution_count": 38,
          "metadata": {},
          "output_type": "execute_result"
        }
      ],
      "source": [
        "pf = PolynomialFeatures(degree=3, include_bias=False)\n",
        "pf.get_params()"
      ]
    },
    {
      "cell_type": "markdown",
      "metadata": {
        "id": "-6oNBL105sDq"
      },
      "source": [
        "`PolynomialFeatures` has a `fit` function, but unlike `LinearRegression`, it doesn't do any fitting.\n",
        "Rather, it uses this function to determine how many features to output."
      ]
    },
    {
      "cell_type": "code",
      "execution_count": null,
      "metadata": {
        "id": "hYUuNuN55sDq",
        "outputId": "898bf67d-3cba-4a07-baaa-4401865e9256"
      },
      "outputs": [
        {
          "data": {
            "text/plain": [
              "(1, 3)"
            ]
          },
          "execution_count": 39,
          "metadata": {},
          "output_type": "execute_result"
        }
      ],
      "source": [
        "pf.fit(X)\n",
        "pf.n_features_in_, pf.n_output_features_"
      ]
    },
    {
      "cell_type": "markdown",
      "metadata": {
        "id": "cUvWTDix5sDq"
      },
      "source": [
        "To get the new features out of `PolynomialFeatures`, we use the `transform` function."
      ]
    },
    {
      "cell_type": "code",
      "execution_count": null,
      "metadata": {
        "id": "ZxQpCFLT5sDq",
        "outputId": "c7b576ba-079f-4c68-a9a1-4836b16e49af"
      },
      "outputs": [
        {
          "data": {
            "text/plain": [
              "array([  6.96469186,  48.50693265, 337.83583878])"
            ]
          },
          "execution_count": 40,
          "metadata": {},
          "output_type": "execute_result"
        }
      ],
      "source": [
        "X_poly = pf.transform(X)\n",
        "X_poly[0, :]"
      ]
    },
    {
      "cell_type": "markdown",
      "metadata": {
        "id": "3bYf4F_s5sDr"
      },
      "source": [
        "We've created a matrix where the first column is $x$, followed by $x^2$ and $x^3$.\n",
        "\n",
        "Using these polynomial features, we can train a simple linear-regression model to create a polynomial-regression model."
      ]
    },
    {
      "cell_type": "code",
      "execution_count": null,
      "metadata": {
        "id": "P0ZMX2MW5sDr"
      },
      "outputs": [],
      "source": [
        "lr = lr.fit(X_poly, y)  # Side note: Fitting the model again clears the old weights"
      ]
    },
    {
      "cell_type": "markdown",
      "metadata": {
        "id": "nOkkCOjo5sDr"
      },
      "source": [
        "Now that we have the model, let's use it to make predictions.\n",
        "Doing so requires that we repeat the steps that let us train the model originally:\n",
        "1. Compute derived features from the original features (that is, compute a matrix of $\\{x,x^2,x^3\\}$ from a list of $x$)\n",
        "1. Run the model on derived features"
      ]
    },
    {
      "cell_type": "code",
      "execution_count": null,
      "metadata": {
        "id": "XdINZs7Q5sDr"
      },
      "outputs": [],
      "source": [
        "X_plot_poly = pf.transform(x_plot) # 1. Use pf to transform the list of x_plot"
      ]
    },
    {
      "cell_type": "code",
      "execution_count": null,
      "metadata": {
        "id": "kVXlNc4s5sDr"
      },
      "outputs": [],
      "source": [
        "y_plot = lr.predict(X_plot_poly) # 2. Apply the model to the transformed features"
      ]
    },
    {
      "cell_type": "code",
      "execution_count": null,
      "metadata": {
        "id": "m9K5C-I85sDr",
        "outputId": "5e81f6e5-2af2-45e3-9a44-4c38da49647f"
      },
      "outputs": [
        {
          "data": {
            "image/png": "[encoded data removed]",
            "text/plain": [
              "<Figure size 216x144 with 1 Axes>"
            ]
          },
          "metadata": {
            "needs_background": "light"
          },
          "output_type": "display_data"
        }
      ],
      "source": [
        "fig, ax = plt.subplots()\n",
        "\n",
        "ax.scatter(X, y, color='teal', alpha=0.5)\n",
        "ax.plot(x_plot, y_plot, 'k', lw=2)\n",
        "\n",
        "ax.set_xlabel('$X$', fontsize=16)\n",
        "ax.set_ylabel('$y$', fontsize=16)\n",
        "ax.set_ylim(0, 20)\n",
        "\n",
        "fig.set_size_inches(3, 2)\n",
        "fig.tight_layout()"
      ]
    },
    {
      "cell_type": "markdown",
      "metadata": {
        "id": "IkvXAv2J5sDr"
      },
      "source": [
        "Awesome!\n",
        "We now have a polynomial model... but it is annoying to use because we have to run two steps."
      ]
    },
    {
      "cell_type": "markdown",
      "metadata": {
        "id": "8ukiLHTK5sDs"
      },
      "source": [
        "### 1.3.2 Use a pipeline to combine the transformation and learning steps\n",
        "The `Pipeline` object lets you define a series of processing steps in a single model.\n",
        "\n",
        "Create one by defining a list of tuples of the form: ('name of step', `BaseEstimator` object that does what you need)."
      ]
    },
    {
      "cell_type": "code",
      "execution_count": null,
      "metadata": {
        "id": "jnFeMxy45sDs"
      },
      "outputs": [],
      "source": [
        "pr = Pipeline([\n",
        "    ('poly', PolynomialFeatures()),\n",
        "    ('lr', LinearRegression())\n",
        "])"
      ]
    },
    {
      "cell_type": "markdown",
      "metadata": {
        "id": "U6CSoQet5sDs"
      },
      "source": [
        "You can use the same methods to access and change parameters, but how will the pipeline know which parameters we mean to change if there are duplicates?\n",
        "Within the `Pipeline`, the parameters are given new names to distinguish them, using the names we gave them when we created them.\n",
        "\n",
        "Each parameter is prefixed by the name of the step plus two underscores."
      ]
    },
    {
      "cell_type": "code",
      "execution_count": null,
      "metadata": {
        "id": "Xkv9pHfF5sDs",
        "outputId": "95fddb32-4605-4098-e0a6-1ff70b69cf79"
      },
      "outputs": [
        {
          "data": {
            "text/plain": [
              "Pipeline(steps=[('poly', PolynomialFeatures(degree=3)),\n",
              "                ('lr', LinearRegression())])"
            ]
          },
          "execution_count": 52,
          "metadata": {},
          "output_type": "execute_result"
        }
      ],
      "source": [
        "pr.set_params(poly__degree=3)"
      ]
    },
    {
      "cell_type": "code",
      "execution_count": null,
      "metadata": {
        "id": "T2ZqFzHf5sDs",
        "outputId": "219a0412-e13e-4f5d-f190-20f8e2dac850"
      },
      "outputs": [
        {
          "data": {
            "text/plain": [
              "{'memory': None,\n",
              " 'steps': [('poly', PolynomialFeatures(degree=3)), ('lr', LinearRegression())],\n",
              " 'verbose': False,\n",
              " 'poly': PolynomialFeatures(degree=3),\n",
              " 'lr': LinearRegression(),\n",
              " 'poly__degree': 3,\n",
              " 'poly__include_bias': True,\n",
              " 'poly__interaction_only': False,\n",
              " 'poly__order': 'C',\n",
              " 'lr__copy_X': True,\n",
              " 'lr__fit_intercept': True,\n",
              " 'lr__n_jobs': None,\n",
              " 'lr__normalize': False,\n",
              " 'lr__positive': False}"
            ]
          },
          "execution_count": 53,
          "metadata": {},
          "output_type": "execute_result"
        }
      ],
      "source": [
        "pr.get_params()"
      ]
    },
    {
      "cell_type": "markdown",
      "metadata": {
        "id": "cidVkTr75sDs"
      },
      "source": [
        "The pipeline will run the steps you defined, passing the data from one step to the next for you.\n",
        "As an example, let's fit and print the outputs.\n",
        "Fitting is straightforward, since all the steps have a `fit` function."
      ]
    },
    {
      "cell_type": "code",
      "execution_count": null,
      "metadata": {
        "id": "vLp2aAEQ5sDs",
        "outputId": "8465b34f-9fc3-4f48-a75f-5c0d2d2fcc7e"
      },
      "outputs": [
        {
          "data": {
            "text/plain": [
              "Pipeline(steps=[('poly', PolynomialFeatures(degree=3)),\n",
              "                ('lr', LinearRegression())])"
            ]
          },
          "execution_count": 55,
          "metadata": {},
          "output_type": "execute_result"
        }
      ],
      "source": [
        "pr.fit(X, y)"
      ]
    },
    {
      "cell_type": "markdown",
      "metadata": {
        "id": "tVWLB7of5sDs"
      },
      "source": [
        "When we call the `predict` function on a `Pipeline`, only the last step will have its `predict` called.\n",
        "Each of the steps before the last will have their `transform` function called, which is just what we want."
      ]
    },
    {
      "cell_type": "code",
      "execution_count": null,
      "metadata": {
        "id": "eIKpCFye5sDs"
      },
      "outputs": [],
      "source": [
        "y_plot = pr.predict(x_plot)"
      ]
    },
    {
      "cell_type": "code",
      "execution_count": null,
      "metadata": {
        "id": "fHEF74Co5sDt",
        "outputId": "d26249be-9237-4f23-b78a-a648f3640cd8"
      },
      "outputs": [
        {
          "data": {
            "image/png": "[encoded data removed]",
            "text/plain": [
              "<Figure size 216x144 with 1 Axes>"
            ]
          },
          "metadata": {
            "needs_background": "light"
          },
          "output_type": "display_data"
        }
      ],
      "source": [
        "fig, ax = plt.subplots()\n",
        "\n",
        "ax.scatter(X, y, color='teal', alpha=0.5)\n",
        "ax.plot(x_plot, y_plot, 'k', lw=2)\n",
        "\n",
        "ax.set_xlabel('$X$', fontsize=16)\n",
        "ax.set_ylabel('$y$', fontsize=16)\n",
        "ax.set_ylim(0, 20)\n",
        "\n",
        "fig.set_size_inches(3, 2)\n",
        "fig.tight_layout()"
      ]
    },
    {
      "cell_type": "markdown",
      "metadata": {
        "id": "C9Co7UnI5sDt"
      },
      "source": [
        "Same procedure, cleaner format."
      ]
    },
    {
      "cell_type": "markdown",
      "metadata": {
        "id": "H0w_oRrW5sDt"
      },
      "source": [
        "## 1.4 Exercise: Learning the best choice of parameters.\n",
        "To test your knowledge, finish the following code for finding which parameters give you the best model.\n",
        "\n",
        "Our first step is to split the data into a training and validation set using the `sklearn` function `train_test_split`.\n",
        "Given a set of $X$ and $y$ values plus some information on how to split them, this model will partition the data into two sets of $X$ and $y$ values."
      ]
    },
    {
      "cell_type": "code",
      "execution_count": null,
      "metadata": {
        "id": "uxdMY9H85sDt",
        "outputId": "982baec4-aa63-4e21-8cbf-2f2a78dc252f"
      },
      "outputs": [
        {
          "name": "stdout",
          "output_type": "stream",
          "text": [
            "X has 32 points, X_train has 24, X_valid has 8\n"
          ]
        }
      ],
      "source": [
        "from sklearn.model_selection import train_test_split\n",
        "X_train, X_valid, y_train, y_valid = train_test_split(X, y, test_size=0.25)\n",
        "print(f'X has {X.shape[0]} points, X_train has {X_train.shape[0]}, X_valid has {X_valid.shape[0]}')"
      ]
    },
    {
      "cell_type": "markdown",
      "metadata": {
        "id": "hFzk3ONC5sDt"
      },
      "source": [
        "### 1.4.1: Task\n",
        "Complete the following code to run over many different polynomial degrees to find which degree gives the most generalizable model."
      ]
    },
    {
      "cell_type": "code",
      "execution_count": null,
      "metadata": {
        "scrolled": false,
        "id": "37y0ugg15sDt"
      },
      "outputs": [],
      "source": [
        "## fill in the missing code\n",
        "\n",
        "results = []\n",
        "for n in range(1, 10):\n",
        "    # Change the polynomial degree to n\n",
        "\n",
        "\n",
        "    # Fit the model using X_train\n",
        "\n",
        "\n",
        "    # Evaluate MAE on X_train and X_valid\n",
        "\n",
        "\n",
        "\n",
        "\n",
        "\n",
        "    # Add the outputs to an array for tracking them\n",
        "    results.append({\n",
        "        'n': n,\n",
        "        'train_mae': train_mae,\n",
        "        'valid_mae': valid_mae\n",
        "    })\n",
        "\n",
        "# Store the data as a Pandas DataFrame for easy analysis\n",
        "results = pd.DataFrame(results)"
      ]
    },
    {
      "cell_type": "markdown",
      "metadata": {
        "id": "AF54295Q5sDu"
      },
      "source": [
        "Plot the results"
      ]
    },
    {
      "cell_type": "code",
      "execution_count": null,
      "metadata": {
        "id": "101Tm_-H5sDu"
      },
      "outputs": [],
      "source": [
        "fig, ax = plt.subplots(figsize=(3.5, 2.5))\n",
        "\n",
        "ax.plot(results['n'], results['train_mae'], '--o', label='Train')\n",
        "ax.plot(results['n'], results['valid_mae'], '--s', label='Validation')\n",
        "\n",
        "ax.set_ylim(0, 6)\n",
        "\n",
        "ax.set_xlabel('Degree')\n",
        "ax.set_ylabel('MAE')\n",
        "ax.legend()"
      ]
    },
    {
      "cell_type": "markdown",
      "metadata": {
        "id": "MVJSxtZq5sDu"
      },
      "source": [
        "Note how the training error gets continually lower as we add more terms, but the validation error starts to go up after 3 terms.\n",
        "The rapid increase in error with increasing numbers of model parameters is _overfitting_."
      ]
    },
    {
      "cell_type": "markdown",
      "metadata": {
        "id": "-MygL3jk5sDu"
      },
      "source": [
        "---\n",
        "# Part 2: Kernel Methods and Hyperparameter Optimization\n",
        "Kernel methods are a type of machine learning that is particularly sensitive to the choice of hyperparameters (variables that control how an algorithm learns).\n",
        "Here, we'll show you how to adjust them with `sklearn`'s hyperparameter-optimization tools."
      ]
    },
    {
      "cell_type": "code",
      "execution_count": null,
      "metadata": {
        "id": "OU-xdpKR5sDu"
      },
      "outputs": [],
      "source": [
        "%matplotlib inline\n",
        "from matplotlib import pyplot as plt\n",
        "from sklearn.model_selection import GridSearchCV, ShuffleSplit, train_test_split\n",
        "from sklearn.metrics.pairwise import rbf_kernel\n",
        "from sklearn.metrics import mean_absolute_error\n",
        "from sklearn.kernel_ridge import KernelRidge\n",
        "from sklearn.pipeline import Pipeline\n",
        "from time import perf_counter\n",
        "from tqdm import tqdm\n",
        "import pandas as pd\n",
        "import numpy as np\n",
        "import os\n",
        "\n",
        "# fix random seed\n",
        "np.random.seed(12)"
      ]
    },
    {
      "cell_type": "markdown",
      "metadata": {
        "id": "i2UV-GxQ5sDu"
      },
      "source": [
        "## 2.1 Kernel methods\n",
        "The [kernel method](https://en.wikipedia.org/wiki/Kernel_method) makes a supervised-learning problem easier by creating new input features based on pairwise similarities between a new input point and each point from the training set.\n",
        "The kernel creates a new set of $N$ features where each feature is the similarity between a certain entry and each of $N$ points from the training set.\n",
        "The similarity function used to compute the new features is called the _kernel_."
      ]
    },
    {
      "cell_type": "markdown",
      "metadata": {
        "id": "YnsGxzF-5sDu"
      },
      "source": [
        "### 2.1.1 Demo\n",
        "We will first demonstrate how the kernel can drastically simplify a learning problem."
      ]
    },
    {
      "cell_type": "code",
      "execution_count": null,
      "metadata": {
        "id": "zDyW1T0Q5sDu",
        "outputId": "8bdf8bfd-99f8-43cf-d363-3c17f9de1cb2",
        "colab": {
          "base_uri": "https://localhost:8080/",
          "height": 257
        }
      },
      "outputs": [
        {
          "output_type": "display_data",
          "data": {
            "text/plain": [
              "<Figure size 350x250 with 1 Axes>"
            ],
            "image/png": "[encoded data removed]"
          },
          "metadata": {}
        }
      ],
      "source": [
        "x = np.arange(-2, 2.1, 1)\n",
        "y = (-1 <= x) & (x <= 1)\n",
        "\n",
        "fig, ax = plt.subplots(figsize=(3.5, 2.5))\n",
        "\n",
        "ax.scatter(x, [0]*5, c=y, s=100, ec='k')\n",
        "ax.set_ylim(ax.get_ylim())\n",
        "for i in [-1.5, 1.5]:\n",
        "    ax.plot([i]*2, ax.get_ylim(), 'k--')\n",
        "\n",
        "ax.set_yticklabels([])\n",
        "ax.set_xlabel('$x$')\n",
        "fig.tight_layout()"
      ]
    },
    {
      "cell_type": "markdown",
      "metadata": {
        "id": "i6GGWNct5sDv"
      },
      "source": [
        "Note that the classes in this problem are not linearly separable; you need 2 rules.\n",
        "\n",
        "We apply a kernel trick to create a new set of features, using the [RBF kernel](https://scikit-learn.org/stable/modules/generated/sklearn.metrics.pairwise.rbf_kernel.html).\n",
        "The RBF kernel uses a Gaussian function to create new features\n",
        "\n",
        "$$f_i = k(x, x_i) = \\exp\\left(-\\gamma(x - x_i)^2)\\right).$$\n",
        "\n",
        "Applying the kernel function to all of the data yields the _kernel matrix_, where\n",
        "\n",
        "$$ K_{ij} = k(x_i, y_j). $$"
      ]
    },
    {
      "cell_type": "code",
      "execution_count": null,
      "metadata": {
        "id": "6uSG07yJ5sDv",
        "outputId": "36888186-a6c4-43fc-9b5d-5b073343555b",
        "colab": {
          "base_uri": "https://localhost:8080/",
          "height": 257
        }
      },
      "outputs": [
        {
          "output_type": "display_data",
          "data": {
            "text/plain": [
              "<Figure size 350x250 with 1 Axes>"
            ],
            "image/png": "[encoded data removed]"
          },
          "metadata": {}
        }
      ],
      "source": [
        "f = rbf_kernel(x[:, None])\n",
        "fig, ax = plt.subplots(figsize=(3.5, 2.5))\n",
        "\n",
        "ax.scatter(x, f[:, 2], c=y, s=100, ec='k')\n",
        "ax.set_xlim(ax.get_xlim())\n",
        "ax.plot(ax.get_xlim(), [0.2]*2, 'k--')\n",
        "\n",
        "ax.set_ylabel('$f_2$')\n",
        "ax.set_xlabel('$x$')\n",
        "fig.tight_layout()"
      ]
    },
    {
      "cell_type": "markdown",
      "metadata": {
        "id": "wY4Hr-nB5sDv"
      },
      "source": [
        "The points are linearly separable based on one of the new features, $f_2$.\n",
        "We've made the learning problem easier by transforming the data to a new space."
      ]
    },
    {
      "cell_type": "markdown",
      "metadata": {
        "id": "bh1M8vuW5sDv"
      },
      "source": [
        "### 2.1.2 Kernel ridge regression\n",
        "You can also use kernel methods for regression.\n",
        "Kernel ridge regression (KRR) creates a model of the functional form:\n",
        "\n",
        "$$f(x) = \\sum_i c_i K(x, x_i),$$\n",
        "\n",
        "where the sum is over all points in the training set and $x_i$ is training point $i$.\n",
        "\n",
        "The coefficients of this equation, $c_i$, are learned by minimizing\n",
        "\n",
        "$$\\sum_i (y_i - f(x_i))^2 + \\alpha \\left\\Vert\\mathbf{c}\\right\\Vert^2,$$\n",
        "\n",
        "which is the sum of the squared error of the training data and the sum of the squares of the weights;\n",
        "$\\alpha$ controls the tradeoff between minimizing model error and model complexity (larger weights lead to a more complex model).\n",
        "\n",
        "This equation has a convenient [analytic solution](https://en.wikipedia.org/wiki/Tikhonov_regularization)\n",
        "based on the fact it involves solving a system of linear equations.\n",
        "The costly step in that equation is a matrix inversion, which can be solved efficiently using [Cholesky decomposition](https://en.wikipedia.org/wiki/Cholesky_decomposition), a convenience due to symmetries of the kernel function."
      ]
    },
    {
      "cell_type": "markdown",
      "metadata": {
        "id": "Epz8BOGf5sDv"
      },
      "source": [
        "### 2.1.3 Building a KRR model using `sklearn`\n",
        "We will use the [`KernelRidge`](https://scikit-learn.org/stable/modules/generated/sklearn.kernel_ridge.KernelRidge.html) method built into `sklearn` to explain how to use KRR.\n",
        "\n",
        "We will choose the RBF kernel introduced above for our example, since it is particularly good at fitting nonlinear functions, and is also very sensitive to hyperparameter choice."
      ]
    },
    {
      "cell_type": "code",
      "execution_count": null,
      "metadata": {
        "id": "si130FYC5sDv",
        "outputId": "f3ffcc60-d0a2-4fdd-a5ee-4a8dfe7693d1",
        "colab": {
          "base_uri": "https://localhost:8080/"
        }
      },
      "outputs": [
        {
          "output_type": "execute_result",
          "data": {
            "text/plain": [
              "{'alpha': 1,\n",
              " 'coef0': 1,\n",
              " 'degree': 3,\n",
              " 'gamma': None,\n",
              " 'kernel': 'rbf',\n",
              " 'kernel_params': None}"
            ]
          },
          "metadata": {},
          "execution_count": 33
        }
      ],
      "source": [
        "krr = KernelRidge(kernel='rbf')\n",
        "krr.get_params()"
      ]
    },
    {
      "cell_type": "markdown",
      "metadata": {
        "id": "e0hj3yw75sDw"
      },
      "source": [
        "The two parameters we are interested in fitting are\n",
        "1. `gamma`: Controls the width of the kernel functions (see $\\gamma$ in the RBF equation)\n",
        "1. `alpha`: Controls complexity (see $\\alpha$ in the KRR equation)"
      ]
    },
    {
      "cell_type": "code",
      "execution_count": null,
      "metadata": {
        "id": "PAJLUIno5sDw"
      },
      "outputs": [],
      "source": [
        "n_points = 8\n",
        "X = np.random.uniform(0, 10, (n_points, 1))  # 2D array with one column\n",
        "y = -0.6 * X * (X - 11) + np.random.normal(size=(n_points, 1))"
      ]
    },
    {
      "cell_type": "markdown",
      "metadata": {
        "id": "dCZR_8EJ5sDw"
      },
      "source": [
        "To illustrate the importance of hyperparameters, let's show how the model predictions change as a function of the kernel width."
      ]
    },
    {
      "cell_type": "code",
      "execution_count": null,
      "metadata": {
        "id": "GqkrtmIm5sDw",
        "outputId": "fd5a8c10-5879-471c-cb2c-3fea1a012b9f",
        "colab": {
          "base_uri": "https://localhost:8080/",
          "height": 313
        }
      },
      "outputs": [
        {
          "output_type": "execute_result",
          "data": {
            "text/plain": [
              "Text(0, 0.5, '$y$')"
            ]
          },
          "metadata": {},
          "execution_count": 35
        },
        {
          "output_type": "display_data",
          "data": {
            "text/plain": [
              "<Figure size 650x250 with 3 Axes>"
            ],
            "image/png": "[encoded data removed]"
          },
          "metadata": {}
        }
      ],
      "source": [
        "fig, axs = plt.subplots(1, 3, figsize=(6.5, 2.5), sharey=True)\n",
        "\n",
        "x_plot = np.linspace(0, 10, 128)[:, None]\n",
        "for ax, g in zip(axs, [0.01, 0.1, 10]):\n",
        "    # Adjust parameter, fit and run model\n",
        "    krr.set_params(gamma=g)\n",
        "    krr.fit(X, y)\n",
        "    y_plot = krr.predict(x_plot)\n",
        "\n",
        "    ax.scatter(X, y, color='teal', alpha=0.5)\n",
        "    ax.plot(x_plot, y_plot, 'k--')\n",
        "\n",
        "    ax.set_title(f'$\\gamma = {g}$')\n",
        "    ax.set_xlabel('$x$')\n",
        "axs[0].set_ylabel('$y$')"
      ]
    },
    {
      "cell_type": "markdown",
      "metadata": {
        "id": "Haq1d1w55sDw"
      },
      "source": [
        "Note how larger values of `gamma` give sharper models.\n",
        "We can see a different effect from changing `alpha`."
      ]
    },
    {
      "cell_type": "code",
      "execution_count": null,
      "metadata": {
        "id": "L0jn0Tv95sDw",
        "outputId": "d1c6bcbf-7f70-49c0-916d-4c55cdb47ec3",
        "colab": {
          "base_uri": "https://localhost:8080/",
          "height": 312
        }
      },
      "outputs": [
        {
          "output_type": "execute_result",
          "data": {
            "text/plain": [
              "Text(0, 0.5, '$y$')"
            ]
          },
          "metadata": {},
          "execution_count": 36
        },
        {
          "output_type": "display_data",
          "data": {
            "text/plain": [
              "<Figure size 650x250 with 3 Axes>"
            ],
            "image/png": "[encoded data removed]"
          },
          "metadata": {}
        }
      ],
      "source": [
        "fig, axs = plt.subplots(1, 3, figsize=(6.5, 2.5), sharey=True)\n",
        "\n",
        "krr.set_params(gamma=0.1)\n",
        "for ax, a in zip(axs, [0.0001, 0.1, 10]):\n",
        "    # Adjust parameter, fit and run model\n",
        "    krr.set_params(alpha=a)\n",
        "    krr.fit(X, y)\n",
        "    y_plot = krr.predict(x_plot)\n",
        "\n",
        "    ax.scatter(X, y, color='teal', alpha=0.5)\n",
        "    ax.plot(x_plot, y_plot, 'k--')\n",
        "\n",
        "    ax.set_title(f'$\\\\alpha = {a}$')\n",
        "    ax.set_xlabel('$x$')\n",
        "axs[0].set_ylabel('$y$')"
      ]
    },
    {
      "cell_type": "markdown",
      "metadata": {
        "id": "DUVd6ZzW5sDw"
      },
      "source": [
        "`alpha` controls how closely the model fits the training set."
      ]
    },
    {
      "cell_type": "markdown",
      "metadata": {
        "id": "0A8V-QVl5sDx"
      },
      "source": [
        "## 2.2 Fitting hyperparameters\n",
        "Our challenge with using KRR is to find the right mix of parameters for each problem."
      ]
    },
    {
      "cell_type": "markdown",
      "metadata": {
        "id": "4TQmPMVN5sDx"
      },
      "source": [
        "### 2.2.1 Using `GridSearchCV` to optimize hyperparameters\n",
        "Scikit-Learn provides a convenient tool, [GridSearchCV](https://scikit-learn.org/stable/modules/generated/sklearn.model_selection.GridSearchCV.html), for optimizing hyperparameters.\n",
        "\n",
        "It works by wrapping your model inside of class that tests many variations of your model using a set of parameters you define.\n",
        "\n",
        "You must provide `GridSearchCV` with:\n",
        "1. A basic model with all the settings you do not want to change\n",
        "1. A grid of parameters you want to try out (all will be evaluated)\n",
        "1. A scheme to define how to score the model"
      ]
    },
    {
      "cell_type": "code",
      "execution_count": null,
      "metadata": {
        "id": "Uqf221vB5sDx"
      },
      "outputs": [],
      "source": [
        "gs = GridSearchCV(\n",
        "    estimator=KernelRidge(gamma=0.1, kernel='rbf'), # Set the estimator to be KRR\n",
        "    param_grid={'alpha': np.logspace(-5, 2, 32)},  # The range\n",
        "    cv=ShuffleSplit(n_splits=10,test_size=0.25, random_state=1),  # Use 10, 75/25% splits\n",
        "    scoring='neg_mean_absolute_error',  # Score based on MAE\n",
        ")"
      ]
    },
    {
      "cell_type": "markdown",
      "metadata": {
        "id": "gZlk6kP_5sDx"
      },
      "source": [
        "Once defined, `GridSearchCV` works just like any other machine-learning model in `sklearn`."
      ]
    },
    {
      "cell_type": "code",
      "execution_count": null,
      "metadata": {
        "id": "5fDXSQb25sDx",
        "outputId": "9715c2e2-2016-436d-a357-3ef193d794de",
        "colab": {
          "base_uri": "https://localhost:8080/",
          "height": 170
        }
      },
      "outputs": [
        {
          "output_type": "stream",
          "name": "stdout",
          "text": [
            "CPU times: user 920 ms, sys: 3.97 ms, total: 924 ms\n",
            "Wall time: 948 ms\n"
          ]
        },
        {
          "output_type": "execute_result",
          "data": {
            "text/plain": [
              "GridSearchCV(cv=ShuffleSplit(n_splits=10, random_state=1, test_size=0.25, train_size=None),\n",
              "             estimator=KernelRidge(gamma=0.1, kernel='rbf'),\n",
              "             param_grid={'alpha': array([1.00000000e-05, 1.68192432e-05, 2.82886943e-05, 4.75794431e-05,\n",
              "       8.00250228e-05, 1.34596032e-04, 2.26380341e-04, 3.80754602e-04,\n",
              "       6.40400427e-04, 1.07710506e-03, 1.81160919e-03, 3.04698957e-03,\n",
              "       5.12480588e-03, 8.61953566e-03, 1.44974067e-02, 2.43835410e-02,\n",
              "       4.10112707e-02, 6.89778538e-02, 1.16015530e-01, 1.95129342e-01,\n",
              "       3.28192787e-01, 5.51995432e-01, 9.28414545e-01, 1.56152301e+00,\n",
              "       2.62636353e+00, 4.41734470e+00, 7.42963951e+00, 1.24960914e+01,\n",
              "       2.10174801e+01, 3.53498111e+01, 5.94557071e+01, 1.00000000e+02])},\n",
              "             scoring='neg_mean_absolute_error')"
            ],
            "text/html": [
              "<style>#sk-container-id-3 {\n",
              "  /* Definition of color scheme common for light and dark mode */\n",
              "  --sklearn-color-text: black;\n",
              "  --sklearn-color-line: gray;\n",
              "  /* Definition of color scheme for unfitted estimators */\n",
              "  --sklearn-color-unfitted-level-0: #fff5e6;\n",
              "  --sklearn-color-unfitted-level-1: #f6e4d2;\n",
              "  --sklearn-color-unfitted-level-2: #ffe0b3;\n",
              "  --sklearn-color-unfitted-level-3: chocolate;\n",
              "  /* Definition of color scheme for fitted estimators */\n",
              "  --sklearn-color-fitted-level-0: #f0f8ff;\n",
              "  --sklearn-color-fitted-level-1: #d4ebff;\n",
              "  --sklearn-color-fitted-level-2: #b3dbfd;\n",
              "  --sklearn-color-fitted-level-3: cornflowerblue;\n",
              "\n",
              "  /* Specific color for light theme */\n",
              "  --sklearn-color-text-on-default-background: var(--sg-text-color, var(--theme-code-foreground, var(--jp-content-font-color1, black)));\n",
              "  --sklearn-color-background: var(--sg-background-color, var(--theme-background, var(--jp-layout-color0, white)));\n",
              "  --sklearn-color-border-box: var(--sg-text-color, var(--theme-code-foreground, var(--jp-content-font-color1, black)));\n",
              "  --sklearn-color-icon: #696969;\n",
              "\n",
              "  @media (prefers-color-scheme: dark) {\n",
              "    /* Redefinition of color scheme for dark theme */\n",
              "    --sklearn-color-text-on-default-background: var(--sg-text-color, var(--theme-code-foreground, var(--jp-content-font-color1, white)));\n",
              "    --sklearn-color-background: var(--sg-background-color, var(--theme-background, var(--jp-layout-color0, #111)));\n",
              "    --sklearn-color-border-box: var(--sg-text-color, var(--theme-code-foreground, var(--jp-content-font-color1, white)));\n",
              "    --sklearn-color-icon: #878787;\n",
              "  }\n",
              "}\n",
              "\n",
              "#sk-container-id-3 {\n",
              "  color: var(--sklearn-color-text);\n",
              "}\n",
              "\n",
              "#sk-container-id-3 pre {\n",
              "  padding: 0;\n",
              "}\n",
              "\n",
              "#sk-container-id-3 input.sk-hidden--visually {\n",
              "  border: 0;\n",
              "  clip: rect(1px 1px 1px 1px);\n",
              "  clip: rect(1px, 1px, 1px, 1px);\n",
              "  height: 1px;\n",
              "  margin: -1px;\n",
              "  overflow: hidden;\n",
              "  padding: 0;\n",
              "  position: absolute;\n",
              "  width: 1px;\n",
              "}\n",
              "\n",
              "#sk-container-id-3 div.sk-dashed-wrapped {\n",
              "  border: 1px dashed var(--sklearn-color-line);\n",
              "  margin: 0 0.4em 0.5em 0.4em;\n",
              "  box-sizing: border-box;\n",
              "  padding-bottom: 0.4em;\n",
              "  background-color: var(--sklearn-color-background);\n",
              "}\n",
              "\n",
              "#sk-container-id-3 div.sk-container {\n",
              "  /* jupyter's `normalize.less` sets `[hidden] { display: none; }`\n",
              "     but bootstrap.min.css set `[hidden] { display: none !important; }`\n",
              "     so we also need the `!important` here to be able to override the\n",
              "     default hidden behavior on the sphinx rendered scikit-learn.org.\n",
              "     See: https://github.com/scikit-learn/scikit-learn/issues/21755 */\n",
              "  display: inline-block !important;\n",
              "  position: relative;\n",
              "}\n",
              "\n",
              "#sk-container-id-3 div.sk-text-repr-fallback {\n",
              "  display: none;\n",
              "}\n",
              "\n",
              "div.sk-parallel-item,\n",
              "div.sk-serial,\n",
              "div.sk-item {\n",
              "  /* draw centered vertical line to link estimators */\n",
              "  background-image: linear-gradient(var(--sklearn-color-text-on-default-background), var(--sklearn-color-text-on-default-background));\n",
              "  background-size: 2px 100%;\n",
              "  background-repeat: no-repeat;\n",
              "  background-position: center center;\n",
              "}\n",
              "\n",
              "/* Parallel-specific style estimator block */\n",
              "\n",
              "#sk-container-id-3 div.sk-parallel-item::after {\n",
              "  content: \"\";\n",
              "  width: 100%;\n",
              "  border-bottom: 2px solid var(--sklearn-color-text-on-default-background);\n",
              "  flex-grow: 1;\n",
              "}\n",
              "\n",
              "#sk-container-id-3 div.sk-parallel {\n",
              "  display: flex;\n",
              "  align-items: stretch;\n",
              "  justify-content: center;\n",
              "  background-color: var(--sklearn-color-background);\n",
              "  position: relative;\n",
              "}\n",
              "\n",
              "#sk-container-id-3 div.sk-parallel-item {\n",
              "  display: flex;\n",
              "  flex-direction: column;\n",
              "}\n",
              "\n",
              "#sk-container-id-3 div.sk-parallel-item:first-child::after {\n",
              "  align-self: flex-end;\n",
              "  width: 50%;\n",
              "}\n",
              "\n",
              "#sk-container-id-3 div.sk-parallel-item:last-child::after {\n",
              "  align-self: flex-start;\n",
              "  width: 50%;\n",
              "}\n",
              "\n",
              "#sk-container-id-3 div.sk-parallel-item:only-child::after {\n",
              "  width: 0;\n",
              "}\n",
              "\n",
              "/* Serial-specific style estimator block */\n",
              "\n",
              "#sk-container-id-3 div.sk-serial {\n",
              "  display: flex;\n",
              "  flex-direction: column;\n",
              "  align-items: center;\n",
              "  background-color: var(--sklearn-color-background);\n",
              "  padding-right: 1em;\n",
              "  padding-left: 1em;\n",
              "}\n",
              "\n",
              "\n",
              "/* Toggleable style: style used for estimator/Pipeline/ColumnTransformer box that is\n",
              "clickable and can be expanded/collapsed.\n",
              "- Pipeline and ColumnTransformer use this feature and define the default style\n",
              "- Estimators will overwrite some part of the style using the `sk-estimator` class\n",
              "*/\n",
              "\n",
              "/* Pipeline and ColumnTransformer style (default) */\n",
              "\n",
              "#sk-container-id-3 div.sk-toggleable {\n",
              "  /* Default theme specific background. It is overwritten whether we have a\n",
              "  specific estimator or a Pipeline/ColumnTransformer */\n",
              "  background-color: var(--sklearn-color-background);\n",
              "}\n",
              "\n",
              "/* Toggleable label */\n",
              "#sk-container-id-3 label.sk-toggleable__label {\n",
              "  cursor: pointer;\n",
              "  display: block;\n",
              "  width: 100%;\n",
              "  margin-bottom: 0;\n",
              "  padding: 0.5em;\n",
              "  box-sizing: border-box;\n",
              "  text-align: center;\n",
              "}\n",
              "\n",
              "#sk-container-id-3 label.sk-toggleable__label-arrow:before {\n",
              "  /* Arrow on the left of the label */\n",
              "  content: \"▸\";\n",
              "  float: left;\n",
              "  margin-right: 0.25em;\n",
              "  color: var(--sklearn-color-icon);\n",
              "}\n",
              "\n",
              "#sk-container-id-3 label.sk-toggleable__label-arrow:hover:before {\n",
              "  color: var(--sklearn-color-text);\n",
              "}\n",
              "\n",
              "/* Toggleable content - dropdown */\n",
              "\n",
              "#sk-container-id-3 div.sk-toggleable__content {\n",
              "  max-height: 0;\n",
              "  max-width: 0;\n",
              "  overflow: hidden;\n",
              "  text-align: left;\n",
              "  /* unfitted */\n",
              "  background-color: var(--sklearn-color-unfitted-level-0);\n",
              "}\n",
              "\n",
              "#sk-container-id-3 div.sk-toggleable__content.fitted {\n",
              "  /* fitted */\n",
              "  background-color: var(--sklearn-color-fitted-level-0);\n",
              "}\n",
              "\n",
              "#sk-container-id-3 div.sk-toggleable__content pre {\n",
              "  margin: 0.2em;\n",
              "  border-radius: 0.25em;\n",
              "  color: var(--sklearn-color-text);\n",
              "  /* unfitted */\n",
              "  background-color: var(--sklearn-color-unfitted-level-0);\n",
              "}\n",
              "\n",
              "#sk-container-id-3 div.sk-toggleable__content.fitted pre {\n",
              "  /* unfitted */\n",
              "  background-color: var(--sklearn-color-fitted-level-0);\n",
              "}\n",
              "\n",
              "#sk-container-id-3 input.sk-toggleable__control:checked~div.sk-toggleable__content {\n",
              "  /* Expand drop-down */\n",
              "  max-height: 200px;\n",
              "  max-width: 100%;\n",
              "  overflow: auto;\n",
              "}\n",
              "\n",
              "#sk-container-id-3 input.sk-toggleable__control:checked~label.sk-toggleable__label-arrow:before {\n",
              "  content: \"▾\";\n",
              "}\n",
              "\n",
              "/* Pipeline/ColumnTransformer-specific style */\n",
              "\n",
              "#sk-container-id-3 div.sk-label input.sk-toggleable__control:checked~label.sk-toggleable__label {\n",
              "  color: var(--sklearn-color-text);\n",
              "  background-color: var(--sklearn-color-unfitted-level-2);\n",
              "}\n",
              "\n",
              "#sk-container-id-3 div.sk-label.fitted input.sk-toggleable__control:checked~label.sk-toggleable__label {\n",
              "  background-color: var(--sklearn-color-fitted-level-2);\n",
              "}\n",
              "\n",
              "/* Estimator-specific style */\n",
              "\n",
              "/* Colorize estimator box */\n",
              "#sk-container-id-3 div.sk-estimator input.sk-toggleable__control:checked~label.sk-toggleable__label {\n",
              "  /* unfitted */\n",
              "  background-color: var(--sklearn-color-unfitted-level-2);\n",
              "}\n",
              "\n",
              "#sk-container-id-3 div.sk-estimator.fitted input.sk-toggleable__control:checked~label.sk-toggleable__label {\n",
              "  /* fitted */\n",
              "  background-color: var(--sklearn-color-fitted-level-2);\n",
              "}\n",
              "\n",
              "#sk-container-id-3 div.sk-label label.sk-toggleable__label,\n",
              "#sk-container-id-3 div.sk-label label {\n",
              "  /* The background is the default theme color */\n",
              "  color: var(--sklearn-color-text-on-default-background);\n",
              "}\n",
              "\n",
              "/* On hover, darken the color of the background */\n",
              "#sk-container-id-3 div.sk-label:hover label.sk-toggleable__label {\n",
              "  color: var(--sklearn-color-text);\n",
              "  background-color: var(--sklearn-color-unfitted-level-2);\n",
              "}\n",
              "\n",
              "/* Label box, darken color on hover, fitted */\n",
              "#sk-container-id-3 div.sk-label.fitted:hover label.sk-toggleable__label.fitted {\n",
              "  color: var(--sklearn-color-text);\n",
              "  background-color: var(--sklearn-color-fitted-level-2);\n",
              "}\n",
              "\n",
              "/* Estimator label */\n",
              "\n",
              "#sk-container-id-3 div.sk-label label {\n",
              "  font-family: monospace;\n",
              "  font-weight: bold;\n",
              "  display: inline-block;\n",
              "  line-height: 1.2em;\n",
              "}\n",
              "\n",
              "#sk-container-id-3 div.sk-label-container {\n",
              "  text-align: center;\n",
              "}\n",
              "\n",
              "/* Estimator-specific */\n",
              "#sk-container-id-3 div.sk-estimator {\n",
              "  font-family: monospace;\n",
              "  border: 1px dotted var(--sklearn-color-border-box);\n",
              "  border-radius: 0.25em;\n",
              "  box-sizing: border-box;\n",
              "  margin-bottom: 0.5em;\n",
              "  /* unfitted */\n",
              "  background-color: var(--sklearn-color-unfitted-level-0);\n",
              "}\n",
              "\n",
              "#sk-container-id-3 div.sk-estimator.fitted {\n",
              "  /* fitted */\n",
              "  background-color: var(--sklearn-color-fitted-level-0);\n",
              "}\n",
              "\n",
              "/* on hover */\n",
              "#sk-container-id-3 div.sk-estimator:hover {\n",
              "  /* unfitted */\n",
              "  background-color: var(--sklearn-color-unfitted-level-2);\n",
              "}\n",
              "\n",
              "#sk-container-id-3 div.sk-estimator.fitted:hover {\n",
              "  /* fitted */\n",
              "  background-color: var(--sklearn-color-fitted-level-2);\n",
              "}\n",
              "\n",
              "/* Specification for estimator info (e.g. \"i\" and \"?\") */\n",
              "\n",
              "/* Common style for \"i\" and \"?\" */\n",
              "\n",
              ".sk-estimator-doc-link,\n",
              "a:link.sk-estimator-doc-link,\n",
              "a:visited.sk-estimator-doc-link {\n",
              "  float: right;\n",
              "  font-size: smaller;\n",
              "  line-height: 1em;\n",
              "  font-family: monospace;\n",
              "  background-color: var(--sklearn-color-background);\n",
              "  border-radius: 1em;\n",
              "  height: 1em;\n",
              "  width: 1em;\n",
              "  text-decoration: none !important;\n",
              "  margin-left: 1ex;\n",
              "  /* unfitted */\n",
              "  border: var(--sklearn-color-unfitted-level-1) 1pt solid;\n",
              "  color: var(--sklearn-color-unfitted-level-1);\n",
              "}\n",
              "\n",
              ".sk-estimator-doc-link.fitted,\n",
              "a:link.sk-estimator-doc-link.fitted,\n",
              "a:visited.sk-estimator-doc-link.fitted {\n",
              "  /* fitted */\n",
              "  border: var(--sklearn-color-fitted-level-1) 1pt solid;\n",
              "  color: var(--sklearn-color-fitted-level-1);\n",
              "}\n",
              "\n",
              "/* On hover */\n",
              "div.sk-estimator:hover .sk-estimator-doc-link:hover,\n",
              ".sk-estimator-doc-link:hover,\n",
              "div.sk-label-container:hover .sk-estimator-doc-link:hover,\n",
              ".sk-estimator-doc-link:hover {\n",
              "  /* unfitted */\n",
              "  background-color: var(--sklearn-color-unfitted-level-3);\n",
              "  color: var(--sklearn-color-background);\n",
              "  text-decoration: none;\n",
              "}\n",
              "\n",
              "div.sk-estimator.fitted:hover .sk-estimator-doc-link.fitted:hover,\n",
              ".sk-estimator-doc-link.fitted:hover,\n",
              "div.sk-label-container:hover .sk-estimator-doc-link.fitted:hover,\n",
              ".sk-estimator-doc-link.fitted:hover {\n",
              "  /* fitted */\n",
              "  background-color: var(--sklearn-color-fitted-level-3);\n",
              "  color: var(--sklearn-color-background);\n",
              "  text-decoration: none;\n",
              "}\n",
              "\n",
              "/* Span, style for the box shown on hovering the info icon */\n",
              ".sk-estimator-doc-link span {\n",
              "  display: none;\n",
              "  z-index: 9999;\n",
              "  position: relative;\n",
              "  font-weight: normal;\n",
              "  right: .2ex;\n",
              "  padding: .5ex;\n",
              "  margin: .5ex;\n",
              "  width: min-content;\n",
              "  min-width: 20ex;\n",
              "  max-width: 50ex;\n",
              "  color: var(--sklearn-color-text);\n",
              "  box-shadow: 2pt 2pt 4pt #999;\n",
              "  /* unfitted */\n",
              "  background: var(--sklearn-color-unfitted-level-0);\n",
              "  border: .5pt solid var(--sklearn-color-unfitted-level-3);\n",
              "}\n",
              "\n",
              ".sk-estimator-doc-link.fitted span {\n",
              "  /* fitted */\n",
              "  background: var(--sklearn-color-fitted-level-0);\n",
              "  border: var(--sklearn-color-fitted-level-3);\n",
              "}\n",
              "\n",
              ".sk-estimator-doc-link:hover span {\n",
              "  display: block;\n",
              "}\n",
              "\n",
              "/* \"?\"-specific style due to the `<a>` HTML tag */\n",
              "\n",
              "#sk-container-id-3 a.estimator_doc_link {\n",
              "  float: right;\n",
              "  font-size: 1rem;\n",
              "  line-height: 1em;\n",
              "  font-family: monospace;\n",
              "  background-color: var(--sklearn-color-background);\n",
              "  border-radius: 1rem;\n",
              "  height: 1rem;\n",
              "  width: 1rem;\n",
              "  text-decoration: none;\n",
              "  /* unfitted */\n",
              "  color: var(--sklearn-color-unfitted-level-1);\n",
              "  border: var(--sklearn-color-unfitted-level-1) 1pt solid;\n",
              "}\n",
              "\n",
              "#sk-container-id-3 a.estimator_doc_link.fitted {\n",
              "  /* fitted */\n",
              "  border: var(--sklearn-color-fitted-level-1) 1pt solid;\n",
              "  color: var(--sklearn-color-fitted-level-1);\n",
              "}\n",
              "\n",
              "/* On hover */\n",
              "#sk-container-id-3 a.estimator_doc_link:hover {\n",
              "  /* unfitted */\n",
              "  background-color: var(--sklearn-color-unfitted-level-3);\n",
              "  color: var(--sklearn-color-background);\n",
              "  text-decoration: none;\n",
              "}\n",
              "\n",
              "#sk-container-id-3 a.estimator_doc_link.fitted:hover {\n",
              "  /* fitted */\n",
              "  background-color: var(--sklearn-color-fitted-level-3);\n",
              "}\n",
              "</style><div id=\"sk-container-id-3\" class=\"sk-top-container\"><div class=\"sk-text-repr-fallback\"><pre>GridSearchCV(cv=ShuffleSplit(n_splits=10, random_state=1, test_size=0.25, train_size=None),\n",
              "             estimator=KernelRidge(gamma=0.1, kernel=&#x27;rbf&#x27;),\n",
              "             param_grid={&#x27;alpha&#x27;: array([1.00000000e-05, 1.68192432e-05, 2.82886943e-05, 4.75794431e-05,\n",
              "       8.00250228e-05, 1.34596032e-04, 2.26380341e-04, 3.80754602e-04,\n",
              "       6.40400427e-04, 1.07710506e-03, 1.81160919e-03, 3.04698957e-03,\n",
              "       5.12480588e-03, 8.61953566e-03, 1.44974067e-02, 2.43835410e-02,\n",
              "       4.10112707e-02, 6.89778538e-02, 1.16015530e-01, 1.95129342e-01,\n",
              "       3.28192787e-01, 5.51995432e-01, 9.28414545e-01, 1.56152301e+00,\n",
              "       2.62636353e+00, 4.41734470e+00, 7.42963951e+00, 1.24960914e+01,\n",
              "       2.10174801e+01, 3.53498111e+01, 5.94557071e+01, 1.00000000e+02])},\n",
              "             scoring=&#x27;neg_mean_absolute_error&#x27;)</pre><b>In a Jupyter environment, please rerun this cell to show the HTML representation or trust the notebook. <br />On GitHub, the HTML representation is unable to render, please try loading this page with nbviewer.org.</b></div><div class=\"sk-container\" hidden><div class=\"sk-item sk-dashed-wrapped\"><div class=\"sk-label-container\"><div class=\"sk-label fitted sk-toggleable\"><input class=\"sk-toggleable__control sk-hidden--visually\" id=\"sk-estimator-id-7\" type=\"checkbox\" ><label for=\"sk-estimator-id-7\" class=\"sk-toggleable__label fitted sk-toggleable__label-arrow fitted\">&nbsp;&nbsp;GridSearchCV<a class=\"sk-estimator-doc-link fitted\" rel=\"noreferrer\" target=\"_blank\" href=\"https://scikit-learn.org/1.5/modules/generated/sklearn.model_selection.GridSearchCV.html\">?<span>Documentation for GridSearchCV</span></a><span class=\"sk-estimator-doc-link fitted\">i<span>Fitted</span></span></label><div class=\"sk-toggleable__content fitted\"><pre>GridSearchCV(cv=ShuffleSplit(n_splits=10, random_state=1, test_size=0.25, train_size=None),\n",
              "             estimator=KernelRidge(gamma=0.1, kernel=&#x27;rbf&#x27;),\n",
              "             param_grid={&#x27;alpha&#x27;: array([1.00000000e-05, 1.68192432e-05, 2.82886943e-05, 4.75794431e-05,\n",
              "       8.00250228e-05, 1.34596032e-04, 2.26380341e-04, 3.80754602e-04,\n",
              "       6.40400427e-04, 1.07710506e-03, 1.81160919e-03, 3.04698957e-03,\n",
              "       5.12480588e-03, 8.61953566e-03, 1.44974067e-02, 2.43835410e-02,\n",
              "       4.10112707e-02, 6.89778538e-02, 1.16015530e-01, 1.95129342e-01,\n",
              "       3.28192787e-01, 5.51995432e-01, 9.28414545e-01, 1.56152301e+00,\n",
              "       2.62636353e+00, 4.41734470e+00, 7.42963951e+00, 1.24960914e+01,\n",
              "       2.10174801e+01, 3.53498111e+01, 5.94557071e+01, 1.00000000e+02])},\n",
              "             scoring=&#x27;neg_mean_absolute_error&#x27;)</pre></div> </div></div><div class=\"sk-parallel\"><div class=\"sk-parallel-item\"><div class=\"sk-item\"><div class=\"sk-label-container\"><div class=\"sk-label fitted sk-toggleable\"><input class=\"sk-toggleable__control sk-hidden--visually\" id=\"sk-estimator-id-8\" type=\"checkbox\" ><label for=\"sk-estimator-id-8\" class=\"sk-toggleable__label fitted sk-toggleable__label-arrow fitted\">best_estimator_: KernelRidge</label><div class=\"sk-toggleable__content fitted\"><pre>KernelRidge(alpha=0.003046989570903508, gamma=0.1, kernel=&#x27;rbf&#x27;)</pre></div> </div></div><div class=\"sk-serial\"><div class=\"sk-item\"><div class=\"sk-estimator fitted sk-toggleable\"><input class=\"sk-toggleable__control sk-hidden--visually\" id=\"sk-estimator-id-9\" type=\"checkbox\" ><label for=\"sk-estimator-id-9\" class=\"sk-toggleable__label fitted sk-toggleable__label-arrow fitted\">&nbsp;KernelRidge<a class=\"sk-estimator-doc-link fitted\" rel=\"noreferrer\" target=\"_blank\" href=\"https://scikit-learn.org/1.5/modules/generated/sklearn.kernel_ridge.KernelRidge.html\">?<span>Documentation for KernelRidge</span></a></label><div class=\"sk-toggleable__content fitted\"><pre>KernelRidge(alpha=0.003046989570903508, gamma=0.1, kernel=&#x27;rbf&#x27;)</pre></div> </div></div></div></div></div></div></div></div></div>"
            ]
          },
          "metadata": {},
          "execution_count": 38
        }
      ],
      "source": [
        "%%time\n",
        "gs.fit(X, y)"
      ]
    },
    {
      "cell_type": "markdown",
      "metadata": {
        "id": "ycagvTRg5sDx"
      },
      "source": [
        "One of its outputs contains the scores of the many models we tried."
      ]
    },
    {
      "cell_type": "code",
      "execution_count": null,
      "metadata": {
        "id": "RWAO663t5sDy",
        "outputId": "d1a33393-4eef-4b5d-8d3d-db48ad5dea13",
        "colab": {
          "base_uri": "https://localhost:8080/",
          "height": 257
        }
      },
      "outputs": [
        {
          "output_type": "display_data",
          "data": {
            "text/plain": [
              "<Figure size 350x250 with 1 Axes>"
            ],
            "image/png": "[encoded data removed]"
          },
          "metadata": {}
        }
      ],
      "source": [
        "fig, ax = plt.subplots(figsize=(3.5, 2.5))\n",
        "\n",
        "ax.semilogx(np.array(gs.cv_results_['param_alpha']), -1*gs.cv_results_['mean_test_score'])\n",
        "\n",
        "ax.set_xlabel('$\\\\alpha$')\n",
        "ax.set_ylabel('MAE')\n",
        "fig.tight_layout()"
      ]
    },
    {
      "cell_type": "markdown",
      "metadata": {
        "id": "v5joU_iP5sDy"
      },
      "source": [
        "We find the best value for `alpha` is about 0.003. (Maybe different in your notebook, depending on the random seed.)"
      ]
    },
    {
      "cell_type": "code",
      "execution_count": null,
      "metadata": {
        "id": "7OqP4pgT5sDy",
        "outputId": "f8634987-a7b2-4497-901d-a86dc1677cd4",
        "colab": {
          "base_uri": "https://localhost:8080/"
        }
      },
      "outputs": [
        {
          "output_type": "execute_result",
          "data": {
            "text/plain": [
              "{'alpha': 0.003046989570903508}"
            ]
          },
          "metadata": {},
          "execution_count": 40
        }
      ],
      "source": [
        "gs.best_params_"
      ]
    },
    {
      "cell_type": "markdown",
      "metadata": {
        "id": "4XQ5hvUV5sDy"
      },
      "source": [
        "### 2.2.2: Task\n",
        "Fit the model changing `alpha` using the ranges we used in the last example but with only 16 steps and `gamma` using a logarithmic space between $10^{-4}$ and $10^1$ in 16 steps"
      ]
    },
    {
      "cell_type": "code",
      "execution_count": null,
      "metadata": {
        "id": "LA5AmlQR5sDy"
      },
      "outputs": [],
      "source": [
        "### your code here"
      ]
    },
    {
      "cell_type": "markdown",
      "metadata": {
        "id": "UQC7oAWP5sDy"
      },
      "source": [
        "Once you have the GridSearch model fit, you can use it like any other."
      ]
    },
    {
      "cell_type": "code",
      "execution_count": null,
      "metadata": {
        "id": "AYULefww5sDy",
        "outputId": "5c296ae9-8e5c-4b62-a0f3-c5fc8f21d027"
      },
      "outputs": [
        {
          "data": {
            "image/png": "[encoded data removed]",
            "text/plain": [
              "<Figure size 252x180 with 1 Axes>"
            ]
          },
          "metadata": {
            "needs_background": "light"
          },
          "output_type": "display_data"
        }
      ],
      "source": [
        "fig, ax = plt.subplots(figsize=(3.5, 2.5), sharey=True)\n",
        "# Run model with `.predict`\n",
        "y_plot = gs.predict(x_plot)\n",
        "\n",
        "ax.scatter(X, y, color='teal', alpha=0.5)\n",
        "ax.plot(x_plot, y_plot, 'k--')\n",
        "\n",
        "ax.set_xlabel('$x$')\n",
        "ax.set_ylabel('$y$');\n"
      ]
    },
    {
      "cell_type": "code",
      "execution_count": null,
      "metadata": {
        "id": "B-tCxryX5sDz"
      },
      "outputs": [],
      "source": []
    }
  ],
  "metadata": {
    "kernelspec": {
      "display_name": "Python 3",
      "language": "python",
      "name": "python3"
    },
    "language_info": {
      "codemirror_mode": {
        "name": "ipython",
        "version": 3
      },
      "file_extension": ".py",
      "mimetype": "text/x-python",
      "name": "python",
      "nbconvert_exporter": "python",
      "pygments_lexer": "ipython3",
      "version": "3.8.8"
    },
    "colab": {
      "provenance": []
    }
  },
  "nbformat": 4,
  "nbformat_minor": 0
}