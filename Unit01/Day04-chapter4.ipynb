{
 "cells": [
  {
   "cell_type": "markdown",
   "id": "ff8465b6",
   "metadata": {},
   "source": [
    "| [**Lattice QCD I**](https://homepages.uni-regensburg.de/~lec17310/teaching/wise2122/lqft.html) | - | [**Christoph Lehner**](https://go.ur.de/lehner) |\n",
    "|:-|--|-:|\n",
    "\n",
    "# Chapter 4: scalar field theory on a lattice"
   ]
  },
  {
   "cell_type": "markdown",
   "id": "05018930",
   "metadata": {},
   "source": [
    "## Motivation\n",
    "- So far we have considered one-particle Hamiltonians in one dimension.  More interesting systems occur, e.g., when considering possible theories of the fundamental interactions of nature.  Experimentally, we observe inelastic processes which change one set of incoming to a different set of outgoing particles.  Example: radioactive decay, pion to muon decays in the atmosphere due to cosmic rays, ...\n",
    "- We will show today that the Hilbert space of a quantum field theory is much better suited to describe such theories.\n",
    "- In the next chapter, we will then more systematically explore the space of interesting field theories by starting from a thorough discussion of symmetries.\n",
    "\n",
    "## Hamiltonian of a real scalar quantum field theory in one spatial dimension"
   ]
  },
  {
   "cell_type": "markdown",
   "id": "9ece1f95",
   "metadata": {},
   "source": [
    "- Consider a real scalar quantum field theory with one spatial dimension with periodic boundary conditions on a spatial lattice\n",
    "  with $n_s$ positions defined by the Lagrangian\n",
    "  $$\n",
    "  \\begin{align}\n",
    "    L = \\sum_{x=0}^{n_s-1} \\frac12 \\phi(x,t) \\left[\\overleftarrow{\\partial}_t \\overrightarrow{\\partial}_t + \\Delta^2 - m^2 \\right] \\phi(x,t)\n",
    "  \\end{align}\n",
    "  $$\n",
    "  with $x \\in \\{ 0, \\ldots, n_s - 1 \\}$, $t,m \\in \\mathbb{R}$, and\n",
    "  $$\n",
    "  \\begin{align}\n",
    "    \\Delta^2 \\phi(x,t) \\equiv \\phi(x+1,t) + \\phi(x-1,t) - 2\\phi(x,t)\n",
    "  \\end{align}\n",
    "  $$\n",
    "  and $\\phi(-1,t)=\\phi(n_s-1,t)$, $\\phi(n_s,t)=\\phi(0,t)$."
   ]
  },
  {
   "cell_type": "markdown",
   "id": "724e1562",
   "metadata": {},
   "source": [
    "- The canonical momentum for the field is then given by the appropriate functional derivative\n",
    "$$\n",
    "  \\begin{align}\n",
    "    \\pi(x,t) = \\partial_{\\partial_t \\phi(x,t)} L = \\partial_t \\phi(x,t)\n",
    "  \\end{align}\n",
    "  $$\n",
    "  and the Euler-Lagrange equation\n",
    "  $$\n",
    "  \\begin{align}\n",
    "    \\partial_{\\phi(x,t)} L = \\partial_t \\pi(x,t)\n",
    "  \\end{align}\n",
    "  $$\n",
    "  which is\n",
    "  $$\n",
    "  \\begin{align}\n",
    "    0 &=\\partial_t^2 \\phi(x,t) - \\partial_{\\phi(x,t)}  \\sum_{x=0}^{n_s-1} \\frac12 \\phi(x,t) \\left[\\phi(x+1,t) + \\phi(x-1,t) - (2+m^2)\\phi(x,t) \\right]  \\\\\n",
    "    &=\\partial_t^2 \\phi(x,t) - \\left[\\phi(x+1,t) + \\phi(x-1,t) - (2+m^2)\\phi(x,t) \\right] \\\\\n",
    "    &=(\\partial_t^2 - \\Delta^2 + m^2) \\phi(x,t) \\,.\n",
    "  \\end{align}\n",
    "$$"
   ]
  },
  {
   "cell_type": "markdown",
   "id": "7f672fee",
   "metadata": {},
   "source": [
    "- Next, we consider free-field solutions by first performing a discrete Fourier transform\n",
    "  $$\n",
    "  \\begin{align}\n",
    "    \\phi(x,t) = \\frac1{\\sqrt{2\\pi n_s}} \\int dE \\sum_{k=0}^{n_s-1} e^{2\\pi i x k / n_s} e^{i t E} \\tilde\\phi(k,E)\n",
    "  \\end{align}\n",
    "  $$\n",
    "  yielding\n",
    "  $$\n",
    "  \\begin{align}\n",
    "    \\left(-E^2 + \\left(2\\sin\\left(\\frac{\\pi k}{n_s}\\right)\\right)^2 + m^2\\right) \\tilde\\phi(k,E) = 0 \\,.\n",
    "  \\end{align}\n",
    "  $$\n",
    "  "
   ]
  },
  {
   "cell_type": "markdown",
   "id": "f6a077d2",
   "metadata": {},
   "source": [
    "- Defining\n",
    "$$\n",
    "  \\begin{align}\n",
    "    w_k = \\sqrt{m^2 + \\left(2\\sin\\left(\\frac{\\pi k}{n_s}\\right)\\right)^2}\n",
    "  \\end{align}\n",
    "  $$\n",
    "  we can then write the free field solution\n",
    "  $$\n",
    "  \\begin{align}\n",
    "    f_k(x,t) \\equiv \\frac1{\\sqrt{2 w_k n_s}} e^{- i w_k t + i 2\\pi x k / n_s}\n",
    "  \\end{align}\n",
    "  $$\n",
    "  with\n",
    "  $$\n",
    "  \\begin{align}\n",
    "    (\\partial_t^2 - \\Delta^2 + m^2) f_k(x,t) = 0\n",
    "  \\end{align}\n",
    "  $$\n",
    "  and\n",
    "  $$\n",
    "  \\begin{align}\n",
    "    \\sum_{x=0}^{n_s-1} f^*_k(x,t) f_{k'}(x,t) &= \\frac1{2w_k} \\delta_{k,k'} \\,, \\\\\n",
    "    \\sum_{x=0}^{n_s-1} f_k(x,t) f_{k'}(x,t) &= \\frac1{2w_k} \\delta_{k,-k'} e^{-2i w_k t} \\,.\n",
    "  \\end{align}\n",
    "$$"
   ]
  },
  {
   "cell_type": "markdown",
   "id": "54daf29f",
   "metadata": {},
   "source": [
    "- To quantize the theory, we first make the ansatz for the real field\n",
    "$$\n",
    "  \\begin{align}\n",
    "    \\phi(x,t) = \\sum_{k=0}^{n_s-1} \\left[ f_k(x,t) \\hat{a}_k + f_k^*(x,t) \\hat{a}_k^\\dagger \\right]\n",
    "  \\end{align}\n",
    "  $$\n",
    "  and operators $\\hat{a}_k$ such that\n",
    "  $$\n",
    "  \\begin{align}\n",
    "    \\pi(x,t) = -i\\sum_{k=0}^{n_s-1} w_k \\left[ f_k(x,t) \\hat{a}_k - f_k^*(x,t) \\hat{a}_k^\\dagger \\right] \\,.\n",
    "  \\end{align}\n",
    "  $$\n",
    "  Then\n",
    "  $$\n",
    "  \\begin{align}\n",
    "    \\hat{a}_k &= \\sum_{x=0}^{n_s-1} f^*_k(x,t) (w_k\\phi(x,t) + i \\pi(x,t)) \\,.\n",
    "  \\end{align}\n",
    "  $$\n",
    "  We quantize the fields canonically, i.e., require\n",
    "  $$\n",
    "  \\begin{align}\n",
    "    [ \\phi(x,t), \\pi(y,t) ] &= i \\delta_{x,y} \\,, &\n",
    "    [ \\phi(x,t), \\phi(y,t) ] &= [ \\pi(x,t), \\pi(y,t) ] = 0\n",
    "  \\end{align}\n",
    "  $$\n",
    "  yielding\n",
    "  $$\n",
    "  \\begin{align}\n",
    "    [\\hat{a}_k,\\hat{a}_{k'} ] &= \\sum_{x,y=0}^{n_s-1} f^*_k(x,t) f^*_{k'}(y,t) [w_k\\phi(x,t) + i \\pi(x,t),w_{k'}\\phi(y,t) + i \\pi(y,t)] \\\\\n",
    "    &= \\sum_{x,y=0}^{n_s-1} f^*_k(x,t) f^*_{k'}(y,t) i\\left[ w_{k'} [\\pi(x,t),\\phi(y,t)] +  w_k [\\phi(x,t),\\pi(y,t)] \\right] \\\\\n",
    "    &= \\sum_{x=0}^{n_s-1} f^*_k(x,t) f^*_{k'}(x,t)  \\left[ w_{k'} -  w_{k} \\right] = 0\n",
    "  \\end{align}\n",
    "  $$\n",
    "  and also\n",
    "  $$\n",
    "  \\begin{align}\n",
    "    [\\hat{a}_k,\\hat{a}^\\dagger_{k'} ]\n",
    "    &= \\sum_{x,y=0}^{n_s-1} f^*_k(x,t) f_{k'}(y,t) i\\left[ w_{k'} [\\pi(x,t),\\phi(y,t)] -  w_k [\\phi(x,t),\\pi(y,t)] \\right] \\\\\n",
    "    &= \\sum_{x=0}^{n_s-1} f^*_k(x,t) f_{k'}(x,t)  \\left[ w_{k'} +  w_{k} \\right] = \\delta_{k,k'} \\,.\n",
    "  \\end{align}\n",
    "$$"
   ]
  },
  {
   "cell_type": "markdown",
   "id": "06701866",
   "metadata": {},
   "source": [
    "- Then Hamiltonian is given by a Legendre transformation of the Lagrangian\n",
    "$$\n",
    "  \\begin{align}\n",
    "    H &= -L + \\sum_{x=0}^{n_s-1} \\pi(x,t) \\partial_{\\pi(x,t)} L \\\\\n",
    "    &= \\sum_{x=0}^{n_s-1} \\frac12 \\phi(x,t)\\left[ \\overleftarrow{\\partial}_t \\overrightarrow{\\partial}_t - \\Delta^2 +m^2 \\right] \\phi(x,t) \\notag\\\\\n",
    "&=\\sum_{x,k,k'=0}^{n_s-1} \\frac12 \\left[ f_k(x,t) \\hat{a}_k + f_k^*(x,t) \\hat{a}_k^\\dagger \\right]\\left[ \\overleftarrow{\\partial}_t \\overrightarrow{\\partial}_t - \\partial_t^2 \\right]\\left[ f_{k'}(x,t) \\hat{a}_{k'} + f_{k'}^*(x,t) \\hat{a}_{k'}^\\dagger \\right] \\\\\n",
    "&=\\sum_{x,k,k'=0}^{n_s-1} \\frac12 \\left[ f_k(x,t) \\hat{a}_k + f_k^*(x,t) \\hat{a}_k^\\dagger \\right] w_{k'}^2\\left[ f_{k'}(x,t) \\hat{a}_{k'} + f_{k'}^*(x,t) \\hat{a}_{k'}^\\dagger \\right] \\notag\\\\&\\quad- \\sum_{x,k,k'=0}^{n_s-1} \\frac12\\left[ f_k(x,t) \\hat{a}_k - f_k^*(x,t) \\hat{a}_k^\\dagger \\right] w_{k'} w_{k'}\\left[ f_{k'}(x,t) \\hat{a}_{k'} - f_{k'}^*(x,t) \\hat{a}_{k'}^\\dagger \\right] \\\\\n",
    "&=\n",
    "\\frac12 \\sum_{k=0}^{n_s-1} w_{k} \\left[  \\hat{a}_k \\hat{a}_{k}^\\dagger + \\hat{a}_{k}^\\dagger \\hat{a}_k    \\right] \\\\\n",
    "&=\n",
    " \\sum_{k=0}^{n_s-1} w_{k} \\left[   \\frac12 + \\hat{a}_{k}^\\dagger \\hat{a}_k    \\right] \\,.\n",
    "\\end{align}\n",
    "  $$"
   ]
  },
  {
   "cell_type": "markdown",
   "id": "a78ceccb",
   "metadata": {},
   "source": [
    "- This looks like a Harmonic oscillator for each mode number $k$.  Note: we have a vacuum energy offset $E_0 = \\frac12 \\sum_{k=0}^{n_s-1} w_k$.\n",
    "\n",
    "- Beyond the vacuum energy, there is a finite contribution of energy $\\omega_k$ for each mode $k$\n",
    "multiplied by the occupation number operator\n",
    "  \\begin{align}\n",
    "    \\hat{n}_k \\equiv \\hat{a}_k^\\dagger \\hat{a}_k \\,.\n",
    "  \\end{align}\n",
    "\n",
    "- We therefore have found a theory which can describe an aribtrary number of particles in mode $k$ that each contribute energy $\\omega_k$.\n",
    "\n",
    "- We can write for small momenta\n",
    "$$\n",
    "p_k = \\frac{2\\pi}{n_s} k\n",
    "$$\n",
    "the energies as\n",
    "$$\n",
    "\\omega_k^2 \\approx m^2 + p_k^2\n",
    "$$\n",
    "which suggests that we found a theory of non-interacting particles that each obey the relativistic energy-momentum relation.  In the\n",
    "next chapter, we illustrate the origin of this phenomenon."
   ]
  },
  {
   "cell_type": "markdown",
   "id": "dbf2c34e",
   "metadata": {},
   "source": [
    "## Global and local Metropolis update for scalar fields\n",
    "\n",
    "We will next discretize also time in $n_t$ steps with periodic boundary conditions, as we did for the one-dimensional Hamiltonian examples, and study the Euclidean action\n",
    "$$\n",
    "\\begin{align}\n",
    "S_E(\\phi) = \\frac12 \\sum_{x=0}^{n_s-1} \\sum_{t=0}^{n_t-1} \\phi(x,t) ( -\\Delta_t^2 - \\Delta_x^2 + m^2) \\phi(x,t)\n",
    "\\end{align}\n",
    "$$\n",
    "where we used partial integration to identify $\\overleftarrow{\\partial_t}\\overrightarrow{\\partial_t}=-\\partial_t^2$\n",
    "and\n",
    "$$\n",
    "\\begin{align}\n",
    "\\Delta_x^2 \\phi(x,t) &= \\phi(x+1,t) + \\phi(x-1,t) - 2\\phi(x,t) \\,, \\\\\n",
    "\\Delta_t^2 \\phi(x,t) &= \\phi(x,t+1) + \\phi(x,t+1) - 2\\phi(x,t) \\,.\n",
    "\\end{align}\n",
    "$$\n",
    "\n",
    "We demonstrate how to generate a Markov chain with probability distribution $p(\\phi) \\propto e^{-S_E(\\phi)}$\n",
    "using both global and local updates.  For this, we will use for the first time the high-performance library GPT (https://github.com/lehner/gpt)."
   ]
  },
  {
   "cell_type": "code",
   "execution_count": 22,
   "id": "6ed42a91",
   "metadata": {},
   "outputs": [],
   "source": [
    "import gpt as g\n",
    "import numpy as np\n",
    "from matplotlib import pyplot as plt"
   ]
  },
  {
   "cell_type": "code",
   "execution_count": 3,
   "id": "8cd3acdd",
   "metadata": {},
   "outputs": [],
   "source": [
    "L = [32,64]\n",
    "grid = g.grid(L, g.double)\n",
    "grid_eo = g.grid(L, g.double, g.redblack)"
   ]
  },
  {
   "cell_type": "code",
   "execution_count": 4,
   "id": "6c536119",
   "metadata": {},
   "outputs": [],
   "source": [
    "field = g.real(grid)\n",
    "field[:] = 0"
   ]
  },
  {
   "cell_type": "code",
   "execution_count": 5,
   "id": "09061423",
   "metadata": {},
   "outputs": [
    {
     "name": "stdout",
     "output_type": "stream",
     "text": [
      "GPT :       0.806299 s : Initializing gpt.random(seed13,vectorized_ranlux24_389_64) took 0.000421047 s\n"
     ]
    }
   ],
   "source": [
    "rng = g.random(\"seed13\")"
   ]
  },
  {
   "cell_type": "code",
   "execution_count": 6,
   "id": "86ad1305",
   "metadata": {},
   "outputs": [
    {
     "data": {
      "text/plain": [
       "lattice(ot_real_additive_group,double)"
      ]
     },
     "execution_count": 6,
     "metadata": {},
     "output_type": "execute_result"
    }
   ],
   "source": [
    "rng.element(field)"
   ]
  },
  {
   "cell_type": "code",
   "execution_count": 7,
   "id": "95149b73",
   "metadata": {},
   "outputs": [
    {
     "name": "stdout",
     "output_type": "stream",
     "text": [
      "(327.52809672707235+0j)\n"
     ]
    }
   ],
   "source": [
    "def S(phi, m0):\n",
    "    action = 0.5*g.norm2(phi)*m0**2\n",
    "    for mu in range(2):\n",
    "        action -= 0.5 * g.inner_product(phi, g.cshift(phi,mu,1) + g.cshift(phi,mu,-1) - 2.*phi)\n",
    "    return action\n",
    "\n",
    "print(S(field, 0.1))"
   ]
  },
  {
   "cell_type": "code",
   "execution_count": 8,
   "id": "1ca76a17",
   "metadata": {},
   "outputs": [
    {
     "name": "stdout",
     "output_type": "stream",
     "text": [
      "(327.52809672707235+0j)\n",
      "(-0.5412363742706248+0j)\n",
      "(-0.5412363742706198+0j)\n"
     ]
    }
   ],
   "source": [
    "def S_field(phi, m0):\n",
    "    # gather in afld[x] everything that changes if phi[x] changes\n",
    "    afld = g(0.5 * g.adj(phi)*phi*(m0**2 + 4.0))\n",
    "    for mu in range(2):\n",
    "        afld -= g.adj(phi) * (g.cshift(phi,mu,1) + g.cshift(phi,mu,-1))\n",
    "    return afld\n",
    "\n",
    "print(S(field,0.1))\n",
    "\n",
    "# test change in single point\n",
    "field[12,17] = 0.5\n",
    "S0 = S(field,0.1)\n",
    "Sf0 = S_field(field,0.1)[12,17]\n",
    "field[12,17] = 0.3\n",
    "S1 = S(field,0.1)\n",
    "Sf1 = S_field(field,0.1)[12,17]\n",
    "print(S1 - S0)\n",
    "print(Sf1 - Sf0)"
   ]
  },
  {
   "cell_type": "code",
   "execution_count": 9,
   "id": "85953305",
   "metadata": {},
   "outputs": [
    {
     "name": "stdout",
     "output_type": "stream",
     "text": [
      "0 Acceptance rate: 1.0\n",
      "1000 Acceptance rate: 0.5354645354645354\n",
      "2000 Acceptance rate: 0.5417291354322838\n",
      "3000 Acceptance rate: 0.5428190603132289\n",
      "4000 Acceptance rate: 0.5546113471632091\n",
      "5000 Acceptance rate: 0.5530893821235753\n",
      "6000 Acceptance rate: 0.5504082652891185\n",
      "7000 Acceptance rate: 0.5513498071704043\n",
      "8000 Acceptance rate: 0.5504311961004874\n",
      "9000 Acceptance rate: 0.551716475947117\n",
      "10000 Acceptance rate: 0.5528447155284472\n",
      "11000 Acceptance rate: 0.5544041450777202\n",
      "12000 Acceptance rate: 0.5569535872010666\n",
      "13000 Acceptance rate: 0.5564187370202293\n",
      "14000 Acceptance rate: 0.556460252839083\n",
      "15000 Acceptance rate: 0.5568295446970202\n",
      "16000 Acceptance rate: 0.5552777951378038\n",
      "17000 Acceptance rate: 0.5561437562496324\n",
      "18000 Acceptance rate: 0.5571357146825177\n",
      "19000 Acceptance rate: 0.558549550023683\n",
      "20000 Acceptance rate: 0.559622018899055\n",
      "21000 Acceptance rate: 0.5599733346031142\n",
      "22000 Acceptance rate: 0.5607472387618745\n",
      "23000 Acceptance rate: 0.5600626059736533\n",
      "24000 Acceptance rate: 0.5603099870838715\n"
     ]
    }
   ],
   "source": [
    "def metropolis_global(phi, action, step):\n",
    "    global rng\n",
    "    tmp = g.real(grid)\n",
    "    phi_prime = g(phi + rng.element(tmp) * step)\n",
    "    S0 = action(phi)\n",
    "    S1 = action(phi_prime)\n",
    "    r = np.exp(S0 - S1)\n",
    "    l = rng.uniform_real(min=0.0, max=1.0)\n",
    "    if l < r:\n",
    "        # accept\n",
    "        phi @= phi_prime\n",
    "        return True\n",
    "    return False\n",
    "    \n",
    "field[:] = 0.0\n",
    "total = 0\n",
    "accepted = 0\n",
    "action_list_global = []\n",
    "for i in range(25000):\n",
    "    if metropolis_global(field, lambda field: S(field, 1.0),0.04):\n",
    "        accepted+=1\n",
    "    total += 1\n",
    "    action_list_global.append(S(field, 1.0).real)\n",
    "    if i % 1000 == 0:\n",
    "        print(i,\"Acceptance rate:\",accepted/total)"
   ]
  },
  {
   "cell_type": "code",
   "execution_count": 10,
   "id": "886e26c7",
   "metadata": {},
   "outputs": [
    {
     "data": {
      "image/png": "[encoded data removed]",
      "text/plain": [
       "<Figure size 432x288 with 1 Axes>"
      ]
     },
     "metadata": {
      "needs_background": "light"
     },
     "output_type": "display_data"
    }
   ],
   "source": [
    "fig, ax = plt.subplots()\n",
    "\n",
    "ax.plot(range(len(action_list_global)), action_list_global, marker='+', ls='', c='blue', label=\"S using global Metropolis update\")\n",
    "\n",
    "plt.legend()\n",
    "plt.show()"
   ]
  },
  {
   "cell_type": "code",
   "execution_count": 11,
   "id": "826596e8",
   "metadata": {},
   "outputs": [
    {
     "name": "stdout",
     "output_type": "stream",
     "text": [
      "Acceptance rate of local update: 0.654296875\n",
      "Acceptance rate of local update: 0.66748046875\n",
      "Acceptance rate of local update: 0.66943359375\n",
      "Acceptance rate of local update: 0.67138671875\n",
      "Acceptance rate of local update: 0.6787109375\n",
      "Acceptance rate of local update: 0.67333984375\n",
      "Acceptance rate of local update: 0.6689453125\n",
      "Acceptance rate of local update: 0.66162109375\n",
      "Acceptance rate of local update: 0.6552734375\n",
      "Acceptance rate of local update: 0.6611328125\n"
     ]
    }
   ],
   "source": [
    "def metropolis_step(phi, action, step):\n",
    "    global rng\n",
    "    # update even fields then odd fiels, in this way we can update\n",
    "    # half of the sites with individual accept/reject at each step\n",
    "    tmp = g.real(grid)\n",
    "    tmp_cb = g.real(grid_eo)\n",
    "    r_cb = g.real(grid_eo)\n",
    "    mask_accept = g.real(grid)\n",
    "    \n",
    "    total_accept = 0\n",
    "    total_step = 0\n",
    "    \n",
    "    for cb in [g.even, g.odd]:\n",
    "        \n",
    "        # p(x) = const * exp(-S(x)) -> p(x') / p(x) = exp(S(x) - S(x'))\n",
    "        S_field_0 = action(phi) # wasteful to compute every time, for now fine\n",
    "        \n",
    "        # create phi_prime which only has shifts on cb sites\n",
    "        tmp[:] = 0\n",
    "        tmp_cb.checkerboard(cb)\n",
    "        rng.element(tmp_cb)\n",
    "        g.set_checkerboard(tmp, tmp_cb)\n",
    "        phi_prime = g(phi + step * tmp)\n",
    "        \n",
    "        # difference of action (per site)\n",
    "        sdiff = g(S_field_0 - action(phi_prime))\n",
    "        g.pick_checkerboard(cb, tmp_cb, sdiff)\n",
    "        pdiff = g(g.component.exp(tmp_cb))\n",
    "        \n",
    "        # on same sites draw independent numbers between 0 and 1\n",
    "        rng.uniform_real(r_cb, min = 0.0, max = 1.0)\n",
    "        \n",
    "        # and locally do an accept/reject\n",
    "        mask_accept_cb = g(pdiff > r_cb)\n",
    "        mask_accept[:] = 0.0\n",
    "        mask_accept_cb.checkerboard(cb) # in future versions of gpt, this will be inferred from >\n",
    "        g.set_checkerboard(mask_accept, mask_accept_cb)\n",
    "        \n",
    "        # statistics\n",
    "        total_accept += g.norm2(mask_accept) \n",
    "        total_step += mask_accept_cb.grid.gsites\n",
    "        \n",
    "        # locally keep accepted changes\n",
    "        phi @= g.where(mask_accept, phi_prime, phi)\n",
    "\n",
    "    return total_accept / total_step\n",
    "   \n",
    "field[:] = 0.0\n",
    "action_list = []\n",
    "for s in range(100):\n",
    "    acceptance_rate = metropolis_step(field, lambda field: S_field(field, 1.0), 1.6)\n",
    "    action_list.append(S(field, 1.0).real)\n",
    "    if s % 10 == 0:\n",
    "        print(\"Acceptance rate of local update:\",acceptance_rate)\n",
    "\n",
    "        "
   ]
  },
  {
   "cell_type": "code",
   "execution_count": null,
   "id": "a2b4cbb9",
   "metadata": {},
   "outputs": [],
   "source": []
  },
  {
   "cell_type": "code",
   "execution_count": 12,
   "id": "41468e7a",
   "metadata": {},
   "outputs": [
    {
     "data": {
      "image/png": "[encoded data removed]",
      "text/plain": [
       "<Figure size 432x288 with 1 Axes>"
      ]
     },
     "metadata": {
      "needs_background": "light"
     },
     "output_type": "display_data"
    },
    {
     "data": {
      "image/png": "[encoded data removed]",
      "text/plain": [
       "<Figure size 432x288 with 1 Axes>"
      ]
     },
     "metadata": {
      "needs_background": "light"
     },
     "output_type": "display_data"
    }
   ],
   "source": [
    "fig, ax = plt.subplots()\n",
    "\n",
    "ax.plot(range(len(action_list_global)), action_list_global, marker='+', ls='', c='blue', label=\"S using global Metropolis update\")\n",
    "ax.plot(range(len(action_list)), action_list, marker='+', ls='', c='red', label=\"S using local Metropolis update\")\n",
    "\n",
    "plt.legend()\n",
    "plt.show()\n",
    "\n",
    "fig, ax = plt.subplots()\n",
    "\n",
    "ax.plot(range(len(action_list)), action_list, marker='+', ls='', c='red', label=\"S using local Metropolis update\")\n",
    "\n",
    "plt.legend()\n",
    "plt.show()"
   ]
  },
  {
   "cell_type": "markdown",
   "id": "803d5da4",
   "metadata": {},
   "source": [
    "## Momentum eigenstates and two-point correlators\n",
    "\n",
    "Since the Hamiltonian for non-interacting real scalar fields in one spatial dimension is\n",
    "$$\n",
    "  \\begin{align}\n",
    "    H &= \\sum_{k=0}^{n_s-1} w_{k} \\left[   \\frac12 + \\hat{n}_k \\right]\n",
    "\\end{align}\n",
    "$$\n",
    "with occupation number operator\n",
    "$$\n",
    "  \\begin{align}\n",
    "  \\hat{n}_k = \\hat{a}_{k}^\\dagger \\hat{a}_k \\,,\n",
    "  \\end{align}\n",
    "$$\n",
    "we know that the eigenstates can be classified with quantum numbers $n_1,\\ldots,n_{n_s-1}$\n",
    "with\n",
    "$$\n",
    "\\begin{align}\n",
    " \\hat{n}_k \\vert n_1,\\ldots,n_{n_s-1} \\rangle = n_k \\vert n_1,\\ldots,n_{n_s-1} \\rangle \\,.\n",
    "\\end{align}\n",
    "$$\n",
    "\n",
    "We call the special state with lowest energy the vaccum state\n",
    "$$\n",
    "\\begin{align}\n",
    " \\vert 0 \\rangle = \\vert 0, \\ldots, 0 \\rangle\n",
    "\\end{align}\n",
    "$$\n",
    "with vacuum energy $E_0$ already defined above.  We can then study the operator\n",
    "$$\n",
    "\\begin{align}\n",
    "\\phi^\\dagger_k &=\\frac1{\\sqrt{2 w_k n_s}} \\sum_{x=0}^{n_s-1} e^{i p_k x} \\phi(x,0) \\\\\n",
    "&= \\sum_{x=0}^{n_s-1} f_k(x,0) \\phi(x,0) \\\\\n",
    "&=\\frac1{2\\omega_k} (a^\\dagger_k + a_{-k})\n",
    "\\end{align}\n",
    "$$\n",
    "such that\n",
    "$$\n",
    "\\begin{align}\n",
    "\\phi^\\dagger_k \\vert 0 \\rangle = \\frac1{2\\omega_k} \\vert 0,\\ldots,0,n_k=1,0,\\ldots 0 \\rangle\n",
    "\\end{align}\n",
    "$$\n",
    "where we used $a_k \\vert 0 \\rangle = 0$.\n",
    "\n",
    "We can therefore study\n",
    "$$\n",
    "\\begin{align}\n",
    "C(t) &= \\langle \\phi_k(t) \\phi^\\dagger_k(0) \\rangle \\\\\n",
    "&=\\frac1Z \\sum_{n,m} \\langle n \\vert \\phi_k \\vert m \\rangle\n",
    "\\langle m \\vert \\phi_k^\\dagger \\vert n \\rangle e^{-t E_m - (T-t)E_n} \\\\\n",
    "&\\approx \\sum_{m} \\langle 0 \\vert \\phi_k \\vert m \\rangle\n",
    "\\langle m \\vert \\phi_k^\\dagger \\vert 0 \\rangle e^{-t (E_m - E_0)} \\\\\n",
    "&\\approx \\sum_{m} \\langle 0 \\vert \\phi_k \\vert m \\rangle\n",
    "\\langle m \\vert \\phi_k^\\dagger \\vert 0 \\rangle e^{-t (E_m - E_0)} \\\\\n",
    "&\\approx \\vert \\langle \\phi_k \\vert \\phi_k \\rangle \\vert^2\n",
    " e^{-t (E_{n_k=1} - E_0)} \\,,\n",
    "\\end{align}\n",
    "$$\n",
    "where we considered the limits $1 \\ll t \\ll T$.\n"
   ]
  },
  {
   "cell_type": "code",
   "execution_count": 13,
   "id": "a14a8bc4",
   "metadata": {},
   "outputs": [
    {
     "name": "stdout",
     "output_type": "stream",
     "text": [
      "GPT :      62.218938 s : Initializing gpt.random(seed13,vectorized_ranlux24_389_64) took 0.000290871 s\n",
      "Acceptance rate of local update: 0.60791015625\n",
      "Acceptance rate of local update: 0.62109375\n",
      "Acceptance rate of local update: 0.64208984375\n",
      "Acceptance rate of local update: 0.62255859375\n",
      "Acceptance rate of local update: 0.64453125\n",
      "Acceptance rate of local update: 0.6376953125\n",
      "Acceptance rate of local update: 0.63525390625\n",
      "Acceptance rate of local update: 0.62744140625\n",
      "Acceptance rate of local update: 0.6220703125\n",
      "Acceptance rate of local update: 0.6357421875\n"
     ]
    },
    {
     "data": {
      "image/png": "[encoded data removed]",
      "text/plain": [
       "<Figure size 432x288 with 1 Axes>"
      ]
     },
     "metadata": {
      "needs_background": "light"
     },
     "output_type": "display_data"
    }
   ],
   "source": [
    "rng = g.random(\"seed13\")\n",
    "field[:] = 0.0\n",
    "action_list = []\n",
    "m0 = 0.2\n",
    "\n",
    "# first thermalize theory for new m0\n",
    "for s in range(100):\n",
    "    acceptance_rate = metropolis_step(field, lambda field: S_field(field, m0), 2.0)\n",
    "    action_list.append(S(field, m0).real)\n",
    "    if s % 10 == 0:\n",
    "        print(\"Acceptance rate of local update:\",acceptance_rate)\n",
    "    \n",
    "fig, ax = plt.subplots()\n",
    "\n",
    "ax.plot(range(len(action_list)), action_list, marker='+', ls='', c='red', label=\"S using local Metropolis update\")\n",
    "\n",
    "plt.legend()\n",
    "plt.show()"
   ]
  },
  {
   "cell_type": "code",
   "execution_count": 14,
   "id": "7ad3444e",
   "metadata": {},
   "outputs": [
    {
     "name": "stdout",
     "output_type": "stream",
     "text": [
      "0\n",
      "1000\n",
      "2000\n",
      "3000\n",
      "4000\n"
     ]
    }
   ],
   "source": [
    "configurations = []\n",
    "\n",
    "for s in range(5000):\n",
    "    for sub_steps in range(5):\n",
    "        acceptance_rate = metropolis_step(field, lambda field: S_field(field, m0), 2.0)\n",
    "    configurations.append(g.copy(field))\n",
    "    if s % 1000 == 0:\n",
    "        print(s)"
   ]
  },
  {
   "cell_type": "code",
   "execution_count": 15,
   "id": "d80e4be9",
   "metadata": {},
   "outputs": [],
   "source": [
    "def correlate(field):\n",
    "    phit = g.slice(field,1)\n",
    "    Nt=len(phit)\n",
    "    return np.array([ sum([ phit[s].conjugate()*phit[(s+t)%Nt] for s in range(Nt) ])/Nt for t in range(Nt) ])\n",
    "\n",
    "def two_point_for_momentum(p):\n",
    "    mom_phase = g.exp_ixp(np.array([p,0]))\n",
    "    correlators = [ correlate(g(mom_phase*conf)) for conf in configurations ]\n",
    "    return correlators\n",
    "\n",
    "c0 = two_point_for_momentum(0)\n",
    "c1 = two_point_for_momentum(2.*np.pi/L[0])"
   ]
  },
  {
   "cell_type": "code",
   "execution_count": 16,
   "id": "468caaac",
   "metadata": {},
   "outputs": [
    {
     "data": {
      "image/png": "[encoded data removed]",
      "text/plain": [
       "<Figure size 432x288 with 1 Axes>"
      ]
     },
     "metadata": {
      "needs_background": "light"
     },
     "output_type": "display_data"
    }
   ],
   "source": [
    "def jackknife_variance_estimator(f, x):\n",
    "    N = len(x)\n",
    "    X = sum(x) / N\n",
    "    mean = f(X)\n",
    "    return sum([(f((N*X - x[j])/(N-1)) - mean)**2 for j in range(N)])*(N-1)/N\n",
    "\n",
    "def bin_data(res, bin_size):\n",
    "    assert len(res) % bin_size == 0\n",
    "    n = len(res) // bin_size\n",
    "    return [ sum(res[bin_size*i:bin_size*(i+1)])/bin_size for i in range(n) ]\n",
    "\n",
    "def time_parity_average(C):\n",
    "    return [0.5*np.roll(x[::-1],1) + 0.5*x for x in C]\n",
    "\n",
    "bc0 = time_parity_average(bin_data(c0, 100))\n",
    "bc1 = time_parity_average(bin_data(c1, 100))\n",
    "\n",
    "def emp(C):\n",
    "    return np.array([np.log(C[t].real/C[t+1].real) for t in range(10)])\n",
    "\n",
    "c0_mean = np.mean(bc0, axis=0)\n",
    "emp0_mean = emp(c0_mean)\n",
    "emp0_err = jackknife_variance_estimator(emp, bc0)**0.5\n",
    "\n",
    "c1_mean = np.mean(bc1, axis=0)\n",
    "emp1_mean = emp(c1_mean)\n",
    "emp1_err = jackknife_variance_estimator(emp, bc1)**0.5\n",
    "\n",
    "fig, ax = plt.subplots()\n",
    "\n",
    "plt.ylim([0,0.4])\n",
    "ax.errorbar(range(len(emp0_mean)), emp0_mean, emp0_err, marker='+', ls='', c='red', label=\"E(p=0) - E_0\")\n",
    "ax.errorbar(range(len(emp1_mean)), emp1_mean, emp1_err, marker='+', ls='', c='blue', label=\"E(p=2pi/L) - E_0\")\n",
    "\n",
    "plt.axhline(y=m0, color='red', linestyle='-')\n",
    "plt.axhline(y=(0.2**2. + (2.*np.sin(np.pi/L[0]))**2.)**0.5, color='blue', linestyle='-')\n",
    "\n",
    "plt.legend()\n",
    "plt.show()"
   ]
  },
  {
   "cell_type": "markdown",
   "id": "46914932",
   "metadata": {},
   "source": [
    "We can also create two particles, say, in the $k=0$ state by studying\n",
    "$$\n",
    "\\begin{align}\n",
    "C(t) &= \\langle (\\phi_k(t))^2 (\\phi^\\dagger_k(0))^2 \\rangle - \\langle (\\phi_k(t))^2 \\rangle^2 \\,.\n",
    "\\end{align}\n",
    "$$\n",
    "\n",
    "***Homework***: Show how one can extract a state with occupation number two from this correlator."
   ]
  },
  {
   "cell_type": "code",
   "execution_count": 17,
   "id": "8582413b",
   "metadata": {},
   "outputs": [
    {
     "data": {
      "image/png": "[encoded data removed]",
      "text/plain": [
       "<Figure size 432x288 with 1 Axes>"
      ]
     },
     "metadata": {
      "needs_background": "light"
     },
     "output_type": "display_data"
    }
   ],
   "source": [
    "def correlate2(field):\n",
    "    phit = g.slice(field,1)\n",
    "    Nt=len(phit)\n",
    "    return np.array([ sum([ phit[s].conjugate()**2*phit[(s+t)%Nt]**2 for s in range(Nt) ])/Nt for t in range(Nt) ])\n",
    "\n",
    "def two_point_for_momentum2(p):\n",
    "    mom_phase = g.exp_ixp(np.array([p,0]))\n",
    "    correlators = [ correlate2(g(mom_phase*conf)) for conf in configurations ]\n",
    "    return correlators\n",
    "\n",
    "c2 = two_point_for_momentum2(0)\n",
    "\n",
    "bc2 = time_parity_average(bin_data(c2, 100))\n",
    "\n",
    "# variance of this is negligible, so treat it as a constant\n",
    "c_const = np.ones(len(c0_mean))*c0_mean[0]**2. \n",
    "\n",
    "c2_mean = np.mean(bc2, axis=0)\n",
    "emp2_mean = emp(c2_mean - c_const)\n",
    "emp2_err = jackknife_variance_estimator(lambda c2: emp(c2 - c_const), bc2)**0.5\n",
    "\n",
    "fig, ax = plt.subplots()\n",
    "\n",
    "plt.ylim([0,0.5])\n",
    "ax.errorbar(range(len(emp0_mean)), emp0_mean, emp0_err, marker='+', ls='', c='red', label=\"E(n=1,p=0) - E_0\")\n",
    "ax.errorbar(range(len(emp1_mean)), emp1_mean, emp1_err, marker='+', ls='', c='blue', label=\"E(n=1,p=2pi/L) - E_0\")\n",
    "ax.errorbar(range(len(emp2_mean)), emp2_mean, emp2_err, marker='+', ls='', c='green', label=\"E(n=2,p=0) - E_0\")\n",
    "\n",
    "plt.axhline(y=m0, color='red', linestyle='-')\n",
    "plt.axhline(y=(0.2**2. + (2.*np.sin(np.pi/32))**2.)**0.5, color='blue', linestyle='-')\n",
    "plt.axhline(y=2*0.2, color='green', linestyle='-')\n",
    "\n",
    "\n",
    "plt.legend()\n",
    "plt.show()"
   ]
  },
  {
   "cell_type": "markdown",
   "id": "aaafdbe7",
   "metadata": {},
   "source": [
    "Next, we can add a small interaction term and observe how the states shift.  Note that even the one-particle state can shift and $m_0$ is in general no longer its energy!"
   ]
  },
  {
   "cell_type": "code",
   "execution_count": 19,
   "id": "1cba0ce4",
   "metadata": {},
   "outputs": [
    {
     "name": "stdout",
     "output_type": "stream",
     "text": [
      "GPT :     442.801170 s : Initializing gpt.random(seed13,vectorized_ranlux24_389_64) took 0.000324965 s\n",
      "(-0.543908374270643+0j)\n",
      "(-0.5439083742706198+0j)\n",
      "Acceptance rate of local update: 0.4384765625\n",
      "Acceptance rate of local update: 0.48779296875\n",
      "Acceptance rate of local update: 0.49755859375\n",
      "Acceptance rate of local update: 0.4951171875\n",
      "Acceptance rate of local update: 0.49609375\n",
      "Acceptance rate of local update: 0.5126953125\n",
      "Acceptance rate of local update: 0.49462890625\n",
      "Acceptance rate of local update: 0.49365234375\n",
      "Acceptance rate of local update: 0.494140625\n",
      "Acceptance rate of local update: 0.4970703125\n"
     ]
    },
    {
     "data": {
      "image/png": "[encoded data removed]",
      "text/plain": [
       "<Figure size 432x288 with 1 Axes>"
      ]
     },
     "metadata": {
      "needs_background": "light"
     },
     "output_type": "display_data"
    },
    {
     "name": "stdout",
     "output_type": "stream",
     "text": [
      "0\n",
      "1000\n",
      "2000\n",
      "3000\n",
      "4000\n"
     ]
    }
   ],
   "source": [
    "rng = g.random(\"seed13\")\n",
    "action_list = []\n",
    "m0 = 0.2\n",
    "lam = 0.005\n",
    "\n",
    "def S_ia(phi, m0, lam):\n",
    "    action = 0.5*g.norm2(phi)*m0**2 + lam * g.sum(g.adj(phi)*phi*g.adj(phi)*phi)\n",
    "    for mu in range(2):\n",
    "        action -= 0.5 * g.inner_product(phi, g.cshift(phi,mu,1) + g.cshift(phi,mu,-1) - 2.*phi)\n",
    "    return action\n",
    "\n",
    "def S_field_ia(phi, m0, lam):\n",
    "    # gather in afld[x] everything that changes if phi[x] changes\n",
    "    afld = g(0.5 * g.adj(phi)*phi*(m0**2 + 4.0))\n",
    "    afld += lam * g.adj(phi)*phi*g.adj(phi)*phi\n",
    "    for mu in range(2):\n",
    "        afld -= g.adj(phi) * (g.cshift(phi,mu,1) + g.cshift(phi,mu,-1))\n",
    "    return afld\n",
    "\n",
    "# test change in single point\n",
    "rng.element(field)\n",
    "field[12,17] = 0.5\n",
    "S0 = S_ia(field,m0,lam)\n",
    "Sf0 = S_field_ia(field,m0,lam)[12,17]\n",
    "field[12,17] = 0.3\n",
    "S1 = S_ia(field,m0,lam)\n",
    "Sf1 = S_field_ia(field,m0,lam)[12,17]\n",
    "print(S1 - S0)\n",
    "print(Sf1 - Sf0)\n",
    "\n",
    "\n",
    "\n",
    "# first thermalize theory for new m0\n",
    "field[:] = 0.0\n",
    "for s in range(100):\n",
    "    acceptance_rate = metropolis_step(field, lambda field: S_field_ia(field, m0, lam), 3.0)\n",
    "    action_list.append(S_ia(field, m0, lam).real)\n",
    "    if s % 10 == 0:\n",
    "        print(\"Acceptance rate of local update:\",acceptance_rate)\n",
    "    \n",
    "fig, ax = plt.subplots()\n",
    "\n",
    "ax.plot(range(len(action_list)), action_list, marker='+', ls='', c='red', label=\"S using local Metropolis update\")\n",
    "\n",
    "plt.legend()\n",
    "plt.show()\n",
    "\n",
    "configurations_ia = []\n",
    "\n",
    "for s in range(5000):\n",
    "    for sub_steps in range(5):\n",
    "        acceptance_rate = metropolis_step(field, lambda field: S_field_ia(field, m0, lam), 3.0)\n",
    "    configurations_ia.append(g.copy(field))\n",
    "    if s % 1000 == 0:\n",
    "        print(s)"
   ]
  },
  {
   "cell_type": "code",
   "execution_count": 20,
   "id": "80189574",
   "metadata": {},
   "outputs": [
    {
     "data": {
      "image/png": "[encoded data removed]",
      "text/plain": [
       "<Figure size 432x288 with 1 Axes>"
      ]
     },
     "metadata": {
      "needs_background": "light"
     },
     "output_type": "display_data"
    }
   ],
   "source": [
    "def two_point_for_momentum_ia(p):\n",
    "    mom_phase = g.exp_ixp(np.array([p,0]))\n",
    "    correlators = [ correlate(g(mom_phase*conf)) for conf in configurations_ia ]\n",
    "    return correlators\n",
    "\n",
    "c0_ia = two_point_for_momentum_ia(0)\n",
    "bc0_ia = time_parity_average(bin_data(c0_ia, 100))\n",
    "\n",
    "c0_ia_mean = np.mean(bc0_ia, axis=0)\n",
    "emp0_ia_mean = emp(c0_ia_mean)\n",
    "emp0_ia_err = jackknife_variance_estimator(emp, bc0_ia)**0.5\n",
    "\n",
    "fig, ax = plt.subplots()\n",
    "\n",
    "plt.ylim([0,0.5])\n",
    "ax.errorbar(range(len(emp0_ia_mean)), emp0_ia_mean, emp0_ia_err, marker='+', ls='', c='red', label=\"E(p=0,IA) - E_0\")\n",
    "\n",
    "plt.axhline(y=m0, color='red', linestyle='-')\n",
    "\n",
    "plt.legend()\n",
    "plt.show()"
   ]
  },
  {
   "cell_type": "markdown",
   "id": "cf2fdb43",
   "metadata": {},
   "source": [
    "One can then also measure the energy of two particles in the interacting theory.  They will no longer be twice as energetic as a single particle due to the interaction energy.  By studying these interaction energies at different volumes, one can learn about scattering amplitudes of particles (see the Lüscher formalism https://doi.org/10.1016/0550-3213(91)90366-6 )."
   ]
  },
  {
   "cell_type": "markdown",
   "id": "8f03962c",
   "metadata": {},
   "source": [
    "## Field theories in higher dimensions\n",
    "\n",
    "It is straightforward to modify the presented code to simulations in higher dimensions.  Below for a 3+1d interacting real scalar field theory."
   ]
  },
  {
   "cell_type": "code",
   "execution_count": 21,
   "id": "6b5b31e7",
   "metadata": {},
   "outputs": [
    {
     "name": "stdout",
     "output_type": "stream",
     "text": [
      "262144\n",
      "GPT :     667.002744 s : Initializing gpt.random(seed13,vectorized_ranlux24_389_64) took 0.000406027 s\n",
      "Acceptance rate of local update: 0.4446144104003906\n",
      "Acceptance rate of local update: 0.5132102966308594\n",
      "Acceptance rate of local update: 0.5131492614746094\n",
      "Acceptance rate of local update: 0.5140342712402344\n",
      "Acceptance rate of local update: 0.5136299133300781\n",
      "Acceptance rate of local update: 0.5135154724121094\n",
      "Acceptance rate of local update: 0.512176513671875\n",
      "Acceptance rate of local update: 0.5137062072753906\n",
      "Acceptance rate of local update: 0.5137748718261719\n",
      "Acceptance rate of local update: 0.5127792358398438\n"
     ]
    },
    {
     "data": {
      "image/png": "[encoded data removed]",
      "text/plain": [
       "<Figure size 432x288 with 1 Axes>"
      ]
     },
     "metadata": {
      "needs_background": "light"
     },
     "output_type": "display_data"
    }
   ],
   "source": [
    "L = [16,16,16,64]\n",
    "print(L[0]*L[1]*L[2]*L[3])\n",
    "grid = g.grid(L, g.double)\n",
    "grid_eo = g.grid(L, g.double, g.redblack)\n",
    "\n",
    "field = g.real(grid)\n",
    "field[:] = 0\n",
    "\n",
    "rng = g.random(\"seed13\")\n",
    "field[:] = 0.0\n",
    "action_list = []\n",
    "m0 = 0.2\n",
    "lam = 0.005\n",
    "\n",
    "def S_4d(phi, m0, lam):\n",
    "    action = 0.5*g.norm2(phi)*m0**2 + lam * g.sum(g.adj(phi)*phi*g.adj(phi)*phi)\n",
    "    for mu in range(4):\n",
    "        action -= 0.5 * g.inner_product(phi, g.cshift(phi,mu,1) + g.cshift(phi,mu,-1) - 2.*phi)\n",
    "    return action\n",
    "\n",
    "def S_field_4d(phi, m0, lam):\n",
    "    # gather in afld[x] everything that changes if phi[x] changes\n",
    "    afld = g(0.5 * g.adj(phi)*phi*(m0**2 + 8.0))\n",
    "    afld += lam * g.adj(phi)*phi*g.adj(phi)*phi\n",
    "    for mu in range(4):\n",
    "        afld -= g.adj(phi) * (g.cshift(phi,mu,1) + g.cshift(phi,mu,-1))\n",
    "    return afld\n",
    "\n",
    "# first thermalize theory for new m0\n",
    "for s in range(100):\n",
    "    acceptance_rate = metropolis_step(field, lambda field: S_field_4d(field, m0, lam), 2.0)\n",
    "    action_list.append(S_4d(field, m0, lam).real)\n",
    "    if s % 10 == 0:\n",
    "        print(\"Acceptance rate of local update:\",acceptance_rate)\n",
    "    \n",
    "fig, ax = plt.subplots()\n",
    "\n",
    "ax.plot(range(len(action_list)), action_list, marker='+', ls='', c='red', label=\"S using local Metropolis update\")\n",
    "\n",
    "plt.legend()\n",
    "plt.show()\n"
   ]
  }
 ],
 "metadata": {
  "kernelspec": {
   "display_name": "Python 3 (ipykernel)",
   "language": "python",
   "name": "python3"
  },
  "language_info": {
   "codemirror_mode": {
    "name": "ipython",
    "version": 3
   },
   "file_extension": ".py",
   "mimetype": "text/x-python",
   "name": "python",
   "nbconvert_exporter": "python",
   "pygments_lexer": "ipython3",
   "version": "3.9.6"
  }
 },
 "nbformat": 4,
 "nbformat_minor": 5
}
