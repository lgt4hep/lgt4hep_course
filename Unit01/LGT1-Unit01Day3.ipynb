{
 "cells": [
  {
   "cell_type": "markdown",
   "metadata": {},
   "source": [
    "This code computes the energy splitting of the harmonic oscillator, using 100 bootstrap copies of the original configurations. Running the cell below will compute the two point correlator for the harmonic oscillator. The correlator data is stored in a 2D array $G^\\alpha(t)$ where alpha is the configuration and $t$ is the time extent"
   ]
  },
  {
   "cell_type": "code",
   "execution_count": null,
   "metadata": {},
   "outputs": [],
   "source": [
    "#In this code, we are using an improved action by changing the integration variable which leads to an improved potential term \n",
    "import numpy as np\n",
    "import matplotlib.pyplot as plt\n",
    "\n",
    "N = 20\n",
    "eps = 1.4\n",
    "N_cor = 20\n",
    "N_cf = 1000\n",
    "Nbstrap = 100\n",
    "a = 0.5\n",
    "x = np.zeros(N)\n",
    "G = np.zeros((N_cf,N))\n",
    "errorbars = np.zeros(N-1)\n",
    "\n",
    "def update(x):\n",
    "    for j in range(0,N):        \n",
    "        old_x = x[j]    # save original value    \n",
    "        old_Sj = S(j,x)\n",
    "        x[j] = x[j] + np.random.uniform(-eps,eps)   # update x[j]\n",
    "        dS = S(j,x) - old_Sj                        # change in action\n",
    "        if dS > 0 and np.exp(-dS) < np.random.uniform(0,1):\n",
    "            x[j] = old_x  # restore old value  \n",
    "\n",
    "def S(j,x):                                         # harmonic oscillator action with improved potential \n",
    "    jp = (j+1)%N\n",
    "    jm = (j-1)%N\n",
    "    return a*x[j]**2/2*(1+a**2/12)+x[j]*(x[j]-x[jp]-x[jm])/a\n",
    "\n",
    "def compute_G(x,n):\n",
    "    g = 0\n",
    "    for j in range (0,N):\n",
    "        g = g+x[j]*x[(j+n)%N]\n",
    "    return g/N\n",
    "\n",
    "def MCaverage(x,G):\n",
    "    for j in range (0,N):   # initialize x\n",
    "        x[j] = 0\n",
    "    for j in range (0,5*N_cor): # thermalize x\n",
    "        update(x)\n",
    "    for alpha in range (0,N_cf):    # loop on random paths \n",
    "        for j in range (0,N_cor):\n",
    "            update(x)\n",
    "        for n in range(0,N):\n",
    "           G[alpha][n] = compute_G(x,n)\n",
    "    for n in range (0,N): #compute MC averages\n",
    "        avg_G = 0\n",
    "        for alpha in range(0,N_cf):\n",
    "            avg_G = avg_G + G[alpha][n]\n",
    "        avg_G = avg_G/N_cf\n",
    "        print(\"G(%d) = %g\" % (n,avg_G))\n",
    "    \n",
    "MCaverage(x,G)\n",
    "\n"
   ]
  },
  {
   "cell_type": "markdown",
   "metadata": {},
   "source": [
    "Here is where I define my bootstrap function. See if you can code up a jacknife function also. "
   ]
  },
  {
   "cell_type": "code",
   "execution_count": null,
   "metadata": {},
   "outputs": [],
   "source": [
    "def bootstrap(G):\n",
    "    N_cf = len(G)\n",
    "    G_bootstrap = []    # new ensemble\n",
    "    for i in range(0,N_cf):\n",
    "        alpha = np.random.randint(0,N_cf)   # choose random config\n",
    "        G_bootstrap.append(G[alpha])    # keep G[alpha]\n",
    "    return G_bootstrap "
   ]
  },
  {
   "cell_type": "markdown",
   "metadata": {},
   "source": [
    "Here I have defined the binning function but I have not implemented it yet. Try binning the correlator before doing the bootstrapping"
   ]
  },
  {
   "cell_type": "code",
   "execution_count": null,
   "metadata": {},
   "outputs": [],
   "source": [
    "def bin(G,binsize): #binning the G's\n",
    "    G_binned = np.zeros((int(len(G)/binsize), N)) #matrix G binned in alphas\n",
    "    k=0\n",
    "    for i in range(0,len(G),binsize): #binning the G\n",
    "        G_avg = 0\n",
    "        for j in range(binsize): #summing for each bin\n",
    "            G_avg = G_avg + G[i+j]\n",
    "        G_binned[k]=(G_avg/binsize) #bin average\n",
    "        k+=1\n",
    "    return G_binned\n"
   ]
  },
  {
   "cell_type": "markdown",
   "metadata": {},
   "source": [
    "You can use this cell to compute the energy. Try plotting the energy splittings obtained from the correlator from the theoretical value of $\\Delta E$ = 1."
   ]
  },
  {
   "cell_type": "code",
   "execution_count": null,
   "metadata": {},
   "outputs": [],
   "source": []
  },
  {
   "cell_type": "markdown",
   "metadata": {},
   "source": [
    "Plotting"
   ]
  },
  {
   "cell_type": "code",
   "execution_count": null,
   "metadata": {},
   "outputs": [],
   "source": []
  },
  {
   "attachments": {
    "image.png": {
     "image/png": "[encoded data removed]"
    }
   },
   "cell_type": "markdown",
   "metadata": {},
   "source": [
    "This is an example output with a binsize of 20.\n",
    "\n",
    "![image.png](attachment:image.png)"
   ]
  },
  {
   "cell_type": "code",
   "execution_count": null,
   "metadata": {},
   "outputs": [],
   "source": []
  }
 ],
 "metadata": {
  "kernelspec": {
   "display_name": "physics_shit",
   "language": "python",
   "name": "python3"
  },
  "language_info": {
   "codemirror_mode": {
    "name": "ipython",
    "version": 3
   },
   "file_extension": ".py",
   "mimetype": "text/x-python",
   "name": "python",
   "nbconvert_exporter": "python",
   "pygments_lexer": "ipython3",
   "version": "3.10.6"
  }
 },
 "nbformat": 4,
 "nbformat_minor": 2
}
