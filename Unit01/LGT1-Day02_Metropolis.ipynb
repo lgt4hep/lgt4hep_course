{
 "cells": [
  {
   "cell_type": "code",
   "execution_count": null,
   "metadata": {},
   "outputs": [],
   "source": [
    "#This jupyter notebook goes through generating paths using the metropolis algorithm. \n",
    "\n",
    "import numpy as np\n",
    "import matplotlib.pyplot as plt\n",
    "\n",
    "N = 20\n",
    "eps = 1.4\n",
    "N_cor = 20\n",
    "N_cf = 1000\n",
    "a = 0.5\n",
    "x = np.zeros(N)\n",
    "paths = np.zeros((N_cf,N))\n",
    "\n",
    "#This defines the update function for x_j\n",
    "def update(x):\n",
    "    for j in range(0,N):        \n",
    "        old_x = x[j]    # save original value    \n",
    "        old_Sj = S(j,x)\n",
    "        x[j] = x[j] + np.random.uniform(-eps,eps)   # update x[j]\n",
    "        dS = S(j,x) - old_Sj                        # change in action\n",
    "        if dS > 0 and np.exp(-dS) < np.random.uniform(0,1):\n",
    "            x[j] = old_x  # restore old value  \n",
    "\n",
    "def S(j,x):                                         # harmonic oscillator action with improved potential \n",
    "    jp = (j+1)%N\n",
    "    jm = (j-1)%N\n",
    "    return a*x[j]**2/2*(1+a**2/12)+x[j]*(x[j]-x[jp]-x[jm])/a #This is an improved action which I will discuss later \n",
    "\n",
    "def Metropolis(x):\n",
    "    for j in range (0,N):   # initialize x\n",
    "        x[j] = 0\n",
    "    for j in range (0,5*N_cor): # thermalize x\n",
    "        update(x)\n",
    "    for alpha in range (0,N_cf):    # loop on random paths \n",
    "        for j in range (0,N_cor):\n",
    "            update(x)\n",
    "        paths[alpha] = x\n",
    "\n",
    "Metropolis(x)"
   ]
  }
 ],
 "metadata": {
  "language_info": {
   "name": "python"
  }
 },
 "nbformat": 4,
 "nbformat_minor": 2
}
