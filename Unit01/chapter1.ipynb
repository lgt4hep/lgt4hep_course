{
 "cells": [
  {
   "cell_type": "markdown",
   "id": "a270ef16",
   "metadata": {},
   "source": [
    "| [**Lattice QCD I**](https://homepages.uni-regensburg.de/~lec17310/teaching/wise2122/lqft.html) | - | [**Christoph Lehner**](https://go.ur.de/lehner) |\n",
    "|:-|--|-:|\n",
    "\n",
    "# Chapter 1: path integral formulation of quantum mechanics\n",
    "\n",
    "We start with a simple one-particle one-dimensional Hamiltonian $H$ with coordinate $x$, momentum $p$, and potential $V(x)$, i.e.,\n",
    "$$\n",
    "\\begin{align}\n",
    "H = \\frac{p^2}{2m} + V(x) \\,,\n",
    "\\end{align}\n",
    "$$\n",
    "where $m$ is the particle's mass.  We will use a unit system with $\\hbar=1$.  In the quantum mechanics lecture,\n",
    "we have already established that $[x,p]=i$ yields\n",
    "$$\n",
    "\\begin{align}\n",
    "    \\langle x \\vert p \\rangle = \\frac1{\\sqrt{2\\pi}} e^{ixp} \\,,\n",
    "\\end{align}\n",
    "$$\n",
    "which we will use in this chapter.  \n",
    "\n",
    "***Homework***: derive this equation again."
   ]
  },
  {
   "cell_type": "markdown",
   "id": "84017e6f",
   "metadata": {},
   "source": [
    "## Real-time evolution\n",
    "\n",
    "Let us consider the amplitude for a free particle with \n",
    "$$\n",
    "H_0 = \\frac{p^2}{2m}\n",
    "$$\n",
    "to move from position $y$ to $x$ during time $t$\n",
    "$$\n",
    "\\begin{align}\n",
    "\\langle x \\vert e^{-i H_0 t} \\vert y \\rangle &=\n",
    "\\int dp \\langle x \\vert e^{-i H_0 t} \\vert p \\rangle \\langle p \\vert y \\rangle \\\\\n",
    "&= \\int dp \\langle x \\vert p \\rangle e^{-i \\frac{p^2}{2m} t}  \\langle p \\vert y \\rangle \\\\\n",
    "&= \\int \\frac{dp}{2\\pi} \\exp\\left( -i \\frac{p^2}{2m} t + i p (x-y) \\right) \\\\\n",
    "&= \\frac1{\\sqrt{2\\pi \\sigma^2}} \\exp\\left( - \\frac1{2\\sigma^2}(x-y)^2 \\right) \\,,\n",
    "\\end{align}\n",
    "$$\n",
    "where\n",
    "$$\n",
    "\\sigma^2 = i\\frac{t}{m} \\,.\n",
    "$$\n",
    "This integral only converges if Re$[\\sigma^2] > 0$, so a limiting procedure is needed to\n",
    "have this procedure be well-defined for real $t$ and $m$.  We will address this issue in the next sub-section, when we define Euclidean path integrals."
   ]
  },
  {
   "cell_type": "markdown",
   "id": "8f83c042",
   "metadata": {},
   "source": [
    "If we, however, wanted to calculate the amplitude\n",
    "$$\n",
    "\\langle x \\vert e^{-i H t} \\vert y \\rangle\n",
    "$$\n",
    "for the full theory, the situation is more complicated as the momentum states $\\vert p \\rangle$ are not eigenstates of $H$.  We can, however, use the Trotter formula\n",
    "$$\n",
    "\\begin{align}\n",
    "e^{-i H \\delta t} &= e^{- i H_0 \\delta t - i V(x) \\delta t} = e^{-i V(x) \\delta t / 2} e^{-i H_0 \\delta t} e^{-i V(x) \\delta t/2} + {\\cal O}(\\delta t^3)\\\\\n",
    "&= \\int dx dy \\: e^{-i V(x) \\delta t / 2} \\vert x \\rangle \\langle x \\vert e^{-i H_0 \\delta t} \\vert y \\rangle \\langle y \\vert e^{-i V(x) \\delta t/2} + {\\cal O}(\\delta t^3) \\,.\n",
    "\\end{align}\n",
    "$$\n",
    "This is great, because we already know the matrix element $\\langle x \\vert e^{-i H_0 \\delta t} \\vert y \\rangle$.  Nevertheless, the formula only has small errors for sufficiently small $\\delta t$.  Therefore, we rewrite\n",
    "$$\n",
    "e^{-i H t} = \\underbrace{e^{-i H t/N} e^{-i H t/N} \\cdots e^{-i H t/N}}_{\\textrm{N times}}\n",
    "$$\n",
    "with $\\delta t = t/N$ such that\n",
    "$$\n",
    "\\begin{align}\n",
    "e^{-i H t} &= \\int dx_1 dy_1 \\cdots dx_N dy_N e^{-i V(x) \\delta t / 2} \\vert x_1 \\rangle \\langle x_1 \\vert e^{-i H_0 \\delta t} \\vert y_1 \\rangle \\langle y_1 \\vert e^{-i V(x) \\delta t} \\vert x_2 \\rangle  \\cdots \\langle x_N \\vert e^{-i H_0 \\delta t} \\vert y_N \\rangle \\langle y_N \\vert e^{-i V(x) \\delta t/2} + {\\cal O}(\\delta t^2) \\\\\n",
    "&= \\int dx_1 dy_1 \\cdots dx_N dy_N \\vert x_1 \\rangle e^{-i (V(x_1)+V(y_N)) \\delta t / 2} \\langle x_1 \\vert e^{-i H_0 \\delta t} \\vert y_1 \\rangle \\underbrace{\\langle y_1 \\vert x_2 \\rangle}_{=\\delta(y_1-x_2)} e^{-i \\sum_{j=2}^N V(x_j) \\delta t}   \\cdots \\langle x_N \\vert e^{-i H_0 \\delta t} \\vert y_N \\rangle  \\langle y_N \\vert + {\\cal O}(\\delta t^2) \\\\\n",
    "&= \\int dx_1 \\cdots dx_{N+1} \\vert x_1 \\rangle \\langle x_{N+1} \\vert e^{-i (V(x_1)+V(x_{N+1})) \\delta t / 2} e^{-i \\sum_{j=2}^N V(x_j) \\delta t} \\langle x_1 \\vert e^{-i H_0 \\delta t} \\vert x_2 \\rangle    \\cdots \\langle x_N \\vert e^{-i H_0 \\delta t} \\vert x_{N+1} \\rangle   + {\\cal O}(\\delta t^2) \\\\\n",
    "&= \\left(\\frac{m}{2\\pi i \\delta t}\\right)^{N/2} \\int dx_1 \\cdots dx_{N+1} \\vert x_1 \\rangle \\langle x_{N+1} \\vert e^{i S(x_1,\\ldots,x_{N+1})}   + {\\cal O}(\\delta t^2)\n",
    "\\end{align}\n",
    "$$\n",
    "with\n",
    "$$\n",
    "\\begin{align}\n",
    "S(x_1,\\ldots,x_{N+1}) &=\\frac12m \\frac1{\\delta t} \\sum_{j=1}^N (x_{j+1}-x_j)^2 -(V(x_1)+V(x_{N+1})) \\delta t / 2 - \\sum_{j=2}^N V(x_j) \\delta t \\\\\n",
    "&=\\frac12m \\frac1{\\delta t} \\sum_{j=1}^N (x_{j+1}-x_j)^2 - \\delta t\\sum_{j=1}^N \\frac{V(x_j) + V(x_{j+1})}{2}\n",
    "\\end{align}\n",
    "$$\n",
    "This looks just like a discrete version of the action, i.e., the time integral over the Lagrange function $L=H_0 - V$."
   ]
  },
  {
   "cell_type": "markdown",
   "id": "01a4906d",
   "metadata": {},
   "source": [
    "In the limit $N\\to\\infty$ we have\n",
    "$$\n",
    "\\lim_{N\\to\\infty} S(x_1,\\ldots,x_{N+1}) = \\int_0^t dt' \\left( \\frac12 m \\dot{x}(t')^2 - V(x(t')) \\right)\n",
    "$$\n",
    "with $x_i = x(t'=t (i-1)/N)$ for a given differentiable function $x(t')$."
   ]
  },
  {
   "cell_type": "markdown",
   "id": "70a6fb45",
   "metadata": {},
   "source": [
    "## Euclidean path integrals\n",
    "\n",
    "As we noted above, the proper definition of the real-time path integral involves a limiting procedure\n",
    "to keep the momentum integral convergent.  If we, however, used a purely imaginary time, we get a real\n",
    "Euclidean time $\\tau  \\in \\mathbb{R}^+$ with\n",
    "$$\n",
    "\\tau \\equiv it \\,.\n",
    "$$\n",
    "With such a choice the integrals would surely be convergent since $\\sigma^2=\\tau / m$ is then strictly positive.  We would then find for $\\delta \\tau=\\tau/N$ that\n",
    "$$\n",
    "\\begin{align}\n",
    "e^{-H \\tau} \n",
    "&= \\left(\\frac{m}{2\\pi \\delta \\tau}\\right)^{N/2} \\int dx_1 \\cdots dx_{N+1} \\vert x_1 \\rangle \\langle x_{N+1} \\vert e^{- S_E(x_1,\\ldots,x_{N+1})}   + {\\cal O}(\\delta \\tau^2)\n",
    "\\end{align}\n",
    "$$\n",
    "with\n",
    "$$\n",
    "\\begin{align}\n",
    "S_E(x_1,\\ldots,x_{N+1}) &= -i S(x_1,\\ldots,x_{N+1}) \\\\\n",
    "&=\\frac12m \\frac1{\\delta \\tau} \\sum_{j=1}^N (x_{j+1}-x_j)^2 + \\delta \\tau\\sum_{j=1}^N \\frac{V(x_j) + V(x_{j+1})}{2} \\,.\n",
    "\\end{align}\n",
    "$$\n",
    "Note the changed relative sign between the kinetic and the potential term!  This follows from $\\delta \\tau=i\\delta t$ since one term came with positive and the other with negative power.\n",
    "\n",
    "Again in the limit $N\\to\\infty$ we have\n",
    "$$\n",
    "\\lim_{N\\to\\infty} S_E(x_1,\\ldots,x_{N+1}) = \\int_0^\\tau d\\tau' \\left( \\frac12 m \\dot{x}(\\tau')^2 + V(x(\\tau')) \\right)\n",
    "$$\n",
    "with $x_i = x(\\tau'=\\tau(i-1)/N)$ for a given differentiable function $x(\\tau')$.\n"
   ]
  },
  {
   "cell_type": "markdown",
   "id": "2985399c",
   "metadata": {},
   "source": [
    "## The transfer matrix\n",
    "\n",
    "It is useful to define the **transfer matrix**\n",
    "$$\n",
    "T = e^{-i H t}\n",
    "$$\n",
    "which evolves states in our Hilbert space by real time $t$.  This matrix is unitary and this preserves the probability interpretation of states.\n",
    "\n",
    "On the same Hilbert space, we can also define a **Euclidean transfer matrix**\n",
    "$$\n",
    "T_E = e^{-H \\tau}\n",
    "$$\n",
    "which is a non-unitary operator.  Since the exponential function of a matrix is just a power series\n",
    "$$\n",
    "\\exp(A) = \\sum_{n=0}^\\infty \\frac1{n!} A^n\n",
    "$$\n",
    "both $T$ and $T_E$ have the same eigenvectors as $H$.  For this reason, the eigenstates of\n",
    "the Hamiltonian are also eigenstates of the transfer matrices.  We will use this property\n",
    "to extract information about the spectrum and matrix elements of a given quantum system using the path integral formulation.  This will be a core concept of lattice quantum field theory.  For now, we continue to focus on the quantum mechanical example."
   ]
  },
  {
   "cell_type": "markdown",
   "id": "bf79015e",
   "metadata": {},
   "source": [
    "## Interpretation as a thermal system\n",
    "\n",
    "The canonical partition function of a quantum system is given by\n",
    "$$\n",
    "Z = \\textrm{Tr}\\: e^{-\\beta H}\n",
    "$$\n",
    "with\n",
    "$$\n",
    "\\beta \\equiv \\frac1{\\tilde T}\n",
    "$$\n",
    "and temperature $\\tilde T$ if we set the Boltzmann constant $k_B=1$.  This can be directly expressed in terms of the Euclidean path integral\n",
    "$$\n",
    "\\begin{align}\n",
    "Z &= \\textrm{Tr}\\: e^{-H \\beta} \\\\\n",
    "&= \\int dx \\langle x \\vert e^{-H \\beta} \\vert x \\rangle \\\\\n",
    "&= \\left(\\frac{m}{2\\pi \\delta \\beta}\\right)^{N/2} \\int dx_1\\cdots dx_{N} e^{- S_E(x_1,x_2,\\ldots,x_{N},x_1)}   + {\\cal O}(\\delta \\beta^2)\n",
    "\\end{align}\n",
    "$$\n",
    "with $\\beta=\\tau$ and $\\delta \\beta = \\delta \\tau$.  We can therefore interpret a Euclidean path integral\n",
    "with periodic boundary conditions in time, i.e.,\n",
    "$x(0) = x(\\beta)$ as the canonical partition function of the corresponding thermal system.\n",
    "\n",
    "We can use this relation to extract information about the spectrum and eigenstates of the system.  We know that if $\\vert n \\rangle$\n",
    "are the eigenstates of $H$ with eigenvalues $E_n$, then\n",
    "$$\n",
    "\\begin{align}\n",
    "\\langle x \\vert e^{-H \\beta} \\vert x \\rangle &= \\sum_{n} \\vert \\langle x \\vert n \\rangle \\vert^2 e^{-E_n \\beta} \\\\\n",
    "&= \\left(\\frac{m}{2\\pi \\delta \\beta}\\right)^{N/2} \\int dx_2 \\cdots dx_{N} e^{- S_E(x,x_2,\\ldots,x_{N},x)}   + {\\cal O}(\\delta \\beta^2) \\,.\n",
    "\\end{align}\n",
    "$$\n",
    "For a system with a non-discrete spectrum, we need to replace the sum over $n$ with an integral.  Therefore, if the system has a distinct ground state with energy $E_0$ and a finite energy gap $E_1-E_0$, we can study\n",
    "the large $\\beta$ limit and find\n",
    "$$\n",
    "\\langle x \\vert e^{-H \\beta} \\vert x \\rangle \\approx \\vert \\langle x \\vert 0 \\rangle \\vert^2 e^{-E_0 \\beta} \\,.\n",
    "$$\n",
    "By studying the $x$ and $\\beta$ dependence, we can extract both the ground state energy and the norm of the wavefunction\n",
    "$$\n",
    "\\psi_0(x) \\equiv \\langle x \\vert 0 \\rangle \\,.\n",
    "$$\n",
    "We will do this in the numerical exercise at the end of this chapter.\n"
   ]
  },
  {
   "cell_type": "markdown",
   "id": "2e0b9c6a",
   "metadata": {},
   "source": [
    "## Correlation functions\n",
    "\n",
    "The path integral formulation also allows for the study of correlation functions, which allow\n",
    "for access to additional matrix elements.  In general all of them follow from the operator expectation\n",
    "value\n",
    "$$\n",
    "\\langle A \\rangle \\equiv \\frac1Z \\textrm{Tr}\\: A e^{-H \\beta} \\,.\n",
    "$$\n",
    "\n",
    "A concrete example is the two-time correlator\n",
    "$$\n",
    "\\begin{align}\n",
    "\\langle x_f x_i \\rangle &= \\frac1Z \\left(\\frac{m}{2\\pi \\delta \\beta}\\right)^{N/2} \\int dx_1 \\cdots dx_{N} x_f x_i e^{- S_E(x_1,x_2,\\ldots,x_{N},x_1)}   + {\\cal O}(\\delta \\beta^2) \\\\\n",
    "&=\\frac1Z \\textrm{Tr}\\: x e^{-H(\\tau_f-\\tau_i)} x e^{-H (\\beta-\\tau_f+\\tau_i)} \\\\\n",
    "&=\\frac1Z \\sum_{n,m} \\langle n \\vert x \\vert m \\rangle \\langle m \\vert e^{-H(\\tau_f-\\tau_i)} x e^{-H (\\beta-\\tau_f+\\tau_i)} \\vert n \\rangle \\\\\n",
    "&=\\frac1Z \\sum_{n,m} \\langle n \\vert x \\vert m \\rangle \\langle m \\vert x \\vert n \\rangle  e^{-E_m(\\tau_f-\\tau_i)}  e^{-E_n (\\beta-\\tau_f+\\tau_i)} \n",
    "\\end{align}\n",
    "$$\n",
    "with sums over eigenstates $n$ and $m$ of $H$, $i,f\\in\\{1,\\ldots,N\\}$, $f \\geq i$, and $\\tau_i=\\beta(i-1)/N$.  We will\n",
    "use such correlators in this lecture to get access to general matrix elements $\\langle n \\vert x \\vert m \\rangle$\n",
    "as well as the spectrum.  All of these methods will trivially extend to quantum field theories."
   ]
  },
  {
   "cell_type": "markdown",
   "id": "9fdfe753",
   "metadata": {},
   "source": [
    "## Discretization errors\n",
    "\n",
    "We have so far not commented on the error term ${\\cal O}(\\delta \\beta^3)$.  We can interpret the $N$ times\n",
    "$\\tau_i=\\beta(i-1)/N$ as points on a finite lattice with lattice spacing\n",
    "$$\n",
    "a = \\frac{\\beta}{N}\n",
    "$$\n",
    "and the error term as ${\\cal O}(a^3)$.  In this sense, this term can then be viewed as a\n",
    "discretization error of the path integral.\n",
    "\n",
    "The origin of this term was a particular choice of Trotter formula, which had third-order errors.  We could, however,\n",
    "have chosen a higher or lower-order Trotter formula instead, which would have lead to a different power for the discretization error, say ${\\cal O}(a^2)$, and a corresponding different discretized version of $S_E$.\n",
    "\n",
    "***Homework:*** use the lower-order Trotter formula\n",
    "$$\n",
    "e^{-i H \\delta t} = e^{- i H_0 \\delta t - i V(x) \\delta t} = e^{-i V(x) \\delta t} e^{-i H_0 \\delta t} + {\\cal O}(\\delta t^2)\n",
    "$$\n",
    "and derive the corresponding discretization of the action.\n"
   ]
  },
  {
   "cell_type": "markdown",
   "id": "8a427b53",
   "metadata": {},
   "source": [
    "## Numerical demonstration in case of harmonic oscillator"
   ]
  },
  {
   "cell_type": "code",
   "execution_count": 12,
   "id": "5bc9807f",
   "metadata": {},
   "outputs": [],
   "source": [
    "from scipy import integrate\n",
    "import numpy as np\n",
    "import matplotlib.pyplot as plt\n",
    "\n",
    "# define Euclidean action for mass m=1 and V(x)=x^2/2\n",
    "def S(x, beta):\n",
    "    N = len(x) - 1\n",
    "    a = beta / N\n",
    "    return sum([1/2*(x[j+1]-x[j])**2/a + 1/4*(x[j+1]**2+x[j]**2)*a for j in range(N)])"
   ]
  },
  {
   "cell_type": "code",
   "execution_count": 13,
   "id": "9cb625ce",
   "metadata": {},
   "outputs": [
    {
     "data": {
      "text/plain": [
       "10.1875"
      ]
     },
     "execution_count": 13,
     "metadata": {},
     "output_type": "execute_result"
    }
   ],
   "source": [
    "# Test of action\n",
    "S([0.5,1,2,3], 6)"
   ]
  },
  {
   "cell_type": "code",
   "execution_count": 14,
   "id": "09b13eae",
   "metadata": {},
   "outputs": [],
   "source": [
    "def Z(n, beta, x0):\n",
    "    N = n + 1\n",
    "    a = beta / N\n",
    "    A = (1.0 / 2.0 / np.pi / a) ** (N/2)\n",
    "    return integrate.nquad(lambda *x: A*np.exp(-S([x0]+list(x)+[x0],beta)), \n",
    "                           [[-np.inf, np.inf] for i in range(n)], opts = {\"epsabs\": 1e-3, \"epsrel\": 1e-3})\n"
   ]
  },
  {
   "cell_type": "code",
   "execution_count": 15,
   "id": "cc36bcba",
   "metadata": {},
   "outputs": [
    {
     "name": "stdout",
     "output_type": "stream",
     "text": [
      "(0.23455706230134904, 0.0008964712634385308)\n"
     ]
    }
   ],
   "source": [
    "print(Z(1, 1, 1.0))"
   ]
  },
  {
   "cell_type": "code",
   "execution_count": 16,
   "id": "b898b423",
   "metadata": {},
   "outputs": [],
   "source": [
    "xs = np.arange(0.01,2.0,0.25)\n",
    "beta_test = 3.0\n",
    "\n",
    "# test different number of N\n",
    "ys1 = [Z(1,beta_test,x)[0] for x in xs]"
   ]
  },
  {
   "cell_type": "code",
   "execution_count": 17,
   "id": "81cc52ec",
   "metadata": {},
   "outputs": [],
   "source": [
    "ys2 = [Z(2,beta_test,x)[0] for x in xs]"
   ]
  },
  {
   "cell_type": "code",
   "execution_count": 18,
   "id": "368db99f",
   "metadata": {},
   "outputs": [],
   "source": [
    "ys3 = [Z(3,beta_test,x)[0] for x in xs]"
   ]
  },
  {
   "cell_type": "markdown",
   "id": "d698a809",
   "metadata": {},
   "source": [
    "Test against exact solution with\n",
    "$$\n",
    "\\langle x \\vert 0 \\rangle = \\pi^{-1/4} e^{-x^2/2}\n",
    "$$\n",
    "and\n",
    "$$\n",
    "E_0 = \\frac12 \\,.\n",
    "$$"
   ]
  },
  {
   "cell_type": "code",
   "execution_count": 19,
   "id": "cce9e5c5",
   "metadata": {},
   "outputs": [],
   "source": [
    "ys_exact = [1 / np.pi**0.5 * np.exp(-beta_test*0.5) * np.exp(-x**2.) for x in xs]"
   ]
  },
  {
   "cell_type": "code",
   "execution_count": 9,
   "id": "6a29b598",
   "metadata": {},
   "outputs": [
    {
     "data": {
      "image/png": "[encoded data removed]",
      "text/plain": [
       "<Figure size 640x480 with 1 Axes>"
      ]
     },
     "metadata": {},
     "output_type": "display_data"
    }
   ],
   "source": [
    "fig, ax = plt.subplots()\n",
    "\n",
    "ax.scatter(xs, ys1, c='blue', label=\"n=1, N=2\")\n",
    "ax.scatter(xs, ys2, c='red', label=\"n=2, N=3\")\n",
    "ax.scatter(xs, ys3, c='orange', label=\"n=3, N=4\")\n",
    "ax.scatter(xs, ys_exact, c='black', label=\"exact\")\n",
    "\n",
    "ax.legend()\n",
    "plt.show()"
   ]
  },
  {
   "cell_type": "markdown",
   "id": "4ebea6c7",
   "metadata": {},
   "source": [
    "***Homework:*** repeat the exercise for $V(x) = x^4$"
   ]
  },
  {
   "cell_type": "markdown",
   "id": "a319eec2",
   "metadata": {},
   "source": [
    "Make sure to explore both the $\\lim_{N\\to\\infty}$, i.e., $\\lim_{a\\to0}$ as well as the $\\lim_{\\beta\\to\\infty}$ limit.\n",
    "What do both control?\n",
    "\n",
    "We notice that already for $n=3$, the integration is quite slow.  There must be a better way to compute these integrals.  This will be the topic of the next chapter."
   ]
  }
 ],
 "metadata": {
  "kernelspec": {
   "display_name": "Python 3 (ipykernel)",
   "language": "python",
   "name": "python3"
  },
  "language_info": {
   "codemirror_mode": {
    "name": "ipython",
    "version": 3
   },
   "file_extension": ".py",
   "mimetype": "text/x-python",
   "name": "python",
   "nbconvert_exporter": "python",
   "pygments_lexer": "ipython3",
   "version": "3.12.0"
  }
 },
 "nbformat": 4,
 "nbformat_minor": 5
}
